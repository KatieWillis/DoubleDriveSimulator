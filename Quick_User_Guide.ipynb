{
 "cells": [
  {
   "cell_type": "markdown",
   "id": "supported-component",
   "metadata": {},
   "source": [
    "\n",
    "# Quick guide for running double drive simulations\n",
    "\n",
    "23-02-21\n",
    "\n",
    "Katie Willis\n",
    "\n",
    "katie.willis16@imperial.ac.uk"
   ]
  },
  {
   "cell_type": "markdown",
   "id": "mineral-treasury",
   "metadata": {},
   "source": [
    "## Setup"
   ]
  },
  {
   "cell_type": "markdown",
   "id": "failing-checklist",
   "metadata": {},
   "source": [
    "To load the environment and required packages:"
   ]
  },
  {
   "cell_type": "code",
   "execution_count": 1,
   "id": "current-brake",
   "metadata": {},
   "outputs": [
    {
     "name": "stderr",
     "output_type": "stream",
     "text": [
      "\u001b[32m\u001b[1m Activating\u001b[22m\u001b[39m environment at `~/Documents/OneDrive - Imperial College London/PhD work/Drive_modelling/Projects/PrivateDrive/DoubleDriveSimulator/Environment/Project.toml`\n"
     ]
    }
   ],
   "source": [
    "] activate \"./Environment/\" "
   ]
  },
  {
   "cell_type": "code",
   "execution_count": 2,
   "id": "jewish-exemption",
   "metadata": {},
   "outputs": [],
   "source": [
    "#For simulating\n",
    "using NBInclude\n",
    "@nbinclude(\"./Environment/Setup.ipynb\");"
   ]
  },
  {
   "cell_type": "code",
   "execution_count": 3,
   "id": "bottom-score",
   "metadata": {},
   "outputs": [
    {
     "data": {
      "text/plain": [
       "Plots.PyPlotBackend()"
      ]
     },
     "execution_count": 3,
     "metadata": {},
     "output_type": "execute_result"
    }
   ],
   "source": [
    "#For plotting\n",
    "using Plots; pyplot()"
   ]
  },
  {
   "cell_type": "markdown",
   "id": "agricultural-listening",
   "metadata": {},
   "source": [
    "## Baseline double drive simulator"
   ]
  },
  {
   "cell_type": "code",
   "execution_count": 4,
   "id": "magnetic-holder",
   "metadata": {},
   "outputs": [],
   "source": [
    "#Load baseline model\n",
    "@nbinclude(\"DoubleDrive_Simulator_Baseline.ipynb\");"
   ]
  },
  {
   "cell_type": "markdown",
   "id": "aquatic-apple",
   "metadata": {},
   "source": [
    "Here we use design 1 as an example. "
   ]
  },
  {
   "cell_type": "markdown",
   "id": "collective-alarm",
   "metadata": {},
   "source": [
    "\n",
    "###### Define design details."
   ]
  },
  {
   "cell_type": "code",
   "execution_count": 6,
   "id": "prepared-intranet",
   "metadata": {},
   "outputs": [],
   "source": [
    "A_homing_dependency = \"constitutive\"\n",
    "B_homing_dependency = \"conditional\"\n",
    "XS_dependency = \"none\"\n",
    "A_construct = [\"cas9\",\"grna\"] #if left empty assumes no expression costs\n",
    "B_construct = [\"grna\"] #if left empty assumes no expression costs\n",
    "fitness_effect = \"adult\";"
   ]
  },
  {
   "cell_type": "markdown",
   "id": "documented-forum",
   "metadata": {},
   "source": [
    "\n",
    "###### Set parameters"
   ]
  },
  {
   "cell_type": "markdown",
   "id": "yellow-trinity",
   "metadata": {},
   "source": [
    "Parameters can be set manually by initiating a default parameter dictionary where: \n",
    "* m = 0.5\n",
    "* r = 0.5\n",
    "* Rm = 6 \n",
    "* Nf_eq = 1000 (Number of females or males at equlibrium)\n",
    "* OJ = 1/10\n",
    "* therefore:\n",
    "    * f = (2*Rm)/OJ_\n",
    "    * α = f_*Nf_eq/(Rm-1)\n",
    "     "
   ]
  },
  {
   "cell_type": "code",
   "execution_count": 7,
   "id": "progressive-volume",
   "metadata": {},
   "outputs": [
    {
     "data": {
      "text/plain": [
       "Dict{String,Float64} with 55 entries:\n",
       "  \"sXSf\"   => 0.0\n",
       "  \"jam\"    => 0.0\n",
       "  \"r\"      => 0.5\n",
       "  \"scasf\"  => 0.0\n",
       "  \"sSam\"   => 0.0\n",
       "  \"siam\"   => 0.0\n",
       "  \"sSbm\"   => 0.0\n",
       "  \"scasm\"  => 0.0\n",
       "  \"jbf\"    => 0.0\n",
       "  \"sHaf\"   => 0.0\n",
       "  \"hibf\"   => 0.0\n",
       "  \"sSbf\"   => 0.0\n",
       "  \"hram\"   => 0.0\n",
       "  \"cbm\"    => 0.0\n",
       "  \"hcasm\"  => 0.0\n",
       "  \"sHbf\"   => 0.0\n",
       "  \"siraf\"  => 0.0\n",
       "  \"cam\"    => 0.0\n",
       "  \"OJ\"     => 0.1\n",
       "  \"cbf\"    => 0.0\n",
       "  \"hXSm\"   => 0.0\n",
       "  \"sHam\"   => 0.0\n",
       "  \"hraf\"   => 0.0\n",
       "  \"sSaf\"   => 0.0\n",
       "  \"hgRNAm\" => 0.0\n",
       "  ⋮        => ⋮"
      ]
     },
     "execution_count": 7,
     "metadata": {},
     "output_type": "execute_result"
    }
   ],
   "source": [
    "params = Initiate_baseline_parameters()"
   ]
  },
  {
   "cell_type": "markdown",
   "id": "talented-million",
   "metadata": {},
   "source": [
    "Parameters can be modified by:"
   ]
  },
  {
   "cell_type": "code",
   "execution_count": 8,
   "id": "fresh-lincoln",
   "metadata": {},
   "outputs": [
    {
     "data": {
      "text/plain": [
       "0.01"
      ]
     },
     "execution_count": 8,
     "metadata": {},
     "output_type": "execute_result"
    }
   ],
   "source": [
    "#Fitness costs at the differentiated site remain zero since it is neutral\n",
    "#Fitness costs at the haplo-sufficient female specific gene\n",
    "params[\"sibf\"]=1.0 \n",
    "params[\"srbf\"]=1.0 \n",
    "params[\"sirbf\"] = 1.0\n",
    "\n",
    "#homing occurs at both loci\n",
    "params[\"caf\"] = 0.971\n",
    "params[\"jaf\"] = 0.019\n",
    "params[\"cam\"] = 0.971\n",
    "params[\"jam\"] = 0.019\n",
    "params[\"cbf\"] = 0.971\n",
    "params[\"jbf\"] = 0.019\n",
    "params[\"cbm\"] = 0.971\n",
    "params[\"jbm\"] = 0.019\n",
    "\n",
    "#off target cleavage cost of 1%\n",
    "params[\"sHaf\"] = 0.01\n",
    "params[\"sHam\"] = 0.01\n",
    "params[\"sHbf\"] = 0.01\n",
    "params[\"sHbm\"] = 0.01"
   ]
  },
  {
   "cell_type": "markdown",
   "id": "senior-affiliation",
   "metadata": {},
   "source": [
    "\n",
    "###### Define starting population\n",
    "\n",
    "Define the population pre-release:"
   ]
  },
  {
   "cell_type": "code",
   "execution_count": 9,
   "id": "similar-lafayette",
   "metadata": {},
   "outputs": [],
   "source": [
    "resistant_allele = \"α\"\n",
    "resistant_freq = 0.01\n",
    "pre_pop = Initiate_prerelease_population_3lifestages(resistant_allele, \n",
    "                                                        resistant_freq, \n",
    "                                                        params);"
   ]
  },
  {
   "cell_type": "code",
   "execution_count": 10,
   "id": "authentic-supplement",
   "metadata": {},
   "outputs": [
    {
     "data": {
      "text/html": [
       "<table class=\"data-frame\"><thead><tr><th></th><th>ABAB</th><th>ABAb</th><th>ABAβ</th><th>ABaB</th><th>ABab</th><th>ABaβ</th><th>ABαB</th><th>ABαb</th><th>ABαβ</th></tr><tr><th></th><th>Float64</th><th>Float64</th><th>Float64</th><th>Float64</th><th>Float64</th><th>Float64</th><th>Float64</th><th>Float64</th><th>Float64</th></tr></thead><tbody><p>6 rows × 45 columns (omitted printing of 36 columns)</p><tr><th>1</th><td>58806.0</td><td>0.0</td><td>0.0</td><td>0.0</td><td>0.0</td><td>0.0</td><td>1188.0</td><td>0.0</td><td>0.0</td></tr><tr><th>2</th><td>58806.0</td><td>0.0</td><td>0.0</td><td>0.0</td><td>0.0</td><td>0.0</td><td>1188.0</td><td>0.0</td><td>0.0</td></tr><tr><th>3</th><td>980.1</td><td>0.0</td><td>0.0</td><td>0.0</td><td>0.0</td><td>0.0</td><td>19.8</td><td>0.0</td><td>0.0</td></tr><tr><th>4</th><td>980.1</td><td>0.0</td><td>0.0</td><td>0.0</td><td>0.0</td><td>0.0</td><td>19.8</td><td>0.0</td><td>0.0</td></tr><tr><th>5</th><td>980.1</td><td>0.0</td><td>0.0</td><td>0.0</td><td>0.0</td><td>0.0</td><td>19.8</td><td>0.0</td><td>0.0</td></tr><tr><th>6</th><td>980.1</td><td>0.0</td><td>0.0</td><td>0.0</td><td>0.0</td><td>0.0</td><td>19.8</td><td>0.0</td><td>0.0</td></tr></tbody></table>"
      ],
      "text/latex": [
       "\\begin{tabular}{r|cccccccccc}\n",
       "\t& ABAB & ABAb & ABAβ & ABaB & ABab & ABaβ & ABαB & ABαb & ABαβ & \\\\\n",
       "\t\\hline\n",
       "\t& Float64 & Float64 & Float64 & Float64 & Float64 & Float64 & Float64 & Float64 & Float64 & \\\\\n",
       "\t\\hline\n",
       "\t1 & 58806.0 & 0.0 & 0.0 & 0.0 & 0.0 & 0.0 & 1188.0 & 0.0 & 0.0 & $\\dots$ \\\\\n",
       "\t2 & 58806.0 & 0.0 & 0.0 & 0.0 & 0.0 & 0.0 & 1188.0 & 0.0 & 0.0 & $\\dots$ \\\\\n",
       "\t3 & 980.1 & 0.0 & 0.0 & 0.0 & 0.0 & 0.0 & 19.8 & 0.0 & 0.0 & $\\dots$ \\\\\n",
       "\t4 & 980.1 & 0.0 & 0.0 & 0.0 & 0.0 & 0.0 & 19.8 & 0.0 & 0.0 & $\\dots$ \\\\\n",
       "\t5 & 980.1 & 0.0 & 0.0 & 0.0 & 0.0 & 0.0 & 19.8 & 0.0 & 0.0 & $\\dots$ \\\\\n",
       "\t6 & 980.1 & 0.0 & 0.0 & 0.0 & 0.0 & 0.0 & 19.8 & 0.0 & 0.0 & $\\dots$ \\\\\n",
       "\\end{tabular}\n"
      ],
      "text/plain": [
       "\u001b[1m6×45 DataFrame\u001b[0m\n",
       "\u001b[1m Row \u001b[0m│\u001b[1m ABAB    \u001b[0m\u001b[1m ABAb    \u001b[0m\u001b[1m ABAβ    \u001b[0m\u001b[1m ABaB    \u001b[0m\u001b[1m ABab    \u001b[0m\u001b[1m ABaβ    \u001b[0m\u001b[1m ABαB    \u001b[0m\u001b[1m ABαb    \u001b[0m\u001b[1m\u001b[0m ⋯\n",
       "\u001b[1m     \u001b[0m│\u001b[90m Float64 \u001b[0m\u001b[90m Float64 \u001b[0m\u001b[90m Float64 \u001b[0m\u001b[90m Float64 \u001b[0m\u001b[90m Float64 \u001b[0m\u001b[90m Float64 \u001b[0m\u001b[90m Float64 \u001b[0m\u001b[90m Float64 \u001b[0m\u001b[90m\u001b[0m ⋯\n",
       "─────┼──────────────────────────────────────────────────────────────────────────\n",
       "   1 │ 58806.0      0.0      0.0      0.0      0.0      0.0   1188.0      0.0  ⋯\n",
       "   2 │ 58806.0      0.0      0.0      0.0      0.0      0.0   1188.0      0.0\n",
       "   3 │   980.1      0.0      0.0      0.0      0.0      0.0     19.8      0.0\n",
       "   4 │   980.1      0.0      0.0      0.0      0.0      0.0     19.8      0.0\n",
       "   5 │   980.1      0.0      0.0      0.0      0.0      0.0     19.8      0.0  ⋯\n",
       "   6 │   980.1      0.0      0.0      0.0      0.0      0.0     19.8      0.0\n",
       "\u001b[31m                                                              37 columns omitted\u001b[0m"
      ]
     },
     "execution_count": 10,
     "metadata": {},
     "output_type": "execute_result"
    }
   ],
   "source": [
    "pre_pop"
   ]
  },
  {
   "cell_type": "markdown",
   "id": "assured-bunny",
   "metadata": {},
   "source": [
    "Release transgenic males:"
   ]
  },
  {
   "cell_type": "code",
   "execution_count": 11,
   "id": "incorrect-guatemala",
   "metadata": {},
   "outputs": [
    {
     "data": {
      "text/plain": [
       "45×6 Transpose{Float64,Array{Float64,2}}:\n",
       " 58806.0  58806.0  980.1  980.1  980.1  980.1\n",
       "     0.0      0.0    0.0    0.0    0.0    0.0\n",
       "     0.0      0.0    0.0    0.0    0.0    0.0\n",
       "     0.0      0.0    0.0    0.0    0.0    0.0\n",
       "     0.0      0.0    0.0    0.0    0.0    1.0\n",
       "     0.0      0.0    0.0    0.0    0.0    0.0\n",
       "  1188.0   1188.0   19.8   19.8   19.8   19.8\n",
       "     0.0      0.0    0.0    0.0    0.0    0.0\n",
       "     0.0      0.0    0.0    0.0    0.0    0.0\n",
       "     0.0      0.0    0.0    0.0    0.0    0.0\n",
       "     0.0      0.0    0.0    0.0    0.0    0.0\n",
       "     0.0      0.0    0.0    0.0    0.0    0.0\n",
       "     0.0      0.0    0.0    0.0    0.0    0.0\n",
       "     ⋮                                    ⋮\n",
       "     0.0      0.0    0.0    0.0    0.0    0.0\n",
       "     0.0      0.0    0.0    0.0    0.0    0.0\n",
       "     0.0      0.0    0.0    0.0    0.0    0.0\n",
       "     0.0      0.0    0.0    0.0    0.0    0.0\n",
       "     0.0      0.0    0.0    0.0    0.0    0.0\n",
       "     0.0      0.0    0.0    0.0    0.0    0.0\n",
       "     6.0      6.0    0.1    0.1    0.1    0.1\n",
       "     0.0      0.0    0.0    0.0    0.0    0.0\n",
       "     0.0      0.0    0.0    0.0    0.0    0.0\n",
       "     0.0      0.0    0.0    0.0    0.0    0.0\n",
       "     0.0      0.0    0.0    0.0    0.0    0.0\n",
       "     0.0      0.0    0.0    0.0    0.0    0.0"
      ]
     },
     "execution_count": 11,
     "metadata": {},
     "output_type": "execute_result"
    }
   ],
   "source": [
    "transgenic_genotype = \"ABab\"\n",
    "release_freq = 0.001\n",
    "starting_population_post_release = release_transgenic_males(\n",
    "    pre_pop,\n",
    "    Symbol(transgenic_genotype),\n",
    "    release_freq)"
   ]
  },
  {
   "cell_type": "markdown",
   "id": "proprietary-groove",
   "metadata": {},
   "source": [
    "The order of genotypes is as in the global variable 'genotypes'"
   ]
  },
  {
   "cell_type": "code",
   "execution_count": 12,
   "id": "finite-guide",
   "metadata": {},
   "outputs": [
    {
     "data": {
      "text/plain": [
       "45-element Array{Any,1}:\n",
       " [\"AB\" \"AB\"]\n",
       " [\"AB\" \"Ab\"]\n",
       " [\"AB\" \"Aβ\"]\n",
       " [\"AB\" \"aB\"]\n",
       " [\"AB\" \"ab\"]\n",
       " [\"AB\" \"aβ\"]\n",
       " [\"AB\" \"αB\"]\n",
       " [\"AB\" \"αb\"]\n",
       " [\"AB\" \"αβ\"]\n",
       " [\"Ab\" \"Ab\"]\n",
       " [\"Ab\" \"Aβ\"]\n",
       " [\"Ab\" \"aB\"]\n",
       " [\"Ab\" \"ab\"]\n",
       " ⋮\n",
       " [\"ab\" \"αb\"]\n",
       " [\"ab\" \"αβ\"]\n",
       " [\"aβ\" \"aβ\"]\n",
       " [\"aβ\" \"αB\"]\n",
       " [\"aβ\" \"αb\"]\n",
       " [\"aβ\" \"αβ\"]\n",
       " [\"αB\" \"αB\"]\n",
       " [\"αB\" \"αb\"]\n",
       " [\"αB\" \"αβ\"]\n",
       " [\"αb\" \"αb\"]\n",
       " [\"αb\" \"αβ\"]\n",
       " [\"αβ\" \"αβ\"]"
      ]
     },
     "execution_count": 12,
     "metadata": {},
     "output_type": "execute_result"
    }
   ],
   "source": [
    "genotypes"
   ]
  },
  {
   "cell_type": "markdown",
   "id": "distinct-concentration",
   "metadata": {},
   "source": [
    "\n",
    "###### Build matrices\n",
    "\n",
    "Based in the design details, a list of matrices required for simulation are generated. These include:  \n",
    "* fitness matrix \n",
    "* male homing matrix \n",
    "* female homing matrix\n",
    "* recombination matrix \n",
    "* sex ratio matrix"
   ]
  },
  {
   "cell_type": "code",
   "execution_count": 13,
   "id": "loved-passenger",
   "metadata": {},
   "outputs": [],
   "source": [
    "matrices = make_matrices(params,\n",
    "                A_construct,\n",
    "                B_construct,\n",
    "                A_homing_dependency,\n",
    "                B_homing_dependency,\n",
    "                XS_dependency);"
   ]
  },
  {
   "cell_type": "code",
   "execution_count": 15,
   "id": "proved-benefit",
   "metadata": {},
   "outputs": [
    {
     "data": {
      "text/plain": [
       "45×3 Array{Any,2}:\n",
       " [\"AB\" \"AB\"]  1.0     1.0\n",
       " [\"AB\" \"Ab\"]  1.0     1.0\n",
       " [\"AB\" \"Aβ\"]  1.0     1.0\n",
       " [\"AB\" \"aB\"]  0.99    0.99\n",
       " [\"AB\" \"ab\"]  0.9801  0.9801\n",
       " [\"AB\" \"aβ\"]  0.99    0.99\n",
       " [\"AB\" \"αB\"]  1.0     1.0\n",
       " [\"AB\" \"αb\"]  1.0     1.0\n",
       " [\"AB\" \"αβ\"]  1.0     1.0\n",
       " [\"Ab\" \"Ab\"]  0.0     1.0\n",
       " [\"Ab\" \"Aβ\"]  0.0     1.0\n",
       " [\"Ab\" \"aB\"]  0.9801  0.9801\n",
       " [\"Ab\" \"ab\"]  0.0     0.9801\n",
       " ⋮                    \n",
       " [\"ab\" \"αb\"]  0.0     0.9801\n",
       " [\"ab\" \"αβ\"]  0.0     0.9801\n",
       " [\"aβ\" \"aβ\"]  0.0     0.99\n",
       " [\"aβ\" \"αB\"]  0.99    0.99\n",
       " [\"aβ\" \"αb\"]  0.0     0.9801\n",
       " [\"aβ\" \"αβ\"]  0.0     0.99\n",
       " [\"αB\" \"αB\"]  1.0     1.0\n",
       " [\"αB\" \"αb\"]  1.0     1.0\n",
       " [\"αB\" \"αβ\"]  1.0     1.0\n",
       " [\"αb\" \"αb\"]  0.0     1.0\n",
       " [\"αb\" \"αβ\"]  0.0     1.0\n",
       " [\"αβ\" \"αβ\"]  0.0     1.0"
      ]
     },
     "execution_count": 15,
     "metadata": {},
     "output_type": "execute_result"
    }
   ],
   "source": [
    "hcat(genotypes,matrices[1])"
   ]
  },
  {
   "cell_type": "markdown",
   "id": "altered-anniversary",
   "metadata": {},
   "source": [
    "\n",
    "###### Simulate time series\n",
    "\n",
    "The parameters, matrices, fitness effect and starting population is used to simulate t generations. "
   ]
  },
  {
   "cell_type": "code",
   "execution_count": 12,
   "id": "dressed-switch",
   "metadata": {},
   "outputs": [
    {
     "data": {
      "text/plain": [
       "Dict{String,DataFrame} with 8 entries:\n",
       "  \"genotypenumber_pupae_female\"  => \u001b[1m101×45 DataFrame\u001b[0m…\n",
       "  \"genotypenumber_adult_female\"  => \u001b[1m101×45 DataFrame\u001b[0m…\n",
       "  \"genotypenumber_zygote_male\"   => \u001b[1m101×45 DataFrame\u001b[0m…\n",
       "  \"genotypenumber_pupae_male\"    => \u001b[1m101×45 DataFrame\u001b[0m…\n",
       "  \"genotypenumber_zygote_female\" => \u001b[1m101×45 DataFrame\u001b[0m…\n",
       "  \"eggnumber\"                    => \u001b[1m101×9 DataFrame\u001b[0m…\n",
       "  \"genotypenumber_adult_male\"    => \u001b[1m101×45 DataFrame\u001b[0m…\n",
       "  \"spermfreq\"                    => \u001b[1m101×18 DataFrame\u001b[0m…"
      ]
     },
     "execution_count": 12,
     "metadata": {},
     "output_type": "execute_result"
    }
   ],
   "source": [
    "t=100\n",
    "output = Simulate_timeseries(\n",
    "            params,\n",
    "            matrices,\n",
    "            fitness_effect,\n",
    "            t,\n",
    "            starting_population_post_release)"
   ]
  },
  {
   "cell_type": "markdown",
   "id": "rocky-walnut",
   "metadata": {},
   "source": [
    "The output is a dictionary containing numbers of each genotype and gamete through time. "
   ]
  },
  {
   "cell_type": "code",
   "execution_count": 13,
   "id": "regional-determination",
   "metadata": {},
   "outputs": [
    {
     "data": {
      "text/html": [
       "<table class=\"data-frame\"><thead><tr><th></th><th>ABAB</th><th>ABAb</th><th>ABAβ</th><th>ABaB</th><th>ABab</th><th>ABaβ</th><th>ABαB</th></tr><tr><th></th><th>Float64</th><th>Float64</th><th>Float64</th><th>Float64</th><th>Float64</th><th>Float64</th><th>Float64</th></tr></thead><tbody><p>101 rows × 45 columns (omitted printing of 38 columns)</p><tr><th>1</th><td>980.1</td><td>0.0</td><td>0.0</td><td>0.0</td><td>0.0</td><td>0.0</td><td>19.8</td></tr><tr><th>2</th><td>979.121</td><td>0.0140004</td><td>0.000132285</td><td>0.0138604</td><td>0.923882</td><td>0.00881762</td><td>19.7804</td></tr><tr><th>3</th><td>978.197</td><td>0.0441924</td><td>0.000544016</td><td>0.0608536</td><td>1.71602</td><td>0.0248506</td><td>19.767</td></tr><tr><th>4</th><td>976.437</td><td>0.106741</td><td>0.00155175</td><td>0.188481</td><td>3.18546</td><td>0.0542645</td><td>19.7491</td></tr><tr><th>5</th><td>973.091</td><td>0.225714</td><td>0.00365177</td><td>0.501867</td><td>5.905</td><td>0.108393</td><td>19.7199</td></tr><tr><th>6</th><td>966.756</td><td>0.446395</td><td>0.00774489</td><td>1.2263</td><td>10.9179</td><td>0.207871</td><td>19.6688</td></tr><tr><th>7</th><td>954.819</td><td>0.849971</td><td>0.0154313</td><td>2.82812</td><td>20.0882</td><td>0.38957</td><td>19.5772</td></tr><tr><th>8</th><td>932.553</td><td>1.57472</td><td>0.0294313</td><td>6.22774</td><td>36.6247</td><td>0.716959</td><td>19.4125</td></tr><tr><th>9</th><td>891.783</td><td>2.8347</td><td>0.0539564</td><td>13.1005</td><td>65.6463</td><td>1.29129</td><td>19.1153</td></tr><tr><th>10</th><td>819.677</td><td>4.89319</td><td>0.0941967</td><td>26.0312</td><td>114.019</td><td>2.24837</td><td>18.5751</td></tr><tr><th>11</th><td>700.042</td><td>7.86576</td><td>0.152468</td><td>47.5251</td><td>187.009</td><td>3.69242</td><td>17.5831</td></tr><tr><th>12</th><td>523.061</td><td>11.1526</td><td>0.217078</td><td>75.582</td><td>277.068</td><td>5.47424</td><td>15.7601</td></tr><tr><th>13</th><td>308.502</td><td>12.7124</td><td>0.248053</td><td>95.4424</td><td>345.036</td><td>6.81951</td><td>12.577</td></tr><tr><th>14</th><td>121.533</td><td>10.049</td><td>0.196372</td><td>82.4409</td><td>324.131</td><td>6.40756</td><td>7.90859</td></tr><tr><th>15</th><td>24.7297</td><td>4.4212</td><td>0.0864708</td><td>38.96</td><td>197.876</td><td>3.91218</td><td>3.18104</td></tr><tr><th>16</th><td>1.80654</td><td>0.802847</td><td>0.01571</td><td>7.42951</td><td>65.1677</td><td>1.28855</td><td>0.607701</td></tr><tr><th>17</th><td>0.0333724</td><td>0.0448095</td><td>0.000877066</td><td>0.426781</td><td>9.84721</td><td>0.194728</td><td>0.0410737</td></tr><tr><th>18</th><td>0.00022278</td><td>0.000898018</td><td>1.75798e-5</td><td>0.00908975</td><td>0.800964</td><td>0.0158408</td><td>0.00116397</td></tr><tr><th>19</th><td>1.90243e-6</td><td>1.53911e-5</td><td>3.01335e-7</td><td>0.00019275</td><td>0.0583808</td><td>0.00115473</td><td>3.55328e-5</td></tr><tr><th>20</th><td>4.10903e-8</td><td>4.08374e-7</td><td>7.99609e-9</td><td>8.22198e-6</td><td>0.00481418</td><td>9.52288e-5</td><td>2.36066e-6</td></tr><tr><th>21</th><td>2.18204e-9</td><td>1.99868e-8</td><td>3.91378e-10</td><td>6.99903e-7</td><td>0.000489025</td><td>9.67401e-6</td><td>3.45868e-7</td></tr><tr><th>22</th><td>2.24364e-10</td><td>1.76255e-9</td><td>3.4516e-11</td><td>9.37613e-8</td><td>6.45507e-5</td><td>1.27703e-6</td><td>8.9088e-8</td></tr><tr><th>23</th><td>4.15064e-11</td><td>2.77234e-10</td><td>5.42932e-12</td><td>1.883e-8</td><td>1.15843e-5</td><td>2.29186e-7</td><td>3.77957e-8</td></tr><tr><th>24</th><td>1.36575e-11</td><td>7.8034e-11</td><td>1.52827e-12</td><td>6.00344e-9</td><td>2.95216e-6</td><td>5.84079e-8</td><td>2.63011e-8</td></tr><tr><th>25</th><td>7.61077e-12</td><td>3.75886e-11</td><td>7.36178e-13</td><td>3.17448e-9</td><td>1.10764e-6</td><td>2.19147e-8</td><td>2.86602e-8</td></tr><tr><th>26</th><td>6.54842e-12</td><td>2.81285e-11</td><td>5.50909e-13</td><td>2.67235e-9</td><td>6.21737e-7</td><td>1.23012e-8</td><td>4.43019e-8</td></tr><tr><th>27</th><td>7.99913e-12</td><td>2.97503e-11</td><td>5.82676e-13</td><td>3.27738e-9</td><td>5.13989e-7</td><td>1.01692e-8</td><td>8.82903e-8</td></tr><tr><th>28</th><td>1.31175e-11</td><td>4.18824e-11</td><td>8.20288e-13</td><td>5.40838e-9</td><td>5.98849e-7</td><td>1.18479e-8</td><td>2.14081e-7</td></tr><tr><th>29</th><td>2.75387e-11</td><td>7.53058e-11</td><td>1.47489e-12</td><td>1.12839e-8</td><td>9.27486e-7</td><td>1.83491e-8</td><td>6.10253e-7</td></tr><tr><th>30</th><td>7.06673e-11</td><td>1.66297e-10</td><td>3.25695e-12</td><td>2.83368e-8</td><td>1.80344e-6</td><td>3.56773e-8</td><td>1.98916e-6</td></tr><tr><th>&vellip;</th><td>&vellip;</td><td>&vellip;</td><td>&vellip;</td><td>&vellip;</td><td>&vellip;</td><td>&vellip;</td><td>&vellip;</td></tr></tbody></table>"
      ],
      "text/latex": [
       "\\begin{tabular}{r|cccccccc}\n",
       "\t& ABAB & ABAb & ABAβ & ABaB & ABab & ABaβ & ABαB & \\\\\n",
       "\t\\hline\n",
       "\t& Float64 & Float64 & Float64 & Float64 & Float64 & Float64 & Float64 & \\\\\n",
       "\t\\hline\n",
       "\t1 & 980.1 & 0.0 & 0.0 & 0.0 & 0.0 & 0.0 & 19.8 & $\\dots$ \\\\\n",
       "\t2 & 979.121 & 0.0140004 & 0.000132285 & 0.0138604 & 0.923882 & 0.00881762 & 19.7804 & $\\dots$ \\\\\n",
       "\t3 & 978.197 & 0.0441924 & 0.000544016 & 0.0608536 & 1.71602 & 0.0248506 & 19.767 & $\\dots$ \\\\\n",
       "\t4 & 976.437 & 0.106741 & 0.00155175 & 0.188481 & 3.18546 & 0.0542645 & 19.7491 & $\\dots$ \\\\\n",
       "\t5 & 973.091 & 0.225714 & 0.00365177 & 0.501867 & 5.905 & 0.108393 & 19.7199 & $\\dots$ \\\\\n",
       "\t6 & 966.756 & 0.446395 & 0.00774489 & 1.2263 & 10.9179 & 0.207871 & 19.6688 & $\\dots$ \\\\\n",
       "\t7 & 954.819 & 0.849971 & 0.0154313 & 2.82812 & 20.0882 & 0.38957 & 19.5772 & $\\dots$ \\\\\n",
       "\t8 & 932.553 & 1.57472 & 0.0294313 & 6.22774 & 36.6247 & 0.716959 & 19.4125 & $\\dots$ \\\\\n",
       "\t9 & 891.783 & 2.8347 & 0.0539564 & 13.1005 & 65.6463 & 1.29129 & 19.1153 & $\\dots$ \\\\\n",
       "\t10 & 819.677 & 4.89319 & 0.0941967 & 26.0312 & 114.019 & 2.24837 & 18.5751 & $\\dots$ \\\\\n",
       "\t11 & 700.042 & 7.86576 & 0.152468 & 47.5251 & 187.009 & 3.69242 & 17.5831 & $\\dots$ \\\\\n",
       "\t12 & 523.061 & 11.1526 & 0.217078 & 75.582 & 277.068 & 5.47424 & 15.7601 & $\\dots$ \\\\\n",
       "\t13 & 308.502 & 12.7124 & 0.248053 & 95.4424 & 345.036 & 6.81951 & 12.577 & $\\dots$ \\\\\n",
       "\t14 & 121.533 & 10.049 & 0.196372 & 82.4409 & 324.131 & 6.40756 & 7.90859 & $\\dots$ \\\\\n",
       "\t15 & 24.7297 & 4.4212 & 0.0864708 & 38.96 & 197.876 & 3.91218 & 3.18104 & $\\dots$ \\\\\n",
       "\t16 & 1.80654 & 0.802847 & 0.01571 & 7.42951 & 65.1677 & 1.28855 & 0.607701 & $\\dots$ \\\\\n",
       "\t17 & 0.0333724 & 0.0448095 & 0.000877066 & 0.426781 & 9.84721 & 0.194728 & 0.0410737 & $\\dots$ \\\\\n",
       "\t18 & 0.00022278 & 0.000898018 & 1.75798e-5 & 0.00908975 & 0.800964 & 0.0158408 & 0.00116397 & $\\dots$ \\\\\n",
       "\t19 & 1.90243e-6 & 1.53911e-5 & 3.01335e-7 & 0.00019275 & 0.0583808 & 0.00115473 & 3.55328e-5 & $\\dots$ \\\\\n",
       "\t20 & 4.10903e-8 & 4.08374e-7 & 7.99609e-9 & 8.22198e-6 & 0.00481418 & 9.52288e-5 & 2.36066e-6 & $\\dots$ \\\\\n",
       "\t21 & 2.18204e-9 & 1.99868e-8 & 3.91378e-10 & 6.99903e-7 & 0.000489025 & 9.67401e-6 & 3.45868e-7 & $\\dots$ \\\\\n",
       "\t22 & 2.24364e-10 & 1.76255e-9 & 3.4516e-11 & 9.37613e-8 & 6.45507e-5 & 1.27703e-6 & 8.9088e-8 & $\\dots$ \\\\\n",
       "\t23 & 4.15064e-11 & 2.77234e-10 & 5.42932e-12 & 1.883e-8 & 1.15843e-5 & 2.29186e-7 & 3.77957e-8 & $\\dots$ \\\\\n",
       "\t24 & 1.36575e-11 & 7.8034e-11 & 1.52827e-12 & 6.00344e-9 & 2.95216e-6 & 5.84079e-8 & 2.63011e-8 & $\\dots$ \\\\\n",
       "\t25 & 7.61077e-12 & 3.75886e-11 & 7.36178e-13 & 3.17448e-9 & 1.10764e-6 & 2.19147e-8 & 2.86602e-8 & $\\dots$ \\\\\n",
       "\t26 & 6.54842e-12 & 2.81285e-11 & 5.50909e-13 & 2.67235e-9 & 6.21737e-7 & 1.23012e-8 & 4.43019e-8 & $\\dots$ \\\\\n",
       "\t27 & 7.99913e-12 & 2.97503e-11 & 5.82676e-13 & 3.27738e-9 & 5.13989e-7 & 1.01692e-8 & 8.82903e-8 & $\\dots$ \\\\\n",
       "\t28 & 1.31175e-11 & 4.18824e-11 & 8.20288e-13 & 5.40838e-9 & 5.98849e-7 & 1.18479e-8 & 2.14081e-7 & $\\dots$ \\\\\n",
       "\t29 & 2.75387e-11 & 7.53058e-11 & 1.47489e-12 & 1.12839e-8 & 9.27486e-7 & 1.83491e-8 & 6.10253e-7 & $\\dots$ \\\\\n",
       "\t30 & 7.06673e-11 & 1.66297e-10 & 3.25695e-12 & 2.83368e-8 & 1.80344e-6 & 3.56773e-8 & 1.98916e-6 & $\\dots$ \\\\\n",
       "\t$\\dots$ & $\\dots$ & $\\dots$ & $\\dots$ & $\\dots$ & $\\dots$ & $\\dots$ & $\\dots$ &  \\\\\n",
       "\\end{tabular}\n"
      ],
      "text/plain": [
       "\u001b[1m101×45 DataFrame\u001b[0m\n",
       "\u001b[1m Row \u001b[0m│\u001b[1m ABAB         \u001b[0m\u001b[1m ABAb        \u001b[0m\u001b[1m ABAβ        \u001b[0m\u001b[1m ABaB        \u001b[0m\u001b[1m ABab         \u001b[0m\u001b[1m ABaβ\u001b[0m ⋯\n",
       "\u001b[1m     \u001b[0m│\u001b[90m Float64      \u001b[0m\u001b[90m Float64     \u001b[0m\u001b[90m Float64     \u001b[0m\u001b[90m Float64     \u001b[0m\u001b[90m Float64      \u001b[0m\u001b[90m Floa\u001b[0m ⋯\n",
       "─────┼──────────────────────────────────────────────────────────────────────────\n",
       "   1 │ 980.1          0.0         0.0           0.0           0.0         0.0  ⋯\n",
       "   2 │ 979.121        0.0140004   0.000132285   0.0138604     0.923882    0.00\n",
       "   3 │ 978.197        0.0441924   0.000544016   0.0608536     1.71602     0.02\n",
       "   4 │ 976.437        0.106741    0.00155175    0.188481      3.18546     0.05\n",
       "   5 │ 973.091        0.225714    0.00365177    0.501867      5.905       0.10 ⋯\n",
       "   6 │ 966.756        0.446395    0.00774489    1.2263       10.9179      0.20\n",
       "   7 │ 954.819        0.849971    0.0154313     2.82812      20.0882      0.38\n",
       "   8 │ 932.553        1.57472     0.0294313     6.22774      36.6247      0.71\n",
       "   9 │ 891.783        2.8347      0.0539564    13.1005       65.6463      1.29 ⋯\n",
       "  10 │ 819.677        4.89319     0.0941967    26.0312      114.019       2.24\n",
       "  11 │ 700.042        7.86576     0.152468     47.5251      187.009       3.69\n",
       "  ⋮  │      ⋮             ⋮            ⋮            ⋮            ⋮             ⋱\n",
       "  92 │   3.79915e-7   4.67624e-8  9.15487e-10   1.3893e-5     2.73133e-5  5.40\n",
       "  93 │   3.80036e-7   4.59141e-8  8.9888e-10    1.35829e-5    2.61982e-5  5.18 ⋯\n",
       "  94 │   3.80155e-7   4.50931e-8  8.82805e-10   1.32824e-5    2.5141e-5   4.97\n",
       "  95 │   3.8027e-7    4.4298e-8   8.67237e-10   1.29912e-5    2.4138e-5   4.77\n",
       "  96 │   3.80383e-7   4.35276e-8  8.52155e-10   1.27089e-5    2.31858e-5  4.58\n",
       "  97 │   3.80493e-7   4.27808e-8  8.37535e-10   1.24351e-5    2.22811e-5  4.40 ⋯\n",
       "  98 │   3.80601e-7   4.20567e-8  8.23358e-10   1.21695e-5    2.14211e-5  4.23\n",
       "  99 │   3.80707e-7   4.13542e-8  8.09604e-10   1.19117e-5    2.06031e-5  4.07\n",
       " 100 │   3.80811e-7   4.06724e-8  7.96256e-10   1.16614e-5    1.98245e-5  3.92\n",
       " 101 │   3.80912e-7   4.00104e-8  7.83295e-10   1.14183e-5    1.90829e-5  3.77 ⋯\n",
       "\u001b[31m                                                  40 columns and 80 rows omitted\u001b[0m"
      ]
     },
     "execution_count": 13,
     "metadata": {},
     "output_type": "execute_result"
    }
   ],
   "source": [
    "output[\"genotypenumber_adult_female\"]"
   ]
  },
  {
   "cell_type": "markdown",
   "id": "uniform-cylinder",
   "metadata": {},
   "source": [
    "\n",
    "###### Calculate additional metrics\n",
    "\n",
    "The output can be further processed to obtain allele frequencies, relative numbers of females and correlation between constructs through time."
   ]
  },
  {
   "cell_type": "code",
   "execution_count": 14,
   "id": "divided-airport",
   "metadata": {},
   "outputs": [
    {
     "data": {
      "text/plain": [
       "Dict{String,DataFrame} with 29 entries:\n",
       "  \"allelefreq_zygote_female\"     => \u001b[1m101×6 DataFrame\u001b[0m…\n",
       "  \"correlation_zygote\"           => \u001b[1m101×1 DataFrame\u001b[0m…\n",
       "  \"allelefreq_pupae\"             => \u001b[1m101×6 DataFrame\u001b[0m…\n",
       "  \"allelefreq_adult_male\"        => \u001b[1m101×6 DataFrame\u001b[0m…\n",
       "  \"allelefreq_adult_female\"      => \u001b[1m101×6 DataFrame\u001b[0m…\n",
       "  \"genotypenumber_adult_female\"  => \u001b[1m101×45 DataFrame\u001b[0m…\n",
       "  \"allelefreq_pupae_female\"      => \u001b[1m101×6 DataFrame\u001b[0m…\n",
       "  \"genotypefreq_adult_female\"    => \u001b[1m101×45 DataFrame\u001b[0m…\n",
       "  \"genotypefreq_zygote_female\"   => \u001b[1m101×45 DataFrame\u001b[0m…\n",
       "  \"allelefreq_zygote\"            => \u001b[1m101×6 DataFrame\u001b[0m…\n",
       "  \"relative_number_females\"      => \u001b[1m101×2 DataFrame\u001b[0m…\n",
       "  \"allelefreq_zygote_male\"       => \u001b[1m101×6 DataFrame\u001b[0m…\n",
       "  \"genotypenumber_pupae_female\"  => \u001b[1m101×45 DataFrame\u001b[0m…\n",
       "  \"genotypenumber_zygote_male\"   => \u001b[1m101×45 DataFrame\u001b[0m…\n",
       "  \"genotypenumber_pupae_male\"    => \u001b[1m101×45 DataFrame\u001b[0m…\n",
       "  \"genotypenumber_zygote_female\" => \u001b[1m101×45 DataFrame\u001b[0m…\n",
       "  \"genotypefreq_adult_male\"      => \u001b[1m101×45 DataFrame\u001b[0m…\n",
       "  \"genotypefreq_zygote\"          => \u001b[1m101×45 DataFrame\u001b[0m…\n",
       "  \"number_females\"               => \u001b[1m101×2 DataFrame\u001b[0m…\n",
       "  \"allelefreq_adult\"             => \u001b[1m101×6 DataFrame\u001b[0m…\n",
       "  \"genotypefreq_pupae_male\"      => \u001b[1m101×45 DataFrame\u001b[0m…\n",
       "  \"genotypefreq_adult\"           => \u001b[1m101×45 DataFrame\u001b[0m…\n",
       "  \"genotypefreq_zygote_male\"     => \u001b[1m101×45 DataFrame\u001b[0m…\n",
       "  \"genotypefreq_pupae_female\"    => \u001b[1m101×45 DataFrame\u001b[0m…\n",
       "  \"genotypefreq_pupae\"           => \u001b[1m101×45 DataFrame\u001b[0m…\n",
       "  ⋮                              => ⋮"
      ]
     },
     "execution_count": 14,
     "metadata": {},
     "output_type": "execute_result"
    }
   ],
   "source": [
    "data_dict = Simulation_processing_wrapper(output)"
   ]
  },
  {
   "cell_type": "code",
   "execution_count": 15,
   "id": "white-pepper",
   "metadata": {
    "scrolled": true
   },
   "outputs": [
    {
     "data": {
      "text/html": [
       "<table class=\"data-frame\"><thead><tr><th></th><th>pupae</th><th>adult</th></tr><tr><th></th><th>Float64</th><th>Float64</th></tr></thead><tbody><p>101 rows × 2 columns</p><tr><th>1</th><td>1.0</td><td>1.0</td></tr><tr><th>2</th><td>1.0</td><td>0.999981</td></tr><tr><th>3</th><td>0.999997</td><td>0.99996</td></tr><tr><th>4</th><td>0.999993</td><td>0.999922</td></tr><tr><th>5</th><td>0.999987</td><td>0.999849</td></tr><tr><th>6</th><td>0.999975</td><td>0.999699</td></tr><tr><th>7</th><td>0.99995</td><td>0.999375</td></tr><tr><th>8</th><td>0.999896</td><td>0.998632</td></tr><tr><th>9</th><td>0.999772</td><td>0.996791</td></tr><tr><th>10</th><td>0.999464</td><td>0.991949</td></tr><tr><th>11</th><td>0.998649</td><td>0.978899</td></tr><tr><th>12</th><td>0.99642</td><td>0.944807</td></tr><tr><th>13</th><td>0.990358</td><td>0.864532</td></tr><tr><th>14</th><td>0.974549</td><td>0.708243</td></tr><tr><th>15</th><td>0.935753</td><td>0.478578</td></tr><tr><th>16</th><td>0.846319</td><td>0.243746</td></tr><tr><th>17</th><td>0.659151</td><td>0.0865176</td></tr><tr><th>18</th><td>0.362355</td><td>0.0207782</td></tr><tr><th>19</th><td>0.112936</td><td>0.00386153</td></tr><tr><th>20</th><td>0.0227303</td><td>0.00068605</td></tr><tr><th>21</th><td>0.00410223</td><td>0.000131933</td></tr><tr><th>22</th><td>0.000791076</td><td>3.05742e-5</td></tr><tr><th>23</th><td>0.000183417</td><td>9.70842e-6</td></tr><tr><th>24</th><td>5.82477e-5</td><td>4.70418e-6</td></tr><tr><th>25</th><td>2.82244e-5</td><td>3.58012e-6</td></tr><tr><th>26</th><td>2.14803e-5</td><td>4.10022e-6</td></tr><tr><th>27</th><td>2.46008e-5</td><td>6.56478e-6</td></tr><tr><th>28</th><td>3.93874e-5</td><td>1.36735e-5</td></tr><tr><th>29</th><td>8.20356e-5</td><td>3.49591e-5</td></tr><tr><th>30</th><td>0.000209718</td><td>0.000104908</td></tr><tr><th>&vellip;</th><td>&vellip;</td><td>&vellip;</td></tr></tbody></table>"
      ],
      "text/latex": [
       "\\begin{tabular}{r|cc}\n",
       "\t& pupae & adult\\\\\n",
       "\t\\hline\n",
       "\t& Float64 & Float64\\\\\n",
       "\t\\hline\n",
       "\t1 & 1.0 & 1.0 \\\\\n",
       "\t2 & 1.0 & 0.999981 \\\\\n",
       "\t3 & 0.999997 & 0.99996 \\\\\n",
       "\t4 & 0.999993 & 0.999922 \\\\\n",
       "\t5 & 0.999987 & 0.999849 \\\\\n",
       "\t6 & 0.999975 & 0.999699 \\\\\n",
       "\t7 & 0.99995 & 0.999375 \\\\\n",
       "\t8 & 0.999896 & 0.998632 \\\\\n",
       "\t9 & 0.999772 & 0.996791 \\\\\n",
       "\t10 & 0.999464 & 0.991949 \\\\\n",
       "\t11 & 0.998649 & 0.978899 \\\\\n",
       "\t12 & 0.99642 & 0.944807 \\\\\n",
       "\t13 & 0.990358 & 0.864532 \\\\\n",
       "\t14 & 0.974549 & 0.708243 \\\\\n",
       "\t15 & 0.935753 & 0.478578 \\\\\n",
       "\t16 & 0.846319 & 0.243746 \\\\\n",
       "\t17 & 0.659151 & 0.0865176 \\\\\n",
       "\t18 & 0.362355 & 0.0207782 \\\\\n",
       "\t19 & 0.112936 & 0.00386153 \\\\\n",
       "\t20 & 0.0227303 & 0.00068605 \\\\\n",
       "\t21 & 0.00410223 & 0.000131933 \\\\\n",
       "\t22 & 0.000791076 & 3.05742e-5 \\\\\n",
       "\t23 & 0.000183417 & 9.70842e-6 \\\\\n",
       "\t24 & 5.82477e-5 & 4.70418e-6 \\\\\n",
       "\t25 & 2.82244e-5 & 3.58012e-6 \\\\\n",
       "\t26 & 2.14803e-5 & 4.10022e-6 \\\\\n",
       "\t27 & 2.46008e-5 & 6.56478e-6 \\\\\n",
       "\t28 & 3.93874e-5 & 1.36735e-5 \\\\\n",
       "\t29 & 8.20356e-5 & 3.49591e-5 \\\\\n",
       "\t30 & 0.000209718 & 0.000104908 \\\\\n",
       "\t$\\dots$ & $\\dots$ & $\\dots$ \\\\\n",
       "\\end{tabular}\n"
      ],
      "text/plain": [
       "\u001b[1m101×2 DataFrame\u001b[0m\n",
       "\u001b[1m Row \u001b[0m│\u001b[1m pupae    \u001b[0m\u001b[1m adult    \u001b[0m\n",
       "\u001b[1m     \u001b[0m│\u001b[90m Float64  \u001b[0m\u001b[90m Float64  \u001b[0m\n",
       "─────┼────────────────────\n",
       "   1 │ 1.0       1.0\n",
       "   2 │ 1.0       0.999981\n",
       "   3 │ 0.999997  0.99996\n",
       "   4 │ 0.999993  0.999922\n",
       "   5 │ 0.999987  0.999849\n",
       "   6 │ 0.999975  0.999699\n",
       "   7 │ 0.99995   0.999375\n",
       "   8 │ 0.999896  0.998632\n",
       "   9 │ 0.999772  0.996791\n",
       "  10 │ 0.999464  0.991949\n",
       "  11 │ 0.998649  0.978899\n",
       "  ⋮  │    ⋮         ⋮\n",
       "  92 │ 0.999213  0.995467\n",
       "  93 │ 0.999242  0.99563\n",
       "  94 │ 0.999269  0.995785\n",
       "  95 │ 0.999295  0.995932\n",
       "  96 │ 0.99932   0.996072\n",
       "  97 │ 0.999343  0.996206\n",
       "  98 │ 0.999366  0.996333\n",
       "  99 │ 0.999387  0.996455\n",
       " 100 │ 0.999407  0.996571\n",
       " 101 │ 0.999427  0.996681\n",
       "\u001b[31m           80 rows omitted\u001b[0m"
      ]
     },
     "execution_count": 15,
     "metadata": {},
     "output_type": "execute_result"
    }
   ],
   "source": [
    "data_dict[\"relative_number_females\"]"
   ]
  },
  {
   "cell_type": "markdown",
   "id": "pacific-palace",
   "metadata": {},
   "source": [
    "## 4-allele double drive simulator"
   ]
  },
  {
   "cell_type": "code",
   "execution_count": 16,
   "id": "proof-reputation",
   "metadata": {
    "code_folding": []
   },
   "outputs": [],
   "source": [
    "#Load 4-allele model\n",
    "@nbinclude(\"DoubleDrive_Simulator_4allele.ipynb\");"
   ]
  },
  {
   "cell_type": "markdown",
   "id": "killing-proportion",
   "metadata": {},
   "source": [
    "Here we use design 1 as an example where the differentiated locus is a haplo-insufficient essentil locus and the construct contains a recoded copy of the gene meaning it does not disrupt function."
   ]
  },
  {
   "cell_type": "markdown",
   "id": "ready-questionnaire",
   "metadata": {},
   "source": [
    "\n",
    "###### Define design details."
   ]
  },
  {
   "cell_type": "code",
   "execution_count": 17,
   "id": "premier-documentation",
   "metadata": {},
   "outputs": [],
   "source": [
    "A_homing_dependency = \"constitutive\"\n",
    "B_homing_dependency = \"conditional\"\n",
    "XS_dependency = \"none\"\n",
    "A_construct = [\"cas9\",\"grna\"] #if left empty assumes no expression costs\n",
    "B_construct = [\"grna\"] #if left empty assumes no expression costs\n",
    "fitness_effect = \"adult\";"
   ]
  },
  {
   "cell_type": "markdown",
   "id": "grave-clark",
   "metadata": {},
   "source": [
    "\n",
    "###### Set parameters"
   ]
  },
  {
   "cell_type": "code",
   "execution_count": 18,
   "id": "adaptive-rebecca",
   "metadata": {},
   "outputs": [
    {
     "data": {
      "text/plain": [
       "0.01"
      ]
     },
     "execution_count": 18,
     "metadata": {},
     "output_type": "execute_result"
    }
   ],
   "source": [
    "params = Initiate_baseline_parameters()\n",
    "\n",
    "#Fitness costs at the differentiated site\n",
    "## Costs due to disruption by construct insertion remain zero \n",
    "    ## since the construct contains a recoded version of the gene\n",
    "#All NHEJ products (α) have HI fitness costs in both males and females\n",
    "#All standing resistant loci (o) inherit costs of the construct insertion (no costs)\n",
    "Aallele_fitness = \"α\"\n",
    "params[\"sraf\"] = 1.0\n",
    "params[\"hraf\"] = 1.0\n",
    "params[\"siraf\"] = 1.0\n",
    "params[\"sram\"] = 1.0\n",
    "params[\"hram\"] = 1.0\n",
    "params[\"siram\"] = 1.0\n",
    "\n",
    "#Fitness costs at the haplo-sufficient female specific gene\n",
    "params[\"sibf\"]=1.0 \n",
    "params[\"srbf\"]=1.0 \n",
    "params[\"sirbf\"] = 1.0\n",
    "\n",
    "#homing parameters\n",
    "params[\"caf\"] = 0.971\n",
    "params[\"jaf\"] = 0.019\n",
    "params[\"cam\"] = 0.971\n",
    "params[\"jam\"] = 0.019\n",
    "params[\"cbf\"] = 0.971\n",
    "params[\"jbf\"] = 0.019\n",
    "params[\"cbm\"] = 0.971\n",
    "params[\"jbm\"] = 0.019\n",
    "\n",
    "#off target cleavage cost of 1%\n",
    "params[\"sHaf\"] = 0.01\n",
    "params[\"sHam\"] = 0.01\n",
    "params[\"sHbf\"] = 0.01\n",
    "params[\"sHbm\"] = 0.01"
   ]
  },
  {
   "cell_type": "markdown",
   "id": "polar-device",
   "metadata": {},
   "source": [
    "\n",
    "###### Define starting population\n",
    "\n",
    "Define the population pre-release:"
   ]
  },
  {
   "cell_type": "code",
   "execution_count": 19,
   "id": "overall-asian",
   "metadata": {},
   "outputs": [],
   "source": [
    "resistant_allele = \"o\"\n",
    "resistant_freq = 0.01\n",
    "pre_pop = Initiate_prerelease_population_3lifestages(resistant_allele, \n",
    "                                                        resistant_freq, \n",
    "                                                        params);"
   ]
  },
  {
   "cell_type": "markdown",
   "id": "alive-cover",
   "metadata": {},
   "source": [
    "Release transgenic males:"
   ]
  },
  {
   "cell_type": "code",
   "execution_count": 20,
   "id": "extraordinary-solid",
   "metadata": {},
   "outputs": [
    {
     "data": {
      "text/plain": [
       "78×6 Transpose{Float64,Array{Float64,2}}:\n",
       " 58806.0  58806.0  980.1  980.1  980.1  980.1\n",
       "     0.0      0.0    0.0    0.0    0.0    0.0\n",
       "     0.0      0.0    0.0    0.0    0.0    0.0\n",
       "     0.0      0.0    0.0    0.0    0.0    0.0\n",
       "     0.0      0.0    0.0    0.0    0.0    1.0\n",
       "     0.0      0.0    0.0    0.0    0.0    0.0\n",
       "     0.0      0.0    0.0    0.0    0.0    0.0\n",
       "     0.0      0.0    0.0    0.0    0.0    0.0\n",
       "     0.0      0.0    0.0    0.0    0.0    0.0\n",
       "  1188.0   1188.0   19.8   19.8   19.8   19.8\n",
       "     0.0      0.0    0.0    0.0    0.0    0.0\n",
       "     0.0      0.0    0.0    0.0    0.0    0.0\n",
       "     0.0      0.0    0.0    0.0    0.0    0.0\n",
       "     ⋮                                    ⋮\n",
       "     0.0      0.0    0.0    0.0    0.0    0.0\n",
       "     0.0      0.0    0.0    0.0    0.0    0.0\n",
       "     0.0      0.0    0.0    0.0    0.0    0.0\n",
       "     0.0      0.0    0.0    0.0    0.0    0.0\n",
       "     0.0      0.0    0.0    0.0    0.0    0.0\n",
       "     0.0      0.0    0.0    0.0    0.0    0.0\n",
       "     6.0      6.0    0.1    0.1    0.1    0.1\n",
       "     0.0      0.0    0.0    0.0    0.0    0.0\n",
       "     0.0      0.0    0.0    0.0    0.0    0.0\n",
       "     0.0      0.0    0.0    0.0    0.0    0.0\n",
       "     0.0      0.0    0.0    0.0    0.0    0.0\n",
       "     0.0      0.0    0.0    0.0    0.0    0.0"
      ]
     },
     "execution_count": 20,
     "metadata": {},
     "output_type": "execute_result"
    }
   ],
   "source": [
    "transgenic_genotype = \"ABab\"\n",
    "release_freq = 0.001\n",
    "starting_population_post_release = release_transgenic_males(\n",
    "    pre_pop,\n",
    "    Symbol(transgenic_genotype),\n",
    "    release_freq)"
   ]
  },
  {
   "cell_type": "markdown",
   "id": "nasty-sheffield",
   "metadata": {},
   "source": [
    "The order of genotypes is as in the global variable 'genotypes'"
   ]
  },
  {
   "cell_type": "code",
   "execution_count": 21,
   "id": "preceding-publicity",
   "metadata": {},
   "outputs": [
    {
     "data": {
      "text/plain": [
       "78-element Array{Any,1}:\n",
       " [\"AB\" \"AB\"]\n",
       " [\"AB\" \"Ab\"]\n",
       " [\"AB\" \"Aβ\"]\n",
       " [\"AB\" \"aB\"]\n",
       " [\"AB\" \"ab\"]\n",
       " [\"AB\" \"aβ\"]\n",
       " [\"AB\" \"αB\"]\n",
       " [\"AB\" \"αb\"]\n",
       " [\"AB\" \"αβ\"]\n",
       " [\"AB\" \"oB\"]\n",
       " [\"AB\" \"ob\"]\n",
       " [\"AB\" \"oβ\"]\n",
       " [\"Ab\" \"Ab\"]\n",
       " ⋮\n",
       " [\"αb\" \"ob\"]\n",
       " [\"αb\" \"oβ\"]\n",
       " [\"αβ\" \"αβ\"]\n",
       " [\"αβ\" \"oB\"]\n",
       " [\"αβ\" \"ob\"]\n",
       " [\"αβ\" \"oβ\"]\n",
       " [\"oB\" \"oB\"]\n",
       " [\"oB\" \"ob\"]\n",
       " [\"oB\" \"oβ\"]\n",
       " [\"ob\" \"ob\"]\n",
       " [\"ob\" \"oβ\"]\n",
       " [\"oβ\" \"oβ\"]"
      ]
     },
     "execution_count": 21,
     "metadata": {},
     "output_type": "execute_result"
    }
   ],
   "source": [
    "genotypes"
   ]
  },
  {
   "cell_type": "markdown",
   "id": "stable-account",
   "metadata": {},
   "source": [
    "\n",
    "###### Build matrices\n",
    "\n",
    "Based in the design details, a list of matrices required for simulation are generated. These include:  \n",
    "* fitness matrix \n",
    "* male homing matrix \n",
    "* female homing matrix\n",
    "* recombination matrix \n",
    "* sex ratio matrix"
   ]
  },
  {
   "cell_type": "code",
   "execution_count": 22,
   "id": "tamil-control",
   "metadata": {},
   "outputs": [],
   "source": [
    "matrices = make_matrices(params,\n",
    "                A_construct,\n",
    "                B_construct,\n",
    "                A_homing_dependency,\n",
    "                B_homing_dependency,\n",
    "                XS_dependency,\n",
    "                Aallele_fitness);"
   ]
  },
  {
   "cell_type": "markdown",
   "id": "forty-attack",
   "metadata": {},
   "source": [
    "\n",
    "###### Simulate time series\n",
    "\n",
    "The parameters, matrices, fitness effect and starting population is used to simulate t generations. "
   ]
  },
  {
   "cell_type": "code",
   "execution_count": 23,
   "id": "together-invention",
   "metadata": {},
   "outputs": [
    {
     "data": {
      "text/plain": [
       "Dict{String,DataFrame} with 8 entries:\n",
       "  \"genotypenumber_pupae_female\"  => \u001b[1m101×78 DataFrame\u001b[0m…\n",
       "  \"genotypenumber_adult_female\"  => \u001b[1m101×78 DataFrame\u001b[0m…\n",
       "  \"genotypenumber_zygote_male\"   => \u001b[1m101×78 DataFrame\u001b[0m…\n",
       "  \"genotypenumber_pupae_male\"    => \u001b[1m101×78 DataFrame\u001b[0m…\n",
       "  \"genotypenumber_zygote_female\" => \u001b[1m101×78 DataFrame\u001b[0m…\n",
       "  \"eggnumber\"                    => \u001b[1m101×12 DataFrame\u001b[0m…\n",
       "  \"genotypenumber_adult_male\"    => \u001b[1m101×78 DataFrame\u001b[0m…\n",
       "  \"spermfreq\"                    => \u001b[1m101×24 DataFrame\u001b[0m…"
      ]
     },
     "execution_count": 23,
     "metadata": {},
     "output_type": "execute_result"
    }
   ],
   "source": [
    "t=100\n",
    "output = Simulate_timeseries(\n",
    "            params,\n",
    "            matrices,\n",
    "            fitness_effect,\n",
    "            t,\n",
    "            starting_population_post_release)"
   ]
  },
  {
   "cell_type": "markdown",
   "id": "typical-tunisia",
   "metadata": {},
   "source": [
    "The output is a dictionary containing numbers of each genotype and gamete through time. "
   ]
  },
  {
   "cell_type": "code",
   "execution_count": 24,
   "id": "defensive-renewal",
   "metadata": {},
   "outputs": [
    {
     "data": {
      "text/html": [
       "<table class=\"data-frame\"><thead><tr><th></th><th>ABAB</th><th>ABAb</th><th>ABAβ</th><th>ABaB</th><th>ABab</th><th>ABaβ</th><th>ABαB</th></tr><tr><th></th><th>Float64</th><th>Float64</th><th>Float64</th><th>Float64</th><th>Float64</th><th>Float64</th><th>Float64</th></tr></thead><tbody><p>101 rows × 78 columns (omitted printing of 71 columns)</p><tr><th>1</th><td>980.1</td><td>0.0</td><td>0.0</td><td>0.0</td><td>0.0</td><td>0.0</td><td>0.0</td></tr><tr><th>2</th><td>979.121</td><td>0.0140004</td><td>0.000132285</td><td>0.0138604</td><td>0.923882</td><td>0.00881762</td><td>0.0</td></tr><tr><th>3</th><td>978.209</td><td>0.0397884</td><td>0.000502405</td><td>0.0608544</td><td>1.71605</td><td>0.024851</td><td>0.0</td></tr><tr><th>4</th><td>976.474</td><td>0.0920188</td><td>0.00137292</td><td>0.18849</td><td>3.1856</td><td>0.054267</td><td>0.0</td></tr><tr><th>5</th><td>973.179</td><td>0.19084</td><td>0.00315122</td><td>0.501929</td><td>5.90565</td><td>0.108405</td><td>0.0</td></tr><tr><th>6</th><td>966.936</td><td>0.373914</td><td>0.00658232</td><td>1.22662</td><td>10.9205</td><td>0.20792</td><td>0.0</td></tr><tr><th>7</th><td>955.17</td><td>0.708694</td><td>0.0129931</td><td>2.82964</td><td>20.0975</td><td>0.389752</td><td>0.0</td></tr><tr><th>8</th><td>933.207</td><td>1.31019</td><td>0.0246437</td><td>6.23428</td><td>36.6576</td><td>0.717606</td><td>0.0</td></tr><tr><th>9</th><td>892.947</td><td>2.35701</td><td>0.0450448</td><td>13.1268</td><td>65.7572</td><td>1.29348</td><td>0.0</td></tr><tr><th>10</th><td>821.608</td><td>4.07068</td><td>0.0785578</td><td>26.1283</td><td>114.372</td><td>2.25536</td><td>0.0</td></tr><tr><th>11</th><td>702.863</td><td>6.55417</td><td>0.127235</td><td>47.844</td><td>188.035</td><td>3.71272</td><td>0.0</td></tr><tr><th>12</th><td>526.29</td><td>9.31713</td><td>0.181514</td><td>76.4459</td><td>279.596</td><td>5.52425</td><td>0.0</td></tr><tr><th>13</th><td>310.679</td><td>10.6443</td><td>0.207806</td><td>97.1149</td><td>349.667</td><td>6.91112</td><td>0.0</td></tr><tr><th>14</th><td>121.467</td><td>8.38143</td><td>0.163831</td><td>84.1691</td><td>328.846</td><td>6.50085</td><td>0.0</td></tr><tr><th>15</th><td>23.7344</td><td>3.57993</td><td>0.0700277</td><td>39.1978</td><td>197.712</td><td>3.90899</td><td>0.0</td></tr><tr><th>16</th><td>1.48709</td><td>0.579239</td><td>0.0113353</td><td>6.8858</td><td>60.5361</td><td>1.19698</td><td>0.0</td></tr><tr><th>17</th><td>0.0162418</td><td>0.0220896</td><td>0.000432381</td><td>0.294309</td><td>7.05038</td><td>0.139422</td><td>0.0</td></tr><tr><th>18</th><td>2.77547e-5</td><td>0.000165709</td><td>3.24403e-6</td><td>0.00298703</td><td>0.289056</td><td>0.00571677</td><td>0.0</td></tr><tr><th>19</th><td>3.79086e-8</td><td>6.67868e-7</td><td>1.30764e-8</td><td>2.42921e-5</td><td>0.00823213</td><td>0.000162827</td><td>0.0</td></tr><tr><th>20</th><td>1.23003e-10</td><td>3.21035e-9</td><td>6.28625e-11</td><td>3.92956e-7</td><td>0.00025238</td><td>4.99235e-6</td><td>0.0</td></tr><tr><th>21</th><td>8.52671e-13</td><td>2.07613e-11</td><td>4.06558e-13</td><td>1.15762e-8</td><td>8.88219e-6</td><td>1.75711e-7</td><td>0.0</td></tr><tr><th>22</th><td>8.63852e-15</td><td>1.81613e-13</td><td>3.55663e-15</td><td>4.42404e-10</td><td>3.5122e-7</td><td>6.94835e-9</td><td>0.0</td></tr><tr><th>23</th><td>1.13339e-16</td><td>2.08682e-15</td><td>4.0869e-17</td><td>1.95527e-11</td><td>1.5582e-8</td><td>3.08281e-10</td><td>0.0</td></tr><tr><th>24</th><td>1.93156e-18</td><td>3.12423e-17</td><td>6.11882e-19</td><td>9.90298e-13</td><td>7.86787e-10</td><td>1.55666e-11</td><td>0.0</td></tr><tr><th>25</th><td>4.41363e-20</td><td>6.22965e-19</td><td>1.22011e-20</td><td>5.83712e-14</td><td>4.60761e-11</td><td>9.11646e-13</td><td>0.0</td></tr><tr><th>26</th><td>1.41009e-21</td><td>1.72199e-20</td><td>3.37269e-22</td><td>4.1006e-15</td><td>3.20118e-12</td><td>6.33388e-14</td><td>0.0</td></tr><tr><th>27</th><td>6.62689e-23</td><td>6.94456e-22</td><td>1.36019e-23</td><td>3.54389e-16</td><td>2.71279e-13</td><td>5.36765e-15</td><td>0.0</td></tr><tr><th>28</th><td>4.85952e-24</td><td>4.34054e-23</td><td>8.50172e-25</td><td>3.93215e-17</td><td>2.90107e-14</td><td>5.74028e-16</td><td>0.0</td></tr><tr><th>29</th><td>5.9164e-25</td><td>4.48778e-24</td><td>8.79024e-26</td><td>5.94045e-18</td><td>4.0761e-15</td><td>8.06536e-17</td><td>0.0</td></tr><tr><th>30</th><td>1.25687e-25</td><td>8.10862e-25</td><td>1.58826e-26</td><td>1.32239e-18</td><td>7.86663e-16</td><td>1.55658e-17</td><td>0.0</td></tr><tr><th>&vellip;</th><td>&vellip;</td><td>&vellip;</td><td>&vellip;</td><td>&vellip;</td><td>&vellip;</td><td>&vellip;</td><td>&vellip;</td></tr></tbody></table>"
      ],
      "text/latex": [
       "\\begin{tabular}{r|cccccccc}\n",
       "\t& ABAB & ABAb & ABAβ & ABaB & ABab & ABaβ & ABαB & \\\\\n",
       "\t\\hline\n",
       "\t& Float64 & Float64 & Float64 & Float64 & Float64 & Float64 & Float64 & \\\\\n",
       "\t\\hline\n",
       "\t1 & 980.1 & 0.0 & 0.0 & 0.0 & 0.0 & 0.0 & 0.0 & $\\dots$ \\\\\n",
       "\t2 & 979.121 & 0.0140004 & 0.000132285 & 0.0138604 & 0.923882 & 0.00881762 & 0.0 & $\\dots$ \\\\\n",
       "\t3 & 978.209 & 0.0397884 & 0.000502405 & 0.0608544 & 1.71605 & 0.024851 & 0.0 & $\\dots$ \\\\\n",
       "\t4 & 976.474 & 0.0920188 & 0.00137292 & 0.18849 & 3.1856 & 0.054267 & 0.0 & $\\dots$ \\\\\n",
       "\t5 & 973.179 & 0.19084 & 0.00315122 & 0.501929 & 5.90565 & 0.108405 & 0.0 & $\\dots$ \\\\\n",
       "\t6 & 966.936 & 0.373914 & 0.00658232 & 1.22662 & 10.9205 & 0.20792 & 0.0 & $\\dots$ \\\\\n",
       "\t7 & 955.17 & 0.708694 & 0.0129931 & 2.82964 & 20.0975 & 0.389752 & 0.0 & $\\dots$ \\\\\n",
       "\t8 & 933.207 & 1.31019 & 0.0246437 & 6.23428 & 36.6576 & 0.717606 & 0.0 & $\\dots$ \\\\\n",
       "\t9 & 892.947 & 2.35701 & 0.0450448 & 13.1268 & 65.7572 & 1.29348 & 0.0 & $\\dots$ \\\\\n",
       "\t10 & 821.608 & 4.07068 & 0.0785578 & 26.1283 & 114.372 & 2.25536 & 0.0 & $\\dots$ \\\\\n",
       "\t11 & 702.863 & 6.55417 & 0.127235 & 47.844 & 188.035 & 3.71272 & 0.0 & $\\dots$ \\\\\n",
       "\t12 & 526.29 & 9.31713 & 0.181514 & 76.4459 & 279.596 & 5.52425 & 0.0 & $\\dots$ \\\\\n",
       "\t13 & 310.679 & 10.6443 & 0.207806 & 97.1149 & 349.667 & 6.91112 & 0.0 & $\\dots$ \\\\\n",
       "\t14 & 121.467 & 8.38143 & 0.163831 & 84.1691 & 328.846 & 6.50085 & 0.0 & $\\dots$ \\\\\n",
       "\t15 & 23.7344 & 3.57993 & 0.0700277 & 39.1978 & 197.712 & 3.90899 & 0.0 & $\\dots$ \\\\\n",
       "\t16 & 1.48709 & 0.579239 & 0.0113353 & 6.8858 & 60.5361 & 1.19698 & 0.0 & $\\dots$ \\\\\n",
       "\t17 & 0.0162418 & 0.0220896 & 0.000432381 & 0.294309 & 7.05038 & 0.139422 & 0.0 & $\\dots$ \\\\\n",
       "\t18 & 2.77547e-5 & 0.000165709 & 3.24403e-6 & 0.00298703 & 0.289056 & 0.00571677 & 0.0 & $\\dots$ \\\\\n",
       "\t19 & 3.79086e-8 & 6.67868e-7 & 1.30764e-8 & 2.42921e-5 & 0.00823213 & 0.000162827 & 0.0 & $\\dots$ \\\\\n",
       "\t20 & 1.23003e-10 & 3.21035e-9 & 6.28625e-11 & 3.92956e-7 & 0.00025238 & 4.99235e-6 & 0.0 & $\\dots$ \\\\\n",
       "\t21 & 8.52671e-13 & 2.07613e-11 & 4.06558e-13 & 1.15762e-8 & 8.88219e-6 & 1.75711e-7 & 0.0 & $\\dots$ \\\\\n",
       "\t22 & 8.63852e-15 & 1.81613e-13 & 3.55663e-15 & 4.42404e-10 & 3.5122e-7 & 6.94835e-9 & 0.0 & $\\dots$ \\\\\n",
       "\t23 & 1.13339e-16 & 2.08682e-15 & 4.0869e-17 & 1.95527e-11 & 1.5582e-8 & 3.08281e-10 & 0.0 & $\\dots$ \\\\\n",
       "\t24 & 1.93156e-18 & 3.12423e-17 & 6.11882e-19 & 9.90298e-13 & 7.86787e-10 & 1.55666e-11 & 0.0 & $\\dots$ \\\\\n",
       "\t25 & 4.41363e-20 & 6.22965e-19 & 1.22011e-20 & 5.83712e-14 & 4.60761e-11 & 9.11646e-13 & 0.0 & $\\dots$ \\\\\n",
       "\t26 & 1.41009e-21 & 1.72199e-20 & 3.37269e-22 & 4.1006e-15 & 3.20118e-12 & 6.33388e-14 & 0.0 & $\\dots$ \\\\\n",
       "\t27 & 6.62689e-23 & 6.94456e-22 & 1.36019e-23 & 3.54389e-16 & 2.71279e-13 & 5.36765e-15 & 0.0 & $\\dots$ \\\\\n",
       "\t28 & 4.85952e-24 & 4.34054e-23 & 8.50172e-25 & 3.93215e-17 & 2.90107e-14 & 5.74028e-16 & 0.0 & $\\dots$ \\\\\n",
       "\t29 & 5.9164e-25 & 4.48778e-24 & 8.79024e-26 & 5.94045e-18 & 4.0761e-15 & 8.06536e-17 & 0.0 & $\\dots$ \\\\\n",
       "\t30 & 1.25687e-25 & 8.10862e-25 & 1.58826e-26 & 1.32239e-18 & 7.86663e-16 & 1.55658e-17 & 0.0 & $\\dots$ \\\\\n",
       "\t$\\dots$ & $\\dots$ & $\\dots$ & $\\dots$ & $\\dots$ & $\\dots$ & $\\dots$ & $\\dots$ &  \\\\\n",
       "\\end{tabular}\n"
      ],
      "text/plain": [
       "\u001b[1m101×78 DataFrame\u001b[0m\n",
       "\u001b[1m Row \u001b[0m│\u001b[1m ABAB          \u001b[0m\u001b[1m ABAb         \u001b[0m\u001b[1m ABAβ        \u001b[0m\u001b[1m ABaB         \u001b[0m\u001b[1m ABab         \u001b[0m\u001b[1m A\u001b[0m ⋯\n",
       "\u001b[1m     \u001b[0m│\u001b[90m Float64       \u001b[0m\u001b[90m Float64      \u001b[0m\u001b[90m Float64     \u001b[0m\u001b[90m Float64      \u001b[0m\u001b[90m Float64      \u001b[0m\u001b[90m F\u001b[0m ⋯\n",
       "─────┼──────────────────────────────────────────────────────────────────────────\n",
       "   1 │ 980.1           0.0          0.0           0.0            0.0         0 ⋯\n",
       "   2 │ 979.121         0.0140004    0.000132285   0.0138604      0.923882    0\n",
       "   3 │ 978.209         0.0397884    0.000502405   0.0608544      1.71605     0\n",
       "   4 │ 976.474         0.0920188    0.00137292    0.18849        3.1856      0\n",
       "   5 │ 973.179         0.19084      0.00315122    0.501929       5.90565     0 ⋯\n",
       "   6 │ 966.936         0.373914     0.00658232    1.22662       10.9205      0\n",
       "   7 │ 955.17          0.708694     0.0129931     2.82964       20.0975      0\n",
       "   8 │ 933.207         1.31019      0.0246437     6.23428       36.6576      0\n",
       "   9 │ 892.947         2.35701      0.0450448    13.1268        65.7572      1 ⋯\n",
       "  10 │ 821.608         4.07068      0.0785578    26.1283       114.372       2\n",
       "  11 │ 702.863         6.55417      0.127235     47.844        188.035       3\n",
       "  ⋮  │       ⋮             ⋮             ⋮            ⋮             ⋮          ⋱\n",
       "  92 │   7.08412e-16   9.96675e-17  1.95125e-18   7.03483e-10    1.58686e-9  3\n",
       "  93 │   7.08685e-16   9.76642e-17  1.91203e-18   6.86683e-10    1.51632e-9  2 ⋯\n",
       "  94 │   7.0895e-16    9.5732e-17   1.8742e-18    6.70455e-10    1.44979e-9  2\n",
       "  95 │   7.09208e-16   9.38674e-17  1.8377e-18    6.54773e-10    1.38701e-9  2\n",
       "  96 │   7.09458e-16   9.2067e-17   1.80245e-18   6.3961e-10     1.3277e-9   2\n",
       "  97 │   7.09702e-16   9.03276e-17  1.76839e-18   6.24944e-10    1.27164e-9  2 ⋯\n",
       "  98 │   7.0994e-16    8.86463e-17  1.73547e-18   6.10751e-10    1.2186e-9   2\n",
       "  99 │   7.10172e-16   8.70202e-17  1.70364e-18   5.97012e-10    1.16837e-9  2\n",
       " 100 │   7.10398e-16   8.54468e-17  1.67283e-18   5.83705e-10    1.12078e-9  2\n",
       " 101 │   7.10619e-16   8.39237e-17  1.64301e-18   5.70813e-10    1.07566e-9  2 ⋯\n",
       "\u001b[31m                                                  73 columns and 80 rows omitted\u001b[0m"
      ]
     },
     "execution_count": 24,
     "metadata": {},
     "output_type": "execute_result"
    }
   ],
   "source": [
    "output[\"genotypenumber_adult_female\"]"
   ]
  },
  {
   "cell_type": "markdown",
   "id": "interpreted-journal",
   "metadata": {},
   "source": [
    "\n",
    "###### Calculate additional metrics\n",
    "\n",
    "The output can be further processed to obtain allele frequencies, relative numbers of females and correlation between constructs through time."
   ]
  },
  {
   "cell_type": "code",
   "execution_count": 25,
   "id": "fewer-taste",
   "metadata": {},
   "outputs": [
    {
     "data": {
      "text/plain": [
       "Dict{String,DataFrame} with 29 entries:\n",
       "  \"allelefreq_zygote_female\"     => \u001b[1m101×6 DataFrame\u001b[0m…\n",
       "  \"correlation_zygote\"           => \u001b[1m101×1 DataFrame\u001b[0m…\n",
       "  \"allelefreq_pupae\"             => \u001b[1m101×6 DataFrame\u001b[0m…\n",
       "  \"allelefreq_adult_male\"        => \u001b[1m101×6 DataFrame\u001b[0m…\n",
       "  \"allelefreq_adult_female\"      => \u001b[1m101×6 DataFrame\u001b[0m…\n",
       "  \"genotypenumber_adult_female\"  => \u001b[1m101×78 DataFrame\u001b[0m…\n",
       "  \"allelefreq_pupae_female\"      => \u001b[1m101×6 DataFrame\u001b[0m…\n",
       "  \"genotypefreq_adult_female\"    => \u001b[1m101×78 DataFrame\u001b[0m…\n",
       "  \"genotypefreq_zygote_female\"   => \u001b[1m101×78 DataFrame\u001b[0m…\n",
       "  \"allelefreq_zygote\"            => \u001b[1m101×6 DataFrame\u001b[0m…\n",
       "  \"relative_number_females\"      => \u001b[1m101×2 DataFrame\u001b[0m…\n",
       "  \"allelefreq_zygote_male\"       => \u001b[1m101×6 DataFrame\u001b[0m…\n",
       "  \"genotypenumber_pupae_female\"  => \u001b[1m101×78 DataFrame\u001b[0m…\n",
       "  \"genotypenumber_zygote_male\"   => \u001b[1m101×78 DataFrame\u001b[0m…\n",
       "  \"genotypenumber_pupae_male\"    => \u001b[1m101×78 DataFrame\u001b[0m…\n",
       "  \"genotypenumber_zygote_female\" => \u001b[1m101×78 DataFrame\u001b[0m…\n",
       "  \"genotypefreq_adult_male\"      => \u001b[1m101×78 DataFrame\u001b[0m…\n",
       "  \"genotypefreq_zygote\"          => \u001b[1m101×78 DataFrame\u001b[0m…\n",
       "  \"number_females\"               => \u001b[1m101×2 DataFrame\u001b[0m…\n",
       "  \"allelefreq_adult\"             => \u001b[1m101×6 DataFrame\u001b[0m…\n",
       "  \"genotypefreq_pupae_male\"      => \u001b[1m101×78 DataFrame\u001b[0m…\n",
       "  \"genotypefreq_adult\"           => \u001b[1m101×78 DataFrame\u001b[0m…\n",
       "  \"genotypefreq_zygote_male\"     => \u001b[1m101×78 DataFrame\u001b[0m…\n",
       "  \"genotypefreq_pupae_female\"    => \u001b[1m101×78 DataFrame\u001b[0m…\n",
       "  \"genotypefreq_pupae\"           => \u001b[1m101×78 DataFrame\u001b[0m…\n",
       "  ⋮                              => ⋮"
      ]
     },
     "execution_count": 25,
     "metadata": {},
     "output_type": "execute_result"
    }
   ],
   "source": [
    "data_dict = Simulation_processing_wrapper(output)"
   ]
  },
  {
   "cell_type": "code",
   "execution_count": 26,
   "id": "alien-trust",
   "metadata": {},
   "outputs": [
    {
     "data": {
      "text/html": [
       "<table class=\"data-frame\"><thead><tr><th></th><th>pupae</th><th>adult</th></tr><tr><th></th><th>Float64</th><th>Float64</th></tr></thead><tbody><p>101 rows × 2 columns</p><tr><th>1</th><td>1.0</td><td>1.0</td></tr><tr><th>2</th><td>1.0</td><td>0.999972</td></tr><tr><th>3</th><td>0.999995</td><td>0.999941</td></tr><tr><th>4</th><td>0.99999</td><td>0.999886</td></tr><tr><th>5</th><td>0.999981</td><td>0.99978</td></tr><tr><th>6</th><td>0.999963</td><td>0.999568</td></tr><tr><th>7</th><td>0.999928</td><td>0.99913</td></tr><tr><th>8</th><td>0.999855</td><td>0.998176</td></tr><tr><th>9</th><td>0.999696</td><td>0.99596</td></tr><tr><th>10</th><td>0.999324</td><td>0.990486</td></tr><tr><th>11</th><td>0.998402</td><td>0.976461</td></tr><tr><th>12</th><td>0.995998</td><td>0.941042</td></tr><tr><th>13</th><td>0.989666</td><td>0.85911</td></tr><tr><th>14</th><td>0.973395</td><td>0.700546</td></tr><tr><th>15</th><td>0.933495</td><td>0.467869</td></tr><tr><th>16</th><td>0.840648</td><td>0.231797</td></tr><tr><th>17</th><td>0.644183</td><td>0.0779713</td></tr><tr><th>18</th><td>0.336602</td><td>0.0172235</td></tr><tr><th>19</th><td>0.0951472</td><td>0.00287949</td></tr><tr><th>20</th><td>0.0170317</td><td>0.00044167</td></tr><tr><th>21</th><td>0.00264418</td><td>6.66583e-5</td></tr><tr><th>22</th><td>0.000399816</td><td>1.00732e-5</td></tr><tr><th>23</th><td>6.04362e-5</td><td>1.53317e-6</td></tr><tr><th>24</th><td>9.19893e-6</td><td>2.36239e-7</td></tr><tr><th>25</th><td>1.41743e-6</td><td>3.71552e-8</td></tr><tr><th>26</th><td>2.22931e-7</td><td>6.05608e-9</td></tr><tr><th>27</th><td>3.63365e-8</td><td>1.05352e-9</td></tr><tr><th>28</th><td>6.3211e-9</td><td>2.06966e-10</td></tr><tr><th>29</th><td>1.2418e-9</td><td>5.06192e-11</td></tr><tr><th>30</th><td>3.03715e-10</td><td>1.74919e-11</td></tr><tr><th>&vellip;</th><td>&vellip;</td><td>&vellip;</td></tr></tbody></table>"
      ],
      "text/latex": [
       "\\begin{tabular}{r|cc}\n",
       "\t& pupae & adult\\\\\n",
       "\t\\hline\n",
       "\t& Float64 & Float64\\\\\n",
       "\t\\hline\n",
       "\t1 & 1.0 & 1.0 \\\\\n",
       "\t2 & 1.0 & 0.999972 \\\\\n",
       "\t3 & 0.999995 & 0.999941 \\\\\n",
       "\t4 & 0.99999 & 0.999886 \\\\\n",
       "\t5 & 0.999981 & 0.99978 \\\\\n",
       "\t6 & 0.999963 & 0.999568 \\\\\n",
       "\t7 & 0.999928 & 0.99913 \\\\\n",
       "\t8 & 0.999855 & 0.998176 \\\\\n",
       "\t9 & 0.999696 & 0.99596 \\\\\n",
       "\t10 & 0.999324 & 0.990486 \\\\\n",
       "\t11 & 0.998402 & 0.976461 \\\\\n",
       "\t12 & 0.995998 & 0.941042 \\\\\n",
       "\t13 & 0.989666 & 0.85911 \\\\\n",
       "\t14 & 0.973395 & 0.700546 \\\\\n",
       "\t15 & 0.933495 & 0.467869 \\\\\n",
       "\t16 & 0.840648 & 0.231797 \\\\\n",
       "\t17 & 0.644183 & 0.0779713 \\\\\n",
       "\t18 & 0.336602 & 0.0172235 \\\\\n",
       "\t19 & 0.0951472 & 0.00287949 \\\\\n",
       "\t20 & 0.0170317 & 0.00044167 \\\\\n",
       "\t21 & 0.00264418 & 6.66583e-5 \\\\\n",
       "\t22 & 0.000399816 & 1.00732e-5 \\\\\n",
       "\t23 & 6.04362e-5 & 1.53317e-6 \\\\\n",
       "\t24 & 9.19893e-6 & 2.36239e-7 \\\\\n",
       "\t25 & 1.41743e-6 & 3.71552e-8 \\\\\n",
       "\t26 & 2.22931e-7 & 6.05608e-9 \\\\\n",
       "\t27 & 3.63365e-8 & 1.05352e-9 \\\\\n",
       "\t28 & 6.3211e-9 & 2.06966e-10 \\\\\n",
       "\t29 & 1.2418e-9 & 5.06192e-11 \\\\\n",
       "\t30 & 3.03715e-10 & 1.74919e-11 \\\\\n",
       "\t$\\dots$ & $\\dots$ & $\\dots$ \\\\\n",
       "\\end{tabular}\n"
      ],
      "text/plain": [
       "\u001b[1m101×2 DataFrame\u001b[0m\n",
       "\u001b[1m Row \u001b[0m│\u001b[1m pupae    \u001b[0m\u001b[1m adult    \u001b[0m\n",
       "\u001b[1m     \u001b[0m│\u001b[90m Float64  \u001b[0m\u001b[90m Float64  \u001b[0m\n",
       "─────┼────────────────────\n",
       "   1 │ 1.0       1.0\n",
       "   2 │ 1.0       0.999972\n",
       "   3 │ 0.999995  0.999941\n",
       "   4 │ 0.99999   0.999886\n",
       "   5 │ 0.999981  0.99978\n",
       "   6 │ 0.999963  0.999568\n",
       "   7 │ 0.999928  0.99913\n",
       "   8 │ 0.999855  0.998176\n",
       "   9 │ 0.999696  0.99596\n",
       "  10 │ 0.999324  0.990486\n",
       "  11 │ 0.998402  0.976461\n",
       "  ⋮  │    ⋮         ⋮\n",
       "  92 │ 0.998972  0.994109\n",
       "  93 │ 0.999013  0.994342\n",
       "  94 │ 0.999053  0.994564\n",
       "  95 │ 0.99909   0.994773\n",
       "  96 │ 0.999125  0.994971\n",
       "  97 │ 0.999158  0.995159\n",
       "  98 │ 0.99919   0.995338\n",
       "  99 │ 0.99922   0.995507\n",
       " 100 │ 0.999248  0.995668\n",
       " 101 │ 0.999275  0.995821\n",
       "\u001b[31m           80 rows omitted\u001b[0m"
      ]
     },
     "execution_count": 26,
     "metadata": {},
     "output_type": "execute_result"
    }
   ],
   "source": [
    "data_dict[\"relative_number_females\"]"
   ]
  },
  {
   "cell_type": "markdown",
   "id": "amended-freight",
   "metadata": {
    "heading_collapsed": true
   },
   "source": [
    "## Double drive simulator with evolutionary stability"
   ]
  },
  {
   "cell_type": "code",
   "execution_count": 4,
   "id": "sunset-boutique",
   "metadata": {
    "code_folding": [],
    "hidden": true
   },
   "outputs": [],
   "source": [
    "#Load evolutionary stability model\n",
    "@nbinclude(\"DoubleDrive_Simulator_EvoStability.ipynb\");"
   ]
  },
  {
   "cell_type": "markdown",
   "id": "stretch-accessory",
   "metadata": {
    "hidden": true
   },
   "source": [
    "Here we use design 1 as an example with a neutral differentiated gene and a loss-of-function mutation rate = 0.001"
   ]
  },
  {
   "cell_type": "markdown",
   "id": "veterinary-links",
   "metadata": {
    "hidden": true
   },
   "source": [
    "\n",
    "###### Define design details."
   ]
  },
  {
   "cell_type": "markdown",
   "id": "weighted-restoration",
   "metadata": {
    "hidden": true
   },
   "source": [
    "Define the content of the constructs."
   ]
  },
  {
   "cell_type": "code",
   "execution_count": 5,
   "id": "shared-dragon",
   "metadata": {
    "hidden": true
   },
   "outputs": [
    {
     "data": {
      "text/plain": [
       "\"adult\""
      ]
     },
     "execution_count": 5,
     "metadata": {},
     "output_type": "execute_result"
    }
   ],
   "source": [
    "A_alleles_content,A_alleles_ir = Make_construct_content_dict(\"A\",[\"cas9\",\"Agrna\"],false)\n",
    "B_alleles_content,B_alleles_ir = Make_construct_content_dict(\"B\",[\"Bgrna\"],false)\n",
    "fitness_effect = \"adult\""
   ]
  },
  {
   "cell_type": "code",
   "execution_count": 6,
   "id": "extra-paste",
   "metadata": {
    "hidden": true
   },
   "outputs": [
    {
     "data": {
      "text/plain": [
       "Dict{Any,Any} with 5 entries:\n",
       "  \"A5\" => Any[]\n",
       "  \"A2\" => [\"cas9\", \"Agrna\"]\n",
       "  \"A3\" => [\"Agrna\"]\n",
       "  \"A1\" => Any[]\n",
       "  \"A4\" => [\"cas9\"]"
      ]
     },
     "execution_count": 6,
     "metadata": {},
     "output_type": "execute_result"
    }
   ],
   "source": [
    "#content dictionary \n",
    "A_alleles_content"
   ]
  },
  {
   "cell_type": "code",
   "execution_count": 7,
   "id": "ambient-headquarters",
   "metadata": {
    "hidden": true
   },
   "outputs": [
    {
     "data": {
      "text/plain": [
       "Dict{Any,Any} with 5 entries:\n",
       "  \"A5\" => \"disruption\"\n",
       "  \"A2\" => \"disruption\"\n",
       "  \"A3\" => \"disruption\"\n",
       "  \"A1\" => \"wt\"\n",
       "  \"A4\" => \"disruption\""
      ]
     },
     "execution_count": 7,
     "metadata": {},
     "output_type": "execute_result"
    }
   ],
   "source": [
    "#fitness type dictionary \n",
    "A_alleles_ir"
   ]
  },
  {
   "cell_type": "markdown",
   "id": "informational-grill",
   "metadata": {
    "hidden": true
   },
   "source": [
    "Define the lists of alleles and genotypes"
   ]
  },
  {
   "cell_type": "code",
   "execution_count": 8,
   "id": "convenient-intake",
   "metadata": {
    "hidden": true
   },
   "outputs": [],
   "source": [
    "A_alleles,\n",
    "B_alleles,\n",
    "alleles,\n",
    "A_genotypes,\n",
    "B_genotypes,\n",
    "genotypes = define_string_genotypes(length(A_alleles_content),length(B_alleles_content));"
   ]
  },
  {
   "cell_type": "markdown",
   "id": "thermal-laptop",
   "metadata": {
    "hidden": true
   },
   "source": [
    "\n",
    "###### Set parameters"
   ]
  },
  {
   "cell_type": "code",
   "execution_count": 9,
   "id": "behind-oriental",
   "metadata": {
    "hidden": true
   },
   "outputs": [
    {
     "data": {
      "text/plain": [
       "0.01"
      ]
     },
     "execution_count": 9,
     "metadata": {},
     "output_type": "execute_result"
    }
   ],
   "source": [
    "params = Initiate_baseline_parameters()\n",
    "\n",
    "#Fitness costs at the differentiated site remain zero since it is neutral\n",
    "#Fitness costs at the haplo-sufficient female specific gene\n",
    "params[\"sibf\"]=1.0 \n",
    "params[\"srbf\"]=1.0 \n",
    "params[\"sirbf\"] = 1.0\n",
    "\n",
    "#homing parameters\n",
    "params[\"caf\"] = 0.971\n",
    "params[\"jaf\"] = 0.019\n",
    "params[\"cam\"] = 0.971\n",
    "params[\"jam\"] = 0.019\n",
    "params[\"cbf\"] = 0.971\n",
    "params[\"jbf\"] = 0.019\n",
    "params[\"cbm\"] = 0.971\n",
    "params[\"jbm\"] = 0.019;\n",
    "\n",
    "#mutation rate\n",
    "params[\"daf\"] = 0.001\n",
    "params[\"dam\"] = 0.001\n",
    "params[\"dbf\"] = 0.001\n",
    "params[\"dbm\"] = 0.001\n",
    "\n",
    "#off target cleavage cost of 1%\n",
    "params[\"sHaf\"] = 0.01\n",
    "params[\"sHam\"] = 0.01\n",
    "params[\"sHbf\"] = 0.01\n",
    "params[\"sHbm\"] = 0.01"
   ]
  },
  {
   "cell_type": "markdown",
   "id": "ready-hampton",
   "metadata": {
    "hidden": true
   },
   "source": [
    "\n",
    "###### Define starting population\n",
    "\n",
    "Define the population pre-release:"
   ]
  },
  {
   "cell_type": "code",
   "execution_count": 10,
   "id": "intellectual-converter",
   "metadata": {
    "hidden": true
   },
   "outputs": [],
   "source": [
    "resistant_allele = \"A5\"\n",
    "resistant_freq = 0.01\n",
    "pre_pop = Initiate_prerelease_population_3lifestages(resistant_allele, \n",
    "                                                        resistant_freq, \n",
    "                                                        params, \n",
    "                                                        genotypes);"
   ]
  },
  {
   "cell_type": "markdown",
   "id": "thirty-cleanup",
   "metadata": {
    "hidden": true
   },
   "source": [
    "Release transgenic males:"
   ]
  },
  {
   "cell_type": "code",
   "execution_count": 11,
   "id": "bored-enhancement",
   "metadata": {
    "hidden": true
   },
   "outputs": [
    {
     "data": {
      "text/plain": [
       "120×6 Transpose{Float64,Array{Float64,2}}:\n",
       " 58806.0  58806.0  980.1  980.1  980.1  980.1\n",
       "     0.0      0.0    0.0    0.0    0.0    0.0\n",
       "     0.0      0.0    0.0    0.0    0.0    0.0\n",
       "     0.0      0.0    0.0    0.0    0.0    0.0\n",
       "     0.0      0.0    0.0    0.0    0.0    1.0\n",
       "     0.0      0.0    0.0    0.0    0.0    0.0\n",
       "     0.0      0.0    0.0    0.0    0.0    0.0\n",
       "     0.0      0.0    0.0    0.0    0.0    0.0\n",
       "     0.0      0.0    0.0    0.0    0.0    0.0\n",
       "     0.0      0.0    0.0    0.0    0.0    0.0\n",
       "     0.0      0.0    0.0    0.0    0.0    0.0\n",
       "     0.0      0.0    0.0    0.0    0.0    0.0\n",
       "  1188.0   1188.0   19.8   19.8   19.8   19.8\n",
       "     ⋮                                    ⋮\n",
       "     0.0      0.0    0.0    0.0    0.0    0.0\n",
       "     0.0      0.0    0.0    0.0    0.0    0.0\n",
       "     0.0      0.0    0.0    0.0    0.0    0.0\n",
       "     0.0      0.0    0.0    0.0    0.0    0.0\n",
       "     0.0      0.0    0.0    0.0    0.0    0.0\n",
       "     0.0      0.0    0.0    0.0    0.0    0.0\n",
       "     6.0      6.0    0.1    0.1    0.1    0.1\n",
       "     0.0      0.0    0.0    0.0    0.0    0.0\n",
       "     0.0      0.0    0.0    0.0    0.0    0.0\n",
       "     0.0      0.0    0.0    0.0    0.0    0.0\n",
       "     0.0      0.0    0.0    0.0    0.0    0.0\n",
       "     0.0      0.0    0.0    0.0    0.0    0.0"
      ]
     },
     "execution_count": 11,
     "metadata": {},
     "output_type": "execute_result"
    }
   ],
   "source": [
    "transgenic_genotype = [\"A1\" \"A2\"; \"B1\" \"B2\"]\n",
    "release_freq = 0.001\n",
    "starting_population_post_release = release_transgenic_males(\n",
    "    pre_pop,\n",
    "    transgenic_genotype,\n",
    "    release_freq)"
   ]
  },
  {
   "cell_type": "markdown",
   "id": "supreme-viewer",
   "metadata": {
    "hidden": true
   },
   "source": [
    "The order of genotypes is as in the variable 'genotypes'"
   ]
  },
  {
   "cell_type": "code",
   "execution_count": 12,
   "id": "olympic-middle",
   "metadata": {
    "hidden": true
   },
   "outputs": [
    {
     "data": {
      "text/plain": [
       "120-element Array{Any,1}:\n",
       " [\"A1\" \"A1\"; \"B1\" \"B1\"]\n",
       " [\"A1\" \"A1\"; \"B1\" \"B2\"]\n",
       " [\"A1\" \"A1\"; \"B1\" \"B3\"]\n",
       " [\"A1\" \"A2\"; \"B1\" \"B1\"]\n",
       " [\"A1\" \"A2\"; \"B1\" \"B2\"]\n",
       " [\"A1\" \"A2\"; \"B1\" \"B3\"]\n",
       " [\"A1\" \"A3\"; \"B1\" \"B1\"]\n",
       " [\"A1\" \"A3\"; \"B1\" \"B2\"]\n",
       " [\"A1\" \"A3\"; \"B1\" \"B3\"]\n",
       " [\"A1\" \"A4\"; \"B1\" \"B1\"]\n",
       " [\"A1\" \"A4\"; \"B1\" \"B2\"]\n",
       " [\"A1\" \"A4\"; \"B1\" \"B3\"]\n",
       " [\"A1\" \"A5\"; \"B1\" \"B1\"]\n",
       " ⋮\n",
       " [\"A4\" \"A5\"; \"B2\" \"B2\"]\n",
       " [\"A4\" \"A5\"; \"B2\" \"B3\"]\n",
       " [\"A4\" \"A4\"; \"B3\" \"B3\"]\n",
       " [\"A4\" \"A5\"; \"B3\" \"B1\"]\n",
       " [\"A4\" \"A5\"; \"B3\" \"B2\"]\n",
       " [\"A4\" \"A5\"; \"B3\" \"B3\"]\n",
       " [\"A5\" \"A5\"; \"B1\" \"B1\"]\n",
       " [\"A5\" \"A5\"; \"B1\" \"B2\"]\n",
       " [\"A5\" \"A5\"; \"B1\" \"B3\"]\n",
       " [\"A5\" \"A5\"; \"B2\" \"B2\"]\n",
       " [\"A5\" \"A5\"; \"B2\" \"B3\"]\n",
       " [\"A5\" \"A5\"; \"B3\" \"B3\"]"
      ]
     },
     "execution_count": 12,
     "metadata": {},
     "output_type": "execute_result"
    }
   ],
   "source": [
    "genotypes"
   ]
  },
  {
   "cell_type": "markdown",
   "id": "double-pastor",
   "metadata": {
    "hidden": true
   },
   "source": [
    "\n",
    "###### Build matrices\n",
    "\n",
    "Based in the design details, a list of matrices required for simulation are generated. These include:  \n",
    "* fitness matrix \n",
    "* male homing matrix \n",
    "* female homing matrix\n",
    "* recombination matrix \n",
    "* sex ratio matrix"
   ]
  },
  {
   "cell_type": "code",
   "execution_count": 13,
   "id": "established-confidence",
   "metadata": {
    "hidden": true
   },
   "outputs": [],
   "source": [
    "matrices = make_matrices(params,\n",
    "                        genotypes,\n",
    "                        alleles,\n",
    "                        A_alleles_content,\n",
    "                        A_alleles_ir,\n",
    "                        A_genotypes,\n",
    "                        B_alleles_content,\n",
    "                        B_alleles_ir,\n",
    "                        B_genotypes);"
   ]
  },
  {
   "cell_type": "markdown",
   "id": "rental-elite",
   "metadata": {
    "hidden": true
   },
   "source": [
    "\n",
    "###### Simulate time series\n",
    "\n",
    "The parameters, matrices, fitness effect and starting population is used to simulate t generations. "
   ]
  },
  {
   "cell_type": "code",
   "execution_count": 14,
   "id": "turkish-organizer",
   "metadata": {
    "hidden": true
   },
   "outputs": [
    {
     "data": {
      "text/plain": [
       "Dict{String,DataFrame} with 8 entries:\n",
       "  \"genotypenumber_pupae_female\"  => \u001b[1m101×120 DataFrame\u001b[0m…\n",
       "  \"genotypenumber_adult_female\"  => \u001b[1m101×120 DataFrame\u001b[0m…\n",
       "  \"genotypenumber_zygote_male\"   => \u001b[1m101×120 DataFrame\u001b[0m…\n",
       "  \"genotypenumber_pupae_male\"    => \u001b[1m101×120 DataFrame\u001b[0m…\n",
       "  \"genotypenumber_zygote_female\" => \u001b[1m101×120 DataFrame\u001b[0m…\n",
       "  \"eggnumber\"                    => \u001b[1m101×15 DataFrame\u001b[0m…\n",
       "  \"genotypenumber_adult_male\"    => \u001b[1m101×120 DataFrame\u001b[0m…\n",
       "  \"spermfreq\"                    => \u001b[1m101×30 DataFrame\u001b[0m…"
      ]
     },
     "execution_count": 14,
     "metadata": {},
     "output_type": "execute_result"
    }
   ],
   "source": [
    "t=100\n",
    "output = Simulate_timeseries(\n",
    "                    params,\n",
    "                    matrices,\n",
    "                    fitness_effect,\n",
    "                    t,\n",
    "                    starting_population_post_release,\n",
    "                    genotypes,\n",
    "                    alleles)"
   ]
  },
  {
   "cell_type": "markdown",
   "id": "given-effort",
   "metadata": {
    "hidden": true
   },
   "source": [
    "The output is a dictionary containing numbers of each genotype and gamete through time. "
   ]
  },
  {
   "cell_type": "code",
   "execution_count": 17,
   "id": "coordinate-charity",
   "metadata": {
    "hidden": true
   },
   "outputs": [
    {
     "data": {
      "text/html": [
       "<table class=\"data-frame\"><thead><tr><th></th><th>A1B1A1B1</th><th>A1B1A1B2</th><th>A1B1A1B3</th><th>A1B1A2B1</th><th>A1B1A2B2</th><th>A1B1A2B3</th><th>A1B1A3B1</th></tr><tr><th></th><th>Float64</th><th>Float64</th><th>Float64</th><th>Float64</th><th>Float64</th><th>Float64</th><th>Float64</th></tr></thead><tbody><p>101 rows × 120 columns (omitted printing of 113 columns)</p><tr><th>1</th><td>980.1</td><td>0.0</td><td>0.0</td><td>0.0</td><td>0.0</td><td>0.0</td><td>0.0</td></tr><tr><th>2</th><td>979.121</td><td>0.0139936</td><td>0.000139116</td><td>0.0138469</td><td>0.92253</td><td>0.00926385</td><td>6.82327e-6</td></tr><tr><th>3</th><td>978.197</td><td>0.0447991</td><td>0.000580477</td><td>0.0611593</td><td>1.71102</td><td>0.0260745</td><td>0.000268451</td></tr><tr><th>4</th><td>976.438</td><td>0.108922</td><td>0.00166706</td><td>0.189919</td><td>3.17154</td><td>0.056861</td><td>0.000905928</td></tr><tr><th>5</th><td>973.099</td><td>0.231089</td><td>0.0039362</td><td>0.506237</td><td>5.87066</td><td>0.113424</td><td>0.0022191</td></tr><tr><th>6</th><td>966.78</td><td>0.457739</td><td>0.0083607</td><td>1.23732</td><td>10.8388</td><td>0.217219</td><td>0.00481459</td></tr><tr><th>7</th><td>954.887</td><td>0.87201</td><td>0.0166657</td><td>2.8531</td><td>19.9144</td><td>0.406526</td><td>0.00985156</td></tr><tr><th>8</th><td>932.72</td><td>1.61532</td><td>0.0317799</td><td>6.28041</td><td>36.2585</td><td>0.747167</td><td>0.0194423</td></tr><tr><th>9</th><td>892.163</td><td>2.90642</td><td>0.0582338</td><td>13.2058</td><td>64.9102</td><td>1.34406</td><td>0.03714</td></tr><tr><th>10</th><td>820.471</td><td>5.0145</td><td>0.101614</td><td>26.2334</td><td>112.633</td><td>2.33806</td><td>0.0679558</td></tr><tr><th>11</th><td>701.522</td><td>8.05974</td><td>0.164454</td><td>47.9054</td><td>184.662</td><td>3.83818</td><td>0.115918</td></tr><tr><th>12</th><td>525.379</td><td>11.4371</td><td>0.23434</td><td>76.2859</td><td>273.766</td><td>5.694</td><td>0.175115</td></tr><tr><th>13</th><td>311.251</td><td>13.0718</td><td>0.268501</td><td>96.6492</td><td>341.759</td><td>7.11068</td><td>0.214597</td></tr><tr><th>14</th><td>123.622</td><td>10.3943</td><td>0.213819</td><td>84.0491</td><td>322.761</td><td>6.71669</td><td>0.185627</td></tr><tr><th>15</th><td>25.5246</td><td>4.62469</td><td>0.0952161</td><td>40.2214</td><td>198.915</td><td>4.13995</td><td>0.0923405</td></tr><tr><th>16</th><td>1.91432</td><td>0.857067</td><td>0.0176547</td><td>7.84507</td><td>66.5445</td><td>1.38511</td><td>0.0200796</td></tr><tr><th>17</th><td>0.0370301</td><td>0.0495697</td><td>0.00102137</td><td>0.468396</td><td>10.3141</td><td>0.21471</td><td>0.0014715</td></tr><tr><th>18</th><td>0.000261423</td><td>0.00104183</td><td>2.147e-5</td><td>0.0104633</td><td>0.866782</td><td>0.018046</td><td>4.42087e-5</td></tr><tr><th>19</th><td>2.31948e-6</td><td>1.85869e-5</td><td>3.83083e-7</td><td>0.000229229</td><td>0.0651358</td><td>0.00135625</td><td>1.39926e-6</td></tr><tr><th>20</th><td>5.11378e-8</td><td>5.07364e-7</td><td>1.0458e-8</td><td>9.94591e-6</td><td>0.0055169</td><td>0.000114882</td><td>9.46447e-8</td></tr><tr><th>21</th><td>2.75832e-9</td><td>2.53516e-8</td><td>5.22596e-10</td><td>8.60042e-7</td><td>0.00057335</td><td>1.19401e-5</td><td>1.40567e-8</td></tr><tr><th>22</th><td>2.8809e-10</td><td>2.2739e-9</td><td>4.68771e-11</td><td>1.17349e-7</td><td>7.7239e-5</td><td>1.60861e-6</td><td>3.67184e-9</td></tr><tr><th>23</th><td>5.40167e-11</td><td>3.62314e-10</td><td>7.46958e-12</td><td>2.39943e-8</td><td>1.4121e-5</td><td>2.94103e-7</td><td>1.57637e-9</td></tr><tr><th>24</th><td>1.79426e-11</td><td>1.02821e-10</td><td>2.11988e-12</td><td>7.7642e-9</td><td>3.65792e-6</td><td>7.61869e-8</td><td>1.1054e-9</td></tr><tr><th>25</th><td>1.00548e-11</td><td>4.97288e-11</td><td>1.02529e-12</td><td>4.14646e-9</td><td>1.3912e-6</td><td>2.89763e-8</td><td>1.20868e-9</td></tr><tr><th>26</th><td>8.68332e-12</td><td>3.72913e-11</td><td>7.68874e-13</td><td>3.51115e-9</td><td>7.89219e-7</td><td>1.64381e-8</td><td>1.87061e-9</td></tr><tr><th>27</th><td>1.06412e-11</td><td>3.95218e-11</td><td>8.14865e-13</td><td>4.32225e-9</td><td>6.57527e-7</td><td>1.3695e-8</td><td>3.73133e-9</td></tr><tr><th>28</th><td>1.74976e-11</td><td>5.5761e-11</td><td>1.14968e-12</td><td>7.15105e-9</td><td>7.70195e-7</td><td>1.60413e-8</td><td>9.05663e-9</td></tr><tr><th>29</th><td>3.68065e-11</td><td>1.00451e-10</td><td>2.07108e-12</td><td>1.49463e-8</td><td>1.19711e-6</td><td>2.49319e-8</td><td>2.58395e-8</td></tr><tr><th>30</th><td>9.45699e-11</td><td>2.22133e-10</td><td>4.57986e-12</td><td>3.75778e-8</td><td>2.33316e-6</td><td>4.85902e-8</td><td>8.4279e-8</td></tr><tr><th>&vellip;</th><td>&vellip;</td><td>&vellip;</td><td>&vellip;</td><td>&vellip;</td><td>&vellip;</td><td>&vellip;</td><td>&vellip;</td></tr></tbody></table>"
      ],
      "text/latex": [
       "\\begin{tabular}{r|cccccccc}\n",
       "\t& A1B1A1B1 & A1B1A1B2 & A1B1A1B3 & A1B1A2B1 & A1B1A2B2 & A1B1A2B3 & A1B1A3B1 & \\\\\n",
       "\t\\hline\n",
       "\t& Float64 & Float64 & Float64 & Float64 & Float64 & Float64 & Float64 & \\\\\n",
       "\t\\hline\n",
       "\t1 & 980.1 & 0.0 & 0.0 & 0.0 & 0.0 & 0.0 & 0.0 & $\\dots$ \\\\\n",
       "\t2 & 979.121 & 0.0139936 & 0.000139116 & 0.0138469 & 0.92253 & 0.00926385 & 6.82327e-6 & $\\dots$ \\\\\n",
       "\t3 & 978.197 & 0.0447991 & 0.000580477 & 0.0611593 & 1.71102 & 0.0260745 & 0.000268451 & $\\dots$ \\\\\n",
       "\t4 & 976.438 & 0.108922 & 0.00166706 & 0.189919 & 3.17154 & 0.056861 & 0.000905928 & $\\dots$ \\\\\n",
       "\t5 & 973.099 & 0.231089 & 0.0039362 & 0.506237 & 5.87066 & 0.113424 & 0.0022191 & $\\dots$ \\\\\n",
       "\t6 & 966.78 & 0.457739 & 0.0083607 & 1.23732 & 10.8388 & 0.217219 & 0.00481459 & $\\dots$ \\\\\n",
       "\t7 & 954.887 & 0.87201 & 0.0166657 & 2.8531 & 19.9144 & 0.406526 & 0.00985156 & $\\dots$ \\\\\n",
       "\t8 & 932.72 & 1.61532 & 0.0317799 & 6.28041 & 36.2585 & 0.747167 & 0.0194423 & $\\dots$ \\\\\n",
       "\t9 & 892.163 & 2.90642 & 0.0582338 & 13.2058 & 64.9102 & 1.34406 & 0.03714 & $\\dots$ \\\\\n",
       "\t10 & 820.471 & 5.0145 & 0.101614 & 26.2334 & 112.633 & 2.33806 & 0.0679558 & $\\dots$ \\\\\n",
       "\t11 & 701.522 & 8.05974 & 0.164454 & 47.9054 & 184.662 & 3.83818 & 0.115918 & $\\dots$ \\\\\n",
       "\t12 & 525.379 & 11.4371 & 0.23434 & 76.2859 & 273.766 & 5.694 & 0.175115 & $\\dots$ \\\\\n",
       "\t13 & 311.251 & 13.0718 & 0.268501 & 96.6492 & 341.759 & 7.11068 & 0.214597 & $\\dots$ \\\\\n",
       "\t14 & 123.622 & 10.3943 & 0.213819 & 84.0491 & 322.761 & 6.71669 & 0.185627 & $\\dots$ \\\\\n",
       "\t15 & 25.5246 & 4.62469 & 0.0952161 & 40.2214 & 198.915 & 4.13995 & 0.0923405 & $\\dots$ \\\\\n",
       "\t16 & 1.91432 & 0.857067 & 0.0176547 & 7.84507 & 66.5445 & 1.38511 & 0.0200796 & $\\dots$ \\\\\n",
       "\t17 & 0.0370301 & 0.0495697 & 0.00102137 & 0.468396 & 10.3141 & 0.21471 & 0.0014715 & $\\dots$ \\\\\n",
       "\t18 & 0.000261423 & 0.00104183 & 2.147e-5 & 0.0104633 & 0.866782 & 0.018046 & 4.42087e-5 & $\\dots$ \\\\\n",
       "\t19 & 2.31948e-6 & 1.85869e-5 & 3.83083e-7 & 0.000229229 & 0.0651358 & 0.00135625 & 1.39926e-6 & $\\dots$ \\\\\n",
       "\t20 & 5.11378e-8 & 5.07364e-7 & 1.0458e-8 & 9.94591e-6 & 0.0055169 & 0.000114882 & 9.46447e-8 & $\\dots$ \\\\\n",
       "\t21 & 2.75832e-9 & 2.53516e-8 & 5.22596e-10 & 8.60042e-7 & 0.00057335 & 1.19401e-5 & 1.40567e-8 & $\\dots$ \\\\\n",
       "\t22 & 2.8809e-10 & 2.2739e-9 & 4.68771e-11 & 1.17349e-7 & 7.7239e-5 & 1.60861e-6 & 3.67184e-9 & $\\dots$ \\\\\n",
       "\t23 & 5.40167e-11 & 3.62314e-10 & 7.46958e-12 & 2.39943e-8 & 1.4121e-5 & 2.94103e-7 & 1.57637e-9 & $\\dots$ \\\\\n",
       "\t24 & 1.79426e-11 & 1.02821e-10 & 2.11988e-12 & 7.7642e-9 & 3.65792e-6 & 7.61869e-8 & 1.1054e-9 & $\\dots$ \\\\\n",
       "\t25 & 1.00548e-11 & 4.97288e-11 & 1.02529e-12 & 4.14646e-9 & 1.3912e-6 & 2.89763e-8 & 1.20868e-9 & $\\dots$ \\\\\n",
       "\t26 & 8.68332e-12 & 3.72913e-11 & 7.68874e-13 & 3.51115e-9 & 7.89219e-7 & 1.64381e-8 & 1.87061e-9 & $\\dots$ \\\\\n",
       "\t27 & 1.06412e-11 & 3.95218e-11 & 8.14865e-13 & 4.32225e-9 & 6.57527e-7 & 1.3695e-8 & 3.73133e-9 & $\\dots$ \\\\\n",
       "\t28 & 1.74976e-11 & 5.5761e-11 & 1.14968e-12 & 7.15105e-9 & 7.70195e-7 & 1.60413e-8 & 9.05663e-9 & $\\dots$ \\\\\n",
       "\t29 & 3.68065e-11 & 1.00451e-10 & 2.07108e-12 & 1.49463e-8 & 1.19711e-6 & 2.49319e-8 & 2.58395e-8 & $\\dots$ \\\\\n",
       "\t30 & 9.45699e-11 & 2.22133e-10 & 4.57986e-12 & 3.75778e-8 & 2.33316e-6 & 4.85902e-8 & 8.4279e-8 & $\\dots$ \\\\\n",
       "\t$\\dots$ & $\\dots$ & $\\dots$ & $\\dots$ & $\\dots$ & $\\dots$ & $\\dots$ & $\\dots$ &  \\\\\n",
       "\\end{tabular}\n"
      ],
      "text/plain": [
       "\u001b[1m101×120 DataFrame\u001b[0m\n",
       "\u001b[1m Row \u001b[0m│\u001b[1m A1B1A1B1     \u001b[0m\u001b[1m A1B1A1B2    \u001b[0m\u001b[1m A1B1A1B3    \u001b[0m\u001b[1m A1B1A2B1    \u001b[0m\u001b[1m A1B1A2B2     \u001b[0m\u001b[1m A1B1\u001b[0m ⋯\n",
       "\u001b[1m     \u001b[0m│\u001b[90m Float64      \u001b[0m\u001b[90m Float64     \u001b[0m\u001b[90m Float64     \u001b[0m\u001b[90m Float64     \u001b[0m\u001b[90m Float64      \u001b[0m\u001b[90m Floa\u001b[0m ⋯\n",
       "─────┼──────────────────────────────────────────────────────────────────────────\n",
       "   1 │ 980.1          0.0         0.0           0.0           0.0         0.0  ⋯\n",
       "   2 │ 979.121        0.0139936   0.000139116   0.0138469     0.92253     0.00\n",
       "   3 │ 978.197        0.0447991   0.000580477   0.0611593     1.71102     0.02\n",
       "   4 │ 976.438        0.108922    0.00166706    0.189919      3.17154     0.05\n",
       "   5 │ 973.099        0.231089    0.0039362     0.506237      5.87066     0.11 ⋯\n",
       "   6 │ 966.78         0.457739    0.0083607     1.23732      10.8388      0.21\n",
       "   7 │ 954.887        0.87201     0.0166657     2.8531       19.9144      0.40\n",
       "   8 │ 932.72         1.61532     0.0317799     6.28041      36.2585      0.74\n",
       "   9 │ 892.163        2.90642     0.0582338    13.2058       64.9102      1.34 ⋯\n",
       "  10 │ 820.471        5.0145      0.101614     26.2334      112.633       2.33\n",
       "  11 │ 701.522        8.05974     0.164454     47.9054      184.662       3.83\n",
       "  ⋮  │      ⋮             ⋮            ⋮            ⋮            ⋮             ⋱\n",
       "  92 │   4.01458e-7   4.94414e-8  1.01895e-9    1.46201e-5    2.82071e-5  5.87\n",
       "  93 │   4.01577e-7   4.85443e-8  1.00046e-9    1.42941e-5    2.70573e-5  5.63 ⋯\n",
       "  94 │   4.01694e-7   4.7676e-8   9.8256e-10    1.39784e-5    2.59672e-5  5.40\n",
       "  95 │   4.01807e-7   4.6835e-8   9.65228e-10   1.36724e-5    2.49328e-5  5.18\n",
       "  96 │   4.01919e-7   4.60203e-8  9.48436e-10   1.33757e-5    2.39508e-5  4.98\n",
       "  97 │   4.02027e-7   4.52306e-8  9.3216e-10    1.3088e-5     2.30178e-5  4.79 ⋯\n",
       "  98 │   4.02134e-7   4.44648e-8  9.16377e-10   1.28088e-5    2.21308e-5  4.60\n",
       "  99 │   4.02238e-7   4.37219e-8  9.01066e-10   1.25378e-5    2.1287e-5   4.43\n",
       " 100 │   4.0234e-7    4.30009e-8  8.86206e-10   1.22747e-5    2.04838e-5  4.26\n",
       " 101 │   4.0244e-7    4.23009e-8  8.71778e-10   1.20192e-5    1.97189e-5  4.10 ⋯\n",
       "\u001b[31m                                                 115 columns and 80 rows omitted\u001b[0m"
      ]
     },
     "execution_count": 17,
     "metadata": {},
     "output_type": "execute_result"
    }
   ],
   "source": [
    "output[\"genotypenumber_adult_female\"]"
   ]
  },
  {
   "cell_type": "markdown",
   "id": "identical-parameter",
   "metadata": {
    "hidden": true
   },
   "source": [
    "\n",
    "###### Calculate additional metrics\n",
    "\n",
    "The output can be further processed to obtain allele frequencies, relative numbers of females and correlation between constructs through time."
   ]
  },
  {
   "cell_type": "code",
   "execution_count": 18,
   "id": "marked-audience",
   "metadata": {
    "hidden": true
   },
   "outputs": [
    {
     "data": {
      "text/plain": [
       "Dict{String,DataFrame} with 23 entries:\n",
       "  \"correlation_zygote\"           => \u001b[1m101×1 DataFrame\u001b[0m…\n",
       "  \"allelefreq_pupae\"             => \u001b[1m101×8 DataFrame\u001b[0m…\n",
       "  \"genotypenumber_adult_female\"  => \u001b[1m101×120 DataFrame\u001b[0m…\n",
       "  \"genotypefreq_adult_female\"    => \u001b[1m101×120 DataFrame\u001b[0m…\n",
       "  \"genotypefreq_zygote_female\"   => \u001b[1m101×120 DataFrame\u001b[0m…\n",
       "  \"allelefreq_zygote\"            => \u001b[1m101×8 DataFrame\u001b[0m…\n",
       "  \"relative_number_females\"      => \u001b[1m101×2 DataFrame\u001b[0m…\n",
       "  \"genotypenumber_pupae_female\"  => \u001b[1m101×120 DataFrame\u001b[0m…\n",
       "  \"genotypenumber_zygote_male\"   => \u001b[1m101×120 DataFrame\u001b[0m…\n",
       "  \"genotypenumber_pupae_male\"    => \u001b[1m101×120 DataFrame\u001b[0m…\n",
       "  \"genotypenumber_zygote_female\" => \u001b[1m101×120 DataFrame\u001b[0m…\n",
       "  \"genotypefreq_adult_male\"      => \u001b[1m101×120 DataFrame\u001b[0m…\n",
       "  \"genotypefreq_zygote\"          => \u001b[1m101×120 DataFrame\u001b[0m…\n",
       "  \"number_females\"               => \u001b[1m101×2 DataFrame\u001b[0m…\n",
       "  \"allelefreq_adult\"             => \u001b[1m101×8 DataFrame\u001b[0m…\n",
       "  \"genotypefreq_pupae_male\"      => \u001b[1m101×120 DataFrame\u001b[0m…\n",
       "  \"genotypefreq_adult\"           => \u001b[1m101×120 DataFrame\u001b[0m…\n",
       "  \"genotypefreq_zygote_male\"     => \u001b[1m101×120 DataFrame\u001b[0m…\n",
       "  \"genotypefreq_pupae_female\"    => \u001b[1m101×120 DataFrame\u001b[0m…\n",
       "  \"genotypefreq_pupae\"           => \u001b[1m101×120 DataFrame\u001b[0m…\n",
       "  \"correlation_pupae\"            => \u001b[1m101×1 DataFrame\u001b[0m…\n",
       "  \"genotypenumber_adult_male\"    => \u001b[1m101×120 DataFrame\u001b[0m…\n",
       "  \"correlation_adult\"            => \u001b[1m101×1 DataFrame\u001b[0m…"
      ]
     },
     "execution_count": 18,
     "metadata": {},
     "output_type": "execute_result"
    }
   ],
   "source": [
    "data_dict = Simulation_processing_wrapper(output,A_alleles,B_alleles,alleles,genotypes)"
   ]
  },
  {
   "cell_type": "code",
   "execution_count": 19,
   "id": "lightweight-bridal",
   "metadata": {
    "hidden": true,
    "scrolled": false
   },
   "outputs": [
    {
     "data": {
      "text/html": [
       "<table class=\"data-frame\"><thead><tr><th></th><th>pupae</th><th>adult</th></tr><tr><th></th><th>Float64</th><th>Float64</th></tr></thead><tbody><p>101 rows × 2 columns</p><tr><th>1</th><td>1.0</td><td>1.0</td></tr><tr><th>2</th><td>1.0</td><td>0.999981</td></tr><tr><th>3</th><td>0.999997</td><td>0.99996</td></tr><tr><th>4</th><td>0.999993</td><td>0.999923</td></tr><tr><th>5</th><td>0.999987</td><td>0.99985</td></tr><tr><th>6</th><td>0.999975</td><td>0.9997</td></tr><tr><th>7</th><td>0.99995</td><td>0.99938</td></tr><tr><th>8</th><td>0.999897</td><td>0.998644</td></tr><tr><th>9</th><td>0.999774</td><td>0.996827</td></tr><tr><th>10</th><td>0.99947</td><td>0.992062</td></tr><tr><th>11</th><td>0.998668</td><td>0.979248</td></tr><tr><th>12</th><td>0.996481</td><td>0.945817</td></tr><tr><th>13</th><td>0.990543</td><td>0.867055</td></tr><tr><th>14</th><td>0.975082</td><td>0.7132</td></tr><tr><th>15</th><td>0.937188</td><td>0.485539</td></tr><tr><th>16</th><td>0.84991</td><td>0.250224</td></tr><tr><th>17</th><td>0.666932</td><td>0.0903585</td></tr><tr><th>18</th><td>0.373436</td><td>0.0222147</td></tr><tr><th>19</th><td>0.119964</td><td>0.00423324</td></tr><tr><th>20</th><td>0.024873</td><td>0.000770556</td></tr><tr><th>21</th><td>0.00460559</td><td>0.000151798</td></tr><tr><th>22</th><td>0.000910095</td><td>3.60161e-5</td></tr><tr><th>23</th><td>0.000216057</td><td>1.16819e-5</td></tr><tr><th>24</th><td>7.00875e-5</td><td>5.75615e-6</td></tr><tr><th>25</th><td>3.45359e-5</td><td>4.43224e-6</td></tr><tr><th>26</th><td>2.65928e-5</td><td>5.1145e-6</td></tr><tr><th>27</th><td>3.06862e-5</td><td>8.22758e-6</td></tr><tr><th>28</th><td>4.93634e-5</td><td>1.71888e-5</td></tr><tr><th>29</th><td>0.000103124</td><td>4.40328e-5</td></tr><tr><th>30</th><td>0.000264139</td><td>0.000132304</td></tr><tr><th>&vellip;</th><td>&vellip;</td><td>&vellip;</td></tr></tbody></table>"
      ],
      "text/latex": [
       "\\begin{tabular}{r|cc}\n",
       "\t& pupae & adult\\\\\n",
       "\t\\hline\n",
       "\t& Float64 & Float64\\\\\n",
       "\t\\hline\n",
       "\t1 & 1.0 & 1.0 \\\\\n",
       "\t2 & 1.0 & 0.999981 \\\\\n",
       "\t3 & 0.999997 & 0.99996 \\\\\n",
       "\t4 & 0.999993 & 0.999923 \\\\\n",
       "\t5 & 0.999987 & 0.99985 \\\\\n",
       "\t6 & 0.999975 & 0.9997 \\\\\n",
       "\t7 & 0.99995 & 0.99938 \\\\\n",
       "\t8 & 0.999897 & 0.998644 \\\\\n",
       "\t9 & 0.999774 & 0.996827 \\\\\n",
       "\t10 & 0.99947 & 0.992062 \\\\\n",
       "\t11 & 0.998668 & 0.979248 \\\\\n",
       "\t12 & 0.996481 & 0.945817 \\\\\n",
       "\t13 & 0.990543 & 0.867055 \\\\\n",
       "\t14 & 0.975082 & 0.7132 \\\\\n",
       "\t15 & 0.937188 & 0.485539 \\\\\n",
       "\t16 & 0.84991 & 0.250224 \\\\\n",
       "\t17 & 0.666932 & 0.0903585 \\\\\n",
       "\t18 & 0.373436 & 0.0222147 \\\\\n",
       "\t19 & 0.119964 & 0.00423324 \\\\\n",
       "\t20 & 0.024873 & 0.000770556 \\\\\n",
       "\t21 & 0.00460559 & 0.000151798 \\\\\n",
       "\t22 & 0.000910095 & 3.60161e-5 \\\\\n",
       "\t23 & 0.000216057 & 1.16819e-5 \\\\\n",
       "\t24 & 7.00875e-5 & 5.75615e-6 \\\\\n",
       "\t25 & 3.45359e-5 & 4.43224e-6 \\\\\n",
       "\t26 & 2.65928e-5 & 5.1145e-6 \\\\\n",
       "\t27 & 3.06862e-5 & 8.22758e-6 \\\\\n",
       "\t28 & 4.93634e-5 & 1.71888e-5 \\\\\n",
       "\t29 & 0.000103124 & 4.40328e-5 \\\\\n",
       "\t30 & 0.000264139 & 0.000132304 \\\\\n",
       "\t$\\dots$ & $\\dots$ & $\\dots$ \\\\\n",
       "\\end{tabular}\n"
      ],
      "text/plain": [
       "\u001b[1m101×2 DataFrame\u001b[0m\n",
       "\u001b[1m Row \u001b[0m│\u001b[1m pupae    \u001b[0m\u001b[1m adult    \u001b[0m\n",
       "\u001b[1m     \u001b[0m│\u001b[90m Float64  \u001b[0m\u001b[90m Float64  \u001b[0m\n",
       "─────┼────────────────────\n",
       "   1 │ 1.0       1.0\n",
       "   2 │ 1.0       0.999981\n",
       "   3 │ 0.999997  0.99996\n",
       "   4 │ 0.999993  0.999923\n",
       "   5 │ 0.999987  0.99985\n",
       "   6 │ 0.999975  0.9997\n",
       "   7 │ 0.99995   0.99938\n",
       "   8 │ 0.999897  0.998644\n",
       "   9 │ 0.999774  0.996827\n",
       "  10 │ 0.99947   0.992062\n",
       "  11 │ 0.998668  0.979248\n",
       "  ⋮  │    ⋮         ⋮\n",
       "  92 │ 0.99921   0.995452\n",
       "  93 │ 0.999239  0.995615\n",
       "  94 │ 0.999267  0.995771\n",
       "  95 │ 0.999293  0.995918\n",
       "  96 │ 0.999317  0.996059\n",
       "  97 │ 0.999341  0.996193\n",
       "  98 │ 0.999363  0.99632\n",
       "  99 │ 0.999385  0.996442\n",
       " 100 │ 0.999405  0.996559\n",
       " 101 │ 0.999425  0.99667\n",
       "\u001b[31m           80 rows omitted\u001b[0m"
      ]
     },
     "execution_count": 19,
     "metadata": {},
     "output_type": "execute_result"
    }
   ],
   "source": [
    "data_dict[\"relative_number_females\"]"
   ]
  }
 ],
 "metadata": {
  "@webio": {
   "lastCommId": null,
   "lastKernelId": null
  },
  "kernelspec": {
   "display_name": "Julia 1.5.3",
   "language": "julia",
   "name": "julia-1.5"
  },
  "language_info": {
   "file_extension": ".jl",
   "mimetype": "application/julia",
   "name": "julia",
   "version": "1.5.3"
  }
 },
 "nbformat": 4,
 "nbformat_minor": 5
}
