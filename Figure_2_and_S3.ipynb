{
 "cells": [
  {
   "cell_type": "markdown",
   "id": "occasional-individual",
   "metadata": {},
   "source": [
    "\n",
    "# Figure 2 and S3"
   ]
  },
  {
   "cell_type": "markdown",
   "id": "fourth-roads",
   "metadata": {},
   "source": [
    "22-02-21\n",
    "\n",
    "Katie Willis\n",
    "\n",
    "katie.willis16@imperial.ac.uk"
   ]
  },
  {
   "cell_type": "code",
   "execution_count": 1,
   "id": "standard-desire",
   "metadata": {},
   "outputs": [
    {
     "name": "stderr",
     "output_type": "stream",
     "text": [
      "\u001b[32m\u001b[1m Activating\u001b[22m\u001b[39m environment at `~/Documents/OneDrive - Imperial College London/PhD work/Drive_modelling/Projects/PrivateDrive/DoubleDriveSimulator/Environment/Project.toml`\n"
     ]
    }
   ],
   "source": [
    "] activate \"./Environment/\" "
   ]
  },
  {
   "cell_type": "code",
   "execution_count": 2,
   "id": "jewish-exemption",
   "metadata": {},
   "outputs": [
    {
     "data": {
      "text/plain": [
       "Plots.PyPlotBackend()"
      ]
     },
     "execution_count": 2,
     "metadata": {},
     "output_type": "execute_result"
    }
   ],
   "source": [
    "using NBInclude\n",
    "@nbinclude(\"./Environment/Setup.ipynb\");\n",
    "using Plots; pyplot()"
   ]
  },
  {
   "cell_type": "code",
   "execution_count": 5,
   "id": "potential-coordinator",
   "metadata": {},
   "outputs": [],
   "source": [
    "#Load baseline model\n",
    "@nbinclude(\"DoubleDrive_Simulator_Baseline.ipynb\");"
   ]
  },
  {
   "cell_type": "code",
   "execution_count": 6,
   "id": "spiritual-green",
   "metadata": {},
   "outputs": [
    {
     "data": {
      "text/plain": [
       "\"#00DF97\""
      ]
     },
     "execution_count": 6,
     "metadata": {},
     "output_type": "execute_result"
    }
   ],
   "source": [
    "#Assign plotting parameters\n",
    "PyPlot.rc(\"font\", family=\"Arial\")\n",
    "PyPlot.rc(\"xtick\", labelsize=10) \n",
    "PyPlot.rc(\"ytick\", labelsize=10) \n",
    "\n",
    "blue = \"#0155FF\"\n",
    "light_blue = \"#78A0FF\"\n",
    "red = \"#FF011A\"\n",
    "light_red = \"#FF7689\"\n",
    "col1 = \"#BA03FF\" #purple\n",
    "col2 = \"#FF8509\" #orange\n",
    "col3 = \"#FF6CE8\" #pink\n",
    "col4 = \"#FFBF09\" #yellow\n",
    "col5 = \"#00DF97\" #green"
   ]
  },
  {
   "cell_type": "markdown",
   "id": "isolated-intention",
   "metadata": {},
   "source": [
    "### Simulations"
   ]
  },
  {
   "cell_type": "markdown",
   "id": "chemical-israeli",
   "metadata": {},
   "source": [
    "#### Design 1"
   ]
  },
  {
   "cell_type": "code",
   "execution_count": 7,
   "id": "elder-navigation",
   "metadata": {
    "code_folding": []
   },
   "outputs": [],
   "source": [
    "#Define design\n",
    "LOCUS_A = \"neutral\"\n",
    "LOCUS_B = \"HS_rec\"\n",
    "set_A_homing_dependency = \"constitutive\"\n",
    "set_B_homing_dependency = \"conditional\"\n",
    "set_XS_dependency = \"none\"\n",
    "\n",
    "#Assign starting parameters.\n",
    "params,\n",
    "A_homing_dependency,\n",
    "B_homing_dependency,\n",
    "XS_dependency = Assign_baseline_params(LOCUS_A,\n",
    "            LOCUS_B,\n",
    "            set_A_homing_dependency,\n",
    "            set_B_homing_dependency,\n",
    "            set_XS_dependency);\n",
    "\n",
    "A_construct = [] #We assume no expression costs so do not need to define construct content\n",
    "B_construct = []\n",
    "fitness_effect = \"adult\"\n",
    "transgenic_genotype = \"ABab\"\n",
    "release_freq = 0.001\n",
    "resistant_allele = \"α\"\n",
    "\n",
    "#simulate target population\n",
    "resistant_freq = 0.01\n",
    "t = 100\n",
    "output_1 = Simulation_wrapper(params,\n",
    "                            A_construct,\n",
    "                            B_construct,\n",
    "                            A_homing_dependency,\n",
    "                            B_homing_dependency,\n",
    "                            XS_dependency,\n",
    "                            fitness_effect,\n",
    "                            transgenic_genotype,\n",
    "                            release_freq, \n",
    "                            resistant_allele, \n",
    "                            resistant_freq,\n",
    "                            t);\n",
    "\n",
    "#simulate off-target population\n",
    "resistant_freq = 1.0\n",
    "t = 200\n",
    "off_target_output_1 = Simulation_wrapper(params,\n",
    "                            A_construct,\n",
    "                            B_construct,\n",
    "                            A_homing_dependency,\n",
    "                            B_homing_dependency,\n",
    "                            XS_dependency,\n",
    "                            fitness_effect,\n",
    "                            transgenic_genotype,\n",
    "                            release_freq, \n",
    "                            resistant_allele, \n",
    "                            resistant_freq,\n",
    "                            t);"
   ]
  },
  {
   "cell_type": "code",
   "execution_count": 8,
   "id": "colonial-battle",
   "metadata": {
    "code_folding": [],
    "scrolled": true
   },
   "outputs": [
    {
     "data": {
      "text/plain": [
       "3.580115957757028e-6"
      ]
     },
     "execution_count": 8,
     "metadata": {},
     "output_type": "execute_result"
    }
   ],
   "source": [
    "#Minimum number of female adults\n",
    "minf = minimum(output_1[\"relative_number_females\"].adult)"
   ]
  },
  {
   "cell_type": "code",
   "execution_count": 9,
   "id": "patient-least",
   "metadata": {
    "scrolled": true
   },
   "outputs": [
    {
     "data": {
      "text/plain": [
       "1-element Array{Int64,1}:\n",
       " 25"
      ]
     },
     "execution_count": 9,
     "metadata": {},
     "output_type": "execute_result"
    }
   ],
   "source": [
    "#No. generations until the minimum number of females is reached\n",
    "findall(x->x==minf,output_1[\"relative_number_females\"].adult)"
   ]
  },
  {
   "cell_type": "code",
   "execution_count": 10,
   "id": "searching-melbourne",
   "metadata": {
    "scrolled": true
   },
   "outputs": [
    {
     "data": {
      "text/plain": [
       "0.009886460094399308"
      ]
     },
     "execution_count": 10,
     "metadata": {},
     "output_type": "execute_result"
    }
   ],
   "source": [
    "#Max percentage reduction in number of females for the off-target population\n",
    "(1-minimum(off_target_output_1[\"relative_number_females\"].adult))*100"
   ]
  },
  {
   "cell_type": "code",
   "execution_count": 11,
   "id": "extensive-judges",
   "metadata": {},
   "outputs": [
    {
     "data": {
      "text/plain": [
       "17"
      ]
     },
     "execution_count": 11,
     "metadata": {},
     "output_type": "execute_result"
    }
   ],
   "source": [
    "#number of generations with more that 95% reduction in female density\n",
    "sum(output_1[\"relative_number_females\"].adult .< 0.05)"
   ]
  },
  {
   "cell_type": "markdown",
   "id": "going-physics",
   "metadata": {},
   "source": [
    "#### Design 2"
   ]
  },
  {
   "cell_type": "code",
   "execution_count": 12,
   "id": "brave-zambia",
   "metadata": {
    "code_folding": [
     0
    ]
   },
   "outputs": [],
   "source": [
    "#Define design\n",
    "LOCUS_A = \"neutral\"\n",
    "LOCUS_B = \"HS_rec\"\n",
    "set_A_homing_dependency = \"conditional\"\n",
    "set_B_homing_dependency = \"conditional\"\n",
    "set_XS_dependency = \"none\"\n",
    "\n",
    "##Assign starting parameters.\n",
    "params,\n",
    "A_homing_dependency,\n",
    "B_homing_dependency,\n",
    "XS_dependency = Assign_baseline_params(LOCUS_A,\n",
    "            LOCUS_B,\n",
    "            set_A_homing_dependency,\n",
    "            set_B_homing_dependency,\n",
    "            set_XS_dependency);\n",
    "\n",
    "A_construct = []\n",
    "B_construct = []\n",
    "fitness_effect = \"adult\"\n",
    "transgenic_genotype = \"ABab\"\n",
    "release_freq = 0.001\n",
    "resistant_allele = \"α\"\n",
    "\n",
    "#Simulate target population\n",
    "resistant_freq = 0.01\n",
    "t = 100\n",
    "output_2 = Simulation_wrapper(params,\n",
    "                            A_construct,\n",
    "                            B_construct,\n",
    "                            A_homing_dependency,\n",
    "                            B_homing_dependency,\n",
    "                            XS_dependency,\n",
    "                            fitness_effect,\n",
    "                            transgenic_genotype,\n",
    "                            release_freq, \n",
    "                            resistant_allele, \n",
    "                            resistant_freq,\n",
    "                            t);\n",
    "\n",
    "#Simulate off-target population\n",
    "resistant_freq = 1.0\n",
    "t = 200\n",
    "off_target_output_2 = Simulation_wrapper(params,\n",
    "                            A_construct,\n",
    "                            B_construct,\n",
    "                            A_homing_dependency,\n",
    "                            B_homing_dependency,\n",
    "                            XS_dependency,\n",
    "                            fitness_effect,\n",
    "                            transgenic_genotype,\n",
    "                            release_freq, \n",
    "                            resistant_allele, \n",
    "                            resistant_freq,\n",
    "                            t);"
   ]
  },
  {
   "cell_type": "code",
   "execution_count": 13,
   "id": "romantic-state",
   "metadata": {},
   "outputs": [
    {
     "data": {
      "text/plain": [
       "0.00014698744050499309"
      ]
     },
     "execution_count": 13,
     "metadata": {},
     "output_type": "execute_result"
    }
   ],
   "source": [
    "#Minimum number of female adults\n",
    "minimum(output_2[\"relative_number_females\"].adult)"
   ]
  },
  {
   "cell_type": "code",
   "execution_count": 14,
   "id": "federal-maximum",
   "metadata": {},
   "outputs": [
    {
     "data": {
      "text/plain": [
       "0.010049640705045437"
      ]
     },
     "execution_count": 14,
     "metadata": {},
     "output_type": "execute_result"
    }
   ],
   "source": [
    "#Max percentage reduction in number of females for the off-target population\n",
    "(1-minimum(off_target_output_2[\"relative_number_females\"].adult))*100"
   ]
  },
  {
   "cell_type": "code",
   "execution_count": 15,
   "id": "forty-symposium",
   "metadata": {},
   "outputs": [
    {
     "data": {
      "text/plain": [
       "13"
      ]
     },
     "execution_count": 15,
     "metadata": {},
     "output_type": "execute_result"
    }
   ],
   "source": [
    "#number of generations with more that 95% reduction in female density\n",
    "sum(output_2[\"relative_number_females\"].adult .< 0.05)"
   ]
  },
  {
   "cell_type": "markdown",
   "id": "african-induction",
   "metadata": {},
   "source": [
    "#### Design 3"
   ]
  },
  {
   "cell_type": "code",
   "execution_count": 16,
   "id": "statutory-syracuse",
   "metadata": {
    "code_folding": [
     0
    ]
   },
   "outputs": [],
   "source": [
    "#Define design\n",
    "LOCUS_A = \"neutral\"\n",
    "LOCUS_B = \"HS_rec\"\n",
    "set_A_homing_dependency = \"constitutive\"\n",
    "set_B_homing_dependency = \"conditional\"\n",
    "set_XS_dependency = \"constitutive_B\"\n",
    "\n",
    "#Assign starting parameters.\n",
    "params,\n",
    "A_homing_dependency,\n",
    "B_homing_dependency,\n",
    "XS_dependency = Assign_baseline_params(LOCUS_A,\n",
    "            LOCUS_B,\n",
    "            set_A_homing_dependency,\n",
    "            set_B_homing_dependency,\n",
    "            set_XS_dependency);\n",
    "\n",
    "A_construct = []\n",
    "B_construct = []\n",
    "fitness_effect = \"adult\"\n",
    "transgenic_genotype = \"ABab\"\n",
    "release_freq = 0.001\n",
    "resistant_allele = \"α\"\n",
    "\n",
    "#Simulate target population\n",
    "resistant_freq = 0.2\n",
    "t = 100\n",
    "output_3 = Simulation_wrapper(params,\n",
    "                            A_construct,\n",
    "                            B_construct,\n",
    "                            A_homing_dependency,\n",
    "                            B_homing_dependency,\n",
    "                            XS_dependency,\n",
    "                            fitness_effect,\n",
    "                            transgenic_genotype,\n",
    "                            release_freq, \n",
    "                            resistant_allele, \n",
    "                            resistant_freq,\n",
    "                            t);\n",
    "\n",
    "#Simulate off-target population\n",
    "resistant_freq = 1.0\n",
    "t = 200\n",
    "off_target_output_3 = Simulation_wrapper(params,\n",
    "                            A_construct,\n",
    "                            B_construct,\n",
    "                            A_homing_dependency,\n",
    "                            B_homing_dependency,\n",
    "                            XS_dependency,\n",
    "                            fitness_effect,\n",
    "                            transgenic_genotype,\n",
    "                            release_freq, \n",
    "                            resistant_allele, \n",
    "                            resistant_freq,\n",
    "                            t);\n"
   ]
  },
  {
   "cell_type": "code",
   "execution_count": 17,
   "id": "blind-community",
   "metadata": {},
   "outputs": [
    {
     "data": {
      "text/plain": [
       "2.9881034393557887e-6"
      ]
     },
     "execution_count": 17,
     "metadata": {},
     "output_type": "execute_result"
    }
   ],
   "source": [
    "#Minimum number of female adults\n",
    "minimum(output_3[\"relative_number_females\"].adult)"
   ]
  },
  {
   "cell_type": "code",
   "execution_count": 18,
   "id": "talented-commander",
   "metadata": {},
   "outputs": [
    {
     "data": {
      "text/plain": [
       "2.245552529178285"
      ]
     },
     "execution_count": 18,
     "metadata": {},
     "output_type": "execute_result"
    }
   ],
   "source": [
    "#Max % reduction in number of females for the off-target population\n",
    "(1-minimum(off_target_output_3[\"relative_number_females\"].adult))*100"
   ]
  },
  {
   "cell_type": "markdown",
   "id": "brown-monitor",
   "metadata": {},
   "source": [
    "#### Design 4"
   ]
  },
  {
   "cell_type": "code",
   "execution_count": 19,
   "id": "lesser-festival",
   "metadata": {
    "code_folding": [
     0
    ]
   },
   "outputs": [],
   "source": [
    "#Define design\n",
    "LOCUS_A = \"neutral\"\n",
    "LOCUS_B = \"HS_rec\"\n",
    "set_A_homing_dependency = \"conditional\"\n",
    "set_B_homing_dependency = \"conditional\"\n",
    "set_XS_dependency = \"constitutive_B\"\n",
    "\n",
    "#Assign starting parameters.\n",
    "params,\n",
    "A_homing_dependency,\n",
    "B_homing_dependency,\n",
    "XS_dependency = Assign_baseline_params(LOCUS_A,\n",
    "            LOCUS_B,\n",
    "            set_A_homing_dependency,\n",
    "            set_B_homing_dependency,\n",
    "            set_XS_dependency);\n",
    "\n",
    "A_construct = []\n",
    "B_construct = []\n",
    "fitness_effect = \"adult\"\n",
    "\n",
    "#SIMULATE\n",
    "transgenic_genotype = \"ABab\"\n",
    "release_freq = 0.001\n",
    "resistant_allele = \"α\"\n",
    "\n",
    "#Simulate target population\n",
    "resistant_freq = 0.2\n",
    "t = 100\n",
    "output_4 = Simulation_wrapper(params,\n",
    "                            A_construct,\n",
    "                            B_construct,\n",
    "                            A_homing_dependency,\n",
    "                            B_homing_dependency,\n",
    "                            XS_dependency,\n",
    "                            fitness_effect,\n",
    "                            transgenic_genotype,\n",
    "                            release_freq, \n",
    "                            resistant_allele, \n",
    "                            resistant_freq,\n",
    "                            t);\n",
    "\n",
    "#Simulate off-target population\n",
    "resistant_freq = 1.0\n",
    "t = 200\n",
    "off_target_output_4 = Simulation_wrapper(params,\n",
    "                            A_construct,\n",
    "                            B_construct,\n",
    "                            A_homing_dependency,\n",
    "                            B_homing_dependency,\n",
    "                            XS_dependency,\n",
    "                            fitness_effect,\n",
    "                            transgenic_genotype,\n",
    "                            release_freq, \n",
    "                            resistant_allele, \n",
    "                            resistant_freq,\n",
    "                            t);\n",
    "\n"
   ]
  },
  {
   "cell_type": "code",
   "execution_count": 20,
   "id": "about-bolivia",
   "metadata": {},
   "outputs": [
    {
     "data": {
      "text/plain": [
       "0.0009875156750424282"
      ]
     },
     "execution_count": 20,
     "metadata": {},
     "output_type": "execute_result"
    }
   ],
   "source": [
    "#Minimum number of female adults\n",
    "minimum(output_4[\"relative_number_females\"].adult)"
   ]
  },
  {
   "cell_type": "markdown",
   "id": "horizontal-pillow",
   "metadata": {},
   "source": [
    "#### Design 5"
   ]
  },
  {
   "cell_type": "code",
   "execution_count": 21,
   "id": "violent-individual",
   "metadata": {
    "code_folding": [
     0
    ]
   },
   "outputs": [],
   "source": [
    "#Define design\n",
    "LOCUS_A = \"neutral\"\n",
    "LOCUS_B = \"HI\"\n",
    "set_A_homing_dependency = \"conditional\"\n",
    "set_B_homing_dependency = \"constitutive\"\n",
    "set_XS_dependency = \"constitutive_A\"\n",
    "\n",
    "#Assign starting parameters.\n",
    "params,\n",
    "A_homing_dependency,\n",
    "B_homing_dependency,\n",
    "XS_dependency = Assign_baseline_params(LOCUS_A,\n",
    "            LOCUS_B,\n",
    "            set_A_homing_dependency,\n",
    "            set_B_homing_dependency,\n",
    "            set_XS_dependency);\n",
    "\n",
    "A_construct = []\n",
    "B_construct = []\n",
    "fitness_effect = \"adult\"\n",
    "transgenic_genotype = \"ABab\"\n",
    "release_freq = 0.001\n",
    "resistant_allele = \"α\"\n",
    "\n",
    "#simulate target population\n",
    "resistant_freq = 0.5\n",
    "t = 200\n",
    "output_5 = Simulation_wrapper(params,\n",
    "                            A_construct,\n",
    "                            B_construct,\n",
    "                            A_homing_dependency,\n",
    "                            B_homing_dependency,\n",
    "                            XS_dependency,\n",
    "                            fitness_effect,\n",
    "                            transgenic_genotype,\n",
    "                            release_freq, \n",
    "                            resistant_allele, \n",
    "                            resistant_freq,\n",
    "                            t);\n",
    "\n",
    "#simjulate off-target population\n",
    "resistant_freq = 1.0\n",
    "t = 200\n",
    "off_target_output_5 = Simulation_wrapper(params,\n",
    "                            A_construct,\n",
    "                            B_construct,\n",
    "                            A_homing_dependency,\n",
    "                            B_homing_dependency,\n",
    "                            XS_dependency,\n",
    "                            fitness_effect,\n",
    "                            transgenic_genotype,\n",
    "                            release_freq, \n",
    "                            resistant_allele, \n",
    "                            resistant_freq,\n",
    "                            t);\n"
   ]
  },
  {
   "cell_type": "code",
   "execution_count": 22,
   "id": "agreed-unknown",
   "metadata": {},
   "outputs": [
    {
     "data": {
      "text/plain": [
       "0.0021520520501185827"
      ]
     },
     "execution_count": 22,
     "metadata": {},
     "output_type": "execute_result"
    }
   ],
   "source": [
    "#Minimum number of female adults\n",
    "minf = minimum(output_5[\"relative_number_females\"].adult)"
   ]
  },
  {
   "cell_type": "code",
   "execution_count": 23,
   "id": "statutory-exemption",
   "metadata": {},
   "outputs": [
    {
     "data": {
      "text/plain": [
       "1.29290296805038"
      ]
     },
     "execution_count": 23,
     "metadata": {},
     "output_type": "execute_result"
    }
   ],
   "source": [
    "#Max % reduction in number of females for the off-target population\n",
    "(1-minimum(off_target_output_5[\"relative_number_females\"].adult))*100"
   ]
  },
  {
   "cell_type": "code",
   "execution_count": 24,
   "id": "european-portugal",
   "metadata": {},
   "outputs": [
    {
     "data": {
      "text/plain": [
       "63"
      ]
     },
     "execution_count": 24,
     "metadata": {},
     "output_type": "execute_result"
    }
   ],
   "source": [
    "#number of generations with more that 95% reduction in female density\n",
    "sum(output_5[\"relative_number_females\"].adult .<= 0.05)"
   ]
  },
  {
   "cell_type": "markdown",
   "id": "champion-wilson",
   "metadata": {},
   "source": [
    "#### Design 5 - r = 0.01"
   ]
  },
  {
   "cell_type": "code",
   "execution_count": 25,
   "id": "hollywood-monday",
   "metadata": {
    "code_folding": [
     0
    ]
   },
   "outputs": [],
   "source": [
    "#redefine r for design 5 (design defined in previous section)\n",
    "params[\"r\"] = 0.01\n",
    "\n",
    "#simulate target population\n",
    "resistant_freq = 0.5\n",
    "t = 200\n",
    "output_5_r = Simulation_wrapper(params,\n",
    "                            A_construct,\n",
    "                            B_construct,\n",
    "                            A_homing_dependency,\n",
    "                            B_homing_dependency,\n",
    "                            XS_dependency,\n",
    "                            fitness_effect,\n",
    "                            transgenic_genotype,\n",
    "                            release_freq, \n",
    "                            resistant_allele, \n",
    "                            resistant_freq,\n",
    "                            t);\n",
    "\n",
    "#simulate off-target population\n",
    "resistant_freq = 1.0\n",
    "t = 200\n",
    "off_target_output_5_r = Simulation_wrapper(params,\n",
    "                            A_construct,\n",
    "                            B_construct,\n",
    "                            A_homing_dependency,\n",
    "                            B_homing_dependency,\n",
    "                            XS_dependency,\n",
    "                            fitness_effect,\n",
    "                            transgenic_genotype,\n",
    "                            release_freq, \n",
    "                            resistant_allele, \n",
    "                            resistant_freq,\n",
    "                            t);\n"
   ]
  },
  {
   "cell_type": "code",
   "execution_count": 26,
   "id": "mental-front",
   "metadata": {},
   "outputs": [
    {
     "data": {
      "text/plain": [
       "8.788417962322855e-7"
      ]
     },
     "execution_count": 26,
     "metadata": {},
     "output_type": "execute_result"
    }
   ],
   "source": [
    "#Minimum number of females\n",
    "minf = minimum(output_5_r[\"relative_number_females\"].adult)"
   ]
  },
  {
   "cell_type": "code",
   "execution_count": 27,
   "id": "activated-chart",
   "metadata": {},
   "outputs": [
    {
     "data": {
      "text/plain": [
       "1.4578794229095249"
      ]
     },
     "execution_count": 27,
     "metadata": {},
     "output_type": "execute_result"
    }
   ],
   "source": [
    "#Max % reduction in number of females for the off-target population\n",
    "(1-minimum(off_target_output_5_r[\"relative_number_females\"].adult))*100"
   ]
  },
  {
   "cell_type": "code",
   "execution_count": 28,
   "id": "familiar-night",
   "metadata": {},
   "outputs": [
    {
     "data": {
      "text/plain": [
       "147"
      ]
     },
     "execution_count": 28,
     "metadata": {},
     "output_type": "execute_result"
    }
   ],
   "source": [
    "#number of generations with more that 95% reduction in female density\n",
    "sum(output_5_r[\"relative_number_females\"].adult .<= 0.05)"
   ]
  },
  {
   "cell_type": "markdown",
   "id": "english-mobile",
   "metadata": {},
   "source": [
    "### Figure 2"
   ]
  },
  {
   "cell_type": "code",
   "execution_count": 29,
   "id": "under-settlement",
   "metadata": {
    "code_folding": [
     0
    ],
    "scrolled": false
   },
   "outputs": [
    {
     "data": {
      "image/png": "[encoded data removed]",
      "text/plain": [
       "PyPlot.Figure(PyObject <Figure size 750x380 with 6 Axes>)"
      ]
     },
     "metadata": {},
     "output_type": "display_data"
    }
   ],
   "source": [
    "#Figure 2\n",
    "f1, axes = PyPlot.subplots(2,3,figsize=(7.5,3.8),frameon=false,)\n",
    "\n",
    "output = output_1\n",
    "t=100\n",
    "\n",
    "#drive construct\n",
    "axes[1].plot(0:t,output[\"allelefreq_adult\"].b,c=blue,\"-\",label = \"construct B\")\n",
    "axes[1].plot(0:t,output[\"allelefreq_adult\"].B,c=blue,\"--\",label = \"WT\")\n",
    "axes[1].plot(0:t,output[\"allelefreq_adult\"].a,c=red,\"-\",label = \"construct A\")\n",
    "axes[1].plot(0:t,output[\"allelefreq_adult\"].α,c=red,\"--\",label = \"resistant\")\n",
    "axes[1].plot(0:t,output[\"relative_number_females\"].adult,c=\"black\",\"--\", label = \"Biting adult females\")\n",
    "axes[1].set_xlim([0,t])\n",
    "axes[1].set_ylim([0,1])\n",
    "\n",
    "output = off_target_output_1\n",
    "t=200\n",
    "axes[2].plot(0:t,output[\"allelefreq_adult\"].b,c=blue,\"-\",label = \"construct B\")\n",
    "axes[2].plot(0:t,output[\"allelefreq_adult\"].a,c=red,\"-\",label = \"construct A\")\n",
    "axes[2].plot(0:t,1 .-output[\"relative_number_females\"].adult,c=\"black\",\":\", label = \"Biting adult females\")\n",
    "axes[2].set_xlim([0,t])\n",
    "axes[2].set_ylim([10^-5,1])\n",
    "axes[2].set_yscale(\"log\")\n",
    "\n",
    "output = output_3\n",
    "t=100\n",
    "#drive construct\n",
    "axes[3].plot(0:t,output[\"allelefreq_adult\"].b,c=blue,\"-\",label = \"construct B\")\n",
    "axes[3].plot(0:t,output[\"allelefreq_adult\"].B,c=blue,\"--\",label = \"WT\")\n",
    "axes[3].plot(0:t,output[\"allelefreq_adult\"].a,c=red,\"-\",label = \"construct A\")\n",
    "axes[3].plot(0:t,output[\"allelefreq_adult\"].α,c=red,\"--\",label = \"resistant\")\n",
    "axes[3].plot(0:t,output[\"relative_number_females\"].adult,c=\"black\",\"--\", label = \"Biting adult females\")\n",
    "axes[3].set_xlim([0,t])\n",
    "axes[3].set_ylim([0,1])\n",
    "\n",
    "output = off_target_output_3\n",
    "t=200\n",
    "axes[4].plot(0:t,output[\"allelefreq_adult\"].b,c=blue,\"-\",label = \"construct B\")\n",
    "axes[4].plot(0:t,output[\"allelefreq_adult\"].a,c=red,\"-\",label = \"construct A\")\n",
    "axes[4].plot(0:t,1 .-output[\"relative_number_females\"].adult,c=\"black\",\":\", label = \"Biting adult females\")\n",
    "axes[4].set_xlim([0,t])\n",
    "axes[4].set_ylim([10^-5,1])\n",
    "axes[4].set_yscale(\"log\")\n",
    "\n",
    "output = output_5\n",
    "t=200\n",
    "#drive construct\n",
    "axes[5].plot(0:t,output[\"allelefreq_adult\"].b,c=blue,\"-\",label = \"construct B\")\n",
    "axes[5].plot(0:t,output[\"allelefreq_adult\"].B,c=blue,\"--\",label = \"WT\")\n",
    "axes[5].plot(0:t,output[\"allelefreq_adult\"].a,c=red,\"-\",label = \"construct A\")\n",
    "axes[5].plot(0:t,output[\"allelefreq_adult\"].α,c=red,\"--\",label = \"resistant\")\n",
    "axes[5].plot(0:t,output[\"relative_number_females\"].adult,c=\"black\",\"--\", label = \"Biting adult females\")\n",
    "axes[5].set_xlim([0,t])\n",
    "axes[5].set_ylim([0,1])\n",
    "\n",
    "output = off_target_output_5\n",
    "t=200\n",
    "axes[6].plot(0:t,output[\"allelefreq_adult\"].b,c=blue,\"-\",label = \"construct B\")\n",
    "axes[6].plot(0:t,output[\"allelefreq_adult\"].a,c=red,\"-\",label = \"construct A\")\n",
    "axes[6].plot(0:t,1 .-output[\"relative_number_females\"].adult,c=\"black\",\":\", label = \"Biting adult females\")\n",
    "axes[6].set_xlim([0,t])\n",
    "axes[6].set_ylim([10^-5,1])\n",
    "axes[6].set_yscale(\"log\")\n",
    "\n",
    "axes[1].set_yticks([0,0.2,0.4,0.6,0.8,1])\n",
    "axes[3].set_yticks([0,0.2,0.4,0.6,0.8,1])\n",
    "axes[5].set_yticks([0,0.2,0.4,0.6,0.8,1])\n",
    "\n",
    "axes[2].set_yticks([10^-4,10^-2,10^-0])\n",
    "axes[2].set_yticklabels([\"\\$10^{-4}\\$\",\"\\$10^{-2}\\$\",\"1.0\"],size=10)\n",
    "\n",
    "axes[4].set_yticks([10^-4,10^-2,10^-0])\n",
    "axes[4].set_yticklabels([\"\\$10^{-4}\\$\",\"\\$10^{-2}\\$\",\"1.0\"],size=10)\n",
    "\n",
    "axes[6].set_yticks([10^-4,10^-2,10^-0])\n",
    "axes[6].set_yticklabels([\"\\$10^{-4}\\$\",\"\\$10^{-2}\\$\",\"1.0\"],size=10)\n",
    "\n",
    "axes[6].set_yticks([10^-4,10^-2,10^-0])\n",
    "axes[6].set_yticklabels([\"\\$10^{-4}\\$\",\"\\$10^{-2}\\$\",\"1.0\"],size=10)\n",
    "\n",
    "PyPlot.tight_layout()\n",
    "PyPlot.show()\n"
   ]
  },
  {
   "cell_type": "markdown",
   "id": "square-floor",
   "metadata": {},
   "source": [
    "### Figure S3"
   ]
  },
  {
   "cell_type": "code",
   "execution_count": 28,
   "id": "recovered-electronics",
   "metadata": {
    "code_folding": [
     0
    ],
    "scrolled": false
   },
   "outputs": [
    {
     "data": {
      "image/png": "[encoded data removed]",
      "text/plain": [
       "PyPlot.Figure(PyObject <Figure size 1300x400 with 10 Axes>)"
      ]
     },
     "metadata": {},
     "output_type": "display_data"
    }
   ],
   "source": [
    "#Figure S3\n",
    "\n",
    "f1, axes = PyPlot.subplots(2,5,figsize=(13,4),frameon=false,)\n",
    "\n",
    "output = output_1\n",
    "t=100\n",
    "n=1\n",
    "axes[n].plot(0:t,output[\"allelefreq_adult\"].b,c=blue,\"-\",label = \"construct B\")\n",
    "axes[n].plot(0:t,output[\"allelefreq_adult\"].B,c=blue,\"--\",label = \"WT\")\n",
    "axes[n].plot(0:t,output[\"allelefreq_adult\"].a,c=red,\"-\",label = \"construct A\")\n",
    "axes[n].plot(0:t,output[\"allelefreq_adult\"].α,c=red,\"--\",label = \"resistant\")\n",
    "axes[n].plot(0:t,output[\"relative_number_females\"].adult,c=\"black\",\"--\", label = \"Biting adult females\")\n",
    "axes[n].set_xlim([0,t])\n",
    "axes[n].set_ylim([0,1])\n",
    "\n",
    "output = off_target_output_1\n",
    "t=200\n",
    "n=2\n",
    "axes[n].plot(0:t,output[\"allelefreq_adult\"].b,c=blue,\"-\",label = \"construct B\")\n",
    "axes[n].plot(0:t,output[\"allelefreq_adult\"].a,c=red,\"-\",label = \"construct A\")\n",
    "axes[n].plot(0:t,1 .-output[\"relative_number_females\"].adult,c=\"black\",\":\", label = \"Biting adult females\")\n",
    "axes[n].set_xlim([0,t])\n",
    "axes[n].set_ylim([10^-5,1])\n",
    "axes[n].set_yscale(\"log\")\n",
    "\n",
    "output = output_2\n",
    "t=100\n",
    "n=3\n",
    "axes[n].plot(0:t,output[\"allelefreq_adult\"].b,c=blue,\"-\",label = \"construct B\")\n",
    "axes[n].plot(0:t,output[\"allelefreq_adult\"].B,c=blue,\"--\",label = \"WT\")\n",
    "axes[n].plot(0:t,output[\"allelefreq_adult\"].a,c=red,\"-\",label = \"construct A\")\n",
    "axes[n].plot(0:t,output[\"allelefreq_adult\"].α,c=red,\"--\",label = \"resistant\")\n",
    "axes[n].plot(0:t,output[\"relative_number_females\"].adult,c=\"black\",\"--\", label = \"Biting adult females\")\n",
    "axes[n].set_xlim([0,t])\n",
    "axes[n].set_ylim([0,1])\n",
    "\n",
    "output = off_target_output_2\n",
    "t=200\n",
    "n=4\n",
    "axes[n].plot(0:t,output[\"allelefreq_adult\"].b,c=blue,\"-\",label = \"construct B\")\n",
    "axes[n].plot(0:t,output[\"allelefreq_adult\"].a,c=red,\"-\",label = \"construct A\")\n",
    "axes[n].plot(0:t,1 .-output[\"relative_number_females\"].adult,c=\"black\",\":\", label = \"Biting adult females\")\n",
    "axes[n].set_xlim([0,t])\n",
    "axes[n].set_ylim([10^-5,1])\n",
    "axes[n].set_yscale(\"log\")\n",
    "\n",
    "output = output_3\n",
    "t=100\n",
    "n=5\n",
    "axes[n].plot(0:t,output[\"allelefreq_adult\"].b,c=blue,\"-\",label = \"construct B\")\n",
    "axes[n].plot(0:t,output[\"allelefreq_adult\"].B,c=blue,\"--\",label = \"WT\")\n",
    "axes[n].plot(0:t,output[\"allelefreq_adult\"].a,c=red,\"-\",label = \"construct A\")\n",
    "axes[n].plot(0:t,output[\"allelefreq_adult\"].α,c=red,\"--\",label = \"resistant\")\n",
    "axes[n].plot(0:t,output[\"relative_number_females\"].adult,c=\"black\",\"--\", label = \"Biting adult females\")\n",
    "axes[n].set_xlim([0,t])\n",
    "axes[n].set_ylim([0,1])\n",
    "\n",
    "output = off_target_output_3\n",
    "t=200\n",
    "n=6\n",
    "axes[n].plot(0:t,output[\"allelefreq_adult\"].b,c=blue,\"-\",label = \"construct B\")\n",
    "axes[n].plot(0:t,output[\"allelefreq_adult\"].a,c=red,\"-\",label = \"construct A\")\n",
    "axes[n].plot(0:t,1 .-output[\"relative_number_females\"].adult,c=\"black\",\":\", label = \"Biting adult females\")\n",
    "axes[n].set_xlim([0,t])\n",
    "axes[n].set_ylim([10^-5,1])\n",
    "axes[n].set_yscale(\"log\")\n",
    "#axes[4].set_xlabel(\"Time (generations)\",size=10)\n",
    "\n",
    "output = output_4\n",
    "t=100\n",
    "n=7\n",
    "axes[n].plot(0:t,output[\"allelefreq_adult\"].b,c=blue,\"-\",label = \"construct B\")\n",
    "axes[n].plot(0:t,output[\"allelefreq_adult\"].B,c=blue,\"--\",label = \"WT\")\n",
    "axes[n].plot(0:t,output[\"allelefreq_adult\"].a,c=red,\"-\",label = \"construct A\")\n",
    "axes[n].plot(0:t,output[\"allelefreq_adult\"].α,c=red,\"--\",label = \"resistant\")\n",
    "axes[n].plot(0:t,output[\"relative_number_females\"].adult,c=\"black\",\"--\", label = \"Biting adult females\")\n",
    "axes[n].set_xlim([0,t])\n",
    "axes[n].set_ylim([0,1])\n",
    "\n",
    "output = off_target_output_4\n",
    "t=200\n",
    "n=8\n",
    "axes[n].plot(0:t,output[\"allelefreq_adult\"].b,c=blue,\"-\",label = \"construct B\")\n",
    "axes[n].plot(0:t,output[\"allelefreq_adult\"].a,c=red,\"-\",label = \"construct A\")\n",
    "axes[n].plot(0:t,1 .-output[\"relative_number_females\"].adult,c=\"black\",\":\", label = \"Biting adult females\")\n",
    "axes[n].set_xlim([0,t])\n",
    "axes[n].set_ylim([10^-5,1])\n",
    "axes[n].set_yscale(\"log\")\n",
    "\n",
    "\n",
    "output = output_5\n",
    "t=200\n",
    "n=9\n",
    "axes[n].plot(0:t,output[\"allelefreq_adult\"].b,c=blue,\"-\",label = \"construct B\")\n",
    "axes[n].plot(0:t,output[\"allelefreq_adult\"].B,c=blue,\"--\",label = \"WT\")\n",
    "axes[n].plot(0:t,output[\"allelefreq_adult\"].a,c=red,\"-\",label = \"construct A\")\n",
    "axes[n].plot(0:t,output[\"allelefreq_adult\"].α,c=red,\"--\",label = \"resistant\")\n",
    "axes[n].plot(0:t,output[\"relative_number_females\"].adult,c=\"black\",\"--\", label = \"Biting adult females\")\n",
    "axes[n].set_xlim([0,t])\n",
    "axes[n].set_ylim([0,1])\n",
    "\n",
    "output = off_target_output_5\n",
    "t=200\n",
    "n=10\n",
    "axes[n].plot(0:t,output[\"allelefreq_adult\"].b,c=blue,\"-\",label = \"construct B\")\n",
    "axes[n].plot(0:t,output[\"allelefreq_adult\"].a,c=red,\"-\",label = \"construct A\")\n",
    "axes[n].plot(0:t,1 .-output[\"relative_number_females\"].adult,c=\"black\",\":\", label = \"Biting adult females\")\n",
    "axes[n].set_xlim([0,t])\n",
    "axes[n].set_ylim([10^-5,1])\n",
    "axes[n].set_yscale(\"log\")\n",
    "\n",
    "axes[1].set_yticks([0,0.2,0.4,0.6,0.8,1])\n",
    "axes[3].set_yticks([0,0.2,0.4,0.6,0.8,1])\n",
    "axes[5].set_yticks([0,0.2,0.4,0.6,0.8,1])\n",
    "axes[7].set_yticks([0,0.2,0.4,0.6,0.8,1])\n",
    "axes[9].set_yticks([0,0.2,0.4,0.6,0.8,1])\n",
    "\n",
    "axes[2].set_yticks([10^-4,10^-2,10^-0])\n",
    "axes[2].set_yticklabels([\"\\$10^{-4}\\$\",\"\\$10^{-2}\\$\",\"1.0\"],size=12)\n",
    "\n",
    "axes[4].set_yticks([10^-4,10^-2,10^-0])\n",
    "axes[4].set_yticklabels([\"\\$10^{-4}\\$\",\"\\$10^{-2}\\$\",\"1.0\"],size=12)\n",
    "\n",
    "axes[6].set_yticks([10^-4,10^-2,10^-0])\n",
    "axes[6].set_yticklabels([\"\\$10^{-4}\\$\",\"\\$10^{-2}\\$\",\"1.0\"],size=12)\n",
    "\n",
    "axes[8].set_yticks([10^-4,10^-2,10^-0])\n",
    "axes[8].set_yticklabels([\"\\$10^{-4}\\$\",\"\\$10^{-2}\\$\",\"1.0\"],size=12)\n",
    "\n",
    "axes[10].set_yticks([10^-4,10^-2,10^-0])\n",
    "axes[10].set_yticklabels([\"\\$10^{-4}\\$\",\"\\$10^{-2}\\$\",\"1.0\"],size=12)\n",
    "\n",
    "PyPlot.tight_layout()\n",
    "PyPlot.show()\n"
   ]
  }
 ],
 "metadata": {
  "@webio": {
   "lastCommId": null,
   "lastKernelId": null
  },
  "kernelspec": {
   "display_name": "Julia 1.5.3",
   "language": "julia",
   "name": "julia-1.5"
  },
  "language_info": {
   "file_extension": ".jl",
   "mimetype": "application/julia",
   "name": "julia",
   "version": "1.5.3"
  },
  "varInspector": {
   "cols": {
    "lenName": 16,
    "lenType": 16,
    "lenVar": 40
   },
   "kernels_config": {
    "python": {
     "delete_cmd_postfix": "",
     "delete_cmd_prefix": "del ",
     "library": "var_list.py",
     "varRefreshCmd": "print(var_dic_list())"
    },
    "r": {
     "delete_cmd_postfix": ") ",
     "delete_cmd_prefix": "rm(",
     "library": "var_list.r",
     "varRefreshCmd": "cat(var_dic_list()) "
    }
   },
   "types_to_exclude": [
    "module",
    "function",
    "builtin_function_or_method",
    "instance",
    "_Feature"
   ],
   "window_display": false
  }
 },
 "nbformat": 4,
 "nbformat_minor": 5
}
