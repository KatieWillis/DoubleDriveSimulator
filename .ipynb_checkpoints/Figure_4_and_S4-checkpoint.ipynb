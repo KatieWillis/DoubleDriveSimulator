{
 "cells": [
  {
   "cell_type": "markdown",
   "id": "italian-promotion",
   "metadata": {},
   "source": [
    "\n",
    "# Figure 4 and S4"
   ]
  },
  {
   "cell_type": "markdown",
   "id": "defensive-section",
   "metadata": {},
   "source": [
    "22-02-21\n",
    "\n",
    "Katie Willis\n",
    "\n",
    "katie.willis16@imperial.ac.uk"
   ]
  },
  {
   "cell_type": "code",
   "execution_count": null,
   "id": "increased-smooth",
   "metadata": {},
   "outputs": [],
   "source": [
    "] activate"
   ]
  },
  {
   "cell_type": "code",
   "execution_count": 2,
   "id": "optical-glossary",
   "metadata": {},
   "outputs": [
    {
     "data": {
      "text/plain": [
       "Plots.PyPlotBackend()"
      ]
     },
     "execution_count": 2,
     "metadata": {},
     "output_type": "execute_result"
    }
   ],
   "source": [
    "using NBInclude\n",
    "@nbinclude(\"Setup.ipynb\");\n",
    "using Plots; pyplot()"
   ]
  },
  {
   "cell_type": "code",
   "execution_count": 3,
   "id": "median-mouth",
   "metadata": {},
   "outputs": [],
   "source": [
    "#Load 4-allele model\n",
    "@nbinclude(\"DoubleDrive_Simulator_4allele.ipynb\");"
   ]
  },
  {
   "cell_type": "code",
   "execution_count": 4,
   "id": "trained-prison",
   "metadata": {},
   "outputs": [
    {
     "data": {
      "text/plain": [
       "\"#00DF97\""
      ]
     },
     "execution_count": 4,
     "metadata": {},
     "output_type": "execute_result"
    }
   ],
   "source": [
    "#Assign plotting parameters\n",
    "PyPlot.rc(\"font\", family=\"Arial\")\n",
    "PyPlot.rc(\"xtick\", labelsize=10) \n",
    "PyPlot.rc(\"ytick\", labelsize=10) \n",
    "\n",
    "blue = \"#0155FF\"\n",
    "light_blue = \"#78A0FF\"\n",
    "red = \"#FF011A\"\n",
    "light_red = \"#FF7689\"\n",
    "col1 = \"#BA03FF\" #purple\n",
    "col2 = \"#FF8509\" #orange\n",
    "col3 = \"#FF6CE8\" #pink\n",
    "col4 = \"#FFBF09\" #yellow\n",
    "col5 = \"#00DF97\" #green"
   ]
  },
  {
   "cell_type": "markdown",
   "id": "satisfactory-context",
   "metadata": {},
   "source": [
    "### Functions"
   ]
  },
  {
   "cell_type": "code",
   "execution_count": 5,
   "id": "humanitarian-organization",
   "metadata": {
    "code_folding": [
     1,
     40,
     62,
     127,
     145
    ]
   },
   "outputs": [
    {
     "data": {
      "text/plain": [
       "extract_maxallelefreq (generic function with 1 method)"
      ]
     },
     "execution_count": 5,
     "metadata": {},
     "output_type": "execute_result"
    }
   ],
   "source": [
    "function simulate_variable_resistant_freq(construct_label,\n",
    "                                        params,\n",
    "                                        A_construct,\n",
    "                                        B_construct,\n",
    "                                        A_homing_dependency,\n",
    "                                        B_homing_dependency,\n",
    "                                        XS_dependency,\n",
    "                                        fitness_effect,\n",
    "                                        t,\n",
    "                                        resistant_freq_vec,\n",
    "                                        release_freq,\n",
    "                                        suffix)\n",
    "\n",
    "    transgenic_genotype = \"ABab\"\n",
    "    #standing resistant alleles are o\n",
    "    resistant_allele = \"o\"\n",
    "    \n",
    "    #All NJEH products are α\n",
    "    Aallele_fitness = \"α\"\n",
    "\n",
    "    for resistant_freq in resistant_freq_vec\n",
    "\n",
    "        #SIMULATE\n",
    "        t=1000\n",
    "        output = Simulation_wrapper(params,\n",
    "                            A_construct,\n",
    "                            B_construct,\n",
    "                            A_homing_dependency,\n",
    "                            B_homing_dependency,\n",
    "                            XS_dependency,\n",
    "                            Aallele_fitness,\n",
    "                            fitness_effect,\n",
    "                            transgenic_genotype,\n",
    "                            release_freq, \n",
    "                            resistant_allele, \n",
    "                            resistant_freq,\n",
    "                            t);\n",
    "\n",
    "        #write to file\n",
    "        output = Dict(\"relative_number_females\" => output[\"relative_number_females\"],\n",
    "                        \"allelefreq_adult\" => output[\"allelefreq_adult\"])\n",
    "\n",
    "        output_prefix1 = \"../results/StandingResistance/\"*construct_label\n",
    "            if isdir(output_prefix1) == false\n",
    "            mkdir(output_prefix1)\n",
    "        end\n",
    "        output_prefix = output_prefix1*\"/Releasefreq-\"*string(release_freq)*\"_standingresα-\"*string(resistant_freq)*suffix\n",
    "            if isdir(output_prefix) == false\n",
    "            mkdir(output_prefix)\n",
    "        end\n",
    "\n",
    "        unique_file_prefix = output_prefix*\"/output\"\n",
    "\n",
    "        Sim_IO_save(unique_file_prefix,\n",
    "                        params,\n",
    "                        output,\n",
    "                        t)\n",
    "    end\n",
    "    println(\"Simulation complete\")\n",
    "end\n",
    "\n",
    "function simulate_variable_resistant_freq_separaterelease(construct_label,\n",
    "                                        params,\n",
    "                                        A_construct,\n",
    "                                        B_construct,\n",
    "                                        A_homing_dependency,\n",
    "                                        B_homing_dependency,\n",
    "                                        XS_dependency,\n",
    "                                        fitness_effect,\n",
    "                                        t,\n",
    "                                        resistant_freq_vec,\n",
    "                                        release_freq,\n",
    "                                        suffix)\n",
    "\n",
    "    transgenic_genotype1 = \"ABaB\"\n",
    "    transgenic_genotype2 = \"ABAb\"\n",
    "\n",
    "    #standing resistant alleles are o\n",
    "    resistant_allele = \"o\"\n",
    "    \n",
    "    #All NJEH products are α\n",
    "    Aallele_fitness = \"α\"\n",
    "    \n",
    "    for resistant_freq in resistant_freq_vec\n",
    "\n",
    "        #SIMULATE\n",
    "        t=1000\n",
    "        output = Simulation_wrapper_separate_release(params,\n",
    "                            A_construct,\n",
    "                            B_construct,\n",
    "                            A_homing_dependency,\n",
    "                            B_homing_dependency,\n",
    "                            XS_dependency,\n",
    "                            Aallele_fitness,\n",
    "                            fitness_effect,\n",
    "                            transgenic_genotype1,\n",
    "                            transgenic_genotype2,\n",
    "                            release_freq/2,\n",
    "                            release_freq/2, \n",
    "                            resistant_allele, \n",
    "                            resistant_freq,\n",
    "                            t)\n",
    "\n",
    "        \n",
    "        output = Dict(\"relative_number_females\" => output[\"relative_number_females\"],\n",
    "                        \"allelefreq_adult\" => output[\"allelefreq_adult\"])\n",
    "\n",
    "        output_prefix1 = \"../results/StandingResistance/\"*construct_label\n",
    "            if isdir(output_prefix1) == false\n",
    "            mkdir(output_prefix1)\n",
    "        end\n",
    "        output_prefix = output_prefix1*\"/Releasefreq-\"*string(release_freq)*\"_standingresα-\"*string(resistant_freq)*suffix\n",
    "            if isdir(output_prefix) == false\n",
    "            mkdir(output_prefix)\n",
    "        end\n",
    "\n",
    "        unique_file_prefix = output_prefix*\"/output\"\n",
    "\n",
    "        Sim_IO_save(unique_file_prefix,\n",
    "                        params,\n",
    "                        output,\n",
    "                        t)\n",
    "    end\n",
    "    println(\"Simulation complete\")\n",
    "end\n",
    "\n",
    "function extract_minfemales(construct_label,resistant_freq_vec,release_freq,suffix)\n",
    "    \n",
    "    output = []\n",
    "    data_labels = [\"relative_number_females\"]\n",
    "    for resistant_freq in resistant_freq_vec\n",
    "\n",
    "        output_prefix = \"../results/StandingResistance/\"*construct_label*\"/Releasefreq-\"*string(release_freq)*\"_standingresα-\"*string(resistant_freq)*suffix\n",
    "        file_prefix = output_prefix*\"/output\"\n",
    "\n",
    "        data = Sim_IO_read(file_prefix,\n",
    "                            data_labels);\n",
    "\n",
    "        Nf = data[\"relative_number_females\"].adult\n",
    "        push!(output,minimum(filter(!isnan,Nf)))\n",
    "    end\n",
    "    return(output)\n",
    "end\n",
    "\n",
    "function extract_maxallelefreq(construct_label,resistant_freq_vec,release_freq,suffix)\n",
    "    \n",
    "    output_a = []\n",
    "    output_b = []\n",
    "    data_labels = [\"allelefreq_adult\"]\n",
    "    for resistant_freq in resistant_freq_vec\n",
    "\n",
    "        output_prefix = \"../results/StandingResistance/\"*construct_label*\"/Releasefreq-\"*string(release_freq)*\"_standingresα-\"*string(resistant_freq)*suffix\n",
    "        file_prefix = output_prefix*\"/output\"\n",
    "\n",
    "        data = Sim_IO_read(file_prefix,\n",
    "                                       data_labels);\n",
    "\n",
    "        max_freq_a = data[\"allelefreq_adult\"].a\n",
    "        max_freq_b = data[\"allelefreq_adult\"].b\n",
    "        push!(output_a,maximum(filter(!isnan,max_freq_a)))\n",
    "        push!(output_b,maximum(filter(!isnan,max_freq_b)))\n",
    "    end\n",
    "    return(output_a,output_b)\n",
    "end"
   ]
  },
  {
   "cell_type": "markdown",
   "id": "removed-nigeria",
   "metadata": {},
   "source": [
    "### Simulations"
   ]
  },
  {
   "cell_type": "code",
   "execution_count": 6,
   "id": "physical-andrews",
   "metadata": {},
   "outputs": [
    {
     "data": {
      "text/plain": [
       "1000"
      ]
     },
     "execution_count": 6,
     "metadata": {},
     "output_type": "execute_result"
    }
   ],
   "source": [
    "release_freq = 0.001\n",
    "resistant_freq_vec = collect(0.0:0.01:1.0)\n",
    "t = 1000"
   ]
  },
  {
   "cell_type": "code",
   "execution_count": 7,
   "id": "characteristic-lunch",
   "metadata": {},
   "outputs": [],
   "source": [
    "#define list of construct labels to writing to file\n",
    "constructs = [\n",
    "[\"Construct_locA-neutral_locB-HS_rec_homA-constitutive_homB-conditional_XS-none\",col1],\n",
    "[\"Construct_locA-neutral_locB-HS_rec_homA-conditional_homB-conditional_XS-none\",col2],\n",
    "[\"Construct_locA-neutral_locB-HS_rec_homA-constitutive_homB-conditional_XS-constitutive_B\",col3],\n",
    "[\"Construct_locA-neutral_locB-HS_rec_homA-conditional_homB-conditional_XS-constitutive_B\",col4],\n",
    "[\"Construct_locA-neutral_locB-HI_homA-conditional_homB-constitutive_XS-constitutive_A\",col5],\n",
    "];"
   ]
  },
  {
   "cell_type": "code",
   "execution_count": 15,
   "id": "ancient-recipe",
   "metadata": {
    "code_folding": [
     0
    ]
   },
   "outputs": [
    {
     "name": "stdout",
     "output_type": "stream",
     "text": [
      "1\n",
      "Simulation complete\n",
      "2\n",
      "Simulation complete\n",
      "3\n",
      "Simulation complete\n",
      "4\n",
      "Simulation complete\n",
      "5\n",
      "Simulation complete\n"
     ]
    }
   ],
   "source": [
    "#Iterate over all the constructs: Ntrl differentiated site \n",
    "A_construct = []\n",
    "B_construct = []\n",
    "fitness_effect = \"adult\"\n",
    "\n",
    "count = 0\n",
    "for c in constructs\n",
    "    \n",
    "    construct_label = c[1]\n",
    "    count = count+1\n",
    "    LOCUS_A,\n",
    "    LOCUS_B,\n",
    "    set_A_homing_dependency,\n",
    "    set_B_homing_dependency,\n",
    "    set_XS_dependency = unpack_construct_label(construct_label) #unpacks details of construct from label\n",
    "\n",
    "    params,\n",
    "    A_homing_dependency,\n",
    "    B_homing_dependency,\n",
    "    XS_dependency = Assign_baseline_params(LOCUS_A,\n",
    "                LOCUS_B,\n",
    "                set_A_homing_dependency,\n",
    "                set_B_homing_dependency,\n",
    "                set_XS_dependency);\n",
    "\n",
    "    println(count)\n",
    "    simulate_variable_resistant_freq(construct_label,\n",
    "                                    params,\n",
    "                                    A_construct,\n",
    "                                    B_construct,\n",
    "                                    A_homing_dependency,\n",
    "                                    B_homing_dependency,\n",
    "                                    XS_dependency,\n",
    "                                    fitness_effect,\n",
    "                                    t,\n",
    "                                    resistant_freq_vec,\n",
    "                                    release_freq,\n",
    "                                    \"_4allelemodelNtrl\")\n",
    "                                    \n",
    "end"
   ]
  },
  {
   "cell_type": "code",
   "execution_count": 16,
   "id": "heavy-triple",
   "metadata": {
    "code_folding": [
     0
    ]
   },
   "outputs": [
    {
     "name": "stdout",
     "output_type": "stream",
     "text": [
      "1\n",
      "Simulation complete\n",
      "2\n",
      "Simulation complete\n",
      "3\n",
      "Simulation complete\n",
      "4\n",
      "Simulation complete\n",
      "5\n",
      "Simulation complete\n"
     ]
    }
   ],
   "source": [
    "#Iterate over all the constructs: HI differentiated site and r=0.01\n",
    "A_construct = []\n",
    "B_construct = []\n",
    "fitness_effect = \"adult\"\n",
    "\n",
    "count = 0\n",
    "for c in constructs\n",
    "    \n",
    "    construct_label = c[1]\n",
    "    count = count+1\n",
    "    LOCUS_A,\n",
    "    LOCUS_B,\n",
    "    set_A_homing_dependency,\n",
    "    set_B_homing_dependency,\n",
    "    set_XS_dependency = unpack_construct_label(construct_label)\n",
    "\n",
    "    params,\n",
    "    A_homing_dependency,\n",
    "    B_homing_dependency,\n",
    "    XS_dependency = Assign_baseline_params(LOCUS_A,\n",
    "                LOCUS_B,\n",
    "                set_A_homing_dependency,\n",
    "                set_B_homing_dependency,\n",
    "                set_XS_dependency);\n",
    "    \n",
    "    #linkage\n",
    "    params[\"r\"]=0.01\n",
    "    \n",
    "    #all NHEJ products have a HI fitness cost\n",
    "    params[\"sraf\"] = 1.0 #Assign some fitness cost to the resistant allele\n",
    "    params[\"hraf\"] = 1.0 #Dominant fitness cost to the resistant allele\n",
    "    params[\"siraf\"] = 1.0 #Dominant fitness cost to the resistant allele\n",
    "    params[\"sram\"] = 1.0 #Assign some fitness cost to the resistant allele\n",
    "    params[\"hram\"] = 1.0 #Dominant fitness cost to the resistant allele\n",
    "    params[\"siram\"] = 1.0 #Dominant fitness cost to the resistant allele\n",
    "    \n",
    "    println(count)\n",
    "    simulate_variable_resistant_freq(construct_label,\n",
    "                                    params,\n",
    "                                    A_construct,\n",
    "                                    B_construct,\n",
    "                                    A_homing_dependency,\n",
    "                                    B_homing_dependency,\n",
    "                                    XS_dependency,\n",
    "                                    fitness_effect,\n",
    "                                    t,\n",
    "                                    resistant_freq_vec,\n",
    "                                    release_freq,\n",
    "                                    \"_4allelemodelHI_r0.01\")\n",
    "                                    \n",
    "end"
   ]
  },
  {
   "cell_type": "code",
   "execution_count": 17,
   "id": "cloudy-plenty",
   "metadata": {
    "code_folding": [
     0
    ]
   },
   "outputs": [
    {
     "name": "stdout",
     "output_type": "stream",
     "text": [
      "1\n",
      "Simulation complete\n",
      "2\n",
      "Simulation complete\n",
      "3\n",
      "Simulation complete\n",
      "4\n",
      "Simulation complete\n",
      "5\n",
      "Simulation complete\n"
     ]
    }
   ],
   "source": [
    "#Iterate over all the constructs: Ntrl differentiated site and r=0.01\n",
    "A_construct = []\n",
    "B_construct = []\n",
    "fitness_effect = \"adult\"\n",
    "\n",
    "count = 0\n",
    "for c in constructs\n",
    "    \n",
    "    construct_label = c[1]\n",
    "    count = count+1\n",
    "    LOCUS_A,\n",
    "    LOCUS_B,\n",
    "    set_A_homing_dependency,\n",
    "    set_B_homing_dependency,\n",
    "    set_XS_dependency = unpack_construct_label(construct_label)\n",
    "\n",
    "    params,\n",
    "    A_homing_dependency,\n",
    "    B_homing_dependency,\n",
    "    XS_dependency = Assign_baseline_params(LOCUS_A,\n",
    "                LOCUS_B,\n",
    "                set_A_homing_dependency,\n",
    "                set_B_homing_dependency,\n",
    "                set_XS_dependency);\n",
    "    \n",
    "    #linkage\n",
    "    params[\"r\"]=0.01\n",
    "\n",
    "    println(count)\n",
    "    simulate_variable_resistant_freq(construct_label,\n",
    "                                    params,\n",
    "                                    A_construct,\n",
    "                                    B_construct,\n",
    "                                    A_homing_dependency,\n",
    "                                    B_homing_dependency,\n",
    "                                    XS_dependency,\n",
    "                                    fitness_effect,\n",
    "                                    t,\n",
    "                                    resistant_freq_vec,\n",
    "                                    release_freq,\n",
    "                                    \"_4allelemodelNtrl_r0.01\")\n",
    "                                    \n",
    "end"
   ]
  },
  {
   "cell_type": "code",
   "execution_count": 18,
   "id": "floppy-dublin",
   "metadata": {
    "code_folding": [
     0
    ]
   },
   "outputs": [
    {
     "name": "stdout",
     "output_type": "stream",
     "text": [
      "1\n",
      "Simulation complete\n",
      "2\n",
      "Simulation complete\n",
      "3\n",
      "Simulation complete\n",
      "4\n",
      "Simulation complete\n",
      "5\n",
      "Simulation complete\n"
     ]
    }
   ],
   "source": [
    "#Iterate over all the constructs: HI differentiated site \n",
    "A_construct = []\n",
    "B_construct = []\n",
    "fitness_effect = \"adult\"\n",
    "\n",
    "count = 0\n",
    "for c in constructs\n",
    "    \n",
    "    construct_label = c[1]\n",
    "    count = count+1\n",
    "    LOCUS_A,\n",
    "    LOCUS_B,\n",
    "    set_A_homing_dependency,\n",
    "    set_B_homing_dependency,\n",
    "    set_XS_dependency = unpack_construct_label(construct_label)\n",
    "\n",
    "    params,\n",
    "    A_homing_dependency,\n",
    "    B_homing_dependency,\n",
    "    XS_dependency = Assign_baseline_params(LOCUS_A,\n",
    "                LOCUS_B,\n",
    "                set_A_homing_dependency,\n",
    "                set_B_homing_dependency,\n",
    "                set_XS_dependency);\n",
    "    \n",
    "    #all NHEJ products have a HI fitness cost\n",
    "    params[\"sraf\"] = 1.0 #Assign some fitness cost to the resistant allele\n",
    "    params[\"hraf\"] = 1.0 #Dominant fitness cost to the resistant allele\n",
    "    params[\"siraf\"] = 1.0 #Dominant fitness cost to the resistant allele\n",
    "    params[\"sram\"] = 1.0 #Assign some fitness cost to the resistant allele\n",
    "    params[\"hram\"] = 1.0 #Dominant fitness cost to the resistant allele\n",
    "    params[\"siram\"] = 1.0 #Dominant fitness cost to the resistant allele\n",
    "    \n",
    "    println(count)\n",
    "    simulate_variable_resistant_freq(construct_label,\n",
    "                                    params,\n",
    "                                    A_construct,\n",
    "                                    B_construct,\n",
    "                                    A_homing_dependency,\n",
    "                                    B_homing_dependency,\n",
    "                                    XS_dependency,\n",
    "                                    fitness_effect,\n",
    "                                    t,\n",
    "                                    resistant_freq_vec,\n",
    "                                    release_freq,\n",
    "                                    \"_4allelemodelHI\")\n",
    "                                    \n",
    "end"
   ]
  },
  {
   "cell_type": "code",
   "execution_count": 19,
   "id": "fifteen-artist",
   "metadata": {
    "code_folding": [
     0
    ]
   },
   "outputs": [
    {
     "name": "stdout",
     "output_type": "stream",
     "text": [
      "1\n",
      "Simulation complete\n",
      "2\n",
      "Simulation complete\n",
      "3\n",
      "Simulation complete\n",
      "4\n",
      "Simulation complete\n",
      "5\n",
      "Simulation complete\n"
     ]
    }
   ],
   "source": [
    "#Iterate over all the constructs: HS differentiated site\n",
    "A_construct = []\n",
    "B_construct = []\n",
    "fitness_effect = \"adult\"\n",
    "\n",
    "count = 0\n",
    "for c in constructs\n",
    "    \n",
    "    construct_label = c[1]\n",
    "    count = count+1\n",
    "    LOCUS_A,\n",
    "    LOCUS_B,\n",
    "    set_A_homing_dependency,\n",
    "    set_B_homing_dependency,\n",
    "    set_XS_dependency = unpack_construct_label(construct_label)\n",
    "\n",
    "    params,\n",
    "    A_homing_dependency,\n",
    "    B_homing_dependency,\n",
    "    XS_dependency = Assign_baseline_params(LOCUS_A,\n",
    "                LOCUS_B,\n",
    "                set_A_homing_dependency,\n",
    "                set_B_homing_dependency,\n",
    "                set_XS_dependency);\n",
    "    \n",
    "    #all NHEJ products have a HS fitness cost  \n",
    "    params[\"sraf\"] = 1.0 #Assign some fitness cost to the resistant allele\n",
    "    params[\"sram\"] = 1.0 #Assign some fitness cost to the resistant allele\n",
    "\n",
    "    println(count)\n",
    "    simulate_variable_resistant_freq(construct_label,\n",
    "                                    params,\n",
    "                                    A_construct,\n",
    "                                    B_construct,\n",
    "                                    A_homing_dependency,\n",
    "                                    B_homing_dependency,\n",
    "                                    XS_dependency,\n",
    "                                    fitness_effect,\n",
    "                                    t,\n",
    "                                    resistant_freq_vec,\n",
    "                                    release_freq,\n",
    "                                    \"_4allelemodelHS\")\n",
    "                                    \n",
    "end"
   ]
  },
  {
   "cell_type": "code",
   "execution_count": 27,
   "id": "corrected-wagon",
   "metadata": {
    "code_folding": [
     0
    ]
   },
   "outputs": [
    {
     "name": "stdout",
     "output_type": "stream",
     "text": [
      "1\n",
      "Simulation complete\n",
      "2\n",
      "Simulation complete\n",
      "3\n",
      "Simulation complete\n",
      "4\n",
      "Simulation complete\n",
      "5\n",
      "Simulation complete\n"
     ]
    }
   ],
   "source": [
    "#Iterate over all the constructs: Ntrl differentiated site and separate release\n",
    "A_construct = []\n",
    "B_construct = []\n",
    "fitness_effect = \"adult\"\n",
    "off_target_genotype = \"αBαB\"\n",
    "\n",
    "count = 0\n",
    "for c in constructs\n",
    "    \n",
    "    construct_label = c[1]\n",
    "    count = count+1\n",
    "    LOCUS_A,\n",
    "    LOCUS_B,\n",
    "    set_A_homing_dependency,\n",
    "    set_B_homing_dependency,\n",
    "    set_XS_dependency = unpack_construct_label(construct_label)\n",
    "\n",
    "    params,\n",
    "    A_homing_dependency,\n",
    "    B_homing_dependency,\n",
    "    XS_dependency = Assign_baseline_params(LOCUS_A,\n",
    "                LOCUS_B,\n",
    "                set_A_homing_dependency,\n",
    "                set_B_homing_dependency,\n",
    "                set_XS_dependency);\n",
    "    \n",
    "    #separate release\n",
    "    println(count)\n",
    "    simulate_variable_resistant_freq_separaterelease(construct_label, # release in separate males\n",
    "                                    params,\n",
    "                                    A_construct,\n",
    "                                    B_construct,\n",
    "                                    A_homing_dependency,\n",
    "                                    B_homing_dependency,\n",
    "                                    XS_dependency,\n",
    "                                    fitness_effect,\n",
    "                                    t,\n",
    "                                    resistant_freq_vec,\n",
    "                                    release_freq,\n",
    "                                    \"_4allelemodelNtrl_separatereleases\")\n",
    "                                    \n",
    "end"
   ]
  },
  {
   "cell_type": "markdown",
   "id": "micro-glory",
   "metadata": {},
   "source": [
    "### Figure 4"
   ]
  },
  {
   "cell_type": "code",
   "execution_count": 10,
   "id": "smaller-official",
   "metadata": {
    "code_folding": [
     0
    ]
   },
   "outputs": [
    {
     "data": {
      "image/png": "[encoded data removed]",
      "text/plain": [
       "PyPlot.Figure(PyObject <Figure size 450x270 with 1 Axes>)"
      ]
     },
     "metadata": {},
     "output_type": "display_data"
    }
   ],
   "source": [
    "#Plot ntrl differentiated site + HI differentiated site with r=0.01 \n",
    "release_freq = 0.001\n",
    "resistant_freq_vec = collect(0.0:0.01:1.0)\n",
    "t = 1000\n",
    "\n",
    "f1 = PyPlot.figure(figsize=(4.5,2.7),frameon=false)\n",
    "count = 0\n",
    "\n",
    "for i in constructs\n",
    "    count = count+1\n",
    "    construct_label = i[1]\n",
    "    output = extract_minfemales(construct_label,resistant_freq_vec,release_freq,\"_4allelemodelHI_r0.01\");\n",
    "    PyPlot.plot(resistant_freq_vec,output,i[2],linestyle=\"--\")\n",
    "\n",
    "end\n",
    "count=0\n",
    "for i in constructs\n",
    "    count = count+1\n",
    "    construct_label = i[1]\n",
    "    output = extract_minfemales(construct_label,resistant_freq_vec,release_freq,\"_4allelemodelNtrl\");\n",
    "    PyPlot.plot(resistant_freq_vec,output,i[2],linestyle=\"-\",label=count)\n",
    "    \n",
    "end\n",
    "\n",
    "\n",
    "PyPlot.xlim([0,1])\n",
    "PyPlot.ylim([10^-6,2.0])\n",
    "PyPlot.yscale(\"log\")\n",
    "\n",
    "PyPlot.tight_layout()\n",
    "PyPlot.yticks([10^-6,10^-4,10^-2,10^-0],\n",
    "    [\"\\$10^{-6}\\$\",\"\\$10^{-4}\\$\",\"\\$10^{-2}\\$\",\"1.0\"],size=10)\n",
    "PyPlot.xticks(size=10)\n",
    "\n",
    "lgd = PyPlot.legend(title=\"Design\",fontsize=8,bbox_to_anchor=(1.0, 0.5),frameon=false)\n",
    "PyPlot.show()\n"
   ]
  },
  {
   "cell_type": "markdown",
   "id": "peripheral-distance",
   "metadata": {},
   "source": [
    "### Figure S4"
   ]
  },
  {
   "cell_type": "code",
   "execution_count": 31,
   "id": "excellent-class",
   "metadata": {
    "code_folding": [
     0
    ]
   },
   "outputs": [
    {
     "data": {
      "image/png": "[encoded data removed]",
      "text/plain": [
       "PyPlot.Figure(PyObject <Figure size 400x250 with 1 Axes>)"
      ]
     },
     "metadata": {},
     "output_type": "display_data"
    }
   ],
   "source": [
    "#Plot HI differentiated site  \n",
    "PyPlot.rc(\"font\", family=\"Arial\")\n",
    "PyPlot.rc(\"xtick\", labelsize=12)\n",
    "PyPlot.rc(\"ytick\", labelsize=12)\n",
    "\n",
    "release_freq = 0.001\n",
    "off_target_freq_vec = collect(0.0:0.01:1.0)\n",
    "t = 1000\n",
    "\n",
    "f1 = PyPlot.figure(figsize=(4,2.5),frameon=false)\n",
    "count = 0\n",
    "\n",
    "for i in constructs\n",
    "    count = count+1\n",
    "    construct_label = i[1]\n",
    "    \n",
    "    #neutral site\n",
    "    output = extract_minfemales(construct_label,off_target_freq_vec,release_freq,\"_4allelemodelNtrl\");\n",
    "    #PyPlot.plot(off_target_freq_vec,output,label=construct_label)\n",
    "    PyPlot.plot(off_target_freq_vec,output,i[2],linestyle=\"-\",alpha=0.5,label=string(count))\n",
    "\n",
    "    #HI gene using 4 alleles \n",
    "    output = extract_minfemales(construct_label,off_target_freq_vec,release_freq,\"_4allelemodelHI\");\n",
    "    #PyPlot.plot(off_target_freq_vec,output,label=construct_label)\n",
    "    PyPlot.plot(off_target_freq_vec,output,i[2],linestyle=\"--\")\n",
    "end\n",
    "\n",
    "PyPlot.xlim([0,1])\n",
    "PyPlot.ylim([10^-6,2.0])\n",
    "PyPlot.yscale(\"log\")\n",
    "\n",
    "#PyPlot.xlabel(\"Standing resistance\",size=10)\n",
    "#PyPlot.ylabel(\"Minimum population size\",size=10)\n",
    "\n",
    "#PyPlot.xlabel(\"Standing resistance\",size=10)\n",
    "#PyPlot.ylabel(\"Minimum population size\",size=10)\n",
    "\n",
    "PyPlot.tight_layout()\n",
    "#lgd = PyPlot.legend(bbox_to_anchor=(1.1, 1.05))\n",
    "PyPlot.yticks([10^-6,10^-4,10^-2,10^-0],\n",
    "    [\"\\$10^{-6}\\$\",\"\\$10^{-4}\\$\",\"\\$10^{-2}\\$\",\"1.0\"])\n",
    "\n",
    "#lgd = PyPlot.legend(title=\"Design\",fontsize=12,bbox_to_anchor=(1.0, 1.05))\n",
    "lgd = PyPlot.legend(title=\"Design\",fontsize=8,bbox_to_anchor=(1.0, 0.58),frameon=false)\n",
    "\n",
    "\n",
    "#PyPlot.savefig(file_prefix*\".pdf\", bbox_extra_artists=(lgd,), bbox_inches=\"tight\")\n",
    "PyPlot.savefig(\"../results/PaperFigures/fig4_HI.pdf\")\n",
    "PyPlot.show()\n",
    "\n",
    "PyPlot.rc(\"font\", family=\"Arial\")\n",
    "PyPlot.rc(\"xtick\", labelsize=10)\n",
    "PyPlot.rc(\"ytick\", labelsize=10)"
   ]
  },
  {
   "cell_type": "code",
   "execution_count": 32,
   "id": "durable-guard",
   "metadata": {
    "code_folding": [
     0
    ]
   },
   "outputs": [
    {
     "data": {
      "image/png": "[encoded data removed]",
      "text/plain": [
       "PyPlot.Figure(PyObject <Figure size 400x250 with 1 Axes>)"
      ]
     },
     "metadata": {},
     "output_type": "display_data"
    }
   ],
   "source": [
    "#Plot HS differentiated site \n",
    "\n",
    "release_freq = 0.001\n",
    "off_target_freq_vec = collect(0.0:0.01:1.0)\n",
    "t = 1000\n",
    "\n",
    "f1 = PyPlot.figure(figsize=(4,2.5),frameon=false)\n",
    "count = 0\n",
    "\n",
    "for i in constructs\n",
    "    count = count+1\n",
    "    construct_label = i[1]\n",
    "    \n",
    "    #neutral site\n",
    "    output = extract_minfemales(construct_label,off_target_freq_vec,release_freq,\"_4allelemodelNtrl\");\n",
    "    #PyPlot.plot(off_target_freq_vec,output,label=construct_label)\n",
    "    PyPlot.plot(off_target_freq_vec,output,i[2],linestyle=\"-\",alpha=0.5,label=\"Design \"*string(count))\n",
    "\n",
    "    #HI gene using 4 alleles \n",
    "    output = extract_minfemales(construct_label,off_target_freq_vec,release_freq,\"_4allelemodelHS\");\n",
    "    #PyPlot.plot(off_target_freq_vec,output,label=construct_label)\n",
    "    PyPlot.plot(off_target_freq_vec,output,i[2],linestyle=\"--\")\n",
    "end\n",
    "\n",
    "PyPlot.xlim([0,1])\n",
    "PyPlot.ylim([10^-6,2.0])\n",
    "PyPlot.yscale(\"log\")\n",
    "\n",
    "#PyPlot.xlabel(\"Standing resistance\",size=10)\n",
    "#PyPlot.ylabel(\"Minimum population size\",size=10)\n",
    "\n",
    "#PyPlot.xlabel(\"Standing resistance\",size=10)\n",
    "#PyPlot.ylabel(\"Minimum population size\",size=10)\n",
    "\n",
    "PyPlot.tight_layout()\n",
    "#lgd = PyPlot.legend(bbox_to_anchor=(1.1, 1.05))\n",
    "PyPlot.yticks([10^-6,10^-4,10^-2,10^-0],\n",
    "    [\"\\$10^{-6}\\$\",\"\\$10^{-4}\\$\",\"\\$10^{-2}\\$\",\"1.0\"])\n",
    "\n",
    "\n",
    "#PyPlot.savefig(file_prefix*\".pdf\", bbox_extra_artists=(lgd,), bbox_inches=\"tight\")\n",
    "PyPlot.savefig(\"../results/PaperFigures/fig4_HS.pdf\")\n",
    "PyPlot.show()\n",
    "\n",
    "\n"
   ]
  },
  {
   "cell_type": "code",
   "execution_count": 35,
   "id": "north-retail",
   "metadata": {
    "code_folding": [
     0
    ]
   },
   "outputs": [
    {
     "data": {
      "image/png": "[encoded data removed]",
      "text/plain": [
       "PyPlot.Figure(PyObject <Figure size 400x250 with 1 Axes>)"
      ]
     },
     "metadata": {},
     "output_type": "display_data"
    }
   ],
   "source": [
    "#Plot ntrl differentiated site + r = 0.01\n",
    "transgenic_genotype = \"ABab\" #We release heterozygote males\n",
    "off_target_genotype = \"αBαB\"\n",
    "\n",
    "release_freq = 0.001\n",
    "off_target_freq_vec = collect(0.0:0.01:1.0)\n",
    "t = 1000\n",
    "\n",
    "f1 = PyPlot.figure(figsize=(4,2.5),frameon=false)\n",
    "count = 0\n",
    "\n",
    "for i in constructs\n",
    "    count = count+1\n",
    "    construct_label = i[1]\n",
    "    \n",
    "    #neutral site\n",
    "    output = extract_minfemales(construct_label,off_target_freq_vec,release_freq,\"_4allelemodelNtrl\");\n",
    "    #PyPlot.plot(off_target_freq_vec,output,label=construct_label)\n",
    "    PyPlot.plot(off_target_freq_vec,output,i[2],linestyle=\"-\",label=\"Design \"*string(count))\n",
    "    \n",
    "    #HI gene approximation\n",
    "    output = extract_minfemales(construct_label,off_target_freq_vec,release_freq,\"_4allelemodelNtrl_r0.01\");\n",
    "    #PyPlot.plot(off_target_freq_vec,output,label=construct_label)\n",
    "    PyPlot.plot(off_target_freq_vec,output,i[2],linestyle=\"--\")\n",
    "end\n",
    "\n",
    "PyPlot.xlim([0,1])\n",
    "PyPlot.ylim([10^-6,2.0])\n",
    "PyPlot.yscale(\"log\")\n",
    "\n",
    "#PyPlot.xlabel(\"Standing resistance\",size=10)\n",
    "#PyPlot.ylabel(\"Minimum population size\",size=10)\n",
    "PyPlot.yticks([10^-6,10^-4,10^-2,10^-0],\n",
    "    [\"\\$10^{-6}\\$\",\"\\$10^{-4}\\$\",\"\\$10^{-2}\\$\",\"1.0\"])\n",
    "\n",
    "\n",
    "PyPlot.tight_layout()\n",
    "#lgd = PyPlot.legend(bbox_to_anchor=(1.1, 1.05))\n",
    "#PyPlot.savefig(file_prefix*\".pdf\", bbox_extra_artists=(lgd,), bbox_inches=\"tight\")\n",
    "PyPlot.savefig(\"../results/PaperFigures/fig4_r0.01.pdf\")\n",
    "\n",
    "\n",
    "PyPlot.show()\n"
   ]
  },
  {
   "cell_type": "code",
   "execution_count": 36,
   "id": "racial-cargo",
   "metadata": {
    "code_folding": [
     0
    ],
    "scrolled": true
   },
   "outputs": [
    {
     "data": {
      "image/png": "[encoded data removed]",
      "text/plain": [
       "PyPlot.Figure(PyObject <Figure size 400x250 with 1 Axes>)"
      ]
     },
     "metadata": {},
     "output_type": "display_data"
    }
   ],
   "source": [
    "#Plot ntrl differentiated site separate releases of males \n",
    "transgenic_genotype = \"ABab\" #We release heterozygote males\n",
    "off_target_genotype = \"αBαB\"\n",
    "\n",
    "release_freq = 0.001\n",
    "off_target_freq_vec = collect(0.0:0.01:1.0)\n",
    "t = 1000\n",
    "\n",
    "f1 = PyPlot.figure(figsize=(4,2.5),frameon=false)\n",
    "count = 0\n",
    "\n",
    "for i in constructs\n",
    "    count = count+1\n",
    "    construct_label = i[1]\n",
    "    \n",
    "    #neutral site\n",
    "    output = extract_minfemales(construct_label,off_target_freq_vec,release_freq,\"_4allelemodelNtrl\");\n",
    "    #PyPlot.plot(off_target_freq_vec,output,label=construct_label)\n",
    "    PyPlot.plot(off_target_freq_vec,output,i[2],linestyle=\"-\",label=count)\n",
    "    \n",
    "    #HI gene approximation\n",
    "    output = extract_minfemales(construct_label,off_target_freq_vec,release_freq,\"_4allelemodelNtrl_separatereleases\");\n",
    "    #PyPlot.plot(off_target_freq_vec,output,label=construct_label)\n",
    "    PyPlot.plot(off_target_freq_vec,output,i[2],linestyle=\"--\")\n",
    "end\n",
    "\n",
    "PyPlot.xlim([0,1])\n",
    "PyPlot.ylim([10^-6,2.0])\n",
    "PyPlot.yscale(\"log\")\n",
    "\n",
    "#PyPlot.xlabel(\"Standing resistance\",size=10)\n",
    "#PyPlot.ylabel(\"Minimum population size\",size=10)\n",
    "\n",
    "PyPlot.tight_layout()\n",
    "PyPlot.yticks([10^-6,10^-4,10^-2,10^-0],\n",
    "    [\"\\$10^{-6}\\$\",\"\\$10^{-4}\\$\",\"\\$10^{-2}\\$\",\"1.0\"],size=10)\n",
    "PyPlot.xticks(size=10)\n",
    "\n",
    "PyPlot.show()\n",
    "\n"
   ]
  }
 ],
 "metadata": {
  "kernelspec": {
   "display_name": "Julia 1.5.2",
   "language": "julia",
   "name": "julia-1.5"
  },
  "language_info": {
   "file_extension": ".jl",
   "mimetype": "application/julia",
   "name": "julia",
   "version": "1.5.3"
  }
 },
 "nbformat": 4,
 "nbformat_minor": 5
}
