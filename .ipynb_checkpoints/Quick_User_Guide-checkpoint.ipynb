{
 "cells": [
  {
   "cell_type": "markdown",
   "id": "supported-component",
   "metadata": {},
   "source": [
    "\n",
    "# Quick guide for running double drive simulations\n",
    "\n",
    "23-02-21\n",
    "\n",
    "Katie Willis\n",
    "\n",
    "katie.willis16@imperial.ac.uk"
   ]
  },
  {
   "cell_type": "markdown",
   "id": "mineral-treasury",
   "metadata": {},
   "source": [
    "## Setup"
   ]
  },
  {
   "cell_type": "markdown",
   "id": "failing-checklist",
   "metadata": {},
   "source": [
    "To load the environment and required packages:"
   ]
  },
  {
   "cell_type": "code",
   "execution_count": null,
   "id": "current-brake",
   "metadata": {},
   "outputs": [],
   "source": [
    "] activate \"./Environment/\" "
   ]
  },
  {
   "cell_type": "code",
   "execution_count": 2,
   "id": "jewish-exemption",
   "metadata": {},
   "outputs": [
    {
     "data": {
      "text/plain": [
       "Plots.PyPlotBackend()"
      ]
     },
     "execution_count": 2,
     "metadata": {},
     "output_type": "execute_result"
    }
   ],
   "source": [
    "#For simulating\n",
    "using NBInclude\n",
    "@nbinclude(\"./Environment/Setup.ipynb\");"
   ]
  },
  {
   "cell_type": "code",
   "execution_count": null,
   "id": "bottom-score",
   "metadata": {},
   "outputs": [],
   "source": [
    "#For plotting\n",
    "using Plots; pyplot()"
   ]
  },
  {
   "cell_type": "markdown",
   "id": "agricultural-listening",
   "metadata": {
    "heading_collapsed": true
   },
   "source": [
    "## Baseline double drive simulator"
   ]
  },
  {
   "cell_type": "code",
   "execution_count": 126,
   "id": "magnetic-holder",
   "metadata": {
    "hidden": true
   },
   "outputs": [],
   "source": [
    "#Load baseline model\n",
    "@nbinclude(\"DoubleDrive_Simulator_Baseline.ipynb\");"
   ]
  },
  {
   "cell_type": "markdown",
   "id": "aquatic-apple",
   "metadata": {
    "hidden": true
   },
   "source": [
    "Here we use design 1 as an example. "
   ]
  },
  {
   "cell_type": "markdown",
   "id": "collective-alarm",
   "metadata": {
    "hidden": true
   },
   "source": [
    "\n",
    "###### Define design details."
   ]
  },
  {
   "cell_type": "code",
   "execution_count": 127,
   "id": "prepared-intranet",
   "metadata": {
    "hidden": true
   },
   "outputs": [],
   "source": [
    "A_homing_dependency = \"constitutive\"\n",
    "B_homing_dependency = \"conditional\"\n",
    "XS_dependency = \"none\"\n",
    "A_construct = [\"cas9\",\"grna\"] #if left empty assumes no expression costs\n",
    "B_construct = [\"grna\"] #if left empty assumes no expression costs\n",
    "fitness_effect = \"adult\";"
   ]
  },
  {
   "cell_type": "markdown",
   "id": "documented-forum",
   "metadata": {
    "hidden": true
   },
   "source": [
    "\n",
    "###### Set parameters"
   ]
  },
  {
   "cell_type": "markdown",
   "id": "yellow-trinity",
   "metadata": {
    "hidden": true
   },
   "source": [
    "Alternaively parameters can be set manually by initiating a default parameter dictionary where: \n",
    "* m = 0.5\n",
    "* r = 0.5\n",
    "* Rm = 6 \n",
    "* Nf_eq = 1000 (Number of females or males at equlibrium)\n",
    "* OJ = 1/10\n",
    "* therefore:\n",
    "    * f = (2*Rm)/OJ_\n",
    "    * α = f_*Nf_eq/(Rm-1)\n",
    "     "
   ]
  },
  {
   "cell_type": "code",
   "execution_count": 128,
   "id": "progressive-volume",
   "metadata": {
    "hidden": true
   },
   "outputs": [
    {
     "data": {
      "text/plain": [
       "Dict{String,Float64} with 55 entries:\n",
       "  \"sXSf\"   => 0.0\n",
       "  \"jam\"    => 0.0\n",
       "  \"r\"      => 0.5\n",
       "  \"scasf\"  => 0.0\n",
       "  \"sSam\"   => 0.0\n",
       "  \"siam\"   => 0.0\n",
       "  \"sSbm\"   => 0.0\n",
       "  \"scasm\"  => 0.0\n",
       "  \"jbf\"    => 0.0\n",
       "  \"sHaf\"   => 0.0\n",
       "  \"hibf\"   => 0.0\n",
       "  \"sSbf\"   => 0.0\n",
       "  \"hram\"   => 0.0\n",
       "  \"cbm\"    => 0.0\n",
       "  \"hcasm\"  => 0.0\n",
       "  \"sHbf\"   => 0.0\n",
       "  \"siraf\"  => 0.0\n",
       "  \"cam\"    => 0.0\n",
       "  \"OJ\"     => 0.1\n",
       "  \"cbf\"    => 0.0\n",
       "  \"hXSm\"   => 0.0\n",
       "  \"sHam\"   => 0.0\n",
       "  \"hraf\"   => 0.0\n",
       "  \"sSaf\"   => 0.0\n",
       "  \"hgRNAm\" => 0.0\n",
       "  ⋮        => ⋮"
      ]
     },
     "execution_count": 128,
     "metadata": {},
     "output_type": "execute_result"
    }
   ],
   "source": [
    "params = Initiate_baseline_parameters()"
   ]
  },
  {
   "cell_type": "code",
   "execution_count": 130,
   "id": "buried-grace",
   "metadata": {
    "hidden": true
   },
   "outputs": [
    {
     "data": {
      "text/plain": [
       "Dict{String,Float64} with 55 entries:\n",
       "  \"sXSf\"   => 0.0\n",
       "  \"jam\"    => 0.0\n",
       "  \"r\"      => 0.5\n",
       "  \"scasf\"  => 0.0\n",
       "  \"sSam\"   => 0.0\n",
       "  \"siam\"   => 0.0\n",
       "  \"sSbm\"   => 0.0\n",
       "  \"scasm\"  => 0.0\n",
       "  \"jbf\"    => 0.0\n",
       "  \"sHaf\"   => 0.0\n",
       "  \"hibf\"   => 0.0\n",
       "  \"sSbf\"   => 0.0\n",
       "  \"hram\"   => 0.0\n",
       "  \"cbm\"    => 0.0\n",
       "  \"hcasm\"  => 0.0\n",
       "  \"sHbf\"   => 0.0\n",
       "  \"siraf\"  => 0.0\n",
       "  \"cam\"    => 0.0\n",
       "  \"OJ\"     => 0.1\n",
       "  \"cbf\"    => 0.0\n",
       "  \"hXSm\"   => 0.0\n",
       "  \"sHam\"   => 0.0\n",
       "  \"hraf\"   => 0.0\n",
       "  \"sSaf\"   => 0.0\n",
       "  \"hgRNAm\" => 0.0\n",
       "  ⋮        => ⋮"
      ]
     },
     "execution_count": 130,
     "metadata": {},
     "output_type": "execute_result"
    }
   ],
   "source": [
    "params = Initiate_baseline_parameters()"
   ]
  },
  {
   "cell_type": "markdown",
   "id": "talented-million",
   "metadata": {
    "hidden": true
   },
   "source": [
    "It's content can be modified by:"
   ]
  },
  {
   "cell_type": "code",
   "execution_count": 152,
   "id": "fresh-lincoln",
   "metadata": {
    "hidden": true
   },
   "outputs": [
    {
     "data": {
      "text/plain": [
       "0.01"
      ]
     },
     "execution_count": 152,
     "metadata": {},
     "output_type": "execute_result"
    }
   ],
   "source": [
    "#Fitness costs at the differentiated site remain zero since it is neutral\n",
    "#Fitness costs at the haplo-sufficient female specific gene\n",
    "params[\"sibf\"]=1.0 \n",
    "params[\"srbf\"]=1.0 \n",
    "params[\"sirbf\"] = 1.0\n",
    "\n",
    "#homing occurs at both loci\n",
    "params[\"caf\"] = 0.971\n",
    "params[\"jaf\"] = 0.019\n",
    "params[\"cam\"] = 0.971\n",
    "params[\"jam\"] = 0.019\n",
    "params[\"cbf\"] = 0.971\n",
    "params[\"jbf\"] = 0.019\n",
    "params[\"cbm\"] = 0.971\n",
    "params[\"jbm\"] = 0.019\n",
    "\n",
    "#off target cleavage cost of 1%\n",
    "params[\"sHaf\"] = 0.01\n",
    "params[\"sHam\"] = 0.01\n",
    "params[\"sHbf\"] = 0.01\n",
    "params[\"sHbm\"] = 0.01"
   ]
  },
  {
   "cell_type": "markdown",
   "id": "senior-affiliation",
   "metadata": {
    "hidden": true
   },
   "source": [
    "\n",
    "###### Define starting population\n",
    "\n",
    "Define the population pre-release:"
   ]
  },
  {
   "cell_type": "code",
   "execution_count": 132,
   "id": "similar-lafayette",
   "metadata": {
    "hidden": true
   },
   "outputs": [],
   "source": [
    "resistant_allele = \"α\"\n",
    "resistant_freq = 0.01\n",
    "pre_pop = Initiate_prerelease_population_3lifestages(resistant_allele, \n",
    "                                                        resistant_freq, \n",
    "                                                        params);"
   ]
  },
  {
   "cell_type": "markdown",
   "id": "assured-bunny",
   "metadata": {
    "hidden": true
   },
   "source": [
    "Release transgenic males:"
   ]
  },
  {
   "cell_type": "code",
   "execution_count": 133,
   "id": "incorrect-guatemala",
   "metadata": {
    "hidden": true
   },
   "outputs": [
    {
     "data": {
      "text/plain": [
       "45×6 Transpose{Float64,Array{Float64,2}}:\n",
       " 58806.0  58806.0  980.1  980.1  980.1  980.1\n",
       "     0.0      0.0    0.0    0.0    0.0    0.0\n",
       "     0.0      0.0    0.0    0.0    0.0    0.0\n",
       "     0.0      0.0    0.0    0.0    0.0    0.0\n",
       "     0.0      0.0    0.0    0.0    0.0    1.0\n",
       "     0.0      0.0    0.0    0.0    0.0    0.0\n",
       "  1188.0   1188.0   19.8   19.8   19.8   19.8\n",
       "     0.0      0.0    0.0    0.0    0.0    0.0\n",
       "     0.0      0.0    0.0    0.0    0.0    0.0\n",
       "     0.0      0.0    0.0    0.0    0.0    0.0\n",
       "     0.0      0.0    0.0    0.0    0.0    0.0\n",
       "     0.0      0.0    0.0    0.0    0.0    0.0\n",
       "     0.0      0.0    0.0    0.0    0.0    0.0\n",
       "     ⋮                                    ⋮\n",
       "     0.0      0.0    0.0    0.0    0.0    0.0\n",
       "     0.0      0.0    0.0    0.0    0.0    0.0\n",
       "     0.0      0.0    0.0    0.0    0.0    0.0\n",
       "     0.0      0.0    0.0    0.0    0.0    0.0\n",
       "     0.0      0.0    0.0    0.0    0.0    0.0\n",
       "     0.0      0.0    0.0    0.0    0.0    0.0\n",
       "     6.0      6.0    0.1    0.1    0.1    0.1\n",
       "     0.0      0.0    0.0    0.0    0.0    0.0\n",
       "     0.0      0.0    0.0    0.0    0.0    0.0\n",
       "     0.0      0.0    0.0    0.0    0.0    0.0\n",
       "     0.0      0.0    0.0    0.0    0.0    0.0\n",
       "     0.0      0.0    0.0    0.0    0.0    0.0"
      ]
     },
     "execution_count": 133,
     "metadata": {},
     "output_type": "execute_result"
    }
   ],
   "source": [
    "transgenic_genotype = \"ABab\"\n",
    "release_freq = 0.001\n",
    "starting_population_post_release = release_transgenic_males(\n",
    "    pre_pop,\n",
    "    Symbol(transgenic_genotype),\n",
    "    release_freq)"
   ]
  },
  {
   "cell_type": "markdown",
   "id": "proprietary-groove",
   "metadata": {
    "hidden": true
   },
   "source": [
    "The order of genotypes is as in the global variable 'genotypes'"
   ]
  },
  {
   "cell_type": "code",
   "execution_count": 134,
   "id": "finite-guide",
   "metadata": {
    "hidden": true
   },
   "outputs": [
    {
     "data": {
      "text/plain": [
       "45-element Array{Any,1}:\n",
       " [\"AB\" \"AB\"]\n",
       " [\"AB\" \"Ab\"]\n",
       " [\"AB\" \"Aβ\"]\n",
       " [\"AB\" \"aB\"]\n",
       " [\"AB\" \"ab\"]\n",
       " [\"AB\" \"aβ\"]\n",
       " [\"AB\" \"αB\"]\n",
       " [\"AB\" \"αb\"]\n",
       " [\"AB\" \"αβ\"]\n",
       " [\"Ab\" \"Ab\"]\n",
       " [\"Ab\" \"Aβ\"]\n",
       " [\"Ab\" \"aB\"]\n",
       " [\"Ab\" \"ab\"]\n",
       " ⋮\n",
       " [\"ab\" \"αb\"]\n",
       " [\"ab\" \"αβ\"]\n",
       " [\"aβ\" \"aβ\"]\n",
       " [\"aβ\" \"αB\"]\n",
       " [\"aβ\" \"αb\"]\n",
       " [\"aβ\" \"αβ\"]\n",
       " [\"αB\" \"αB\"]\n",
       " [\"αB\" \"αb\"]\n",
       " [\"αB\" \"αβ\"]\n",
       " [\"αb\" \"αb\"]\n",
       " [\"αb\" \"αβ\"]\n",
       " [\"αβ\" \"αβ\"]"
      ]
     },
     "execution_count": 134,
     "metadata": {},
     "output_type": "execute_result"
    }
   ],
   "source": [
    "genotypes"
   ]
  },
  {
   "cell_type": "markdown",
   "id": "distinct-concentration",
   "metadata": {
    "hidden": true
   },
   "source": [
    "\n",
    "###### Build matrices\n",
    "\n",
    "Based in the design details, a list of matrices required for simulation are generated. These include:  \n",
    "* fitness matrix \n",
    "* male homing matrix \n",
    "* female homing matrix\n",
    "* recombination matrix \n",
    "* sex ratio matrix"
   ]
  },
  {
   "cell_type": "code",
   "execution_count": 135,
   "id": "loved-passenger",
   "metadata": {
    "hidden": true
   },
   "outputs": [],
   "source": [
    "matrices = make_matrices(params,\n",
    "                A_construct,\n",
    "                B_construct,\n",
    "                A_homing_dependency,\n",
    "                B_homing_dependency,\n",
    "                XS_dependency);"
   ]
  },
  {
   "cell_type": "markdown",
   "id": "altered-anniversary",
   "metadata": {
    "hidden": true
   },
   "source": [
    "\n",
    "###### Simulate time series\n",
    "\n",
    "The parameters, matrices, fitness effect and starting population is used to simulate t generations. "
   ]
  },
  {
   "cell_type": "code",
   "execution_count": 136,
   "id": "dressed-switch",
   "metadata": {
    "hidden": true
   },
   "outputs": [
    {
     "data": {
      "text/plain": [
       "Dict{String,DataFrame} with 8 entries:\n",
       "  \"genotypenumber_pupae_female\"  => \u001b[1m101×45 DataFrame\u001b[0m…\n",
       "  \"genotypenumber_adult_female\"  => \u001b[1m101×45 DataFrame\u001b[0m…\n",
       "  \"genotypenumber_zygote_male\"   => \u001b[1m101×45 DataFrame\u001b[0m…\n",
       "  \"genotypenumber_pupae_male\"    => \u001b[1m101×45 DataFrame\u001b[0m…\n",
       "  \"genotypenumber_zygote_female\" => \u001b[1m101×45 DataFrame\u001b[0m…\n",
       "  \"eggnumber\"                    => \u001b[1m101×9 DataFrame\u001b[0m…\n",
       "  \"genotypenumber_adult_male\"    => \u001b[1m101×45 DataFrame\u001b[0m…\n",
       "  \"spermfreq\"                    => \u001b[1m101×18 DataFrame\u001b[0m…"
      ]
     },
     "execution_count": 136,
     "metadata": {},
     "output_type": "execute_result"
    }
   ],
   "source": [
    "t=100\n",
    "output = Simulate_timeseries(\n",
    "            params,\n",
    "            matrices,\n",
    "            fitness_effect,\n",
    "            t,\n",
    "            starting_population_post_release)"
   ]
  },
  {
   "cell_type": "markdown",
   "id": "rocky-walnut",
   "metadata": {
    "hidden": true
   },
   "source": [
    "The output is a dictionary containing numbers of each genotype and gamete through time. "
   ]
  },
  {
   "cell_type": "code",
   "execution_count": 137,
   "id": "regional-determination",
   "metadata": {
    "hidden": true
   },
   "outputs": [
    {
     "data": {
      "text/html": [
       "<table class=\"data-frame\"><thead><tr><th></th><th>ABAB</th><th>ABAb</th><th>ABAβ</th><th>ABaB</th><th>ABab</th><th>ABaβ</th><th>ABαB</th></tr><tr><th></th><th>Float64</th><th>Float64</th><th>Float64</th><th>Float64</th><th>Float64</th><th>Float64</th><th>Float64</th></tr></thead><tbody><p>101 rows × 45 columns (omitted printing of 38 columns)</p><tr><th>1</th><td>980.1</td><td>0.0</td><td>0.0</td><td>0.0</td><td>0.0</td><td>0.0</td><td>19.8</td></tr><tr><th>2</th><td>979.121</td><td>0.0140004</td><td>0.000132285</td><td>0.0140004</td><td>0.94264</td><td>0.00890669</td><td>19.7804</td></tr><tr><th>3</th><td>978.163</td><td>0.0447161</td><td>0.000550237</td><td>0.0623523</td><td>1.78635</td><td>0.0255231</td><td>19.7663</td></tr><tr><th>4</th><td>976.298</td><td>0.109472</td><td>0.00158901</td><td>0.1959</td><td>3.383</td><td>0.0567177</td><td>19.7467</td></tr><tr><th>5</th><td>972.688</td><td>0.234957</td><td>0.0037901</td><td>0.529081</td><td>6.3969</td><td>0.115365</td><td>19.7135</td></tr><tr><th>6</th><td>965.724</td><td>0.472123</td><td>0.00815478</td><td>1.31086</td><td>12.0604</td><td>0.22534</td><td>19.6538</td></tr><tr><th>7</th><td>952.373</td><td>0.913647</td><td>0.0164897</td><td>3.06294</td><td>22.6104</td><td>0.429986</td><td>19.5445</td></tr><tr><th>8</th><td>927.08</td><td>1.71873</td><td>0.0318937</td><td>6.82154</td><td>41.937</td><td>0.804668</td><td>19.3433</td></tr><tr><th>9</th><td>880.218</td><td>3.13172</td><td>0.0591245</td><td>14.4585</td><td>76.2169</td><td>1.46907</td><td>18.9731</td></tr><tr><th>10</th><td>796.973</td><td>5.43283</td><td>0.103653</td><td>28.7262</td><td>133.335</td><td>2.57596</td><td>18.2904</td></tr><tr><th>11</th><td>660.185</td><td>8.65028</td><td>0.166086</td><td>51.6584</td><td>217.47</td><td>4.20636</td><td>17.0319</td></tr><tr><th>12</th><td>464.833</td><td>11.8239</td><td>0.227874</td><td>78.7108</td><td>313.114</td><td>6.06</td><td>14.7581</td></tr><tr><th>13</th><td>245.769</td><td>12.4061</td><td>0.239623</td><td>90.8287</td><td>364.999</td><td>7.06634</td><td>10.9991</td></tr><tr><th>14</th><td>80.1924</td><td>8.40599</td><td>0.162569</td><td>66.6316</td><td>304.192</td><td>5.89005</td><td>6.07578</td></tr><tr><th>15</th><td>12.0522</td><td>2.87135</td><td>0.0555715</td><td>24.138</td><td>154.116</td><td>2.98439</td><td>1.95696</td></tr><tr><th>16</th><td>0.565856</td><td>0.360474</td><td>0.00697929</td><td>3.12798</td><td>39.3504</td><td>0.762036</td><td>0.26758</td></tr><tr><th>17</th><td>0.00657102</td><td>0.0133373</td><td>0.000258275</td><td>0.117858</td><td>4.57012</td><td>0.0885048</td><td>0.0124591</td></tr><tr><th>18</th><td>4.08086e-5</td><td>0.000225725</td><td>4.37141e-6</td><td>0.00219486</td><td>0.336115</td><td>0.00650932</td><td>0.000316594</td></tr><tr><th>19</th><td>4.56964e-7</td><td>4.2944e-6</td><td>8.31676e-8</td><td>5.72495e-5</td><td>0.0248418</td><td>0.000481104</td><td>1.20404e-5</td></tr><tr><th>20</th><td>1.37784e-8</td><td>1.38611e-7</td><td>2.68445e-9</td><td>3.23056e-6</td><td>0.00216721</td><td>4.19722e-5</td><td>1.08057e-6</td></tr><tr><th>21</th><td>9.26143e-10</td><td>8.20839e-9</td><td>1.58972e-10</td><td>3.28341e-7</td><td>0.000238633</td><td>4.62164e-6</td><td>1.94693e-7</td></tr><tr><th>22</th><td>1.14468e-10</td><td>8.62265e-10</td><td>1.66997e-11</td><td>5.00911e-8</td><td>3.46238e-5</td><td>6.70569e-7</td><td>5.87162e-8</td></tr><tr><th>23</th><td>2.5131e-11</td><td>1.60993e-10</td><td>3.118e-12</td><td>1.15222e-8</td><td>6.90142e-6</td><td>1.33663e-7</td><td>2.88794e-8</td></tr><tr><th>24</th><td>9.65112e-12</td><td>5.30487e-11</td><td>1.02742e-12</td><td>4.26309e-9</td><td>1.96993e-6</td><td>3.81527e-8</td><td>2.29617e-8</td></tr><tr><th>25</th><td>6.07631e-12</td><td>2.89625e-11</td><td>5.60932e-13</td><td>2.59105e-9</td><td>8.3044e-7</td><td>1.60837e-8</td><td>2.76774e-8</td></tr><tr><th>26</th><td>5.70316e-12</td><td>2.36679e-11</td><td>4.58392e-13</td><td>2.43062e-9</td><td>5.20447e-7</td><td>1.00799e-8</td><td>4.56044e-8</td></tr><tr><th>27</th><td>7.40947e-12</td><td>2.66162e-11</td><td>5.15494e-13</td><td>3.22257e-9</td><td>4.72962e-7</td><td>9.16021e-9</td><td>9.44241e-8</td></tr><tr><th>28</th><td>1.26748e-11</td><td>3.91483e-11</td><td>7.58214e-13</td><td>5.61511e-9</td><td>5.9357e-7</td><td>1.14962e-8</td><td>2.34282e-7</td></tr><tr><th>29</th><td>2.72823e-11</td><td>7.24797e-11</td><td>1.40377e-12</td><td>1.21506e-8</td><td>9.70753e-7</td><td>1.88014e-8</td><td>6.75958e-7</td></tr><tr><th>30</th><td>7.07589e-11</td><td>1.62711e-10</td><td>3.15136e-12</td><td>3.12264e-8</td><td>1.9613e-6</td><td>3.79861e-8</td><td>2.21066e-6</td></tr><tr><th>&vellip;</th><td>&vellip;</td><td>&vellip;</td><td>&vellip;</td><td>&vellip;</td><td>&vellip;</td><td>&vellip;</td><td>&vellip;</td></tr></tbody></table>"
      ],
      "text/latex": [
       "\\begin{tabular}{r|cccccccc}\n",
       "\t& ABAB & ABAb & ABAβ & ABaB & ABab & ABaβ & ABαB & \\\\\n",
       "\t\\hline\n",
       "\t& Float64 & Float64 & Float64 & Float64 & Float64 & Float64 & Float64 & \\\\\n",
       "\t\\hline\n",
       "\t1 & 980.1 & 0.0 & 0.0 & 0.0 & 0.0 & 0.0 & 19.8 & $\\dots$ \\\\\n",
       "\t2 & 979.121 & 0.0140004 & 0.000132285 & 0.0140004 & 0.94264 & 0.00890669 & 19.7804 & $\\dots$ \\\\\n",
       "\t3 & 978.163 & 0.0447161 & 0.000550237 & 0.0623523 & 1.78635 & 0.0255231 & 19.7663 & $\\dots$ \\\\\n",
       "\t4 & 976.298 & 0.109472 & 0.00158901 & 0.1959 & 3.383 & 0.0567177 & 19.7467 & $\\dots$ \\\\\n",
       "\t5 & 972.688 & 0.234957 & 0.0037901 & 0.529081 & 6.3969 & 0.115365 & 19.7135 & $\\dots$ \\\\\n",
       "\t6 & 965.724 & 0.472123 & 0.00815478 & 1.31086 & 12.0604 & 0.22534 & 19.6538 & $\\dots$ \\\\\n",
       "\t7 & 952.373 & 0.913647 & 0.0164897 & 3.06294 & 22.6104 & 0.429986 & 19.5445 & $\\dots$ \\\\\n",
       "\t8 & 927.08 & 1.71873 & 0.0318937 & 6.82154 & 41.937 & 0.804668 & 19.3433 & $\\dots$ \\\\\n",
       "\t9 & 880.218 & 3.13172 & 0.0591245 & 14.4585 & 76.2169 & 1.46907 & 18.9731 & $\\dots$ \\\\\n",
       "\t10 & 796.973 & 5.43283 & 0.103653 & 28.7262 & 133.335 & 2.57596 & 18.2904 & $\\dots$ \\\\\n",
       "\t11 & 660.185 & 8.65028 & 0.166086 & 51.6584 & 217.47 & 4.20636 & 17.0319 & $\\dots$ \\\\\n",
       "\t12 & 464.833 & 11.8239 & 0.227874 & 78.7108 & 313.114 & 6.06 & 14.7581 & $\\dots$ \\\\\n",
       "\t13 & 245.769 & 12.4061 & 0.239623 & 90.8287 & 364.999 & 7.06634 & 10.9991 & $\\dots$ \\\\\n",
       "\t14 & 80.1924 & 8.40599 & 0.162569 & 66.6316 & 304.192 & 5.89005 & 6.07578 & $\\dots$ \\\\\n",
       "\t15 & 12.0522 & 2.87135 & 0.0555715 & 24.138 & 154.116 & 2.98439 & 1.95696 & $\\dots$ \\\\\n",
       "\t16 & 0.565856 & 0.360474 & 0.00697929 & 3.12798 & 39.3504 & 0.762036 & 0.26758 & $\\dots$ \\\\\n",
       "\t17 & 0.00657102 & 0.0133373 & 0.000258275 & 0.117858 & 4.57012 & 0.0885048 & 0.0124591 & $\\dots$ \\\\\n",
       "\t18 & 4.08086e-5 & 0.000225725 & 4.37141e-6 & 0.00219486 & 0.336115 & 0.00650932 & 0.000316594 & $\\dots$ \\\\\n",
       "\t19 & 4.56964e-7 & 4.2944e-6 & 8.31676e-8 & 5.72495e-5 & 0.0248418 & 0.000481104 & 1.20404e-5 & $\\dots$ \\\\\n",
       "\t20 & 1.37784e-8 & 1.38611e-7 & 2.68445e-9 & 3.23056e-6 & 0.00216721 & 4.19722e-5 & 1.08057e-6 & $\\dots$ \\\\\n",
       "\t21 & 9.26143e-10 & 8.20839e-9 & 1.58972e-10 & 3.28341e-7 & 0.000238633 & 4.62164e-6 & 1.94693e-7 & $\\dots$ \\\\\n",
       "\t22 & 1.14468e-10 & 8.62265e-10 & 1.66997e-11 & 5.00911e-8 & 3.46238e-5 & 6.70569e-7 & 5.87162e-8 & $\\dots$ \\\\\n",
       "\t23 & 2.5131e-11 & 1.60993e-10 & 3.118e-12 & 1.15222e-8 & 6.90142e-6 & 1.33663e-7 & 2.88794e-8 & $\\dots$ \\\\\n",
       "\t24 & 9.65112e-12 & 5.30487e-11 & 1.02742e-12 & 4.26309e-9 & 1.96993e-6 & 3.81527e-8 & 2.29617e-8 & $\\dots$ \\\\\n",
       "\t25 & 6.07631e-12 & 2.89625e-11 & 5.60932e-13 & 2.59105e-9 & 8.3044e-7 & 1.60837e-8 & 2.76774e-8 & $\\dots$ \\\\\n",
       "\t26 & 5.70316e-12 & 2.36679e-11 & 4.58392e-13 & 2.43062e-9 & 5.20447e-7 & 1.00799e-8 & 4.56044e-8 & $\\dots$ \\\\\n",
       "\t27 & 7.40947e-12 & 2.66162e-11 & 5.15494e-13 & 3.22257e-9 & 4.72962e-7 & 9.16021e-9 & 9.44241e-8 & $\\dots$ \\\\\n",
       "\t28 & 1.26748e-11 & 3.91483e-11 & 7.58214e-13 & 5.61511e-9 & 5.9357e-7 & 1.14962e-8 & 2.34282e-7 & $\\dots$ \\\\\n",
       "\t29 & 2.72823e-11 & 7.24797e-11 & 1.40377e-12 & 1.21506e-8 & 9.70753e-7 & 1.88014e-8 & 6.75958e-7 & $\\dots$ \\\\\n",
       "\t30 & 7.07589e-11 & 1.62711e-10 & 3.15136e-12 & 3.12264e-8 & 1.9613e-6 & 3.79861e-8 & 2.21066e-6 & $\\dots$ \\\\\n",
       "\t$\\dots$ & $\\dots$ & $\\dots$ & $\\dots$ & $\\dots$ & $\\dots$ & $\\dots$ & $\\dots$ &  \\\\\n",
       "\\end{tabular}\n"
      ],
      "text/plain": [
       "\u001b[1m101×45 DataFrame\u001b[0m\n",
       "\u001b[1m Row \u001b[0m│\u001b[1m ABAB         \u001b[0m\u001b[1m ABAb        \u001b[0m\u001b[1m ABAβ        \u001b[0m\u001b[1m ABaB        \u001b[0m\u001b[1m ABab         \u001b[0m\u001b[1m ABaβ\u001b[0m ⋯\n",
       "\u001b[1m     \u001b[0m│\u001b[90m Float64      \u001b[0m\u001b[90m Float64     \u001b[0m\u001b[90m Float64     \u001b[0m\u001b[90m Float64     \u001b[0m\u001b[90m Float64      \u001b[0m\u001b[90m Floa\u001b[0m ⋯\n",
       "─────┼──────────────────────────────────────────────────────────────────────────\n",
       "   1 │ 980.1          0.0         0.0           0.0           0.0         0.0  ⋯\n",
       "   2 │ 979.121        0.0140004   0.000132285   0.0140004     0.94264     0.00\n",
       "   3 │ 978.163        0.0447161   0.000550237   0.0623523     1.78635     0.02\n",
       "   4 │ 976.298        0.109472    0.00158901    0.1959        3.383       0.05\n",
       "   5 │ 972.688        0.234957    0.0037901     0.529081      6.3969      0.11 ⋯\n",
       "   6 │ 965.724        0.472123    0.00815478    1.31086      12.0604      0.22\n",
       "   7 │ 952.373        0.913647    0.0164897     3.06294      22.6104      0.42\n",
       "   8 │ 927.08         1.71873     0.0318937     6.82154      41.937       0.80\n",
       "   9 │ 880.218        3.13172     0.0591245    14.4585       76.2169      1.46 ⋯\n",
       "  10 │ 796.973        5.43283     0.103653     28.7262      133.335       2.57\n",
       "  11 │ 660.185        8.65028     0.166086     51.6584      217.47        4.20\n",
       "  ⋮  │      ⋮             ⋮            ⋮            ⋮            ⋮             ⋱\n",
       "  92 │   2.28282e-7   3.44227e-8  6.66698e-10   1.90008e-5    4.88883e-5  9.46\n",
       "  93 │   2.27886e-7   3.38261e-8  6.55143e-10   1.8729e-5     4.74373e-5  9.18 ⋯\n",
       "  94 │   2.27495e-7   3.32492e-8  6.43971e-10   1.84652e-5    4.60524e-5  8.91\n",
       "  95 │   2.2711e-7    3.26912e-8  6.33162e-10   1.82092e-5    4.47298e-5  8.66\n",
       "  96 │   2.26729e-7   3.2151e-8   6.22701e-10   1.79605e-5    4.34657e-5  8.41\n",
       "  97 │   2.26354e-7   3.1628e-8   6.1257e-10    1.7719e-5     4.22568e-5  8.18 ⋯\n",
       "  98 │   2.25983e-7   3.11213e-8  6.02756e-10   1.74842e-5    4.10998e-5  7.96\n",
       "  99 │   2.25618e-7   3.06301e-8  5.93244e-10   1.7256e-5     3.99918e-5  7.74\n",
       " 100 │   2.25257e-7   3.01539e-8  5.8402e-10    1.7034e-5     3.893e-5    7.53\n",
       " 101 │   2.249e-7     2.96919e-8  5.75072e-10   1.6818e-5     3.7912e-5   7.34 ⋯\n",
       "\u001b[31m                                                  40 columns and 80 rows omitted\u001b[0m"
      ]
     },
     "execution_count": 137,
     "metadata": {},
     "output_type": "execute_result"
    }
   ],
   "source": [
    "output[\"genotypenumber_adult_female\"]"
   ]
  },
  {
   "cell_type": "markdown",
   "id": "uniform-cylinder",
   "metadata": {
    "hidden": true
   },
   "source": [
    "\n",
    "###### Calculate additional metrics\n",
    "\n",
    "The output can be further processed to obtain allele frequencies, relative numbers of females and correlation between constructs through time."
   ]
  },
  {
   "cell_type": "code",
   "execution_count": 138,
   "id": "divided-airport",
   "metadata": {
    "hidden": true
   },
   "outputs": [
    {
     "data": {
      "text/plain": [
       "Dict{String,DataFrame} with 29 entries:\n",
       "  \"allelefreq_zygote_female\"     => \u001b[1m101×6 DataFrame\u001b[0m…\n",
       "  \"correlation_zygote\"           => \u001b[1m101×1 DataFrame\u001b[0m…\n",
       "  \"allelefreq_pupae\"             => \u001b[1m101×6 DataFrame\u001b[0m…\n",
       "  \"allelefreq_adult_male\"        => \u001b[1m101×6 DataFrame\u001b[0m…\n",
       "  \"allelefreq_adult_female\"      => \u001b[1m101×6 DataFrame\u001b[0m…\n",
       "  \"genotypenumber_adult_female\"  => \u001b[1m101×45 DataFrame\u001b[0m…\n",
       "  \"allelefreq_pupae_female\"      => \u001b[1m101×6 DataFrame\u001b[0m…\n",
       "  \"genotypefreq_adult_female\"    => \u001b[1m101×45 DataFrame\u001b[0m…\n",
       "  \"genotypefreq_zygote_female\"   => \u001b[1m101×45 DataFrame\u001b[0m…\n",
       "  \"allelefreq_zygote\"            => \u001b[1m101×6 DataFrame\u001b[0m…\n",
       "  \"relative_number_females\"      => \u001b[1m101×2 DataFrame\u001b[0m…\n",
       "  \"allelefreq_zygote_male\"       => \u001b[1m101×6 DataFrame\u001b[0m…\n",
       "  \"genotypenumber_pupae_female\"  => \u001b[1m101×45 DataFrame\u001b[0m…\n",
       "  \"genotypenumber_zygote_male\"   => \u001b[1m101×45 DataFrame\u001b[0m…\n",
       "  \"genotypenumber_pupae_male\"    => \u001b[1m101×45 DataFrame\u001b[0m…\n",
       "  \"genotypenumber_zygote_female\" => \u001b[1m101×45 DataFrame\u001b[0m…\n",
       "  \"genotypefreq_adult_male\"      => \u001b[1m101×45 DataFrame\u001b[0m…\n",
       "  \"genotypefreq_zygote\"          => \u001b[1m101×45 DataFrame\u001b[0m…\n",
       "  \"number_females\"               => \u001b[1m101×2 DataFrame\u001b[0m…\n",
       "  \"allelefreq_adult\"             => \u001b[1m101×6 DataFrame\u001b[0m…\n",
       "  \"genotypefreq_pupae_male\"      => \u001b[1m101×45 DataFrame\u001b[0m…\n",
       "  \"genotypefreq_adult\"           => \u001b[1m101×45 DataFrame\u001b[0m…\n",
       "  \"genotypefreq_zygote_male\"     => \u001b[1m101×45 DataFrame\u001b[0m…\n",
       "  \"genotypefreq_pupae_female\"    => \u001b[1m101×45 DataFrame\u001b[0m…\n",
       "  \"genotypefreq_pupae\"           => \u001b[1m101×45 DataFrame\u001b[0m…\n",
       "  ⋮                              => ⋮"
      ]
     },
     "execution_count": 138,
     "metadata": {},
     "output_type": "execute_result"
    }
   ],
   "source": [
    "data_dict = Simulation_processing_wrapper(output)"
   ]
  },
  {
   "cell_type": "code",
   "execution_count": 139,
   "id": "white-pepper",
   "metadata": {
    "hidden": true,
    "scrolled": true
   },
   "outputs": [
    {
     "data": {
      "text/html": [
       "<table class=\"data-frame\"><thead><tr><th></th><th>pupae</th><th>adult</th></tr><tr><th></th><th>Float64</th><th>Float64</th></tr></thead><tbody><p>101 rows × 2 columns</p><tr><th>1</th><td>1.0</td><td>1.0</td></tr><tr><th>2</th><td>1.0</td><td>1.0</td></tr><tr><th>3</th><td>1.0</td><td>0.999999</td></tr><tr><th>4</th><td>1.0</td><td>0.999996</td></tr><tr><th>5</th><td>0.999999</td><td>0.999987</td></tr><tr><th>6</th><td>0.999998</td><td>0.999954</td></tr><tr><th>7</th><td>0.999992</td><td>0.999836</td></tr><tr><th>8</th><td>0.999973</td><td>0.999418</td></tr><tr><th>9</th><td>0.999903</td><td>0.997973</td></tr><tr><th>10</th><td>0.999662</td><td>0.99314</td></tr><tr><th>11</th><td>0.99885</td><td>0.977939</td></tr><tr><th>12</th><td>0.996254</td><td>0.934937</td></tr><tr><th>13</th><td>0.988535</td><td>0.832478</td></tr><tr><th>14</th><td>0.967549</td><td>0.64326</td></tr><tr><th>15</th><td>0.91539</td><td>0.394363</td></tr><tr><th>16</th><td>0.796206</td><td>0.176044</td></tr><tr><th>17</th><td>0.561777</td><td>0.053682</td></tr><tr><th>18</th><td>0.253934</td><td>0.0114211</td></tr><tr><th>19</th><td>0.0648247</td><td>0.00205733</td></tr><tr><th>20</th><td>0.0122183</td><td>0.000373788</td></tr><tr><th>21</th><td>0.00223854</td><td>7.5951e-5</td></tr><tr><th>22</th><td>0.000455533</td><td>1.92788e-5</td></tr><tr><th>23</th><td>0.000115662</td><td>6.93589e-6</td></tr><tr><th>24</th><td>4.16139e-5</td><td>3.85254e-6</td></tr><tr><th>25</th><td>2.31148e-5</td><td>3.31546e-6</td></tr><tr><th>26</th><td>1.98924e-5</td><td>4.18234e-6</td></tr><tr><th>27</th><td>2.50935e-5</td><td>7.17867e-6</td></tr><tr><th>28</th><td>4.30705e-5</td><td>1.56792e-5</td></tr><tr><th>29</th><td>9.40676e-5</td><td>4.13372e-5</td></tr><tr><th>30</th><td>0.000247972</td><td>0.00012634</td></tr><tr><th>&vellip;</th><td>&vellip;</td><td>&vellip;</td></tr></tbody></table>"
      ],
      "text/latex": [
       "\\begin{tabular}{r|cc}\n",
       "\t& pupae & adult\\\\\n",
       "\t\\hline\n",
       "\t& Float64 & Float64\\\\\n",
       "\t\\hline\n",
       "\t1 & 1.0 & 1.0 \\\\\n",
       "\t2 & 1.0 & 1.0 \\\\\n",
       "\t3 & 1.0 & 0.999999 \\\\\n",
       "\t4 & 1.0 & 0.999996 \\\\\n",
       "\t5 & 0.999999 & 0.999987 \\\\\n",
       "\t6 & 0.999998 & 0.999954 \\\\\n",
       "\t7 & 0.999992 & 0.999836 \\\\\n",
       "\t8 & 0.999973 & 0.999418 \\\\\n",
       "\t9 & 0.999903 & 0.997973 \\\\\n",
       "\t10 & 0.999662 & 0.99314 \\\\\n",
       "\t11 & 0.99885 & 0.977939 \\\\\n",
       "\t12 & 0.996254 & 0.934937 \\\\\n",
       "\t13 & 0.988535 & 0.832478 \\\\\n",
       "\t14 & 0.967549 & 0.64326 \\\\\n",
       "\t15 & 0.91539 & 0.394363 \\\\\n",
       "\t16 & 0.796206 & 0.176044 \\\\\n",
       "\t17 & 0.561777 & 0.053682 \\\\\n",
       "\t18 & 0.253934 & 0.0114211 \\\\\n",
       "\t19 & 0.0648247 & 0.00205733 \\\\\n",
       "\t20 & 0.0122183 & 0.000373788 \\\\\n",
       "\t21 & 0.00223854 & 7.5951e-5 \\\\\n",
       "\t22 & 0.000455533 & 1.92788e-5 \\\\\n",
       "\t23 & 0.000115662 & 6.93589e-6 \\\\\n",
       "\t24 & 4.16139e-5 & 3.85254e-6 \\\\\n",
       "\t25 & 2.31148e-5 & 3.31546e-6 \\\\\n",
       "\t26 & 1.98924e-5 & 4.18234e-6 \\\\\n",
       "\t27 & 2.50935e-5 & 7.17867e-6 \\\\\n",
       "\t28 & 4.30705e-5 & 1.56792e-5 \\\\\n",
       "\t29 & 9.40676e-5 & 4.13372e-5 \\\\\n",
       "\t30 & 0.000247972 & 0.00012634 \\\\\n",
       "\t$\\dots$ & $\\dots$ & $\\dots$ \\\\\n",
       "\\end{tabular}\n"
      ],
      "text/plain": [
       "\u001b[1m101×2 DataFrame\u001b[0m\n",
       "\u001b[1m Row \u001b[0m│\u001b[1m pupae    \u001b[0m\u001b[1m adult    \u001b[0m\n",
       "\u001b[1m     \u001b[0m│\u001b[90m Float64  \u001b[0m\u001b[90m Float64  \u001b[0m\n",
       "─────┼────────────────────\n",
       "   1 │ 1.0       1.0\n",
       "   2 │ 1.0       1.0\n",
       "   3 │ 1.0       0.999999\n",
       "   4 │ 1.0       0.999996\n",
       "   5 │ 0.999999  0.999987\n",
       "   6 │ 0.999998  0.999954\n",
       "   7 │ 0.999992  0.999836\n",
       "   8 │ 0.999973  0.999418\n",
       "   9 │ 0.999903  0.997973\n",
       "  10 │ 0.999662  0.99314\n",
       "  11 │ 0.99885   0.977939\n",
       "  ⋮  │    ⋮         ⋮\n",
       "  92 │ 0.998807  0.993104\n",
       "  93 │ 0.998844  0.993313\n",
       "  94 │ 0.998879  0.993513\n",
       "  95 │ 0.998913  0.993703\n",
       "  96 │ 0.998945  0.993885\n",
       "  97 │ 0.998976  0.994059\n",
       "  98 │ 0.999005  0.994226\n",
       "  99 │ 0.999033  0.994385\n",
       " 100 │ 0.99906   0.994538\n",
       " 101 │ 0.999086  0.994685\n",
       "\u001b[31m           80 rows omitted\u001b[0m"
      ]
     },
     "execution_count": 139,
     "metadata": {},
     "output_type": "execute_result"
    }
   ],
   "source": [
    "data_dict[\"relative_number_females\"]"
   ]
  },
  {
   "cell_type": "markdown",
   "id": "pacific-palace",
   "metadata": {
    "heading_collapsed": true
   },
   "source": [
    "## 4-allele double drive simulator"
   ]
  },
  {
   "cell_type": "code",
   "execution_count": 140,
   "id": "proof-reputation",
   "metadata": {
    "code_folding": [],
    "hidden": true
   },
   "outputs": [],
   "source": [
    "#Load 4-allele model\n",
    "@nbinclude(\"DoubleDrive_Simulator_4allele.ipynb\");"
   ]
  },
  {
   "cell_type": "markdown",
   "id": "killing-proportion",
   "metadata": {
    "hidden": true
   },
   "source": [
    "Here we use design 1 as an example where the differentiated locus is a haplo-insufficient essentil locus and the construct contains a recoded copy of the gene meaning it does not disrupt function."
   ]
  },
  {
   "cell_type": "markdown",
   "id": "ready-questionnaire",
   "metadata": {
    "hidden": true
   },
   "source": [
    "\n",
    "###### Define design details."
   ]
  },
  {
   "cell_type": "code",
   "execution_count": 141,
   "id": "premier-documentation",
   "metadata": {
    "hidden": true
   },
   "outputs": [],
   "source": [
    "A_homing_dependency = \"constitutive\"\n",
    "B_homing_dependency = \"conditional\"\n",
    "XS_dependency = \"none\"\n",
    "A_construct = [\"cas9\",\"grna\"] #if left empty assumes no expression costs\n",
    "B_construct = [\"grna\"] #if left empty assumes no expression costs\n",
    "fitness_effect = \"adult\";"
   ]
  },
  {
   "cell_type": "markdown",
   "id": "grave-clark",
   "metadata": {
    "hidden": true
   },
   "source": [
    "\n",
    "###### Set parameters"
   ]
  },
  {
   "cell_type": "code",
   "execution_count": 142,
   "id": "adaptive-rebecca",
   "metadata": {
    "hidden": true
   },
   "outputs": [
    {
     "data": {
      "text/plain": [
       "0.019"
      ]
     },
     "execution_count": 142,
     "metadata": {},
     "output_type": "execute_result"
    }
   ],
   "source": [
    "params = Initiate_baseline_parameters()\n",
    "\n",
    "#Fitness costs at the differentiated site\n",
    "## Costs due to disruption by construct insertion remain zero \n",
    "    ## since the construct contains a recoded version of the gene\n",
    "#All NHEJ products (α) have HI fitness costs in both males and females\n",
    "#All standing resistant loci (o) inherit costs of the construct insertion (no costs)\n",
    "Aallele_fitness = \"α\"\n",
    "params[\"sraf\"] = 1.0\n",
    "params[\"hraf\"] = 1.0\n",
    "params[\"siraf\"] = 1.0\n",
    "params[\"sram\"] = 1.0\n",
    "params[\"hram\"] = 1.0\n",
    "params[\"siram\"] = 1.0\n",
    "\n",
    "#Fitness costs at the haplo-sufficient female specific gene\n",
    "params[\"sibf\"]=1.0 \n",
    "params[\"srbf\"]=1.0 \n",
    "params[\"sirbf\"] = 1.0\n",
    "\n",
    "#homing parameters\n",
    "params[\"caf\"] = 0.971\n",
    "params[\"jaf\"] = 0.019\n",
    "params[\"cam\"] = 0.971\n",
    "params[\"jam\"] = 0.019\n",
    "params[\"cbf\"] = 0.971\n",
    "params[\"jbf\"] = 0.019\n",
    "params[\"cbm\"] = 0.971\n",
    "params[\"jbm\"] = 0.019\n",
    "\n",
    "#off target cleavage cost of 1%\n",
    "params[\"sHaf\"] = 0.01\n",
    "params[\"sHam\"] = 0.01\n",
    "params[\"sHbf\"] = 0.01\n",
    "params[\"sHbm\"] = 0.01"
   ]
  },
  {
   "cell_type": "markdown",
   "id": "polar-device",
   "metadata": {
    "hidden": true
   },
   "source": [
    "\n",
    "###### Define starting population\n",
    "\n",
    "Define the population pre-release:"
   ]
  },
  {
   "cell_type": "code",
   "execution_count": 143,
   "id": "overall-asian",
   "metadata": {
    "hidden": true
   },
   "outputs": [],
   "source": [
    "resistant_allele = \"o\"\n",
    "resistant_freq = 0.01\n",
    "pre_pop = Initiate_prerelease_population_3lifestages(resistant_allele, \n",
    "                                                        resistant_freq, \n",
    "                                                        params);"
   ]
  },
  {
   "cell_type": "markdown",
   "id": "alive-cover",
   "metadata": {
    "hidden": true
   },
   "source": [
    "Release transgenic males:"
   ]
  },
  {
   "cell_type": "code",
   "execution_count": 144,
   "id": "extraordinary-solid",
   "metadata": {
    "hidden": true
   },
   "outputs": [
    {
     "data": {
      "text/plain": [
       "78×6 Transpose{Float64,Array{Float64,2}}:\n",
       " 58806.0  58806.0  980.1  980.1  980.1  980.1\n",
       "     0.0      0.0    0.0    0.0    0.0    0.0\n",
       "     0.0      0.0    0.0    0.0    0.0    0.0\n",
       "     0.0      0.0    0.0    0.0    0.0    0.0\n",
       "     0.0      0.0    0.0    0.0    0.0    1.0\n",
       "     0.0      0.0    0.0    0.0    0.0    0.0\n",
       "     0.0      0.0    0.0    0.0    0.0    0.0\n",
       "     0.0      0.0    0.0    0.0    0.0    0.0\n",
       "     0.0      0.0    0.0    0.0    0.0    0.0\n",
       "  1188.0   1188.0   19.8   19.8   19.8   19.8\n",
       "     0.0      0.0    0.0    0.0    0.0    0.0\n",
       "     0.0      0.0    0.0    0.0    0.0    0.0\n",
       "     0.0      0.0    0.0    0.0    0.0    0.0\n",
       "     ⋮                                    ⋮\n",
       "     0.0      0.0    0.0    0.0    0.0    0.0\n",
       "     0.0      0.0    0.0    0.0    0.0    0.0\n",
       "     0.0      0.0    0.0    0.0    0.0    0.0\n",
       "     0.0      0.0    0.0    0.0    0.0    0.0\n",
       "     0.0      0.0    0.0    0.0    0.0    0.0\n",
       "     0.0      0.0    0.0    0.0    0.0    0.0\n",
       "     6.0      6.0    0.1    0.1    0.1    0.1\n",
       "     0.0      0.0    0.0    0.0    0.0    0.0\n",
       "     0.0      0.0    0.0    0.0    0.0    0.0\n",
       "     0.0      0.0    0.0    0.0    0.0    0.0\n",
       "     0.0      0.0    0.0    0.0    0.0    0.0\n",
       "     0.0      0.0    0.0    0.0    0.0    0.0"
      ]
     },
     "execution_count": 144,
     "metadata": {},
     "output_type": "execute_result"
    }
   ],
   "source": [
    "transgenic_genotype = \"ABab\"\n",
    "release_freq = 0.001\n",
    "starting_population_post_release = release_transgenic_males(\n",
    "    pre_pop,\n",
    "    Symbol(transgenic_genotype),\n",
    "    release_freq)"
   ]
  },
  {
   "cell_type": "markdown",
   "id": "nasty-sheffield",
   "metadata": {
    "hidden": true
   },
   "source": [
    "The order of genotypes is as in the global variable 'genotypes'"
   ]
  },
  {
   "cell_type": "code",
   "execution_count": 145,
   "id": "preceding-publicity",
   "metadata": {
    "hidden": true
   },
   "outputs": [
    {
     "data": {
      "text/plain": [
       "78-element Array{Any,1}:\n",
       " [\"AB\" \"AB\"]\n",
       " [\"AB\" \"Ab\"]\n",
       " [\"AB\" \"Aβ\"]\n",
       " [\"AB\" \"aB\"]\n",
       " [\"AB\" \"ab\"]\n",
       " [\"AB\" \"aβ\"]\n",
       " [\"AB\" \"αB\"]\n",
       " [\"AB\" \"αb\"]\n",
       " [\"AB\" \"αβ\"]\n",
       " [\"AB\" \"oB\"]\n",
       " [\"AB\" \"ob\"]\n",
       " [\"AB\" \"oβ\"]\n",
       " [\"Ab\" \"Ab\"]\n",
       " ⋮\n",
       " [\"αb\" \"ob\"]\n",
       " [\"αb\" \"oβ\"]\n",
       " [\"αβ\" \"αβ\"]\n",
       " [\"αβ\" \"oB\"]\n",
       " [\"αβ\" \"ob\"]\n",
       " [\"αβ\" \"oβ\"]\n",
       " [\"oB\" \"oB\"]\n",
       " [\"oB\" \"ob\"]\n",
       " [\"oB\" \"oβ\"]\n",
       " [\"ob\" \"ob\"]\n",
       " [\"ob\" \"oβ\"]\n",
       " [\"oβ\" \"oβ\"]"
      ]
     },
     "execution_count": 145,
     "metadata": {},
     "output_type": "execute_result"
    }
   ],
   "source": [
    "genotypes"
   ]
  },
  {
   "cell_type": "markdown",
   "id": "stable-account",
   "metadata": {
    "hidden": true
   },
   "source": [
    "\n",
    "###### Build matrices\n",
    "\n",
    "Based in the design details, a list of matrices required for simulation are generated. These include:  \n",
    "* fitness matrix \n",
    "* male homing matrix \n",
    "* female homing matrix\n",
    "* recombination matrix \n",
    "* sex ratio matrix"
   ]
  },
  {
   "cell_type": "code",
   "execution_count": 146,
   "id": "tamil-control",
   "metadata": {
    "hidden": true
   },
   "outputs": [],
   "source": [
    "matrices = make_matrices(params,\n",
    "                A_construct,\n",
    "                B_construct,\n",
    "                A_homing_dependency,\n",
    "                B_homing_dependency,\n",
    "                XS_dependency,\n",
    "                Aallele_fitness);"
   ]
  },
  {
   "cell_type": "markdown",
   "id": "forty-attack",
   "metadata": {
    "hidden": true
   },
   "source": [
    "\n",
    "###### Simulate time series\n",
    "\n",
    "The parameters, matrices, fitness effect and starting population is used to simulate t generations. "
   ]
  },
  {
   "cell_type": "code",
   "execution_count": 147,
   "id": "together-invention",
   "metadata": {
    "hidden": true
   },
   "outputs": [
    {
     "data": {
      "text/plain": [
       "Dict{String,DataFrame} with 8 entries:\n",
       "  \"genotypenumber_pupae_female\"  => \u001b[1m101×78 DataFrame\u001b[0m…\n",
       "  \"genotypenumber_adult_female\"  => \u001b[1m101×78 DataFrame\u001b[0m…\n",
       "  \"genotypenumber_zygote_male\"   => \u001b[1m101×78 DataFrame\u001b[0m…\n",
       "  \"genotypenumber_pupae_male\"    => \u001b[1m101×78 DataFrame\u001b[0m…\n",
       "  \"genotypenumber_zygote_female\" => \u001b[1m101×78 DataFrame\u001b[0m…\n",
       "  \"eggnumber\"                    => \u001b[1m101×12 DataFrame\u001b[0m…\n",
       "  \"genotypenumber_adult_male\"    => \u001b[1m101×78 DataFrame\u001b[0m…\n",
       "  \"spermfreq\"                    => \u001b[1m101×24 DataFrame\u001b[0m…"
      ]
     },
     "execution_count": 147,
     "metadata": {},
     "output_type": "execute_result"
    }
   ],
   "source": [
    "t=100\n",
    "output = Simulate_timeseries(\n",
    "            params,\n",
    "            matrices,\n",
    "            fitness_effect,\n",
    "            t,\n",
    "            starting_population_post_release)"
   ]
  },
  {
   "cell_type": "markdown",
   "id": "typical-tunisia",
   "metadata": {
    "hidden": true
   },
   "source": [
    "The output is a dictionary containing numbers of each genotype and gamete through time. "
   ]
  },
  {
   "cell_type": "code",
   "execution_count": 148,
   "id": "collectible-preview",
   "metadata": {
    "hidden": true
   },
   "outputs": [
    {
     "data": {
      "text/html": [
       "<table class=\"data-frame\"><thead><tr><th></th><th>ABAB</th><th>ABAb</th><th>ABAβ</th><th>ABaB</th><th>ABab</th><th>ABaβ</th><th>ABαB</th></tr><tr><th></th><th>Float64</th><th>Float64</th><th>Float64</th><th>Float64</th><th>Float64</th><th>Float64</th><th>Float64</th></tr></thead><tbody><p>101 rows × 78 columns (omitted printing of 71 columns)</p><tr><th>1</th><td>980.1</td><td>0.0</td><td>0.0</td><td>0.0</td><td>0.0</td><td>0.0</td><td>0.0</td></tr><tr><th>2</th><td>979.121</td><td>0.0140004</td><td>0.000132285</td><td>0.0140004</td><td>0.94264</td><td>0.00890669</td><td>0.0</td></tr><tr><th>3</th><td>978.175</td><td>0.0403123</td><td>0.000508628</td><td>0.0623532</td><td>1.78638</td><td>0.0255234</td><td>0.0</td></tr><tr><th>4</th><td>976.337</td><td>0.0945871</td><td>0.00140825</td><td>0.19591</td><td>3.38315</td><td>0.0567203</td><td>0.0</td></tr><tr><th>5</th><td>972.778</td><td>0.199234</td><td>0.00327799</td><td>0.529147</td><td>6.39761</td><td>0.115378</td><td>0.0</td></tr><tr><th>6</th><td>965.912</td><td>0.396793</td><td>0.00694965</td><td>1.31122</td><td>12.0633</td><td>0.225395</td><td>0.0</td></tr><tr><th>7</th><td>952.744</td><td>0.764576</td><td>0.0139277</td><td>3.06467</td><td>22.6215</td><td>0.430198</td><td>0.0</td></tr><tr><th>8</th><td>927.779</td><td>1.43557</td><td>0.026798</td><td>6.8292</td><td>41.9773</td><td>0.805445</td><td>0.0</td></tr><tr><th>9</th><td>881.471</td><td>2.61463</td><td>0.0495455</td><td>14.4899</td><td>76.3569</td><td>1.47177</td><td>0.0</td></tr><tr><th>10</th><td>799.039</td><td>4.53914</td><td>0.0867976</td><td>28.8438</td><td>133.79</td><td>2.58477</td><td>0.0</td></tr><tr><th>11</th><td>663.105</td><td>7.24103</td><td>0.139215</td><td>52.0413</td><td>218.79</td><td>4.23194</td><td>0.0</td></tr><tr><th>12</th><td>467.882</td><td>9.92533</td><td>0.191433</td><td>79.6982</td><td>316.244</td><td>6.12063</td><td>0.0</td></tr><tr><th>13</th><td>247.328</td><td>10.4311</td><td>0.201565</td><td>92.514</td><td>370.129</td><td>7.16575</td><td>0.0</td></tr><tr><th>14</th><td>79.6656</td><td>7.01232</td><td>0.135648</td><td>67.9141</td><td>308.012</td><td>5.96409</td><td>0.0</td></tr><tr><th>15</th><td>11.2714</td><td>2.29065</td><td>0.0443385</td><td>23.9584</td><td>152.114</td><td>2.94565</td><td>0.0</td></tr><tr><th>16</th><td>0.423198</td><td>0.243623</td><td>0.0047172</td><td>2.74369</td><td>34.8516</td><td>0.674923</td><td>0.0</td></tr><tr><th>17</th><td>0.00233445</td><td>0.00529946</td><td>0.000102627</td><td>0.0681873</td><td>2.79414</td><td>0.0541116</td><td>0.0</td></tr><tr><th>18</th><td>2.94273e-6</td><td>2.77881e-5</td><td>5.38157e-7</td><td>0.000539151</td><td>0.0917434</td><td>0.00177675</td><td>0.0</td></tr><tr><th>19</th><td>5.15424e-9</td><td>1.16678e-7</td><td>2.25967e-9</td><td>5.38711e-6</td><td>0.00259844</td><td>5.03235e-5</td><td>0.0</td></tr><tr><th>20</th><td>2.29316e-11</td><td>6.17624e-10</td><td>1.19615e-11</td><td>1.13943e-7</td><td>8.3376e-5</td><td>1.61474e-6</td><td>0.0</td></tr><tr><th>21</th><td>1.86962e-13</td><td>4.42529e-12</td><td>8.57053e-14</td><td>3.80933e-9</td><td>3.06816e-6</td><td>5.94216e-8</td><td>0.0</td></tr><tr><th>22</th><td>2.07042e-15</td><td>4.2314e-14</td><td>8.19508e-16</td><td>1.54424e-10</td><td>1.26443e-7</td><td>2.44886e-9</td><td>0.0</td></tr><tr><th>23</th><td>2.9409e-17</td><td>5.27615e-16</td><td>1.02186e-17</td><td>7.15745e-12</td><td>5.86176e-9</td><td>1.13528e-10</td><td>0.0</td></tr><tr><th>24</th><td>5.45603e-19</td><td>8.58712e-18</td><td>1.66311e-19</td><td>3.80865e-13</td><td>3.10614e-10</td><td>6.01584e-12</td><td>0.0</td></tr><tr><th>25</th><td>1.36941e-20</td><td>1.87624e-19</td><td>3.63384e-21</td><td>2.37037e-14</td><td>1.9186e-11</td><td>3.71589e-13</td><td>0.0</td></tr><tr><th>26</th><td>4.85848e-22</td><td>5.74532e-21</td><td>1.11274e-22</td><td>1.77019e-15</td><td>1.41443e-12</td><td>2.73944e-14</td><td>0.0</td></tr><tr><th>27</th><td>2.56779e-23</td><td>2.60003e-22</td><td>5.03568e-24</td><td>1.64103e-16</td><td>1.2812e-13</td><td>2.48141e-15</td><td>0.0</td></tr><tr><th>28</th><td>2.14585e-24</td><td>1.8491e-23</td><td>3.58131e-25</td><td>1.97705e-17</td><td>1.47709e-14</td><td>2.8608e-16</td><td>0.0</td></tr><tr><th>29</th><td>3.0095e-25</td><td>2.20147e-24</td><td>4.26377e-26</td><td>3.29693e-18</td><td>2.25838e-15</td><td>4.374e-17</td><td>0.0</td></tr><tr><th>30</th><td>7.37579e-26</td><td>4.59492e-25</td><td>8.89938e-27</td><td>8.25962e-19</td><td>4.78495e-16</td><td>9.26743e-18</td><td>0.0</td></tr><tr><th>&vellip;</th><td>&vellip;</td><td>&vellip;</td><td>&vellip;</td><td>&vellip;</td><td>&vellip;</td><td>&vellip;</td><td>&vellip;</td></tr></tbody></table>"
      ],
      "text/latex": [
       "\\begin{tabular}{r|cccccccc}\n",
       "\t& ABAB & ABAb & ABAβ & ABaB & ABab & ABaβ & ABαB & \\\\\n",
       "\t\\hline\n",
       "\t& Float64 & Float64 & Float64 & Float64 & Float64 & Float64 & Float64 & \\\\\n",
       "\t\\hline\n",
       "\t1 & 980.1 & 0.0 & 0.0 & 0.0 & 0.0 & 0.0 & 0.0 & $\\dots$ \\\\\n",
       "\t2 & 979.121 & 0.0140004 & 0.000132285 & 0.0140004 & 0.94264 & 0.00890669 & 0.0 & $\\dots$ \\\\\n",
       "\t3 & 978.175 & 0.0403123 & 0.000508628 & 0.0623532 & 1.78638 & 0.0255234 & 0.0 & $\\dots$ \\\\\n",
       "\t4 & 976.337 & 0.0945871 & 0.00140825 & 0.19591 & 3.38315 & 0.0567203 & 0.0 & $\\dots$ \\\\\n",
       "\t5 & 972.778 & 0.199234 & 0.00327799 & 0.529147 & 6.39761 & 0.115378 & 0.0 & $\\dots$ \\\\\n",
       "\t6 & 965.912 & 0.396793 & 0.00694965 & 1.31122 & 12.0633 & 0.225395 & 0.0 & $\\dots$ \\\\\n",
       "\t7 & 952.744 & 0.764576 & 0.0139277 & 3.06467 & 22.6215 & 0.430198 & 0.0 & $\\dots$ \\\\\n",
       "\t8 & 927.779 & 1.43557 & 0.026798 & 6.8292 & 41.9773 & 0.805445 & 0.0 & $\\dots$ \\\\\n",
       "\t9 & 881.471 & 2.61463 & 0.0495455 & 14.4899 & 76.3569 & 1.47177 & 0.0 & $\\dots$ \\\\\n",
       "\t10 & 799.039 & 4.53914 & 0.0867976 & 28.8438 & 133.79 & 2.58477 & 0.0 & $\\dots$ \\\\\n",
       "\t11 & 663.105 & 7.24103 & 0.139215 & 52.0413 & 218.79 & 4.23194 & 0.0 & $\\dots$ \\\\\n",
       "\t12 & 467.882 & 9.92533 & 0.191433 & 79.6982 & 316.244 & 6.12063 & 0.0 & $\\dots$ \\\\\n",
       "\t13 & 247.328 & 10.4311 & 0.201565 & 92.514 & 370.129 & 7.16575 & 0.0 & $\\dots$ \\\\\n",
       "\t14 & 79.6656 & 7.01232 & 0.135648 & 67.9141 & 308.012 & 5.96409 & 0.0 & $\\dots$ \\\\\n",
       "\t15 & 11.2714 & 2.29065 & 0.0443385 & 23.9584 & 152.114 & 2.94565 & 0.0 & $\\dots$ \\\\\n",
       "\t16 & 0.423198 & 0.243623 & 0.0047172 & 2.74369 & 34.8516 & 0.674923 & 0.0 & $\\dots$ \\\\\n",
       "\t17 & 0.00233445 & 0.00529946 & 0.000102627 & 0.0681873 & 2.79414 & 0.0541116 & 0.0 & $\\dots$ \\\\\n",
       "\t18 & 2.94273e-6 & 2.77881e-5 & 5.38157e-7 & 0.000539151 & 0.0917434 & 0.00177675 & 0.0 & $\\dots$ \\\\\n",
       "\t19 & 5.15424e-9 & 1.16678e-7 & 2.25967e-9 & 5.38711e-6 & 0.00259844 & 5.03235e-5 & 0.0 & $\\dots$ \\\\\n",
       "\t20 & 2.29316e-11 & 6.17624e-10 & 1.19615e-11 & 1.13943e-7 & 8.3376e-5 & 1.61474e-6 & 0.0 & $\\dots$ \\\\\n",
       "\t21 & 1.86962e-13 & 4.42529e-12 & 8.57053e-14 & 3.80933e-9 & 3.06816e-6 & 5.94216e-8 & 0.0 & $\\dots$ \\\\\n",
       "\t22 & 2.07042e-15 & 4.2314e-14 & 8.19508e-16 & 1.54424e-10 & 1.26443e-7 & 2.44886e-9 & 0.0 & $\\dots$ \\\\\n",
       "\t23 & 2.9409e-17 & 5.27615e-16 & 1.02186e-17 & 7.15745e-12 & 5.86176e-9 & 1.13528e-10 & 0.0 & $\\dots$ \\\\\n",
       "\t24 & 5.45603e-19 & 8.58712e-18 & 1.66311e-19 & 3.80865e-13 & 3.10614e-10 & 6.01584e-12 & 0.0 & $\\dots$ \\\\\n",
       "\t25 & 1.36941e-20 & 1.87624e-19 & 3.63384e-21 & 2.37037e-14 & 1.9186e-11 & 3.71589e-13 & 0.0 & $\\dots$ \\\\\n",
       "\t26 & 4.85848e-22 & 5.74532e-21 & 1.11274e-22 & 1.77019e-15 & 1.41443e-12 & 2.73944e-14 & 0.0 & $\\dots$ \\\\\n",
       "\t27 & 2.56779e-23 & 2.60003e-22 & 5.03568e-24 & 1.64103e-16 & 1.2812e-13 & 2.48141e-15 & 0.0 & $\\dots$ \\\\\n",
       "\t28 & 2.14585e-24 & 1.8491e-23 & 3.58131e-25 & 1.97705e-17 & 1.47709e-14 & 2.8608e-16 & 0.0 & $\\dots$ \\\\\n",
       "\t29 & 3.0095e-25 & 2.20147e-24 & 4.26377e-26 & 3.29693e-18 & 2.25838e-15 & 4.374e-17 & 0.0 & $\\dots$ \\\\\n",
       "\t30 & 7.37579e-26 & 4.59492e-25 & 8.89938e-27 & 8.25962e-19 & 4.78495e-16 & 9.26743e-18 & 0.0 & $\\dots$ \\\\\n",
       "\t$\\dots$ & $\\dots$ & $\\dots$ & $\\dots$ & $\\dots$ & $\\dots$ & $\\dots$ & $\\dots$ &  \\\\\n",
       "\\end{tabular}\n"
      ],
      "text/plain": [
       "\u001b[1m101×78 DataFrame\u001b[0m\n",
       "\u001b[1m Row \u001b[0m│\u001b[1m ABAB          \u001b[0m\u001b[1m ABAb         \u001b[0m\u001b[1m ABAβ        \u001b[0m\u001b[1m ABaB         \u001b[0m\u001b[1m ABab         \u001b[0m\u001b[1m A\u001b[0m ⋯\n",
       "\u001b[1m     \u001b[0m│\u001b[90m Float64       \u001b[0m\u001b[90m Float64      \u001b[0m\u001b[90m Float64     \u001b[0m\u001b[90m Float64      \u001b[0m\u001b[90m Float64      \u001b[0m\u001b[90m F\u001b[0m ⋯\n",
       "─────┼──────────────────────────────────────────────────────────────────────────\n",
       "   1 │ 980.1           0.0          0.0           0.0            0.0         0 ⋯\n",
       "   2 │ 979.121         0.0140004    0.000132285   0.0140004      0.94264     0\n",
       "   3 │ 978.175         0.0403123    0.000508628   0.0623532      1.78638     0\n",
       "   4 │ 976.337         0.0945871    0.00140825    0.19591        3.38315     0\n",
       "   5 │ 972.778         0.199234     0.00327799    0.529147       6.39761     0 ⋯\n",
       "   6 │ 965.912         0.396793     0.00694965    1.31122       12.0633      0\n",
       "   7 │ 952.744         0.764576     0.0139277     3.06467       22.6215      0\n",
       "   8 │ 927.779         1.43557      0.026798      6.8292        41.9773      0\n",
       "   9 │ 881.471         2.61463      0.0495455    14.4899        76.3569      1 ⋯\n",
       "  10 │ 799.039         4.53914      0.0867976    28.8438       133.79        2\n",
       "  11 │ 663.105         7.24103      0.139215     52.0413       218.79        4\n",
       "  ⋮  │       ⋮             ⋮             ⋮            ⋮             ⋮          ⋱\n",
       "  92 │   3.86982e-16   6.54458e-17  1.26755e-18   8.62809e-10    2.49065e-9  4\n",
       "  93 │   3.86252e-16   6.41716e-17  1.24288e-18   8.48987e-10    2.40734e-9  4 ⋯\n",
       "  94 │   3.85533e-16   6.29442e-17  1.2191e-18    8.35619e-10    2.32827e-9  4\n",
       "  95 │   3.84824e-16   6.17613e-17  1.19619e-18   8.22682e-10    2.25317e-9  4\n",
       "  96 │   3.84125e-16   6.06205e-17  1.1741e-18    8.10157e-10    2.18176e-9  4\n",
       "  97 │   3.83436e-16   5.95197e-17  1.15278e-18   7.98025e-10    2.11381e-9  4 ⋯\n",
       "  98 │   3.82756e-16   5.84569e-17  1.13219e-18   7.86267e-10    2.04911e-9  3\n",
       "  99 │   3.82086e-16   5.74302e-17  1.11231e-18   7.74868e-10    1.98744e-9  3\n",
       " 100 │   3.81426e-16   5.64379e-17  1.09309e-18   7.63811e-10    1.92861e-9  3\n",
       " 101 │   3.80774e-16   5.54783e-17  1.0745e-18    7.53081e-10    1.87247e-9  3 ⋯\n",
       "\u001b[31m                                                  73 columns and 80 rows omitted\u001b[0m"
      ]
     },
     "execution_count": 148,
     "metadata": {},
     "output_type": "execute_result"
    }
   ],
   "source": [
    "output[\"genotypenumber_adult_female\"]"
   ]
  },
  {
   "cell_type": "markdown",
   "id": "interpreted-journal",
   "metadata": {
    "hidden": true
   },
   "source": [
    "\n",
    "###### Calculate additional metrics\n",
    "\n",
    "The output can be further processed to obtain allele frequencies, relative numbers of females and correlation between constructs through time."
   ]
  },
  {
   "cell_type": "code",
   "execution_count": 149,
   "id": "fewer-taste",
   "metadata": {
    "hidden": true
   },
   "outputs": [
    {
     "data": {
      "text/plain": [
       "Dict{String,DataFrame} with 29 entries:\n",
       "  \"allelefreq_zygote_female\"     => \u001b[1m101×6 DataFrame\u001b[0m…\n",
       "  \"correlation_zygote\"           => \u001b[1m101×1 DataFrame\u001b[0m…\n",
       "  \"allelefreq_pupae\"             => \u001b[1m101×6 DataFrame\u001b[0m…\n",
       "  \"allelefreq_adult_male\"        => \u001b[1m101×6 DataFrame\u001b[0m…\n",
       "  \"allelefreq_adult_female\"      => \u001b[1m101×6 DataFrame\u001b[0m…\n",
       "  \"genotypenumber_adult_female\"  => \u001b[1m101×78 DataFrame\u001b[0m…\n",
       "  \"allelefreq_pupae_female\"      => \u001b[1m101×6 DataFrame\u001b[0m…\n",
       "  \"genotypefreq_adult_female\"    => \u001b[1m101×78 DataFrame\u001b[0m…\n",
       "  \"genotypefreq_zygote_female\"   => \u001b[1m101×78 DataFrame\u001b[0m…\n",
       "  \"allelefreq_zygote\"            => \u001b[1m101×6 DataFrame\u001b[0m…\n",
       "  \"relative_number_females\"      => \u001b[1m101×2 DataFrame\u001b[0m…\n",
       "  \"allelefreq_zygote_male\"       => \u001b[1m101×6 DataFrame\u001b[0m…\n",
       "  \"genotypenumber_pupae_female\"  => \u001b[1m101×78 DataFrame\u001b[0m…\n",
       "  \"genotypenumber_zygote_male\"   => \u001b[1m101×78 DataFrame\u001b[0m…\n",
       "  \"genotypenumber_pupae_male\"    => \u001b[1m101×78 DataFrame\u001b[0m…\n",
       "  \"genotypenumber_zygote_female\" => \u001b[1m101×78 DataFrame\u001b[0m…\n",
       "  \"genotypefreq_adult_male\"      => \u001b[1m101×78 DataFrame\u001b[0m…\n",
       "  \"genotypefreq_zygote\"          => \u001b[1m101×78 DataFrame\u001b[0m…\n",
       "  \"number_females\"               => \u001b[1m101×2 DataFrame\u001b[0m…\n",
       "  \"allelefreq_adult\"             => \u001b[1m101×6 DataFrame\u001b[0m…\n",
       "  \"genotypefreq_pupae_male\"      => \u001b[1m101×78 DataFrame\u001b[0m…\n",
       "  \"genotypefreq_adult\"           => \u001b[1m101×78 DataFrame\u001b[0m…\n",
       "  \"genotypefreq_zygote_male\"     => \u001b[1m101×78 DataFrame\u001b[0m…\n",
       "  \"genotypefreq_pupae_female\"    => \u001b[1m101×78 DataFrame\u001b[0m…\n",
       "  \"genotypefreq_pupae\"           => \u001b[1m101×78 DataFrame\u001b[0m…\n",
       "  ⋮                              => ⋮"
      ]
     },
     "execution_count": 149,
     "metadata": {},
     "output_type": "execute_result"
    }
   ],
   "source": [
    "data_dict = Simulation_processing_wrapper(output)"
   ]
  },
  {
   "cell_type": "code",
   "execution_count": 150,
   "id": "reasonable-monroe",
   "metadata": {
    "hidden": true,
    "scrolled": false
   },
   "outputs": [
    {
     "data": {
      "text/html": [
       "<table class=\"data-frame\"><thead><tr><th></th><th>pupae</th><th>adult</th></tr><tr><th></th><th>Float64</th><th>Float64</th></tr></thead><tbody><p>101 rows × 2 columns</p><tr><th>1</th><td>1.0</td><td>1.0</td></tr><tr><th>2</th><td>1.0</td><td>0.999991</td></tr><tr><th>3</th><td>0.999998</td><td>0.99998</td></tr><tr><th>4</th><td>0.999997</td><td>0.999959</td></tr><tr><th>5</th><td>0.999993</td><td>0.999914</td></tr><tr><th>6</th><td>0.999986</td><td>0.999814</td></tr><tr><th>7</th><td>0.999969</td><td>0.999567</td></tr><tr><th>8</th><td>0.999928</td><td>0.998911</td></tr><tr><th>9</th><td>0.999818</td><td>0.997039</td></tr><tr><th>10</th><td>0.999505</td><td>0.991492</td></tr><tr><th>11</th><td>0.998572</td><td>0.97522</td></tr><tr><th>12</th><td>0.995783</td><td>0.930821</td></tr><tr><th>13</th><td>0.987765</td><td>0.826613</td></tr><tr><th>14</th><td>0.966222</td><td>0.634841</td></tr><tr><th>15</th><td>0.91252</td><td>0.383046</td></tr><tr><th>16</th><td>0.788369</td><td>0.164957</td></tr><tr><th>17</th><td>0.542388</td><td>0.0471172</td></tr><tr><th>18</th><td>0.228801</td><td>0.00913939</td></tr><tr><th>19</th><td>0.05244</td><td>0.00146794</td></tr><tr><th>20</th><td>0.00874346</td><td>0.000225201</td></tr><tr><th>21</th><td>0.00134969</td><td>3.43323e-5</td></tr><tr><th>22</th><td>0.000205959</td><td>5.25449e-6</td></tr><tr><th>23</th><td>3.15261e-5</td><td>8.11117e-7</td></tr><tr><th>24</th><td>4.86668e-6</td><td>1.26995e-7</td></tr><tr><th>25</th><td>7.61972e-7</td><td>2.03617e-8</td></tr><tr><th>26</th><td>1.2217e-7</td><td>3.40407e-9</td></tr><tr><th>27</th><td>2.04244e-8</td><td>6.14469e-10</td></tr><tr><th>28</th><td>3.68681e-9</td><td>1.27883e-10</td></tr><tr><th>29</th><td>7.673e-10</td><td>3.41393e-11</td></tr><tr><th>30</th><td>2.04836e-10</td><td>1.32143e-11</td></tr><tr><th>&vellip;</th><td>&vellip;</td><td>&vellip;</td></tr></tbody></table>"
      ],
      "text/latex": [
       "\\begin{tabular}{r|cc}\n",
       "\t& pupae & adult\\\\\n",
       "\t\\hline\n",
       "\t& Float64 & Float64\\\\\n",
       "\t\\hline\n",
       "\t1 & 1.0 & 1.0 \\\\\n",
       "\t2 & 1.0 & 0.999991 \\\\\n",
       "\t3 & 0.999998 & 0.99998 \\\\\n",
       "\t4 & 0.999997 & 0.999959 \\\\\n",
       "\t5 & 0.999993 & 0.999914 \\\\\n",
       "\t6 & 0.999986 & 0.999814 \\\\\n",
       "\t7 & 0.999969 & 0.999567 \\\\\n",
       "\t8 & 0.999928 & 0.998911 \\\\\n",
       "\t9 & 0.999818 & 0.997039 \\\\\n",
       "\t10 & 0.999505 & 0.991492 \\\\\n",
       "\t11 & 0.998572 & 0.97522 \\\\\n",
       "\t12 & 0.995783 & 0.930821 \\\\\n",
       "\t13 & 0.987765 & 0.826613 \\\\\n",
       "\t14 & 0.966222 & 0.634841 \\\\\n",
       "\t15 & 0.91252 & 0.383046 \\\\\n",
       "\t16 & 0.788369 & 0.164957 \\\\\n",
       "\t17 & 0.542388 & 0.0471172 \\\\\n",
       "\t18 & 0.228801 & 0.00913939 \\\\\n",
       "\t19 & 0.05244 & 0.00146794 \\\\\n",
       "\t20 & 0.00874346 & 0.000225201 \\\\\n",
       "\t21 & 0.00134969 & 3.43323e-5 \\\\\n",
       "\t22 & 0.000205959 & 5.25449e-6 \\\\\n",
       "\t23 & 3.15261e-5 & 8.11117e-7 \\\\\n",
       "\t24 & 4.86668e-6 & 1.26995e-7 \\\\\n",
       "\t25 & 7.61972e-7 & 2.03617e-8 \\\\\n",
       "\t26 & 1.2217e-7 & 3.40407e-9 \\\\\n",
       "\t27 & 2.04244e-8 & 6.14469e-10 \\\\\n",
       "\t28 & 3.68681e-9 & 1.27883e-10 \\\\\n",
       "\t29 & 7.673e-10 & 3.41393e-11 \\\\\n",
       "\t30 & 2.04836e-10 & 1.32143e-11 \\\\\n",
       "\t$\\dots$ & $\\dots$ & $\\dots$ \\\\\n",
       "\\end{tabular}\n"
      ],
      "text/plain": [
       "\u001b[1m101×2 DataFrame\u001b[0m\n",
       "\u001b[1m Row \u001b[0m│\u001b[1m pupae    \u001b[0m\u001b[1m adult    \u001b[0m\n",
       "\u001b[1m     \u001b[0m│\u001b[90m Float64  \u001b[0m\u001b[90m Float64  \u001b[0m\n",
       "─────┼────────────────────\n",
       "   1 │ 1.0       1.0\n",
       "   2 │ 1.0       0.999991\n",
       "   3 │ 0.999998  0.99998\n",
       "   4 │ 0.999997  0.999959\n",
       "   5 │ 0.999993  0.999914\n",
       "   6 │ 0.999986  0.999814\n",
       "   7 │ 0.999969  0.999567\n",
       "   8 │ 0.999928  0.998911\n",
       "   9 │ 0.999818  0.997039\n",
       "  10 │ 0.999505  0.991492\n",
       "  11 │ 0.998572  0.97522\n",
       "  ⋮  │    ⋮         ⋮\n",
       "  92 │ 0.9985    0.991374\n",
       "  93 │ 0.998552  0.991668\n",
       "  94 │ 0.998602  0.991946\n",
       "  95 │ 0.998649  0.992211\n",
       "  96 │ 0.998693  0.992463\n",
       "  97 │ 0.998736  0.992702\n",
       "  98 │ 0.998776  0.99293\n",
       "  99 │ 0.998815  0.993147\n",
       " 100 │ 0.998851  0.993355\n",
       " 101 │ 0.998886  0.993552\n",
       "\u001b[31m           80 rows omitted\u001b[0m"
      ]
     },
     "execution_count": 150,
     "metadata": {},
     "output_type": "execute_result"
    }
   ],
   "source": [
    "data_dict[\"relative_number_females\"]"
   ]
  },
  {
   "cell_type": "markdown",
   "id": "amended-freight",
   "metadata": {
    "heading_collapsed": true
   },
   "source": [
    "## Double drive simulator with evolutionary stability"
   ]
  },
  {
   "cell_type": "code",
   "execution_count": 157,
   "id": "sunset-boutique",
   "metadata": {
    "code_folding": [],
    "hidden": true
   },
   "outputs": [],
   "source": [
    "#Load evolutionary stability model\n",
    "@nbinclude(\"DoubleDrive_Simulator_EvoStability.ipynb\");"
   ]
  },
  {
   "cell_type": "markdown",
   "id": "stretch-accessory",
   "metadata": {
    "hidden": true
   },
   "source": [
    "Here we use design 1 as an example with a neutral differentiated gene and a loss-of-function mutation rate = 0.001"
   ]
  },
  {
   "cell_type": "markdown",
   "id": "veterinary-links",
   "metadata": {
    "hidden": true
   },
   "source": [
    "\n",
    "###### Define design details."
   ]
  },
  {
   "cell_type": "markdown",
   "id": "weighted-restoration",
   "metadata": {
    "hidden": true
   },
   "source": [
    "Define the content of the constructs."
   ]
  },
  {
   "cell_type": "code",
   "execution_count": 158,
   "id": "shared-dragon",
   "metadata": {
    "hidden": true
   },
   "outputs": [
    {
     "data": {
      "text/plain": [
       "\"adult\""
      ]
     },
     "execution_count": 158,
     "metadata": {},
     "output_type": "execute_result"
    }
   ],
   "source": [
    "A_alleles_content,A_alleles_ir = Make_construct_content_dict(\"A\",[\"cas9\",\"Agrna\"],false)\n",
    "B_alleles_content,B_alleles_ir = Make_construct_content_dict(\"B\",[\"Bgrna\"],false)\n",
    "fitness_effect = \"adult\""
   ]
  },
  {
   "cell_type": "code",
   "execution_count": 159,
   "id": "extra-paste",
   "metadata": {
    "hidden": true
   },
   "outputs": [
    {
     "data": {
      "text/plain": [
       "Dict{Any,Any} with 5 entries:\n",
       "  \"A5\" => Any[]\n",
       "  \"A2\" => [\"cas9\", \"Agrna\"]\n",
       "  \"A3\" => [\"Agrna\"]\n",
       "  \"A1\" => Any[]\n",
       "  \"A4\" => [\"cas9\"]"
      ]
     },
     "execution_count": 159,
     "metadata": {},
     "output_type": "execute_result"
    }
   ],
   "source": [
    "#content dictionary \n",
    "A_alleles_content"
   ]
  },
  {
   "cell_type": "code",
   "execution_count": 160,
   "id": "ambient-headquarters",
   "metadata": {
    "hidden": true
   },
   "outputs": [
    {
     "data": {
      "text/plain": [
       "Dict{Any,Any} with 5 entries:\n",
       "  \"A5\" => \"disruption\"\n",
       "  \"A2\" => \"disruption\"\n",
       "  \"A3\" => \"disruption\"\n",
       "  \"A1\" => \"wt\"\n",
       "  \"A4\" => \"disruption\""
      ]
     },
     "execution_count": 160,
     "metadata": {},
     "output_type": "execute_result"
    }
   ],
   "source": [
    "#fitness type dictionary \n",
    "A_alleles_ir"
   ]
  },
  {
   "cell_type": "markdown",
   "id": "informational-grill",
   "metadata": {
    "hidden": true
   },
   "source": [
    "Define the lists of alleles and genotypes"
   ]
  },
  {
   "cell_type": "code",
   "execution_count": 161,
   "id": "convenient-intake",
   "metadata": {
    "hidden": true
   },
   "outputs": [],
   "source": [
    "A_alleles,\n",
    "B_alleles,\n",
    "alleles,\n",
    "A_genotypes,\n",
    "B_genotypes,\n",
    "genotypes = define_string_genotypes(length(A_alleles_content),length(B_alleles_content));"
   ]
  },
  {
   "cell_type": "markdown",
   "id": "thermal-laptop",
   "metadata": {
    "hidden": true
   },
   "source": [
    "\n",
    "###### Set parameters"
   ]
  },
  {
   "cell_type": "code",
   "execution_count": 162,
   "id": "behind-oriental",
   "metadata": {
    "hidden": true
   },
   "outputs": [
    {
     "data": {
      "text/plain": [
       "0.01"
      ]
     },
     "execution_count": 162,
     "metadata": {},
     "output_type": "execute_result"
    }
   ],
   "source": [
    "params = Initiate_baseline_parameters()\n",
    "\n",
    "#Fitness costs at the differentiated site remain zero since it is neutral\n",
    "#Fitness costs at the haplo-sufficient female specific gene\n",
    "params[\"sibf\"]=1.0 \n",
    "params[\"srbf\"]=1.0 \n",
    "params[\"sirbf\"] = 1.0\n",
    "\n",
    "#homing parameters\n",
    "params[\"caf\"] = 0.971\n",
    "params[\"jaf\"] = 0.019\n",
    "params[\"cam\"] = 0.971\n",
    "params[\"jam\"] = 0.019\n",
    "params[\"cbf\"] = 0.971\n",
    "params[\"jbf\"] = 0.019\n",
    "params[\"cbm\"] = 0.971\n",
    "params[\"jbm\"] = 0.019;\n",
    "\n",
    "#mutation rate\n",
    "params[\"daf\"] = 0.001\n",
    "params[\"dam\"] = 0.001\n",
    "params[\"dbf\"] = 0.001\n",
    "params[\"dbm\"] = 0.001\n",
    "\n",
    "#off target cleavage cost of 1%\n",
    "params[\"sHaf\"] = 0.01\n",
    "params[\"sHam\"] = 0.01\n",
    "params[\"sHbf\"] = 0.01\n",
    "params[\"sHbm\"] = 0.01"
   ]
  },
  {
   "cell_type": "markdown",
   "id": "ready-hampton",
   "metadata": {
    "hidden": true
   },
   "source": [
    "\n",
    "###### Define starting population\n",
    "\n",
    "Define the population pre-release:"
   ]
  },
  {
   "cell_type": "code",
   "execution_count": 163,
   "id": "intellectual-converter",
   "metadata": {
    "hidden": true
   },
   "outputs": [],
   "source": [
    "resistant_allele = \"A5\"\n",
    "resistant_freq = 0.01\n",
    "pre_pop = Initiate_prerelease_population_3lifestages(resistant_allele, \n",
    "                                                        resistant_freq, \n",
    "                                                        params, \n",
    "                                                        genotypes);"
   ]
  },
  {
   "cell_type": "markdown",
   "id": "thirty-cleanup",
   "metadata": {
    "hidden": true
   },
   "source": [
    "Release transgenic males:"
   ]
  },
  {
   "cell_type": "code",
   "execution_count": 164,
   "id": "bored-enhancement",
   "metadata": {
    "hidden": true
   },
   "outputs": [
    {
     "data": {
      "text/plain": [
       "120×6 Transpose{Float64,Array{Float64,2}}:\n",
       " 58806.0  58806.0  980.1  980.1  980.1  980.1\n",
       "     0.0      0.0    0.0    0.0    0.0    0.0\n",
       "     0.0      0.0    0.0    0.0    0.0    0.0\n",
       "     0.0      0.0    0.0    0.0    0.0    0.0\n",
       "     0.0      0.0    0.0    0.0    0.0    1.0\n",
       "     0.0      0.0    0.0    0.0    0.0    0.0\n",
       "     0.0      0.0    0.0    0.0    0.0    0.0\n",
       "     0.0      0.0    0.0    0.0    0.0    0.0\n",
       "     0.0      0.0    0.0    0.0    0.0    0.0\n",
       "     0.0      0.0    0.0    0.0    0.0    0.0\n",
       "     0.0      0.0    0.0    0.0    0.0    0.0\n",
       "     0.0      0.0    0.0    0.0    0.0    0.0\n",
       "  1188.0   1188.0   19.8   19.8   19.8   19.8\n",
       "     ⋮                                    ⋮\n",
       "     0.0      0.0    0.0    0.0    0.0    0.0\n",
       "     0.0      0.0    0.0    0.0    0.0    0.0\n",
       "     0.0      0.0    0.0    0.0    0.0    0.0\n",
       "     0.0      0.0    0.0    0.0    0.0    0.0\n",
       "     0.0      0.0    0.0    0.0    0.0    0.0\n",
       "     0.0      0.0    0.0    0.0    0.0    0.0\n",
       "     6.0      6.0    0.1    0.1    0.1    0.1\n",
       "     0.0      0.0    0.0    0.0    0.0    0.0\n",
       "     0.0      0.0    0.0    0.0    0.0    0.0\n",
       "     0.0      0.0    0.0    0.0    0.0    0.0\n",
       "     0.0      0.0    0.0    0.0    0.0    0.0\n",
       "     0.0      0.0    0.0    0.0    0.0    0.0"
      ]
     },
     "execution_count": 164,
     "metadata": {},
     "output_type": "execute_result"
    }
   ],
   "source": [
    "transgenic_genotype = [\"A1\" \"A2\"; \"B1\" \"B2\"]\n",
    "release_freq = 0.001\n",
    "starting_population_post_release = release_transgenic_males(\n",
    "    pre_pop,\n",
    "    transgenic_genotype,\n",
    "    release_freq)"
   ]
  },
  {
   "cell_type": "markdown",
   "id": "supreme-viewer",
   "metadata": {
    "hidden": true
   },
   "source": [
    "The order of genotypes is as in the variable 'genotypes'"
   ]
  },
  {
   "cell_type": "code",
   "execution_count": 165,
   "id": "olympic-middle",
   "metadata": {
    "hidden": true
   },
   "outputs": [
    {
     "data": {
      "text/plain": [
       "120-element Array{Any,1}:\n",
       " [\"A1\" \"A1\"; \"B1\" \"B1\"]\n",
       " [\"A1\" \"A1\"; \"B1\" \"B2\"]\n",
       " [\"A1\" \"A1\"; \"B1\" \"B3\"]\n",
       " [\"A1\" \"A2\"; \"B1\" \"B1\"]\n",
       " [\"A1\" \"A2\"; \"B1\" \"B2\"]\n",
       " [\"A1\" \"A2\"; \"B1\" \"B3\"]\n",
       " [\"A1\" \"A3\"; \"B1\" \"B1\"]\n",
       " [\"A1\" \"A3\"; \"B1\" \"B2\"]\n",
       " [\"A1\" \"A3\"; \"B1\" \"B3\"]\n",
       " [\"A1\" \"A4\"; \"B1\" \"B1\"]\n",
       " [\"A1\" \"A4\"; \"B1\" \"B2\"]\n",
       " [\"A1\" \"A4\"; \"B1\" \"B3\"]\n",
       " [\"A1\" \"A5\"; \"B1\" \"B1\"]\n",
       " ⋮\n",
       " [\"A4\" \"A5\"; \"B2\" \"B2\"]\n",
       " [\"A4\" \"A5\"; \"B2\" \"B3\"]\n",
       " [\"A4\" \"A4\"; \"B3\" \"B3\"]\n",
       " [\"A4\" \"A5\"; \"B3\" \"B1\"]\n",
       " [\"A4\" \"A5\"; \"B3\" \"B2\"]\n",
       " [\"A4\" \"A5\"; \"B3\" \"B3\"]\n",
       " [\"A5\" \"A5\"; \"B1\" \"B1\"]\n",
       " [\"A5\" \"A5\"; \"B1\" \"B2\"]\n",
       " [\"A5\" \"A5\"; \"B1\" \"B3\"]\n",
       " [\"A5\" \"A5\"; \"B2\" \"B2\"]\n",
       " [\"A5\" \"A5\"; \"B2\" \"B3\"]\n",
       " [\"A5\" \"A5\"; \"B3\" \"B3\"]"
      ]
     },
     "execution_count": 165,
     "metadata": {},
     "output_type": "execute_result"
    }
   ],
   "source": [
    "genotypes"
   ]
  },
  {
   "cell_type": "markdown",
   "id": "double-pastor",
   "metadata": {
    "hidden": true
   },
   "source": [
    "\n",
    "###### Build matrices\n",
    "\n",
    "Based in the design details, a list of matrices required for simulation are generated. These include:  \n",
    "* fitness matrix \n",
    "* male homing matrix \n",
    "* female homing matrix\n",
    "* recombination matrix \n",
    "* sex ratio matrix"
   ]
  },
  {
   "cell_type": "code",
   "execution_count": 166,
   "id": "established-confidence",
   "metadata": {
    "hidden": true
   },
   "outputs": [],
   "source": [
    "matrices = make_matrices(params,\n",
    "                        genotypes,\n",
    "                        alleles,\n",
    "                        A_alleles_content,\n",
    "                        A_alleles_ir,\n",
    "                        A_genotypes,\n",
    "                        B_alleles_content,\n",
    "                        B_alleles_ir,\n",
    "                        B_genotypes);"
   ]
  },
  {
   "cell_type": "markdown",
   "id": "rental-elite",
   "metadata": {
    "hidden": true
   },
   "source": [
    "\n",
    "###### Simulate time series\n",
    "\n",
    "The parameters, matrices, fitness effect and starting population is used to simulate t generations. "
   ]
  },
  {
   "cell_type": "code",
   "execution_count": 167,
   "id": "turkish-organizer",
   "metadata": {
    "hidden": true
   },
   "outputs": [
    {
     "data": {
      "text/plain": [
       "Dict{String,DataFrame} with 8 entries:\n",
       "  \"genotypenumber_pupae_female\"  => \u001b[1m101×120 DataFrame\u001b[0m…\n",
       "  \"genotypenumber_adult_female\"  => \u001b[1m101×120 DataFrame\u001b[0m…\n",
       "  \"genotypenumber_zygote_male\"   => \u001b[1m101×120 DataFrame\u001b[0m…\n",
       "  \"genotypenumber_pupae_male\"    => \u001b[1m101×120 DataFrame\u001b[0m…\n",
       "  \"genotypenumber_zygote_female\" => \u001b[1m101×120 DataFrame\u001b[0m…\n",
       "  \"eggnumber\"                    => \u001b[1m101×15 DataFrame\u001b[0m…\n",
       "  \"genotypenumber_adult_male\"    => \u001b[1m101×120 DataFrame\u001b[0m…\n",
       "  \"spermfreq\"                    => \u001b[1m101×30 DataFrame\u001b[0m…"
      ]
     },
     "execution_count": 167,
     "metadata": {},
     "output_type": "execute_result"
    }
   ],
   "source": [
    "t=100\n",
    "output = Simulate_timeseries(\n",
    "                    params,\n",
    "                    matrices,\n",
    "                    fitness_effect,\n",
    "                    t,\n",
    "                    starting_population_post_release,\n",
    "                    genotypes,\n",
    "                    alleles)"
   ]
  },
  {
   "cell_type": "markdown",
   "id": "given-effort",
   "metadata": {
    "hidden": true
   },
   "source": [
    "The output is a dictionary containing numbers of each genotype and gamete through time. "
   ]
  },
  {
   "cell_type": "code",
   "execution_count": 168,
   "id": "coordinate-charity",
   "metadata": {
    "hidden": true
   },
   "outputs": [
    {
     "data": {
      "text/html": [
       "<table class=\"data-frame\"><thead><tr><th></th><th>A1B1A1B1</th><th>A1B1A1B2</th><th>A1B1A1B3</th><th>A1B1A2B1</th><th>A1B1A2B2</th><th>A1B1A2B3</th><th>A1B1A3B1</th></tr><tr><th></th><th>Float64</th><th>Float64</th><th>Float64</th><th>Float64</th><th>Float64</th><th>Float64</th><th>Float64</th></tr></thead><tbody><p>101 rows × 120 columns (omitted printing of 113 columns)</p><tr><th>1</th><td>980.1</td><td>0.0</td><td>0.0</td><td>0.0</td><td>0.0</td><td>0.0</td><td>0.0</td></tr><tr><th>2</th><td>979.121</td><td>0.0139936</td><td>0.000139116</td><td>0.0138469</td><td>0.92253</td><td>0.00926385</td><td>6.82327e-6</td></tr><tr><th>3</th><td>978.197</td><td>0.0447991</td><td>0.000580477</td><td>0.0611593</td><td>1.71102</td><td>0.0260745</td><td>0.000268451</td></tr><tr><th>4</th><td>976.438</td><td>0.108922</td><td>0.00166706</td><td>0.189919</td><td>3.17154</td><td>0.056861</td><td>0.000905928</td></tr><tr><th>5</th><td>973.099</td><td>0.231089</td><td>0.0039362</td><td>0.506237</td><td>5.87066</td><td>0.113424</td><td>0.0022191</td></tr><tr><th>6</th><td>966.78</td><td>0.457739</td><td>0.0083607</td><td>1.23732</td><td>10.8388</td><td>0.217219</td><td>0.00481459</td></tr><tr><th>7</th><td>954.887</td><td>0.87201</td><td>0.0166657</td><td>2.8531</td><td>19.9144</td><td>0.406526</td><td>0.00985156</td></tr><tr><th>8</th><td>932.72</td><td>1.61532</td><td>0.0317799</td><td>6.28041</td><td>36.2585</td><td>0.747167</td><td>0.0194423</td></tr><tr><th>9</th><td>892.163</td><td>2.90642</td><td>0.0582338</td><td>13.2058</td><td>64.9102</td><td>1.34406</td><td>0.03714</td></tr><tr><th>10</th><td>820.471</td><td>5.0145</td><td>0.101614</td><td>26.2334</td><td>112.633</td><td>2.33806</td><td>0.0679558</td></tr><tr><th>11</th><td>701.522</td><td>8.05974</td><td>0.164454</td><td>47.9054</td><td>184.662</td><td>3.83818</td><td>0.115918</td></tr><tr><th>12</th><td>525.379</td><td>11.4371</td><td>0.23434</td><td>76.2859</td><td>273.766</td><td>5.694</td><td>0.175115</td></tr><tr><th>13</th><td>311.251</td><td>13.0718</td><td>0.268501</td><td>96.6492</td><td>341.759</td><td>7.11068</td><td>0.214597</td></tr><tr><th>14</th><td>123.622</td><td>10.3943</td><td>0.213819</td><td>84.0491</td><td>322.761</td><td>6.71669</td><td>0.185627</td></tr><tr><th>15</th><td>25.5246</td><td>4.62469</td><td>0.0952161</td><td>40.2214</td><td>198.915</td><td>4.13995</td><td>0.0923405</td></tr><tr><th>16</th><td>1.91432</td><td>0.857067</td><td>0.0176547</td><td>7.84507</td><td>66.5445</td><td>1.38511</td><td>0.0200796</td></tr><tr><th>17</th><td>0.0370301</td><td>0.0495697</td><td>0.00102137</td><td>0.468396</td><td>10.3141</td><td>0.21471</td><td>0.0014715</td></tr><tr><th>18</th><td>0.000261423</td><td>0.00104183</td><td>2.147e-5</td><td>0.0104633</td><td>0.866782</td><td>0.018046</td><td>4.42087e-5</td></tr><tr><th>19</th><td>2.31948e-6</td><td>1.85869e-5</td><td>3.83083e-7</td><td>0.000229229</td><td>0.0651358</td><td>0.00135625</td><td>1.39926e-6</td></tr><tr><th>20</th><td>5.11378e-8</td><td>5.07364e-7</td><td>1.0458e-8</td><td>9.94591e-6</td><td>0.0055169</td><td>0.000114882</td><td>9.46447e-8</td></tr><tr><th>21</th><td>2.75832e-9</td><td>2.53516e-8</td><td>5.22596e-10</td><td>8.60042e-7</td><td>0.00057335</td><td>1.19401e-5</td><td>1.40567e-8</td></tr><tr><th>22</th><td>2.8809e-10</td><td>2.2739e-9</td><td>4.68771e-11</td><td>1.17349e-7</td><td>7.7239e-5</td><td>1.60861e-6</td><td>3.67184e-9</td></tr><tr><th>23</th><td>5.40167e-11</td><td>3.62314e-10</td><td>7.46958e-12</td><td>2.39943e-8</td><td>1.4121e-5</td><td>2.94103e-7</td><td>1.57637e-9</td></tr><tr><th>24</th><td>1.79426e-11</td><td>1.02821e-10</td><td>2.11988e-12</td><td>7.7642e-9</td><td>3.65792e-6</td><td>7.61869e-8</td><td>1.1054e-9</td></tr><tr><th>25</th><td>1.00548e-11</td><td>4.97288e-11</td><td>1.02529e-12</td><td>4.14646e-9</td><td>1.3912e-6</td><td>2.89763e-8</td><td>1.20868e-9</td></tr><tr><th>26</th><td>8.68332e-12</td><td>3.72913e-11</td><td>7.68874e-13</td><td>3.51115e-9</td><td>7.89219e-7</td><td>1.64381e-8</td><td>1.87061e-9</td></tr><tr><th>27</th><td>1.06412e-11</td><td>3.95218e-11</td><td>8.14865e-13</td><td>4.32225e-9</td><td>6.57527e-7</td><td>1.3695e-8</td><td>3.73133e-9</td></tr><tr><th>28</th><td>1.74976e-11</td><td>5.5761e-11</td><td>1.14968e-12</td><td>7.15105e-9</td><td>7.70195e-7</td><td>1.60413e-8</td><td>9.05663e-9</td></tr><tr><th>29</th><td>3.68065e-11</td><td>1.00451e-10</td><td>2.07108e-12</td><td>1.49463e-8</td><td>1.19711e-6</td><td>2.49319e-8</td><td>2.58395e-8</td></tr><tr><th>30</th><td>9.45699e-11</td><td>2.22133e-10</td><td>4.57986e-12</td><td>3.75778e-8</td><td>2.33316e-6</td><td>4.85902e-8</td><td>8.4279e-8</td></tr><tr><th>&vellip;</th><td>&vellip;</td><td>&vellip;</td><td>&vellip;</td><td>&vellip;</td><td>&vellip;</td><td>&vellip;</td><td>&vellip;</td></tr></tbody></table>"
      ],
      "text/latex": [
       "\\begin{tabular}{r|cccccccc}\n",
       "\t& A1B1A1B1 & A1B1A1B2 & A1B1A1B3 & A1B1A2B1 & A1B1A2B2 & A1B1A2B3 & A1B1A3B1 & \\\\\n",
       "\t\\hline\n",
       "\t& Float64 & Float64 & Float64 & Float64 & Float64 & Float64 & Float64 & \\\\\n",
       "\t\\hline\n",
       "\t1 & 980.1 & 0.0 & 0.0 & 0.0 & 0.0 & 0.0 & 0.0 & $\\dots$ \\\\\n",
       "\t2 & 979.121 & 0.0139936 & 0.000139116 & 0.0138469 & 0.92253 & 0.00926385 & 6.82327e-6 & $\\dots$ \\\\\n",
       "\t3 & 978.197 & 0.0447991 & 0.000580477 & 0.0611593 & 1.71102 & 0.0260745 & 0.000268451 & $\\dots$ \\\\\n",
       "\t4 & 976.438 & 0.108922 & 0.00166706 & 0.189919 & 3.17154 & 0.056861 & 0.000905928 & $\\dots$ \\\\\n",
       "\t5 & 973.099 & 0.231089 & 0.0039362 & 0.506237 & 5.87066 & 0.113424 & 0.0022191 & $\\dots$ \\\\\n",
       "\t6 & 966.78 & 0.457739 & 0.0083607 & 1.23732 & 10.8388 & 0.217219 & 0.00481459 & $\\dots$ \\\\\n",
       "\t7 & 954.887 & 0.87201 & 0.0166657 & 2.8531 & 19.9144 & 0.406526 & 0.00985156 & $\\dots$ \\\\\n",
       "\t8 & 932.72 & 1.61532 & 0.0317799 & 6.28041 & 36.2585 & 0.747167 & 0.0194423 & $\\dots$ \\\\\n",
       "\t9 & 892.163 & 2.90642 & 0.0582338 & 13.2058 & 64.9102 & 1.34406 & 0.03714 & $\\dots$ \\\\\n",
       "\t10 & 820.471 & 5.0145 & 0.101614 & 26.2334 & 112.633 & 2.33806 & 0.0679558 & $\\dots$ \\\\\n",
       "\t11 & 701.522 & 8.05974 & 0.164454 & 47.9054 & 184.662 & 3.83818 & 0.115918 & $\\dots$ \\\\\n",
       "\t12 & 525.379 & 11.4371 & 0.23434 & 76.2859 & 273.766 & 5.694 & 0.175115 & $\\dots$ \\\\\n",
       "\t13 & 311.251 & 13.0718 & 0.268501 & 96.6492 & 341.759 & 7.11068 & 0.214597 & $\\dots$ \\\\\n",
       "\t14 & 123.622 & 10.3943 & 0.213819 & 84.0491 & 322.761 & 6.71669 & 0.185627 & $\\dots$ \\\\\n",
       "\t15 & 25.5246 & 4.62469 & 0.0952161 & 40.2214 & 198.915 & 4.13995 & 0.0923405 & $\\dots$ \\\\\n",
       "\t16 & 1.91432 & 0.857067 & 0.0176547 & 7.84507 & 66.5445 & 1.38511 & 0.0200796 & $\\dots$ \\\\\n",
       "\t17 & 0.0370301 & 0.0495697 & 0.00102137 & 0.468396 & 10.3141 & 0.21471 & 0.0014715 & $\\dots$ \\\\\n",
       "\t18 & 0.000261423 & 0.00104183 & 2.147e-5 & 0.0104633 & 0.866782 & 0.018046 & 4.42087e-5 & $\\dots$ \\\\\n",
       "\t19 & 2.31948e-6 & 1.85869e-5 & 3.83083e-7 & 0.000229229 & 0.0651358 & 0.00135625 & 1.39926e-6 & $\\dots$ \\\\\n",
       "\t20 & 5.11378e-8 & 5.07364e-7 & 1.0458e-8 & 9.94591e-6 & 0.0055169 & 0.000114882 & 9.46447e-8 & $\\dots$ \\\\\n",
       "\t21 & 2.75832e-9 & 2.53516e-8 & 5.22596e-10 & 8.60042e-7 & 0.00057335 & 1.19401e-5 & 1.40567e-8 & $\\dots$ \\\\\n",
       "\t22 & 2.8809e-10 & 2.2739e-9 & 4.68771e-11 & 1.17349e-7 & 7.7239e-5 & 1.60861e-6 & 3.67184e-9 & $\\dots$ \\\\\n",
       "\t23 & 5.40167e-11 & 3.62314e-10 & 7.46958e-12 & 2.39943e-8 & 1.4121e-5 & 2.94103e-7 & 1.57637e-9 & $\\dots$ \\\\\n",
       "\t24 & 1.79426e-11 & 1.02821e-10 & 2.11988e-12 & 7.7642e-9 & 3.65792e-6 & 7.61869e-8 & 1.1054e-9 & $\\dots$ \\\\\n",
       "\t25 & 1.00548e-11 & 4.97288e-11 & 1.02529e-12 & 4.14646e-9 & 1.3912e-6 & 2.89763e-8 & 1.20868e-9 & $\\dots$ \\\\\n",
       "\t26 & 8.68332e-12 & 3.72913e-11 & 7.68874e-13 & 3.51115e-9 & 7.89219e-7 & 1.64381e-8 & 1.87061e-9 & $\\dots$ \\\\\n",
       "\t27 & 1.06412e-11 & 3.95218e-11 & 8.14865e-13 & 4.32225e-9 & 6.57527e-7 & 1.3695e-8 & 3.73133e-9 & $\\dots$ \\\\\n",
       "\t28 & 1.74976e-11 & 5.5761e-11 & 1.14968e-12 & 7.15105e-9 & 7.70195e-7 & 1.60413e-8 & 9.05663e-9 & $\\dots$ \\\\\n",
       "\t29 & 3.68065e-11 & 1.00451e-10 & 2.07108e-12 & 1.49463e-8 & 1.19711e-6 & 2.49319e-8 & 2.58395e-8 & $\\dots$ \\\\\n",
       "\t30 & 9.45699e-11 & 2.22133e-10 & 4.57986e-12 & 3.75778e-8 & 2.33316e-6 & 4.85902e-8 & 8.4279e-8 & $\\dots$ \\\\\n",
       "\t$\\dots$ & $\\dots$ & $\\dots$ & $\\dots$ & $\\dots$ & $\\dots$ & $\\dots$ & $\\dots$ &  \\\\\n",
       "\\end{tabular}\n"
      ],
      "text/plain": [
       "\u001b[1m101×120 DataFrame\u001b[0m\n",
       "\u001b[1m Row \u001b[0m│\u001b[1m A1B1A1B1     \u001b[0m\u001b[1m A1B1A1B2    \u001b[0m\u001b[1m A1B1A1B3    \u001b[0m\u001b[1m A1B1A2B1    \u001b[0m\u001b[1m A1B1A2B2     \u001b[0m\u001b[1m A1B1\u001b[0m ⋯\n",
       "\u001b[1m     \u001b[0m│\u001b[90m Float64      \u001b[0m\u001b[90m Float64     \u001b[0m\u001b[90m Float64     \u001b[0m\u001b[90m Float64     \u001b[0m\u001b[90m Float64      \u001b[0m\u001b[90m Floa\u001b[0m ⋯\n",
       "─────┼──────────────────────────────────────────────────────────────────────────\n",
       "   1 │ 980.1          0.0         0.0           0.0           0.0         0.0  ⋯\n",
       "   2 │ 979.121        0.0139936   0.000139116   0.0138469     0.92253     0.00\n",
       "   3 │ 978.197        0.0447991   0.000580477   0.0611593     1.71102     0.02\n",
       "   4 │ 976.438        0.108922    0.00166706    0.189919      3.17154     0.05\n",
       "   5 │ 973.099        0.231089    0.0039362     0.506237      5.87066     0.11 ⋯\n",
       "   6 │ 966.78         0.457739    0.0083607     1.23732      10.8388      0.21\n",
       "   7 │ 954.887        0.87201     0.0166657     2.8531       19.9144      0.40\n",
       "   8 │ 932.72         1.61532     0.0317799     6.28041      36.2585      0.74\n",
       "   9 │ 892.163        2.90642     0.0582338    13.2058       64.9102      1.34 ⋯\n",
       "  10 │ 820.471        5.0145      0.101614     26.2334      112.633       2.33\n",
       "  11 │ 701.522        8.05974     0.164454     47.9054      184.662       3.83\n",
       "  ⋮  │      ⋮             ⋮            ⋮            ⋮            ⋮             ⋱\n",
       "  92 │   4.01458e-7   4.94414e-8  1.01895e-9    1.46201e-5    2.82071e-5  5.87\n",
       "  93 │   4.01577e-7   4.85443e-8  1.00046e-9    1.42941e-5    2.70573e-5  5.63 ⋯\n",
       "  94 │   4.01694e-7   4.7676e-8   9.8256e-10    1.39784e-5    2.59672e-5  5.40\n",
       "  95 │   4.01807e-7   4.6835e-8   9.65228e-10   1.36724e-5    2.49328e-5  5.18\n",
       "  96 │   4.01919e-7   4.60203e-8  9.48436e-10   1.33757e-5    2.39508e-5  4.98\n",
       "  97 │   4.02027e-7   4.52306e-8  9.3216e-10    1.3088e-5     2.30178e-5  4.79 ⋯\n",
       "  98 │   4.02134e-7   4.44648e-8  9.16377e-10   1.28088e-5    2.21308e-5  4.60\n",
       "  99 │   4.02238e-7   4.37219e-8  9.01066e-10   1.25378e-5    2.1287e-5   4.43\n",
       " 100 │   4.0234e-7    4.30009e-8  8.86206e-10   1.22747e-5    2.04838e-5  4.26\n",
       " 101 │   4.0244e-7    4.23009e-8  8.71778e-10   1.20192e-5    1.97189e-5  4.10 ⋯\n",
       "\u001b[31m                                                 115 columns and 80 rows omitted\u001b[0m"
      ]
     },
     "execution_count": 168,
     "metadata": {},
     "output_type": "execute_result"
    }
   ],
   "source": [
    "output[\"genotypenumber_adult_female\"]"
   ]
  },
  {
   "cell_type": "markdown",
   "id": "identical-parameter",
   "metadata": {
    "hidden": true
   },
   "source": [
    "\n",
    "###### Calculate additional metrics\n",
    "\n",
    "The output can be further processed to obtain allele frequencies, relative numbers of females and correlation between constructs through time."
   ]
  },
  {
   "cell_type": "code",
   "execution_count": 169,
   "id": "marked-audience",
   "metadata": {
    "hidden": true
   },
   "outputs": [
    {
     "data": {
      "text/plain": [
       "Dict{String,DataFrame} with 29 entries:\n",
       "  \"allelefreq_zygote_female\"     => \u001b[1m101×6 DataFrame\u001b[0m…\n",
       "  \"correlation_zygote\"           => \u001b[1m101×1 DataFrame\u001b[0m…\n",
       "  \"allelefreq_pupae\"             => \u001b[1m101×6 DataFrame\u001b[0m…\n",
       "  \"allelefreq_adult_male\"        => \u001b[1m101×6 DataFrame\u001b[0m…\n",
       "  \"allelefreq_adult_female\"      => \u001b[1m101×6 DataFrame\u001b[0m…\n",
       "  \"genotypenumber_adult_female\"  => \u001b[1m101×120 DataFrame\u001b[0m…\n",
       "  \"allelefreq_pupae_female\"      => \u001b[1m101×6 DataFrame\u001b[0m…\n",
       "  \"genotypefreq_adult_female\"    => \u001b[1m101×120 DataFrame\u001b[0m…\n",
       "  \"genotypefreq_zygote_female\"   => \u001b[1m101×120 DataFrame\u001b[0m…\n",
       "  \"allelefreq_zygote\"            => \u001b[1m101×6 DataFrame\u001b[0m…\n",
       "  \"relative_number_females\"      => \u001b[1m101×2 DataFrame\u001b[0m…\n",
       "  \"allelefreq_zygote_male\"       => \u001b[1m101×6 DataFrame\u001b[0m…\n",
       "  \"genotypenumber_pupae_female\"  => \u001b[1m101×120 DataFrame\u001b[0m…\n",
       "  \"genotypenumber_zygote_male\"   => \u001b[1m101×120 DataFrame\u001b[0m…\n",
       "  \"genotypenumber_pupae_male\"    => \u001b[1m101×120 DataFrame\u001b[0m…\n",
       "  \"genotypenumber_zygote_female\" => \u001b[1m101×120 DataFrame\u001b[0m…\n",
       "  \"genotypefreq_adult_male\"      => \u001b[1m101×120 DataFrame\u001b[0m…\n",
       "  \"genotypefreq_zygote\"          => \u001b[1m101×120 DataFrame\u001b[0m…\n",
       "  \"number_females\"               => \u001b[1m101×2 DataFrame\u001b[0m…\n",
       "  \"allelefreq_adult\"             => \u001b[1m101×6 DataFrame\u001b[0m…\n",
       "  \"genotypefreq_pupae_male\"      => \u001b[1m101×120 DataFrame\u001b[0m…\n",
       "  \"genotypefreq_adult\"           => \u001b[1m101×120 DataFrame\u001b[0m…\n",
       "  \"genotypefreq_zygote_male\"     => \u001b[1m101×120 DataFrame\u001b[0m…\n",
       "  \"genotypefreq_pupae_female\"    => \u001b[1m101×120 DataFrame\u001b[0m…\n",
       "  \"genotypefreq_pupae\"           => \u001b[1m101×120 DataFrame\u001b[0m…\n",
       "  ⋮                              => ⋮"
      ]
     },
     "execution_count": 169,
     "metadata": {},
     "output_type": "execute_result"
    }
   ],
   "source": [
    "data_dict = Simulation_processing_wrapper(output)"
   ]
  },
  {
   "cell_type": "code",
   "execution_count": 170,
   "id": "lightweight-bridal",
   "metadata": {
    "hidden": true,
    "scrolled": true
   },
   "outputs": [
    {
     "data": {
      "text/html": [
       "<table class=\"data-frame\"><thead><tr><th></th><th>pupae</th><th>adult</th></tr><tr><th></th><th>Float64</th><th>Float64</th></tr></thead><tbody><p>101 rows × 2 columns</p><tr><th>1</th><td>1.0</td><td>1.0</td></tr><tr><th>2</th><td>1.0</td><td>0.999981</td></tr><tr><th>3</th><td>0.999997</td><td>0.99996</td></tr><tr><th>4</th><td>0.999993</td><td>0.999923</td></tr><tr><th>5</th><td>0.999987</td><td>0.99985</td></tr><tr><th>6</th><td>0.999975</td><td>0.9997</td></tr><tr><th>7</th><td>0.99995</td><td>0.99938</td></tr><tr><th>8</th><td>0.999897</td><td>0.998644</td></tr><tr><th>9</th><td>0.999774</td><td>0.996827</td></tr><tr><th>10</th><td>0.99947</td><td>0.992062</td></tr><tr><th>11</th><td>0.998668</td><td>0.979248</td></tr><tr><th>12</th><td>0.996481</td><td>0.945817</td></tr><tr><th>13</th><td>0.990543</td><td>0.867055</td></tr><tr><th>14</th><td>0.975082</td><td>0.7132</td></tr><tr><th>15</th><td>0.937188</td><td>0.485539</td></tr><tr><th>16</th><td>0.84991</td><td>0.250224</td></tr><tr><th>17</th><td>0.666932</td><td>0.0903585</td></tr><tr><th>18</th><td>0.373436</td><td>0.0222147</td></tr><tr><th>19</th><td>0.119964</td><td>0.00423324</td></tr><tr><th>20</th><td>0.024873</td><td>0.000770556</td></tr><tr><th>21</th><td>0.00460559</td><td>0.000151798</td></tr><tr><th>22</th><td>0.000910095</td><td>3.60161e-5</td></tr><tr><th>23</th><td>0.000216057</td><td>1.16819e-5</td></tr><tr><th>24</th><td>7.00875e-5</td><td>5.75615e-6</td></tr><tr><th>25</th><td>3.45359e-5</td><td>4.43224e-6</td></tr><tr><th>26</th><td>2.65928e-5</td><td>5.1145e-6</td></tr><tr><th>27</th><td>3.06862e-5</td><td>8.22758e-6</td></tr><tr><th>28</th><td>4.93634e-5</td><td>1.71888e-5</td></tr><tr><th>29</th><td>0.000103124</td><td>4.40328e-5</td></tr><tr><th>30</th><td>0.000264139</td><td>0.000132304</td></tr><tr><th>&vellip;</th><td>&vellip;</td><td>&vellip;</td></tr></tbody></table>"
      ],
      "text/latex": [
       "\\begin{tabular}{r|cc}\n",
       "\t& pupae & adult\\\\\n",
       "\t\\hline\n",
       "\t& Float64 & Float64\\\\\n",
       "\t\\hline\n",
       "\t1 & 1.0 & 1.0 \\\\\n",
       "\t2 & 1.0 & 0.999981 \\\\\n",
       "\t3 & 0.999997 & 0.99996 \\\\\n",
       "\t4 & 0.999993 & 0.999923 \\\\\n",
       "\t5 & 0.999987 & 0.99985 \\\\\n",
       "\t6 & 0.999975 & 0.9997 \\\\\n",
       "\t7 & 0.99995 & 0.99938 \\\\\n",
       "\t8 & 0.999897 & 0.998644 \\\\\n",
       "\t9 & 0.999774 & 0.996827 \\\\\n",
       "\t10 & 0.99947 & 0.992062 \\\\\n",
       "\t11 & 0.998668 & 0.979248 \\\\\n",
       "\t12 & 0.996481 & 0.945817 \\\\\n",
       "\t13 & 0.990543 & 0.867055 \\\\\n",
       "\t14 & 0.975082 & 0.7132 \\\\\n",
       "\t15 & 0.937188 & 0.485539 \\\\\n",
       "\t16 & 0.84991 & 0.250224 \\\\\n",
       "\t17 & 0.666932 & 0.0903585 \\\\\n",
       "\t18 & 0.373436 & 0.0222147 \\\\\n",
       "\t19 & 0.119964 & 0.00423324 \\\\\n",
       "\t20 & 0.024873 & 0.000770556 \\\\\n",
       "\t21 & 0.00460559 & 0.000151798 \\\\\n",
       "\t22 & 0.000910095 & 3.60161e-5 \\\\\n",
       "\t23 & 0.000216057 & 1.16819e-5 \\\\\n",
       "\t24 & 7.00875e-5 & 5.75615e-6 \\\\\n",
       "\t25 & 3.45359e-5 & 4.43224e-6 \\\\\n",
       "\t26 & 2.65928e-5 & 5.1145e-6 \\\\\n",
       "\t27 & 3.06862e-5 & 8.22758e-6 \\\\\n",
       "\t28 & 4.93634e-5 & 1.71888e-5 \\\\\n",
       "\t29 & 0.000103124 & 4.40328e-5 \\\\\n",
       "\t30 & 0.000264139 & 0.000132304 \\\\\n",
       "\t$\\dots$ & $\\dots$ & $\\dots$ \\\\\n",
       "\\end{tabular}\n"
      ],
      "text/plain": [
       "\u001b[1m101×2 DataFrame\u001b[0m\n",
       "\u001b[1m Row \u001b[0m│\u001b[1m pupae    \u001b[0m\u001b[1m adult    \u001b[0m\n",
       "\u001b[1m     \u001b[0m│\u001b[90m Float64  \u001b[0m\u001b[90m Float64  \u001b[0m\n",
       "─────┼────────────────────\n",
       "   1 │ 1.0       1.0\n",
       "   2 │ 1.0       0.999981\n",
       "   3 │ 0.999997  0.99996\n",
       "   4 │ 0.999993  0.999923\n",
       "   5 │ 0.999987  0.99985\n",
       "   6 │ 0.999975  0.9997\n",
       "   7 │ 0.99995   0.99938\n",
       "   8 │ 0.999897  0.998644\n",
       "   9 │ 0.999774  0.996827\n",
       "  10 │ 0.99947   0.992062\n",
       "  11 │ 0.998668  0.979248\n",
       "  ⋮  │    ⋮         ⋮\n",
       "  92 │ 0.99921   0.995452\n",
       "  93 │ 0.999239  0.995615\n",
       "  94 │ 0.999267  0.995771\n",
       "  95 │ 0.999293  0.995918\n",
       "  96 │ 0.999317  0.996059\n",
       "  97 │ 0.999341  0.996193\n",
       "  98 │ 0.999363  0.99632\n",
       "  99 │ 0.999385  0.996442\n",
       " 100 │ 0.999405  0.996559\n",
       " 101 │ 0.999425  0.99667\n",
       "\u001b[31m           80 rows omitted\u001b[0m"
      ]
     },
     "execution_count": 170,
     "metadata": {},
     "output_type": "execute_result"
    }
   ],
   "source": [
    "data_dict[\"relative_number_females\"]"
   ]
  }
 ],
 "metadata": {
  "kernelspec": {
   "display_name": "Julia 1.5.3",
   "language": "julia",
   "name": "julia-1.5"
  },
  "language_info": {
   "file_extension": ".jl",
   "mimetype": "application/julia",
   "name": "julia",
   "version": "1.5.3"
  }
 },
 "nbformat": 4,
 "nbformat_minor": 5
}
