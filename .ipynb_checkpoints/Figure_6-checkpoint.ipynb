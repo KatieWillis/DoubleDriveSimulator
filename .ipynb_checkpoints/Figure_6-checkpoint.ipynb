{
 "cells": [
  {
   "cell_type": "markdown",
   "id": "quick-audit",
   "metadata": {},
   "source": [
    "\n",
    "# Figure 6"
   ]
  },
  {
   "cell_type": "markdown",
   "id": "analyzed-transportation",
   "metadata": {},
   "source": [
    "22-02-21\n",
    "\n",
    "Katie Willis\n",
    "\n",
    "katie.willis16@imperial.ac.uk"
   ]
  },
  {
   "cell_type": "code",
   "execution_count": null,
   "id": "institutional-fitness",
   "metadata": {},
   "outputs": [],
   "source": [
    "] activate \"./Project/\" "
   ]
  },
  {
   "cell_type": "code",
   "execution_count": 2,
   "id": "jewish-exemption",
   "metadata": {},
   "outputs": [
    {
     "data": {
      "text/plain": [
       "Plots.PyPlotBackend()"
      ]
     },
     "execution_count": 2,
     "metadata": {},
     "output_type": "execute_result"
    }
   ],
   "source": [
    "using NBInclude\n",
    "@nbinclude(\"./Project/Setup.ipynb\");\n",
    "using Plots; pyplot()"
   ]
  },
  {
   "cell_type": "code",
   "execution_count": 3,
   "id": "strong-productivity",
   "metadata": {},
   "outputs": [],
   "source": [
    "#Load evolutionary stability model\n",
    "@nbinclude(\"DoubleDrive_Simulator_EvoStability.ipynb\");"
   ]
  },
  {
   "cell_type": "code",
   "execution_count": 4,
   "id": "expired-horror",
   "metadata": {},
   "outputs": [
    {
     "data": {
      "text/plain": [
       "\"#00DF97\""
      ]
     },
     "execution_count": 4,
     "metadata": {},
     "output_type": "execute_result"
    }
   ],
   "source": [
    "#Assign plotting parameters\n",
    "PyPlot.rc(\"font\", family=\"Arial\")\n",
    "PyPlot.rc(\"xtick\", labelsize=10) \n",
    "PyPlot.rc(\"ytick\", labelsize=10) \n",
    "\n",
    "blue = \"#0155FF\"\n",
    "light_blue = \"#78A0FF\"\n",
    "red = \"#FF011A\"\n",
    "light_red = \"#FF7689\"\n",
    "col1 = \"#BA03FF\" #purple\n",
    "col2 = \"#FF8509\" #orange\n",
    "col3 = \"#FF6CE8\" #pink\n",
    "col4 = \"#FFBF09\" #yellow\n",
    "col5 = \"#00DF97\" #green"
   ]
  },
  {
   "cell_type": "markdown",
   "id": "naked-planet",
   "metadata": {},
   "source": [
    "### Figure 6B"
   ]
  },
  {
   "cell_type": "code",
   "execution_count": 5,
   "id": "driven-visibility",
   "metadata": {
    "code_folding": [
     0
    ]
   },
   "outputs": [],
   "source": [
    "#Define design 2\n",
    "LOCUS_A = \"neutral\"\n",
    "LOCUS_B = \"neutral\"\n",
    "set_A_homing_dependency = \"conditional\"\n",
    "set_B_homing_dependency = \"conditional\"\n",
    "set_XS_dependency = \"none\"\n",
    "A_alleles_content,A_alleles_ir = Make_construct_content_dict(\"A\",[\"cas9\"],false)\n",
    "B_alleles_content,B_alleles_ir = Make_construct_content_dict(\"B\",[\"xs\",\"Agrna\",\"Bgrna\"],false) #xs used as cargo without the sex ratio bias\n",
    "fitness_effect = \"adult\"\n",
    "\n",
    "d_ = 0.001\n",
    "release_freq = 0.001\n",
    "resistant_freq = 0.5\n",
    "t = 450\n",
    "\n",
    "#Assign parameters\n",
    "params = Assign_baseline_params(LOCUS_A,\n",
    "                                LOCUS_B,\n",
    "                                set_A_homing_dependency,\n",
    "                                set_B_homing_dependency,\n",
    "                                set_XS_dependency)\n",
    "\n",
    "#cargo cost - we code it here to be a female specific dominant cost \n",
    "#associated with the X-shredder, setting m=0.5 (no male bias)\n",
    "params[\"sXsf\"] = 0.2\n",
    "\n",
    "d_ = 0.001\n",
    "params[\"daf\"] = d_\n",
    "params[\"dam\"] = d_\n",
    "params[\"dbf\"] = d_\n",
    "params[\"dbm\"] = d_\n",
    "\n",
    "transgenic_genotype = [\"A1\" \"A2\"; \"B1\" \"B2\"]\n",
    "resistant_genotype = \"A3\"\n",
    "\n",
    "t = 450\n",
    "data_dict_2 = Simulation_wrapper(params,\n",
    "                            A_alleles_content,\n",
    "                            A_alleles_ir,\n",
    "                            B_alleles_content,\n",
    "                            B_alleles_ir,\n",
    "                            fitness_effect,\n",
    "                            transgenic_genotype,\n",
    "                            release_freq,\n",
    "                            resistant_genotype, \n",
    "                            resistant_freq,\n",
    "                            t);"
   ]
  },
  {
   "cell_type": "code",
   "execution_count": 6,
   "id": "exciting-mixer",
   "metadata": {
    "code_folding": [
     0
    ]
   },
   "outputs": [
    {
     "data": {
      "image/png": "[encoded data removed]",
      "text/plain": [
       "PyPlot.Figure(PyObject <Figure size 460x220 with 1 Axes>)"
      ]
     },
     "metadata": {},
     "output_type": "display_data"
    }
   ],
   "source": [
    "#Plot\n",
    "f1 = PyPlot.figure(figsize=(4.6,2.2),frameon=false)\n",
    "count = 0\n",
    "\n",
    "t=450\n",
    "output = data_dict_2\n",
    "\n",
    "#drive construct\n",
    "PyPlot.plot(0:t,output[\"allelefreq_adult\"].B1,c=blue,\"--\",label = \"A\")\n",
    "PyPlot.plot(0:t,output[\"allelefreq_adult\"].B2,c=blue,\"-\",label = \"α\")\n",
    "PyPlot.plot(0:t,output[\"allelefreq_adult\"].B3,c=blue,\"-.\",label = \"α-Cargo\")\n",
    "PyPlot.plot(0:t,output[\"allelefreq_adult\"].B9,c=blue,\":\",label = \"a\")\n",
    "\n",
    "PyPlot.plot(0:t,output[\"allelefreq_adult\"].A1,c=red,\"--\",label = \"B\")\n",
    "PyPlot.plot(0:t,output[\"allelefreq_adult\"].A2,c=red,\"-\",label = \"β\")\n",
    "PyPlot.plot(0:t,output[\"allelefreq_adult\"].A3,c=red,\":\",label = \"b\")\n",
    "\n",
    "PyPlot.xlim([0,t])\n",
    "PyPlot.ylim([0,1])\n",
    "\n",
    "PyPlot.tight_layout()\n",
    "PyPlot.legend(title=\"Design\",fontsize=8,bbox_to_anchor=(1.0, 0.8),frameon=false)\n",
    "PyPlot.show()\n"
   ]
  },
  {
   "cell_type": "markdown",
   "id": "compact-employment",
   "metadata": {},
   "source": [
    "### Figure 6C"
   ]
  },
  {
   "cell_type": "markdown",
   "id": "unavailable-medicare",
   "metadata": {
    "heading_collapsed": true
   },
   "source": [
    "#### Upper plot (design 1r)"
   ]
  },
  {
   "cell_type": "code",
   "execution_count": 5,
   "id": "adjacent-bidding",
   "metadata": {
    "hidden": true
   },
   "outputs": [
    {
     "data": {
      "text/plain": [
       "450"
      ]
     },
     "execution_count": 5,
     "metadata": {},
     "output_type": "execute_result"
    }
   ],
   "source": [
    "d_ = 0.001\n",
    "release_freq = 0.001\n",
    "resistant_freq = 1.0\n",
    "t = 450"
   ]
  },
  {
   "cell_type": "code",
   "execution_count": 10,
   "id": "private-richmond",
   "metadata": {
    "code_folding": [],
    "hidden": true
   },
   "outputs": [],
   "source": [
    "#Define design 1 - neutral cargo insertion site\n",
    "LOCUS_A = \"neutral\" \n",
    "LOCUS_B = \"neutral\"\n",
    "set_A_homing_dependency = \"conditional\"\n",
    "set_B_homing_dependency = \"constitutive\"\n",
    "set_XS_dependency = \"none\"\n",
    "\n",
    "A_alleles_content,A_alleles_ir = Make_construct_content_dict(\"A\",[\"xs\",\"Agrna\"],false)\n",
    "B_alleles_content,B_alleles_ir = Make_construct_content_dict(\"B\",[\"cas9\",\"Bgrna\"],false) #xs used as cargo without the sex ratio bias\n",
    "fitness_effect = \"adult\"\n",
    "\n",
    "#Assign parameters\n",
    "params = Assign_baseline_params(LOCUS_A,\n",
    "                                LOCUS_B,\n",
    "                                set_A_homing_dependency,\n",
    "                                set_B_homing_dependency,\n",
    "                                set_XS_dependency)\n",
    "\n",
    "#cargo cost - we code it here to be a female specific dominant cost \n",
    "#associated with the X-shredder, setting m=0.5 (no male bias)\n",
    "params[\"sXsf\"] = 0.2\n",
    "\n",
    "params[\"daf\"] = d_\n",
    "params[\"dam\"] = d_\n",
    "params[\"dbf\"] = d_\n",
    "params[\"dbm\"] = d_\n",
    "\n",
    "transgenic_genotype = [\"A1\" \"A2\"; \"B1\" \"B2\"]\n",
    "resistant_allele = \"B5\"\n",
    "\n",
    "data_dict_1_d_ntrloff = Simulation_wrapper(params,\n",
    "                            A_alleles_content,\n",
    "                            A_alleles_ir,\n",
    "                            B_alleles_content,\n",
    "                            B_alleles_ir,\n",
    "                            fitness_effect,\n",
    "                            transgenic_genotype,\n",
    "                            release_freq,\n",
    "                            resistant_allele, \n",
    "                            resistant_freq,\n",
    "                            t);"
   ]
  },
  {
   "cell_type": "code",
   "execution_count": 11,
   "id": "constitutional-concert",
   "metadata": {
    "code_folding": [],
    "hidden": true
   },
   "outputs": [],
   "source": [
    "#Define design 1 - HI cargo insertion site and r=0.01\n",
    "A_alleles_content,A_alleles_ir = Make_construct_content_dict(\"A\",[\"xs\",\"Agrna\"],true)\n",
    "\n",
    "#The \"resistant\" allele has some fitness costs\n",
    "## but this does not apply to the disrupted locus due to recoding. \n",
    "params[\"sraf\"] = 1.0 #Assign some fitness cost to the resistant allele\n",
    "params[\"hraf\"] = 1.0 #Dominant fitness cost to the resistant allele\n",
    "params[\"siraf\"] = 1.0 #Dominant fitness cost to the resistant allele\n",
    "params[\"sram\"] = 1.0 #Assign some fitness cost to the resistant allele\n",
    "params[\"hram\"] = 1.0 #Dominant fitness cost to the resistant allele\n",
    "params[\"siram\"] = 1.0 #Dominant fitness cost to the resistant allele\n",
    "\n",
    "#Set all NHEJ products to be \"resistant\" with the above fitness cost\n",
    "params[\"paf\"] = 1.0\n",
    "params[\"pam\"] = 1.0\n",
    "\n",
    "params[\"r\"] = 0.01\n",
    "\n",
    "transgenic_genotype = [\"A1\" \"A2\"; \"B1\" \"B2\"]\n",
    "resistant_allele = \"B5\"\n",
    "\n",
    "data_dict_1_d_essoff_r = Simulation_wrapper(params,\n",
    "                            A_alleles_content,\n",
    "                            A_alleles_ir,\n",
    "                            B_alleles_content,\n",
    "                            B_alleles_ir,\n",
    "                            fitness_effect,\n",
    "                            transgenic_genotype,\n",
    "                            release_freq,\n",
    "                            resistant_allele, \n",
    "                            resistant_freq,\n",
    "                            t);"
   ]
  },
  {
   "cell_type": "code",
   "execution_count": 12,
   "id": "handy-cowboy",
   "metadata": {
    "code_folding": [],
    "hidden": true
   },
   "outputs": [
    {
     "data": {
      "image/png": "[encoded data removed]",
      "text/plain": [
       "PyPlot.Figure(PyObject <Figure size 280x150 with 1 Axes>)"
      ]
     },
     "metadata": {},
     "output_type": "display_data"
    }
   ],
   "source": [
    "#plot\n",
    "f1 = PyPlot.figure(figsize=(2.8,1.5),frameon=false)\n",
    "\n",
    "count = 0\n",
    "\n",
    "t=450\n",
    "\n",
    "#drive construct\n",
    "PyPlot.plot(0:t,data_dict_1_d_ntrloff[\"allelefreq_adult\"].A2,c=blue,\"-\",label = \"α\")\n",
    "PyPlot.plot(0:t,data_dict_1_d_ntrloff[\"allelefreq_adult\"].B2,c=red,\"-\",label = \"β\")\n",
    "\n",
    "PyPlot.plot(0:t,data_dict_1_d_essoff_r[\"allelefreq_adult\"].A2,c=blue,\"--\",label = \"α\")\n",
    "PyPlot.plot(0:t,data_dict_1_d_essoff_r[\"allelefreq_adult\"].B2,c=red,\"--\",label = \"β\")\n",
    "\n",
    "PyPlot.xlim([0,t])\n",
    "PyPlot.ylim([10^-5,1])\n",
    "PyPlot.yscale(\"log\")\n",
    "PyPlot.yticks([10^-4,10^-2,1],[\"\\$10^{-4}\\$\",\"\\$10^{-2}\\$\",\"1.0\"])\n",
    "\n",
    "PyPlot.tight_layout()\n",
    "PyPlot.show()"
   ]
  },
  {
   "cell_type": "code",
   "execution_count": 13,
   "id": "dying-occasions",
   "metadata": {
    "hidden": true,
    "scrolled": true
   },
   "outputs": [
    {
     "data": {
      "text/plain": [
       "0.0004310488308725772"
      ]
     },
     "execution_count": 13,
     "metadata": {},
     "output_type": "execute_result"
    }
   ],
   "source": [
    "maximum(data_dict_1_d_ntrloff[\"allelefreq_adult\"].B2)"
   ]
  },
  {
   "cell_type": "markdown",
   "id": "central-authorization",
   "metadata": {
    "heading_collapsed": true
   },
   "source": [
    "#### Lower plot (design 2r)"
   ]
  },
  {
   "cell_type": "code",
   "execution_count": 14,
   "id": "international-liabilities",
   "metadata": {
    "code_folding": [],
    "hidden": true
   },
   "outputs": [],
   "source": [
    "#Define desgin 2 - neutral cargo insertion site \n",
    "\n",
    "#Define design\n",
    "LOCUS_A = \"neutral\"\n",
    "LOCUS_B = \"neutral\"\n",
    "set_A_homing_dependency = \"conditional\"\n",
    "set_B_homing_dependency = \"conditional\"\n",
    "set_XS_dependency = \"none\"\n",
    "A_alleles_content,A_alleles_ir = Make_construct_content_dict(\"A\",[\"xs\",\"Agrna\",\"Bgrna\"],false)\n",
    "B_alleles_content,B_alleles_ir = Make_construct_content_dict(\"B\",[\"cas9\"],false) #xs used as cargo without the sex ratio bias\n",
    "fitness_effect = \"adult\"\n",
    "\n",
    "#Assign parameters\n",
    "params = Assign_baseline_params(LOCUS_A,\n",
    "                                LOCUS_B,\n",
    "                                set_A_homing_dependency,\n",
    "                                set_B_homing_dependency,\n",
    "                                set_XS_dependency)\n",
    "\n",
    "#cargo cost - we code it here to be a female specific dominant cost \n",
    "#associated with the X-shredder, setting m=0.5 (no male bias)\n",
    "params[\"sXsf\"] = 0.2\n",
    "\n",
    "params[\"daf\"] = d_\n",
    "params[\"dam\"] = d_\n",
    "params[\"dbf\"] = d_\n",
    "params[\"dbm\"] = d_\n",
    "\n",
    "transgenic_genotype = [\"A1\" \"A2\"; \"B1\" \"B2\"]\n",
    "resistant_allele = \"B3\"\n",
    "\n",
    "data_dict_2_d_ntrloff = Simulation_wrapper(params,\n",
    "                            A_alleles_content,\n",
    "                            A_alleles_ir,\n",
    "                            B_alleles_content,\n",
    "                            B_alleles_ir,\n",
    "                            fitness_effect,\n",
    "                            transgenic_genotype,\n",
    "                            release_freq,\n",
    "                            resistant_allele, \n",
    "                            resistant_freq,\n",
    "                            t);"
   ]
  },
  {
   "cell_type": "code",
   "execution_count": 15,
   "id": "minus-constraint",
   "metadata": {
    "code_folding": [],
    "hidden": true
   },
   "outputs": [],
   "source": [
    "#Simulate design 2 - essential cargo insertion site , r-0.01\n",
    "A_alleles_content,A_alleles_ir = Make_construct_content_dict(\"A\",[\"xs\",\"Agrna\",\"Bgrna\"],true)\n",
    "\n",
    "#The \"resistant\" allele has some fitness costs\n",
    "## but this does not apply to the disrupted locus due to recoding. \n",
    "params[\"sraf\"] = 1.0 #Assign some fitness cost to the resistant allele\n",
    "params[\"hraf\"] = 1.0 #Dominant fitness cost to the resistant allele\n",
    "params[\"siraf\"] = 1.0 #Dominant fitness cost to the resistant allele\n",
    "params[\"sram\"] = 1.0 #Assign some fitness cost to the resistant allele\n",
    "params[\"hram\"] = 1.0 #Dominant fitness cost to the resistant allele\n",
    "params[\"siram\"] = 1.0 #Dominant fitness cost to the resistant allele\n",
    "\n",
    "#Set all NHEJ products to be \"resistant\" with the above fitness cost\n",
    "params[\"paf\"] = 1.0\n",
    "params[\"pam\"] = 1.0\n",
    "\n",
    "params[\"r\"] = 0.01\n",
    "\n",
    "transgenic_genotype = [\"A1\" \"A2\"; \"B1\" \"B2\"]\n",
    "resistant_allele = \"B3\"\n",
    "\n",
    "data_dict_2_d_essoff_r = Simulation_wrapper(params,\n",
    "                            A_alleles_content,\n",
    "                            A_alleles_ir,\n",
    "                            B_alleles_content,\n",
    "                            B_alleles_ir,\n",
    "                            fitness_effect,\n",
    "                            transgenic_genotype,\n",
    "                            release_freq,\n",
    "                            resistant_allele, \n",
    "                            resistant_freq,\n",
    "                            t);"
   ]
  },
  {
   "cell_type": "code",
   "execution_count": 16,
   "id": "sticky-arrangement",
   "metadata": {
    "code_folding": [],
    "hidden": true
   },
   "outputs": [
    {
     "data": {
      "image/png": "[encoded data removed]",
      "text/plain": [
       "PyPlot.Figure(PyObject <Figure size 280x150 with 1 Axes>)"
      ]
     },
     "metadata": {},
     "output_type": "display_data"
    }
   ],
   "source": [
    "#plot cargo essential + r\n",
    "f1 = PyPlot.figure(figsize=(2.8,1.5),frameon=false)\n",
    "\n",
    "count = 0\n",
    "\n",
    "t=450\n",
    "\n",
    "#drive construct\n",
    "PyPlot.plot(0:t,data_dict_2_d_ntrloff[\"allelefreq_adult\"].A2,c=blue,\"-\",label = \"α\")\n",
    "PyPlot.plot(0:t,data_dict_2_d_ntrloff[\"allelefreq_adult\"].B2,c=red,\"-\",label = \"β\")\n",
    "\n",
    "PyPlot.plot(0:t,data_dict_2_d_essoff_r[\"allelefreq_adult\"].A2,c=blue,\"--\",label = \"α\")\n",
    "PyPlot.plot(0:t,data_dict_2_d_essoff_r[\"allelefreq_adult\"].B2,c=red,\"--\",label = \"β\")\n",
    "\n",
    "PyPlot.xlim([0,200])\n",
    "PyPlot.ylim([10^-5,1])\n",
    "PyPlot.yscale(\"log\")\n",
    "PyPlot.yticks([10^-4,10^-2,1],[\"\\$10^{-4}\\$\",\"\\$10^{-2}\\$\",\"1.0\"])\n",
    "\n",
    "PyPlot.tight_layout()\n",
    "PyPlot.show()"
   ]
  },
  {
   "cell_type": "code",
   "execution_count": 17,
   "id": "allied-operations",
   "metadata": {
    "hidden": true
   },
   "outputs": [
    {
     "data": {
      "text/plain": [
       "0.000431376731111787"
      ]
     },
     "execution_count": 17,
     "metadata": {},
     "output_type": "execute_result"
    }
   ],
   "source": [
    "maximum(data_dict_2_d_ntrloff[\"allelefreq_adult\"].B2)"
   ]
  },
  {
   "cell_type": "markdown",
   "id": "outside-young",
   "metadata": {},
   "source": [
    "### Figure 6D"
   ]
  },
  {
   "cell_type": "markdown",
   "id": "suitable-blues",
   "metadata": {},
   "source": [
    "#### Simulation"
   ]
  },
  {
   "cell_type": "code",
   "execution_count": 5,
   "id": "collective-masters",
   "metadata": {
    "code_folding": [
     0
    ]
   },
   "outputs": [
    {
     "data": {
      "text/plain": [
       "simulate_variable_resistant_freq (generic function with 1 method)"
      ]
     },
     "execution_count": 5,
     "metadata": {},
     "output_type": "execute_result"
    }
   ],
   "source": [
    "function simulate_variable_resistant_freq(construct_label,\n",
    "                                        suffix,\n",
    "                                        params,\n",
    "                                        A_alleles_content,\n",
    "                                        A_alleles_ir,\n",
    "                                        B_alleles_content,\n",
    "                                        B_alleles_ir,\n",
    "                                        fitness_effect,\n",
    "                                        transgenic_genotype,\n",
    "                                        release_freq,\n",
    "                                        resistant_allele, \n",
    "                                        resistant_freq_vec)\n",
    "    \n",
    "    for resistant_freq in resistant_freq_vec\n",
    "        \n",
    "        data_dict = Simulation_wrapper(params,\n",
    "                            A_alleles_content,\n",
    "                            A_alleles_ir,\n",
    "                            B_alleles_content,\n",
    "                            B_alleles_ir,\n",
    "                            fitness_effect,\n",
    "                            transgenic_genotype,\n",
    "                            release_freq,\n",
    "                            resistant_allele, \n",
    "                            resistant_freq,\n",
    "                            t);\n",
    "\n",
    "        output = data_dict;\n",
    "\n",
    "        output = Dict(\"genotypefreq_adult_female\" => output[\"genotypefreq_adult_female\"])\n",
    "\n",
    "        output_prefix1 = \"../results/StandingResistance/\"*construct_label\n",
    "            if isdir(output_prefix1) == false\n",
    "            mkdir(output_prefix1)\n",
    "        end\n",
    "        output_prefix = output_prefix1*\"/Releasefreq-\"*string(release_freq)*\"_standingresα-\"*string(resistant_freq)*suffix\n",
    "            if isdir(output_prefix) == false\n",
    "            mkdir(output_prefix)\n",
    "        end\n",
    "\n",
    "        unique_file_prefix = output_prefix*\"/output\"\n",
    "\n",
    "        Sim_IO_save(unique_file_prefix,\n",
    "                        params,\n",
    "                        output,\n",
    "                        t)\n",
    "        println(resistant_freq)\n",
    "    end\n",
    "    \n",
    "    println(\"Simulation complete\")\n",
    "end"
   ]
  },
  {
   "cell_type": "code",
   "execution_count": 6,
   "id": "introductory-cattle",
   "metadata": {
    "code_folding": [
     0,
     15
    ]
   },
   "outputs": [
    {
     "data": {
      "text/plain": [
       "extract_genunderthreshold_variableresistance (generic function with 1 method)"
      ]
     },
     "execution_count": 6,
     "metadata": {},
     "output_type": "execute_result"
    }
   ],
   "source": [
    "function extract_genunderthreshold(genotype_frequencies,threshold,alleles_content,genotypes)\n",
    "    \n",
    "    alleles = [k for (k,v) in alleles_content if \"xs\" in v]\n",
    "    mask = Int.(zeros(length(genotypes)))\n",
    "    for allele in alleles\n",
    "        tempmask = [allele in i for i in genotypes]\n",
    "        mask = mask .+ tempmask\n",
    "    end\n",
    "    mask = mask .>= 1\n",
    "    carrier_genotypes = [Symbol(join(i)) for i in genotypes[mask]]\n",
    "    output = genotype_frequencies[:,carrier_genotypes]\n",
    "    carriers = sum.(eachrow(output))\n",
    "    return(sum(carriers .>=threshold))\n",
    "end\n",
    "\n",
    "function extract_genunderthreshold_variableresistance(construct_label,release_freq,resistant_freq_vec,suffix,threshold,alleles_content,genotypes)\n",
    "    \n",
    "    output = []\n",
    "    data_labels = [\"genotypefreq_adult_female\"]\n",
    "    for resistant_freq in resistant_freq_vec\n",
    "\n",
    "        output_prefix = \"../results/StandingResistance/\"*construct_label*\"/Releasefreq-\"*string(release_freq)*\"_standingresα-\"*string(resistant_freq)*suffix\n",
    "        file_prefix = output_prefix*\"/output\"\n",
    "\n",
    "        data = Sim_IO_read(file_prefix,\n",
    "                                       data_labels);\n",
    "        genotype_frequencies = data[\"genotypefreq_adult_female\"]\n",
    "\n",
    "        ngen = extract_genunderthreshold(genotype_frequencies,threshold,alleles_content,genotypes)\n",
    "        push!(output,ngen)\n",
    "    end\n",
    "    return(output)\n",
    "end"
   ]
  },
  {
   "cell_type": "code",
   "execution_count": 7,
   "id": "unknown-correspondence",
   "metadata": {},
   "outputs": [
    {
     "data": {
      "text/plain": [
       "0.95"
      ]
     },
     "execution_count": 7,
     "metadata": {},
     "output_type": "execute_result"
    }
   ],
   "source": [
    "#define constants \n",
    "d_ = 0.001\n",
    "release_freq = 0.001\n",
    "t = 1000\n",
    "threshold = 0.95"
   ]
  },
  {
   "cell_type": "markdown",
   "id": "virgin-validity",
   "metadata": {},
   "source": [
    "##### Single construct"
   ]
  },
  {
   "cell_type": "code",
   "execution_count": 23,
   "id": "rolled-exhibit",
   "metadata": {},
   "outputs": [],
   "source": [
    "resistant_freq_vec = collect(0.0:0.01:0.2);"
   ]
  },
  {
   "cell_type": "code",
   "execution_count": 24,
   "id": "lovely-receipt",
   "metadata": {
    "code_folding": [
     0
    ]
   },
   "outputs": [],
   "source": [
    "#Define single construct design into a neutral site\n",
    "LOCUS_A = \"neutral\"\n",
    "LOCUS_B = \"neutral\"\n",
    "set_A_homing_dependency = \"constitutive\"\n",
    "set_B_homing_dependency = \"none\"\n",
    "set_XS_dependency = \"none\"\n",
    "A_alleles_content,A_alleles_ir = Make_construct_content_dict(\"A\",[\"xs\",\"cas9\",\"Agrna\"],false)\n",
    "B_alleles_content,B_alleles_ir = Make_construct_content_dict(\"B\",[],false) #xs used as cargo without the sex ratio bias\n",
    "fitness_effect = \"adult\"\n",
    "\n",
    "A_alleles,\n",
    "B_alleles,\n",
    "alleles,\n",
    "A_genotypes,\n",
    "B_genotypes,\n",
    "genotypes = define_string_genotypes(length(A_alleles_content),length(B_alleles_content));\n",
    "\n",
    "#Assign parameters\n",
    "params = Assign_baseline_params(LOCUS_A,\n",
    "                                LOCUS_B,\n",
    "                                set_A_homing_dependency,\n",
    "                                set_B_homing_dependency,\n",
    "                                set_XS_dependency)\n",
    "\n",
    "#cargo cost - we code it here to be a female specific dominant cost \n",
    "#associated with the X-shredder, setting m=0.5 (no male bias)\n",
    "params[\"sXsf\"] = 0.2\n",
    "\n",
    "params[\"daf\"] = d_\n",
    "params[\"dam\"] = d_\n",
    "params[\"dbf\"] = d_\n",
    "params[\"dbm\"] = d_\n",
    "\n",
    "transgenic_genotype = [\"A1\" \"A2\"; \"B1\" \"B1\"]\n",
    "resistant_allele = \"A9\";\n"
   ]
  },
  {
   "cell_type": "code",
   "execution_count": 43,
   "id": "general-accreditation",
   "metadata": {
    "scrolled": true
   },
   "outputs": [
    {
     "name": "stdout",
     "output_type": "stream",
     "text": [
      "0.0\n",
      "0.01\n",
      "0.02\n",
      "0.03\n",
      "0.04\n",
      "0.05\n",
      "0.06\n",
      "0.07\n",
      "0.08\n",
      "0.09\n",
      "0.1\n",
      "0.11\n",
      "0.12\n",
      "0.13\n",
      "0.14\n",
      "0.15\n",
      "0.16\n",
      "0.17\n",
      "0.18\n",
      "0.19\n",
      "0.2\n",
      "Simulation complete\n"
     ]
    }
   ],
   "source": [
    "construct_label = \"singleconstruct_rep_ntrl\"\n",
    "suffix = \"_EvoStabmodel_d\"*string(d_)\n",
    "simulate_variable_resistant_freq(construct_label,\n",
    "                                        suffix,\n",
    "                                        params,\n",
    "                                        A_alleles_content,\n",
    "                                        A_alleles_ir,\n",
    "                                        B_alleles_content,\n",
    "                                        B_alleles_ir,\n",
    "                                        fitness_effect,\n",
    "                                        transgenic_genotype,\n",
    "                                        release_freq,\n",
    "                                        resistant_allele, \n",
    "                                        resistant_freq_vec)\n"
   ]
  },
  {
   "cell_type": "code",
   "execution_count": 25,
   "id": "defensive-mathematics",
   "metadata": {},
   "outputs": [
    {
     "data": {
      "text/plain": [
       "21-element Array{Any,1}:\n",
       " 185\n",
       " 135\n",
       " 104\n",
       "  83\n",
       "  66\n",
       "  54\n",
       "  44\n",
       "  37\n",
       "  29\n",
       "  24\n",
       "  19\n",
       "  15\n",
       "  11\n",
       "   7\n",
       "   4\n",
       "   0\n",
       "   0\n",
       "   0\n",
       "   0\n",
       "   0\n",
       "   0"
      ]
     },
     "execution_count": 25,
     "metadata": {},
     "output_type": "execute_result"
    }
   ],
   "source": [
    "construct_label = \"singleconstruct_rep_ntrl\"\n",
    "suffix = \"_EvoStabmodel_d\"*string(d_)\n",
    "ngen_sr_ntrl = extract_genunderthreshold_variableresistance(construct_label,release_freq,resistant_freq_vec,suffix,threshold,A_alleles_content,genotypes)\n"
   ]
  },
  {
   "cell_type": "code",
   "execution_count": 26,
   "id": "electrical-multiple",
   "metadata": {
    "code_folding": [
     0
    ]
   },
   "outputs": [],
   "source": [
    "#Define single construct design into an essential site\n",
    "LOCUS_A = \"neutral\"\n",
    "LOCUS_B = \"neutral\"\n",
    "set_A_homing_dependency = \"constitutive\"\n",
    "set_B_homing_dependency = \"none\"\n",
    "set_XS_dependency = \"none\"\n",
    "\n",
    "A_alleles_content,A_alleles_ir = Make_construct_content_dict(\"A\",[\"xs\",\"cas9\",\"Agrna\"],true)\n",
    "B_alleles_content,B_alleles_ir = Make_construct_content_dict(\"B\",[],false) #xs used as cargo without the sex ratio bias\n",
    "fitness_effect = \"adult\"\n",
    "\n",
    "A_alleles,\n",
    "B_alleles,\n",
    "alleles,\n",
    "A_genotypes,\n",
    "B_genotypes,\n",
    "genotypes = define_string_genotypes(length(A_alleles_content),length(B_alleles_content));\n",
    "\n",
    "#Assign parameters\n",
    "params = Assign_baseline_params(LOCUS_A,\n",
    "                                LOCUS_B,\n",
    "                                set_A_homing_dependency,\n",
    "                                set_B_homing_dependency,\n",
    "                                set_XS_dependency)\n",
    "\n",
    "#cargo cost - we code it here to be a female specific dominant cost \n",
    "#associated with the X-shredder, setting m=0.5 (no male bias)\n",
    "params[\"sXsf\"] = 0.2\n",
    "\n",
    "params[\"daf\"] = d_\n",
    "params[\"dam\"] = d_\n",
    "params[\"dbf\"] = d_\n",
    "params[\"dbm\"] = d_\n",
    "\n",
    "#The \"resistant\" allele has some fitness costs\n",
    "## but this does not apply to the disrupted locus due to recoding. \n",
    "params[\"sraf\"] = 1.0 #Assign some fitness cost to the resistant allele\n",
    "params[\"hraf\"] = 1.0 #Dominant fitness cost to the resistant allele\n",
    "params[\"siraf\"] = 1.0 #Dominant fitness cost to the resistant allele\n",
    "params[\"sram\"] = 1.0 #Assign some fitness cost to the resistant allele\n",
    "params[\"hram\"] = 1.0 #Dominant fitness cost to the resistant allele\n",
    "params[\"siram\"] = 1.0 #Dominant fitness cost to the resistant allele\n",
    "\n",
    "#Set all NHEJ products to be \"resistant\" with the above fitness cost\n",
    "params[\"paf\"] = 1.0\n",
    "params[\"pam\"] = 1.0\n",
    "\n",
    "transgenic_genotype = [\"A1\" \"A2\"; \"B1\" \"B1\"]\n",
    "resistant_allele = \"A9\";"
   ]
  },
  {
   "cell_type": "code",
   "execution_count": 46,
   "id": "right-special",
   "metadata": {
    "scrolled": true
   },
   "outputs": [
    {
     "name": "stdout",
     "output_type": "stream",
     "text": [
      "0.0\n",
      "0.01\n",
      "0.02\n",
      "0.03\n",
      "0.04\n",
      "0.05\n",
      "0.06\n",
      "0.07\n",
      "0.08\n",
      "0.09\n",
      "0.1\n",
      "0.11\n",
      "0.12\n",
      "0.13\n",
      "0.14\n",
      "0.15\n",
      "0.16\n",
      "0.17\n",
      "0.18\n",
      "0.19\n",
      "0.2\n",
      "Simulation complete\n"
     ]
    }
   ],
   "source": [
    "construct_label = \"singleconstruct_rep_ess\"\n",
    "suffix = \"_EvoStabmodel_d\"*string(d_)\n",
    "simulate_variable_resistant_freq(construct_label,\n",
    "                                        \"_EvoStabmodel_d\"*string(d_),\n",
    "                                        params,\n",
    "                                        A_alleles_content,\n",
    "                                        A_alleles_ir,\n",
    "                                        B_alleles_content,\n",
    "                                        B_alleles_ir,\n",
    "                                        fitness_effect,\n",
    "                                        transgenic_genotype,\n",
    "                                        release_freq,\n",
    "                                        resistant_allele, \n",
    "                                        resistant_freq_vec)\n"
   ]
  },
  {
   "cell_type": "code",
   "execution_count": 27,
   "id": "manual-calculation",
   "metadata": {},
   "outputs": [
    {
     "data": {
      "text/plain": [
       "21-element Array{Any,1}:\n",
       " 467\n",
       " 261\n",
       " 175\n",
       " 128\n",
       "  97\n",
       "  77\n",
       "  62\n",
       "  50\n",
       "  41\n",
       "  33\n",
       "  27\n",
       "  21\n",
       "  17\n",
       "  12\n",
       "   9\n",
       "   5\n",
       "   0\n",
       "   0\n",
       "   0\n",
       "   0\n",
       "   0"
      ]
     },
     "execution_count": 27,
     "metadata": {},
     "output_type": "execute_result"
    }
   ],
   "source": [
    "construct_label = \"singleconstruct_rep_ess\"\n",
    "suffix = \"_EvoStabmodel_d\"*string(d_)\n",
    "ngen_sr_ess = extract_genunderthreshold_variableresistance(construct_label,release_freq,resistant_freq_vec,suffix,threshold,A_alleles_content,genotypes)\n"
   ]
  },
  {
   "cell_type": "markdown",
   "id": "experimental-template",
   "metadata": {},
   "source": [
    "##### Design 1"
   ]
  },
  {
   "cell_type": "code",
   "execution_count": 8,
   "id": "mysterious-stretch",
   "metadata": {},
   "outputs": [],
   "source": [
    "resistant_freq_vec = collect(0.0:0.01:1.0);"
   ]
  },
  {
   "cell_type": "code",
   "execution_count": 9,
   "id": "certified-secondary",
   "metadata": {
    "code_folding": [
     0
    ]
   },
   "outputs": [],
   "source": [
    "#Simulate design 1 - neutral\n",
    "LOCUS_A = \"neutral\" \n",
    "LOCUS_B = \"neutral\"\n",
    "set_A_homing_dependency = \"conditional\"\n",
    "set_B_homing_dependency = \"constitutive\"\n",
    "set_XS_dependency = \"none\"\n",
    "\n",
    "A_alleles_content,A_alleles_ir = Make_construct_content_dict(\"A\",[\"xs\",\"Agrna\"],false)\n",
    "B_alleles_content,B_alleles_ir = Make_construct_content_dict(\"B\",[\"cas9\",\"Bgrna\"],false) #xs used as cargo without the sex ratio bias\n",
    "fitness_effect = \"adult\"\n",
    "\n",
    "A_alleles,\n",
    "B_alleles,\n",
    "alleles,\n",
    "A_genotypes,\n",
    "B_genotypes,\n",
    "genotypes = define_string_genotypes(length(A_alleles_content),length(B_alleles_content));\n",
    "\n",
    "#Assign parameters\n",
    "params = Assign_baseline_params(LOCUS_A,\n",
    "                                LOCUS_B,\n",
    "                                set_A_homing_dependency,\n",
    "                                set_B_homing_dependency,\n",
    "                                set_XS_dependency)\n",
    "\n",
    "#cargo cost - we code it here to be a female specific dominant cost \n",
    "#associated with the X-shredder, setting m=0.5 (no male bias)\n",
    "params[\"sXsf\"] = 0.2\n",
    "\n",
    "params[\"daf\"] = d_\n",
    "params[\"dam\"] = d_\n",
    "params[\"dbf\"] = d_\n",
    "params[\"dbm\"] = d_\n",
    "\n",
    "transgenic_genotype = [\"A1\" \"A2\"; \"B1\" \"B2\"]\n",
    "resistant_allele = \"B5\";"
   ]
  },
  {
   "cell_type": "code",
   "execution_count": 10,
   "id": "absolute-decrease",
   "metadata": {
    "code_folding": [],
    "scrolled": true
   },
   "outputs": [
    {
     "name": "stdout",
     "output_type": "stream",
     "text": [
      "0.0\n",
      "0.01\n",
      "0.02\n",
      "0.03\n",
      "0.04\n",
      "0.05\n",
      "0.06\n",
      "0.07\n",
      "0.08\n",
      "0.09\n",
      "0.1\n",
      "0.11\n",
      "0.12\n",
      "0.13\n",
      "0.14\n",
      "0.15\n",
      "0.16\n",
      "0.17\n",
      "0.18\n",
      "0.19\n",
      "0.2\n",
      "0.21\n",
      "0.22\n",
      "0.23\n",
      "0.24\n",
      "0.25\n",
      "0.26\n",
      "0.27\n",
      "0.28\n",
      "0.29\n",
      "0.3\n",
      "0.31\n",
      "0.32\n",
      "0.33\n",
      "0.34\n",
      "0.35\n",
      "0.36\n",
      "0.37\n",
      "0.38\n",
      "0.39\n",
      "0.4\n",
      "0.41\n",
      "0.42\n",
      "0.43\n",
      "0.44\n",
      "0.45\n",
      "0.46\n",
      "0.47\n",
      "0.48\n",
      "0.49\n",
      "0.5\n",
      "0.51\n",
      "0.52\n",
      "0.53\n",
      "0.54\n",
      "0.55\n",
      "0.56\n",
      "0.57\n",
      "0.58\n",
      "0.59\n",
      "0.6\n",
      "0.61\n",
      "0.62\n",
      "0.63\n",
      "0.64\n",
      "0.65\n",
      "0.66\n",
      "0.67\n",
      "0.68\n",
      "0.69\n",
      "0.7\n",
      "0.71\n",
      "0.72\n",
      "0.73\n",
      "0.74\n",
      "0.75\n",
      "0.76\n",
      "0.77\n",
      "0.78\n",
      "0.79\n",
      "0.8\n",
      "0.81\n",
      "0.82\n",
      "0.83\n",
      "0.84\n",
      "0.85\n",
      "0.86\n",
      "0.87\n",
      "0.88\n",
      "0.89\n",
      "0.9\n",
      "0.91\n",
      "0.92\n",
      "0.93\n",
      "0.94\n",
      "0.95\n",
      "0.96\n",
      "0.97\n",
      "0.98\n",
      "0.99\n",
      "1.0\n",
      "Simulation complete\n"
     ]
    }
   ],
   "source": [
    "construct_label = \"dd1_reps_ntrl\"\n",
    "suffix = \"_EvoStabmodel_d\"*string(d_)\n",
    "simulate_variable_resistant_freq(construct_label,\n",
    "                                        suffix,\n",
    "                                        params,\n",
    "                                        A_alleles_content,\n",
    "                                        A_alleles_ir,\n",
    "                                        B_alleles_content,\n",
    "                                        B_alleles_ir,\n",
    "                                        fitness_effect,\n",
    "                                        transgenic_genotype,\n",
    "                                        release_freq,\n",
    "                                        resistant_allele, \n",
    "                                        resistant_freq_vec)\n"
   ]
  },
  {
   "cell_type": "code",
   "execution_count": 11,
   "id": "quantitative-worst",
   "metadata": {},
   "outputs": [
    {
     "data": {
      "text/plain": [
       "101-element Array{Any,1}:\n",
       " 176\n",
       " 175\n",
       " 174\n",
       " 173\n",
       " 172\n",
       " 171\n",
       " 170\n",
       " 167\n",
       " 166\n",
       " 165\n",
       " 163\n",
       " 162\n",
       " 161\n",
       "   ⋮\n",
       "   0\n",
       "   0\n",
       "   0\n",
       "   0\n",
       "   0\n",
       "   0\n",
       "   0\n",
       "   0\n",
       "   0\n",
       "   0\n",
       "   0\n",
       "   0"
      ]
     },
     "execution_count": 11,
     "metadata": {},
     "output_type": "execute_result"
    }
   ],
   "source": [
    "construct_label = \"dd1_reps_ntrl\"\n",
    "suffix = \"_EvoStabmodel_d\"*string(d_)\n",
    "ngen_1r_ntrl = extract_genunderthreshold_variableresistance(construct_label,release_freq,resistant_freq_vec,suffix,threshold,A_alleles_content,genotypes)\n"
   ]
  },
  {
   "cell_type": "code",
   "execution_count": 12,
   "id": "ruled-stockholm",
   "metadata": {
    "code_folding": []
   },
   "outputs": [
    {
     "data": {
      "text/plain": [
       "\"B5\""
      ]
     },
     "execution_count": 12,
     "metadata": {},
     "output_type": "execute_result"
    }
   ],
   "source": [
    "#Simulate design 1 -  essential cargo r\n",
    "construct_label = \"Construct_locA-neutral_locB-neutral_homA-constitutive_homB-conditional_XS-none\"\n",
    "\n",
    "LOCUS_A = \"neutral\"\n",
    "LOCUS_B = \"neutral\"\n",
    "set_A_homing_dependency = \"conditional\"\n",
    "set_B_homing_dependency = \"constitutive\"\n",
    "set_XS_dependency = \"none\"\n",
    "\n",
    "A_alleles_content,A_alleles_ir = Make_construct_content_dict(\"A\",[\"xs\",\"Agrna\"],true)\n",
    "B_alleles_content,B_alleles_ir = Make_construct_content_dict(\"B\",[\"cas9\",\"Bgrna\"],false) #xs used as cargo without the sex ratio bias\n",
    "fitness_effect = \"adult\"\n",
    "\n",
    "A_alleles,\n",
    "B_alleles,\n",
    "alleles,\n",
    "A_genotypes,\n",
    "B_genotypes,\n",
    "genotypes = define_string_genotypes(length(A_alleles_content),length(B_alleles_content));\n",
    "\n",
    "#Assign parameters\n",
    "params = Assign_baseline_params(LOCUS_A,\n",
    "                                LOCUS_B,\n",
    "                                set_A_homing_dependency,\n",
    "                                set_B_homing_dependency,\n",
    "                                set_XS_dependency)\n",
    "\n",
    "#The \"resistant\" allele has some fitness costs\n",
    "## but this does not apply to the disrupted locus due to recoding. \n",
    "params[\"sraf\"] = 1.0 #Assign some fitness cost to the resistant allele\n",
    "params[\"hraf\"] = 1.0 #Dominant fitness cost to the resistant allele\n",
    "params[\"siraf\"] = 1.0 #Dominant fitness cost to the resistant allele\n",
    "params[\"sram\"] = 1.0 #Assign some fitness cost to the resistant allele\n",
    "params[\"hram\"] = 1.0 #Dominant fitness cost to the resistant allele\n",
    "params[\"siram\"] = 1.0 #Dominant fitness cost to the resistant allele\n",
    "\n",
    "#Set all NHEJ products to be \"resistant\" with the above fitness cost\n",
    "params[\"paf\"] = 1.0\n",
    "params[\"pam\"] = 1.0\n",
    "\n",
    "#cargo cost - we code it here to be a female specific dominant cost \n",
    "#associated with the X-shredder, setting m=0.5 (no male bias)\n",
    "params[\"sXsf\"] = 0.2\n",
    "\n",
    "params[\"r\"] = 0.01\n",
    "\n",
    "params[\"daf\"] = d_\n",
    "params[\"dam\"] = d_\n",
    "params[\"dbf\"] = d_\n",
    "params[\"dbm\"] = d_\n",
    "\n",
    "transgenic_genotype = [\"A1\" \"A2\"; \"B1\" \"B2\"]\n",
    "resistant_allele = \"B5\"\n"
   ]
  },
  {
   "cell_type": "code",
   "execution_count": 13,
   "id": "naughty-passage",
   "metadata": {
    "scrolled": true
   },
   "outputs": [
    {
     "name": "stdout",
     "output_type": "stream",
     "text": [
      "0.0\n",
      "0.01\n",
      "0.02\n",
      "0.03\n",
      "0.04\n",
      "0.05\n",
      "0.06\n",
      "0.07\n",
      "0.08\n",
      "0.09\n",
      "0.1\n",
      "0.11\n",
      "0.12\n",
      "0.13\n",
      "0.14\n",
      "0.15\n",
      "0.16\n",
      "0.17\n",
      "0.18\n",
      "0.19\n",
      "0.2\n",
      "0.21\n",
      "0.22\n",
      "0.23\n",
      "0.24\n",
      "0.25\n",
      "0.26\n",
      "0.27\n",
      "0.28\n",
      "0.29\n",
      "0.3\n",
      "0.31\n",
      "0.32\n",
      "0.33\n",
      "0.34\n",
      "0.35\n",
      "0.36\n",
      "0.37\n",
      "0.38\n",
      "0.39\n",
      "0.4\n",
      "0.41\n",
      "0.42\n",
      "0.43\n",
      "0.44\n",
      "0.45\n",
      "0.46\n",
      "0.47\n",
      "0.48\n",
      "0.49\n",
      "0.5\n",
      "0.51\n",
      "0.52\n",
      "0.53\n",
      "0.54\n",
      "0.55\n",
      "0.56\n",
      "0.57\n",
      "0.58\n",
      "0.59\n",
      "0.6\n",
      "0.61\n",
      "0.62\n",
      "0.63\n",
      "0.64\n",
      "0.65\n",
      "0.66\n",
      "0.67\n",
      "0.68\n",
      "0.69\n",
      "0.7\n",
      "0.71\n",
      "0.72\n",
      "0.73\n",
      "0.74\n",
      "0.75\n",
      "0.76\n",
      "0.77\n",
      "0.78\n",
      "0.79\n",
      "0.8\n",
      "0.81\n",
      "0.82\n",
      "0.83\n",
      "0.84\n",
      "0.85\n",
      "0.86\n",
      "0.87\n",
      "0.88\n",
      "0.89\n",
      "0.9\n",
      "0.91\n",
      "0.92\n",
      "0.93\n",
      "0.94\n",
      "0.95\n",
      "0.96\n",
      "0.97\n",
      "0.98\n",
      "0.99\n",
      "1.0\n",
      "Simulation complete\n"
     ]
    }
   ],
   "source": [
    "construct_label = \"dd1_reps_ess\"\n",
    "suffix = \"_EvoStabmodel_d\"*string(d_)\n",
    "simulate_variable_resistant_freq(construct_label,\n",
    "                                        suffix,\n",
    "                                        params,\n",
    "                                        A_alleles_content,\n",
    "                                        A_alleles_ir,\n",
    "                                        B_alleles_content,\n",
    "                                        B_alleles_ir,\n",
    "                                        fitness_effect,\n",
    "                                        transgenic_genotype,\n",
    "                                        release_freq,\n",
    "                                        resistant_allele, \n",
    "                                        resistant_freq_vec)\n"
   ]
  },
  {
   "cell_type": "code",
   "execution_count": 14,
   "id": "legal-legislature",
   "metadata": {},
   "outputs": [
    {
     "data": {
      "text/plain": [
       "101-element Array{Any,1}:\n",
       " 434\n",
       " 430\n",
       " 426\n",
       " 422\n",
       " 418\n",
       " 413\n",
       " 409\n",
       " 405\n",
       " 399\n",
       " 395\n",
       " 390\n",
       " 386\n",
       " 381\n",
       "   ⋮\n",
       "   0\n",
       "   0\n",
       "   0\n",
       "   0\n",
       "   0\n",
       "   0\n",
       "   0\n",
       "   0\n",
       "   0\n",
       "   0\n",
       "   0\n",
       "   0"
      ]
     },
     "execution_count": 14,
     "metadata": {},
     "output_type": "execute_result"
    }
   ],
   "source": [
    "construct_label = \"dd1_reps_ess\"\n",
    "suffix = \"_EvoStabmodel_d\"*string(d_)\n",
    "ngen_1r_ess = extract_genunderthreshold_variableresistance(construct_label,release_freq,resistant_freq_vec,suffix,threshold,A_alleles_content,genotypes)\n"
   ]
  },
  {
   "cell_type": "markdown",
   "id": "sitting-occasion",
   "metadata": {},
   "source": [
    "##### Design 2"
   ]
  },
  {
   "cell_type": "code",
   "execution_count": 15,
   "id": "handmade-significance",
   "metadata": {},
   "outputs": [],
   "source": [
    "resistant_freq_vec = collect(0.0:0.01:1.0);"
   ]
  },
  {
   "cell_type": "code",
   "execution_count": 16,
   "id": "romance-effects",
   "metadata": {
    "code_folding": []
   },
   "outputs": [],
   "source": [
    "#Simulate design 2 - neutral\n",
    "construct_label = \"Construct_locA-neutral_locB-HS_rec_homA-conditional_homB-conditional_XS-none\"\n",
    "\n",
    "#Define design\n",
    "LOCUS_A = \"neutral\"\n",
    "LOCUS_B = \"neutral\"\n",
    "set_A_homing_dependency = \"conditional\"\n",
    "set_B_homing_dependency = \"conditional\"\n",
    "set_XS_dependency = \"none\"\n",
    "\n",
    "A_alleles_content,A_alleles_ir = Make_construct_content_dict(\"A\",[\"xs\",\"Agrna\",\"Bgrna\"],false)\n",
    "B_alleles_content,B_alleles_ir = Make_construct_content_dict(\"B\",[\"cas9\"],false) #xs used as cargo without the sex ratio bias\n",
    "fitness_effect = \"adult\"\n",
    "\n",
    "A_alleles,\n",
    "B_alleles,\n",
    "alleles,\n",
    "A_genotypes,\n",
    "B_genotypes,\n",
    "genotypes = define_string_genotypes(length(A_alleles_content),length(B_alleles_content));\n",
    "\n",
    "#Assign parameters\n",
    "params = Assign_baseline_params(LOCUS_A,\n",
    "                                LOCUS_B,\n",
    "                                set_A_homing_dependency,\n",
    "                                set_B_homing_dependency,\n",
    "                                set_XS_dependency)\n",
    "\n",
    "#cargo cost - we code it here to be a female specific dominant cost \n",
    "#associated with the X-shredder, setting m=0.5 (no male bias)\n",
    "params[\"sXsf\"] = 0.2\n",
    "\n",
    "params[\"daf\"] = d_\n",
    "params[\"dam\"] = d_\n",
    "params[\"dbf\"] = d_\n",
    "params[\"dbm\"] = d_\n",
    "\n",
    "transgenic_genotype = [\"A1\" \"A2\"; \"B1\" \"B2\"]\n",
    "resistant_allele = \"B3\";\n"
   ]
  },
  {
   "cell_type": "code",
   "execution_count": 17,
   "id": "according-straight",
   "metadata": {
    "scrolled": true
   },
   "outputs": [
    {
     "name": "stdout",
     "output_type": "stream",
     "text": [
      "0.0\n",
      "0.01\n",
      "0.02\n",
      "0.03\n",
      "0.04\n",
      "0.05\n",
      "0.06\n",
      "0.07\n",
      "0.08\n",
      "0.09\n",
      "0.1\n",
      "0.11\n",
      "0.12\n",
      "0.13\n",
      "0.14\n",
      "0.15\n",
      "0.16\n",
      "0.17\n",
      "0.18\n",
      "0.19\n",
      "0.2\n",
      "0.21\n",
      "0.22\n",
      "0.23\n",
      "0.24\n",
      "0.25\n",
      "0.26\n",
      "0.27\n",
      "0.28\n",
      "0.29\n",
      "0.3\n",
      "0.31\n",
      "0.32\n",
      "0.33\n",
      "0.34\n",
      "0.35\n",
      "0.36\n",
      "0.37\n",
      "0.38\n",
      "0.39\n",
      "0.4\n",
      "0.41\n",
      "0.42\n",
      "0.43\n",
      "0.44\n",
      "0.45\n",
      "0.46\n",
      "0.47\n",
      "0.48\n",
      "0.49\n",
      "0.5\n",
      "0.51\n",
      "0.52\n",
      "0.53\n",
      "0.54\n",
      "0.55\n",
      "0.56\n",
      "0.57\n",
      "0.58\n",
      "0.59\n",
      "0.6\n",
      "0.61\n",
      "0.62\n",
      "0.63\n",
      "0.64\n",
      "0.65\n",
      "0.66\n",
      "0.67\n",
      "0.68\n",
      "0.69\n",
      "0.7\n",
      "0.71\n",
      "0.72\n",
      "0.73\n",
      "0.74\n",
      "0.75\n",
      "0.76\n",
      "0.77\n",
      "0.78\n",
      "0.79\n",
      "0.8\n",
      "0.81\n",
      "0.82\n",
      "0.83\n",
      "0.84\n",
      "0.85\n",
      "0.86\n",
      "0.87\n",
      "0.88\n",
      "0.89\n",
      "0.9\n",
      "0.91\n",
      "0.92\n",
      "0.93\n",
      "0.94\n",
      "0.95\n",
      "0.96\n",
      "0.97\n",
      "0.98\n",
      "0.99\n",
      "1.0\n",
      "Simulation complete\n"
     ]
    }
   ],
   "source": [
    "construct_label = \"dd2_reps_ntrl\"\n",
    "suffix = \"_EvoStabmodel_d\"*string(d_)\n",
    "simulate_variable_resistant_freq(construct_label,\n",
    "                                        suffix,\n",
    "                                        params,\n",
    "                                        A_alleles_content,\n",
    "                                        A_alleles_ir,\n",
    "                                        B_alleles_content,\n",
    "                                        B_alleles_ir,\n",
    "                                        fitness_effect,\n",
    "                                        transgenic_genotype,\n",
    "                                        release_freq,\n",
    "                                        resistant_allele, \n",
    "                                        resistant_freq_vec)"
   ]
  },
  {
   "cell_type": "code",
   "execution_count": 18,
   "id": "honey-wrestling",
   "metadata": {},
   "outputs": [
    {
     "data": {
      "text/plain": [
       "101-element Array{Any,1}:\n",
       " 169\n",
       " 167\n",
       " 166\n",
       " 165\n",
       " 164\n",
       " 163\n",
       " 160\n",
       " 159\n",
       " 158\n",
       " 156\n",
       " 155\n",
       " 154\n",
       " 151\n",
       "   ⋮\n",
       "   0\n",
       "   0\n",
       "   0\n",
       "   0\n",
       "   0\n",
       "   0\n",
       "   0\n",
       "   0\n",
       "   0\n",
       "   0\n",
       "   0\n",
       "   0"
      ]
     },
     "execution_count": 18,
     "metadata": {},
     "output_type": "execute_result"
    }
   ],
   "source": [
    "construct_label = \"dd2_reps_ntrl\"\n",
    "suffix = \"_EvoStabmodel_d\"*string(d_)\n",
    "ngen_2r_ntrl = extract_genunderthreshold_variableresistance(construct_label,release_freq,resistant_freq_vec,suffix,threshold,A_alleles_content,genotypes)\n"
   ]
  },
  {
   "cell_type": "code",
   "execution_count": 19,
   "id": "sitting-nitrogen",
   "metadata": {
    "code_folding": []
   },
   "outputs": [
    {
     "data": {
      "text/plain": [
       "\"B3\""
      ]
     },
     "execution_count": 19,
     "metadata": {},
     "output_type": "execute_result"
    }
   ],
   "source": [
    "#Simulate design 2 - essential cargo, r\n",
    "construct_label = \"Construct_locA-neutral_locB-HS_rec_homA-conditional_homB-conditional_XS-none\"\n",
    "\n",
    "#Define design\n",
    "LOCUS_A = \"neutral\"\n",
    "LOCUS_B = \"neutral\"\n",
    "set_A_homing_dependency = \"conditional\"\n",
    "set_B_homing_dependency = \"conditional\"\n",
    "set_XS_dependency = \"none\"\n",
    "\n",
    "A_alleles_content,A_alleles_ir = Make_construct_content_dict(\"A\",[\"xs\",\"Agrna\",\"Bgrna\"],true)\n",
    "B_alleles_content,B_alleles_ir = Make_construct_content_dict(\"B\",[\"cas9\"],false) #xs used as cargo without the sex ratio bias\n",
    "fitness_effect = \"adult\"\n",
    "\n",
    "A_alleles,\n",
    "B_alleles,\n",
    "alleles,\n",
    "A_genotypes,\n",
    "B_genotypes,\n",
    "genotypes = define_string_genotypes(length(A_alleles_content),length(B_alleles_content));\n",
    "\n",
    "#Assign parameters\n",
    "params = Assign_baseline_params(LOCUS_A,\n",
    "                                LOCUS_B,\n",
    "                                set_A_homing_dependency,\n",
    "                                set_B_homing_dependency,\n",
    "                                set_XS_dependency)\n",
    "\n",
    "\n",
    "#The \"resistant\" allele has some fitness costs\n",
    "## but this does not apply to the disrupted locus due to recoding. \n",
    "params[\"sraf\"] = 1.0 #Assign some fitness cost to the resistant allele\n",
    "params[\"hraf\"] = 1.0 #Dominant fitness cost to the resistant allele\n",
    "params[\"siraf\"] = 1.0 #Dominant fitness cost to the resistant allele\n",
    "params[\"sram\"] = 1.0 #Assign some fitness cost to the resistant allele\n",
    "params[\"hram\"] = 1.0 #Dominant fitness cost to the resistant allele\n",
    "params[\"siram\"] = 1.0 #Dominant fitness cost to the resistant allele\n",
    "\n",
    "#Set all NHEJ products to be \"resistant\" with the above fitness cost\n",
    "params[\"paf\"] = 1.0\n",
    "params[\"pam\"] = 1.0\n",
    "\n",
    "params[\"r\"] = 0.01\n",
    "\n",
    "#cargo cost - we code it here to be a female specific dominant cost \n",
    "#associated with the X-shredder, setting m=0.5 (no male bias)\n",
    "params[\"sXsf\"] = 0.2\n",
    "\n",
    "params[\"daf\"] = d_\n",
    "params[\"dam\"] = d_\n",
    "params[\"dbf\"] = d_\n",
    "params[\"dbm\"] = d_\n",
    "\n",
    "transgenic_genotype = [\"A1\" \"A2\"; \"B1\" \"B2\"]\n",
    "resistant_allele = \"B3\"\n"
   ]
  },
  {
   "cell_type": "code",
   "execution_count": 20,
   "id": "appropriate-benefit",
   "metadata": {
    "scrolled": true
   },
   "outputs": [
    {
     "name": "stdout",
     "output_type": "stream",
     "text": [
      "0.0\n",
      "0.01\n",
      "0.02\n",
      "0.03\n",
      "0.04\n",
      "0.05\n",
      "0.06\n",
      "0.07\n",
      "0.08\n",
      "0.09\n",
      "0.1\n",
      "0.11\n",
      "0.12\n",
      "0.13\n",
      "0.14\n",
      "0.15\n",
      "0.16\n",
      "0.17\n",
      "0.18\n",
      "0.19\n",
      "0.2\n",
      "0.21\n",
      "0.22\n",
      "0.23\n",
      "0.24\n",
      "0.25\n",
      "0.26\n",
      "0.27\n",
      "0.28\n",
      "0.29\n",
      "0.3\n",
      "0.31\n",
      "0.32\n",
      "0.33\n",
      "0.34\n",
      "0.35\n",
      "0.36\n",
      "0.37\n",
      "0.38\n",
      "0.39\n",
      "0.4\n",
      "0.41\n",
      "0.42\n",
      "0.43\n",
      "0.44\n",
      "0.45\n",
      "0.46\n",
      "0.47\n",
      "0.48\n",
      "0.49\n",
      "0.5\n",
      "0.51\n",
      "0.52\n",
      "0.53\n",
      "0.54\n",
      "0.55\n",
      "0.56\n",
      "0.57\n",
      "0.58\n",
      "0.59\n",
      "0.6\n",
      "0.61\n",
      "0.62\n",
      "0.63\n",
      "0.64\n",
      "0.65\n",
      "0.66\n",
      "0.67\n",
      "0.68\n",
      "0.69\n",
      "0.7\n",
      "0.71\n",
      "0.72\n",
      "0.73\n",
      "0.74\n",
      "0.75\n",
      "0.76\n",
      "0.77\n",
      "0.78\n",
      "0.79\n",
      "0.8\n",
      "0.81\n",
      "0.82\n",
      "0.83\n",
      "0.84\n",
      "0.85\n",
      "0.86\n",
      "0.87\n",
      "0.88\n",
      "0.89\n",
      "0.9\n",
      "0.91\n",
      "0.92\n",
      "0.93\n",
      "0.94\n",
      "0.95\n",
      "0.96\n",
      "0.97\n",
      "0.98\n",
      "0.99\n",
      "1.0\n",
      "Simulation complete\n"
     ]
    }
   ],
   "source": [
    "construct_label = \"dd2_reps_ess\"\n",
    "suffix = \"_EvoStabmodel_d\"*string(d_)\n",
    "simulate_variable_resistant_freq(construct_label,\n",
    "                                        suffix,\n",
    "                                        params,\n",
    "                                        A_alleles_content,\n",
    "                                        A_alleles_ir,\n",
    "                                        B_alleles_content,\n",
    "                                        B_alleles_ir,\n",
    "                                        fitness_effect,\n",
    "                                        transgenic_genotype,\n",
    "                                        release_freq,\n",
    "                                        resistant_allele, \n",
    "                                        resistant_freq_vec)"
   ]
  },
  {
   "cell_type": "code",
   "execution_count": 21,
   "id": "protecting-inspector",
   "metadata": {},
   "outputs": [
    {
     "data": {
      "text/plain": [
       "101-element Array{Any,1}:\n",
       " 431\n",
       " 427\n",
       " 423\n",
       " 418\n",
       " 414\n",
       " 409\n",
       " 405\n",
       " 399\n",
       " 394\n",
       " 389\n",
       " 385\n",
       " 380\n",
       " 375\n",
       "   ⋮\n",
       "   0\n",
       "   0\n",
       "   0\n",
       "   0\n",
       "   0\n",
       "   0\n",
       "   0\n",
       "   0\n",
       "   0\n",
       "   0\n",
       "   0\n",
       "   0"
      ]
     },
     "execution_count": 21,
     "metadata": {},
     "output_type": "execute_result"
    }
   ],
   "source": [
    "construct_label = \"dd2_reps_ess\"\n",
    "suffix = \"_EvoStabmodel_d\"*string(d_)\n",
    "ngen_2r_ess = extract_genunderthreshold_variableresistance(construct_label,release_freq,resistant_freq_vec,suffix,threshold,A_alleles_content,genotypes)\n"
   ]
  },
  {
   "cell_type": "markdown",
   "id": "vital-logan",
   "metadata": {},
   "source": [
    "#### Figure"
   ]
  },
  {
   "cell_type": "code",
   "execution_count": 28,
   "id": "controversial-comment",
   "metadata": {},
   "outputs": [
    {
     "data": {
      "image/png": "[encoded data removed]",
      "text/plain": [
       "PyPlot.Figure(PyObject <Figure size 280x220 with 1 Axes>)"
      ]
     },
     "metadata": {},
     "output_type": "display_data"
    }
   ],
   "source": [
    "f1 = PyPlot.figure(figsize=(2.8,2.2),frameon=false)\n",
    "count = 0\n",
    "\n",
    "off_target_freq_vec = collect(0.0:0.01:0.2)\n",
    "PyPlot.plot(off_target_freq_vec,ngen_sr_ntrl,\"black\",linestyle=\"-\",label=string(count))\n",
    "PyPlot.plot(off_target_freq_vec,ngen_sr_ess,\"black\",linestyle=\"--\",label=string(count))\n",
    "\n",
    "off_target_freq_vec = collect(0.0:0.01:1.0)\n",
    "PyPlot.plot(off_target_freq_vec,ngen_1r_ntrl,col1,linestyle=\"-\",label=string(count))\n",
    "PyPlot.plot(off_target_freq_vec,ngen_1r_ess,col1,linestyle=\"--\",label=string(count))\n",
    "\n",
    "PyPlot.plot(off_target_freq_vec,ngen_2r_ntrl,col2,linestyle=\"-\",label=string(count))\n",
    "PyPlot.plot(off_target_freq_vec,ngen_2r_ess,col2,linestyle=\"--\",label=string(count))\n",
    "\n",
    "PyPlot.xticks([0,0.2,0.4,0.6,0.8,1.0])\n",
    "\n",
    "PyPlot.xlim([0,1])\n",
    "PyPlot.ylim([0,500])\n",
    "\n",
    "PyPlot.tight_layout()\n",
    "PyPlot.show()"
   ]
  }
 ],
 "metadata": {
  "@webio": {
   "lastCommId": null,
   "lastKernelId": null
  },
  "kernelspec": {
   "display_name": "Julia 1.5.3",
   "language": "julia",
   "name": "julia-1.5"
  },
  "language_info": {
   "file_extension": ".jl",
   "mimetype": "application/julia",
   "name": "julia",
   "version": "1.5.3"
  }
 },
 "nbformat": 4,
 "nbformat_minor": 5
}
