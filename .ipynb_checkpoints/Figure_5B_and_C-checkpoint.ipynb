{
 "cells": [
  {
   "cell_type": "markdown",
   "id": "surprising-guyana",
   "metadata": {},
   "source": [
    "\n",
    "# Figure 5B and C"
   ]
  },
  {
   "cell_type": "markdown",
   "id": "trying-planning",
   "metadata": {},
   "source": [
    "22-02-21\n",
    "\n",
    "Katie Willis\n",
    "\n",
    "katie.willis16@imperial.ac.uk"
   ]
  },
  {
   "cell_type": "code",
   "execution_count": null,
   "id": "utility-separation",
   "metadata": {},
   "outputs": [],
   "source": [
    "] activate"
   ]
  },
  {
   "cell_type": "code",
   "execution_count": 10,
   "id": "champion-highland",
   "metadata": {},
   "outputs": [
    {
     "data": {
      "text/plain": [
       "Plots.PyPlotBackend()"
      ]
     },
     "execution_count": 10,
     "metadata": {},
     "output_type": "execute_result"
    }
   ],
   "source": [
    "using NBInclude\n",
    "using SymPy\n",
    "using DataFrames\n",
    "using LinearAlgebra\n",
    "using CSV\n",
    "using Distributed\n",
    "#using Statistics\n",
    "#using Compat\n",
    "using Plots; pyplot()"
   ]
  },
  {
   "cell_type": "code",
   "execution_count": 2,
   "id": "planned-classroom",
   "metadata": {},
   "outputs": [
    {
     "data": {
      "text/plain": [
       "Plots.PyPlotBackend()"
      ]
     },
     "execution_count": 2,
     "metadata": {},
     "output_type": "execute_result"
    }
   ],
   "source": [
    "using NBInclude\n",
    "@nbinclude(\"Setup.ipynb\");\n",
    "using Plots; pyplot()"
   ]
  },
  {
   "cell_type": "code",
   "execution_count": 3,
   "id": "undefined-cheese",
   "metadata": {},
   "outputs": [],
   "source": [
    "#Load baseline model\n",
    "@nbinclude(\"DoubleDrive_Simulator_Baseline.ipynb\");"
   ]
  },
  {
   "cell_type": "code",
   "execution_count": 4,
   "id": "golden-flavor",
   "metadata": {},
   "outputs": [
    {
     "data": {
      "text/plain": [
       "\"#00DF97\""
      ]
     },
     "execution_count": 4,
     "metadata": {},
     "output_type": "execute_result"
    }
   ],
   "source": [
    "#Assign plotting parameters\n",
    "PyPlot.rc(\"font\", family=\"Arial\")\n",
    "PyPlot.rc(\"xtick\", labelsize=10) \n",
    "PyPlot.rc(\"ytick\", labelsize=10) \n",
    "\n",
    "blue = \"#0155FF\"\n",
    "light_blue = \"#78A0FF\"\n",
    "red = \"#FF011A\"\n",
    "light_red = \"#FF7689\"\n",
    "col1 = \"#BA03FF\" #purple\n",
    "col2 = \"#FF8509\" #orange\n",
    "col3 = \"#FF6CE8\" #pink\n",
    "col4 = \"#FFBF09\" #yellow\n",
    "col5 = \"#00DF97\" #green"
   ]
  },
  {
   "cell_type": "code",
   "execution_count": 5,
   "id": "inappropriate-greene",
   "metadata": {
    "code_folding": [
     0
    ]
   },
   "outputs": [
    {
     "data": {
      "text/plain": [
       "extract_MinNf_variableres_x (generic function with 1 method)"
      ]
     },
     "execution_count": 5,
     "metadata": {},
     "output_type": "execute_result"
    }
   ],
   "source": [
    "function extract_MinNf_variableres_x(output_folder,\n",
    "                                    res_pars,\n",
    "                                    var_symbol_vec,\n",
    "                                    var_pars_vec,\n",
    "                                    t)\n",
    "    \n",
    "    data_labels = [\"relative_number_females\"]\n",
    "    output_all = []\n",
    "    for res_freq in res_pars\n",
    "        output = []\n",
    "        for var in var_pars_vec\n",
    "            var_label = \"\"\n",
    "            for i in collect(1:length(var_symbol_vec))\n",
    "                var_label_i = var_symbol_vec[i]\n",
    "                var_label_i = \"_$(var_label_i)$(var)\"\n",
    "                var_label = var_label*var_label_i\n",
    "            end\n",
    "            \n",
    "            file_prefix = \"$(output_folder)/Sim_t$(t)_variable_standingres$(res_freq)/Sim_t$(t)_variable_standingres$(res_freq)$(var_label)/Sim_t$(t)_variable_standingres$(res_freq)$(var_label)\"\n",
    "        \n",
    "            data = Sim_IO_read(file_prefix,\n",
    "                                           data_labels);\n",
    "            Nf = data[\"relative_number_females\"].adult\n",
    "            push!(output,minimum(Nf))\n",
    "        end\n",
    "        push!(output_all,output)\n",
    "    end\n",
    "    return(output_all)\n",
    "end"
   ]
  },
  {
   "cell_type": "code",
   "execution_count": 6,
   "id": "pressing-opening",
   "metadata": {},
   "outputs": [
    {
     "data": {
      "text/plain": [
       "1000"
      ]
     },
     "execution_count": 6,
     "metadata": {},
     "output_type": "execute_result"
    }
   ],
   "source": [
    "#define construct labels for saving to file\n",
    "constructs = [\n",
    "[\"Construct_locA-neutral_locB-HS_rec_homA-constitutive_homB-conditional_XS-none\",col1],\n",
    "[\"Construct_locA-neutral_locB-HS_rec_homA-conditional_homB-conditional_XS-none\",col2],\n",
    "[\"Construct_locA-neutral_locB-HS_rec_homA-constitutive_homB-conditional_XS-constitutive_B\",col3],\n",
    "[\"Construct_locA-neutral_locB-HS_rec_homA-conditional_homB-conditional_XS-constitutive_B\",col4],\n",
    "[\"Construct_locA-neutral_locB-HI_homA-conditional_homB-constitutive_XS-constitutive_A\",col5],\n",
    "];\n",
    "\n",
    "#define constants across designs\n",
    "transgenic_genotype = \"ABab\"\n",
    "release_freq = 0.001\n",
    "resistant_allele = \"α\"\n",
    "A_construct = []\n",
    "B_construct = []\n",
    "fitness_effect = \"adult\"\n",
    "t = 1000"
   ]
  },
  {
   "cell_type": "markdown",
   "id": "tropical-colony",
   "metadata": {},
   "source": [
    "### Set up for parallel run: "
   ]
  },
  {
   "cell_type": "code",
   "execution_count": 11,
   "id": "solid-dietary",
   "metadata": {
    "scrolled": false
   },
   "outputs": [
    {
     "data": {
      "text/plain": [
       "1"
      ]
     },
     "execution_count": 11,
     "metadata": {},
     "output_type": "execute_result"
    }
   ],
   "source": [
    "nworkers()"
   ]
  },
  {
   "cell_type": "code",
   "execution_count": 12,
   "id": "missing-chick",
   "metadata": {},
   "outputs": [
    {
     "data": {
      "text/plain": [
       "6-element Array{Int64,1}:\n",
       " 2\n",
       " 3\n",
       " 4\n",
       " 5\n",
       " 6\n",
       " 7"
      ]
     },
     "execution_count": 12,
     "metadata": {},
     "output_type": "execute_result"
    }
   ],
   "source": [
    "addprocs(6)"
   ]
  },
  {
   "cell_type": "code",
   "execution_count": 13,
   "id": "secret-juvenile",
   "metadata": {},
   "outputs": [
    {
     "data": {
      "text/plain": [
       "6"
      ]
     },
     "execution_count": 13,
     "metadata": {},
     "output_type": "execute_result"
    }
   ],
   "source": [
    "nworkers()"
   ]
  },
  {
   "cell_type": "code",
   "execution_count": null,
   "id": "acoustic-washington",
   "metadata": {},
   "outputs": [],
   "source": [
    "@everywhere using Pkg\n",
    "@everywhere Pkg.activate(\"\")\n",
    "@everywhere using NBInclude\n",
    "@everywhere @nbinclude(\"Setup.ipynb\");\n",
    "@everywhere @nbinclude(\"DoubleDrive_Simulator_Baseline.ipynb\");"
   ]
  },
  {
   "cell_type": "markdown",
   "id": "correct-therapy",
   "metadata": {},
   "source": [
    "### Somatic expression of construct b"
   ]
  },
  {
   "cell_type": "code",
   "execution_count": 11,
   "id": "moral-grass",
   "metadata": {
    "code_folding": []
   },
   "outputs": [
    {
     "name": "stdout",
     "output_type": "stream",
     "text": [
      "[\"sSbf\"] 0.0-1.0 5151\n"
     ]
    }
   ],
   "source": [
    "#Set up no. simulations \n",
    "res_pars = collect(0.0:0.01:0.5)\n",
    "var_symbol_vec = [\"sSbf\"]\n",
    "folder = \"/variable_sSbf\"\n",
    "var_pars = collect(0.0:0.01:1.0)\n",
    "\n",
    "println(var_symbol_vec,\" \",var_pars[1],\"-\",var_pars[end],\" \",Number_sims(res_pars,var_pars))\n"
   ]
  },
  {
   "cell_type": "code",
   "execution_count": null,
   "id": "binary-design",
   "metadata": {
    "code_folding": [
     0
    ]
   },
   "outputs": [],
   "source": [
    "#grid search simulations - saves sim output to file\n",
    "for c in constructs\n",
    "    \n",
    "    construct_label = c[1]\n",
    "    LOCUS_A,\n",
    "    LOCUS_B,\n",
    "    set_A_homing_dependency,\n",
    "    set_B_homing_dependency,\n",
    "    set_XS_dependency = unpack_construct_label(construct_label)\n",
    "\n",
    "    params,\n",
    "    A_homing_dependency,\n",
    "    B_homing_dependency,\n",
    "    XS_dependency = Assign_baseline_params(LOCUS_A,\n",
    "                LOCUS_B,\n",
    "                set_A_homing_dependency,\n",
    "                set_B_homing_dependency,\n",
    "                set_XS_dependency);\n",
    "\n",
    "    output_folder = \"../results/ParameterScreen/\"*construct_label\n",
    "    if isdir(output_folder) == false\n",
    "        mkdir(output_folder)\n",
    "    end\n",
    "    output_folder2 = output_folder*\"/\"*folder\n",
    "    if isdir(output_folder2) == false\n",
    "        mkdir(output_folder2)\n",
    "    end\n",
    "    Parameter_screen_parallel(output_folder2,\n",
    "                                params,\n",
    "                                res_pars,\n",
    "                                var_symbol_vec,\n",
    "                                var_pars,\n",
    "                                A_construct,\n",
    "                                B_construct,\n",
    "                                A_homing_dependency,\n",
    "                                B_homing_dependency,\n",
    "                                XS_dependency,\n",
    "                                fitness_effect,\n",
    "                                transgenic_genotype,\n",
    "                                release_freq, \n",
    "                                resistant_allele, \n",
    "                                t)\n",
    "end"
   ]
  },
  {
   "cell_type": "code",
   "execution_count": 12,
   "id": "imposed-fault",
   "metadata": {
    "code_folding": [
     0
    ]
   },
   "outputs": [
    {
     "data": {
      "image/png": "[encoded data removed]",
      "text/plain": [
       "PyPlot.Figure(PyObject <Figure size 240x240 with 1 Axes>)"
      ]
     },
     "metadata": {},
     "output_type": "display_data"
    },
    {
     "data": {
      "text/plain": [
       "(PyCall.PyObject[PyObject <matplotlib.axis.YTick object at 0x7f8d31b57910>, PyObject <matplotlib.axis.YTick object at 0x7f8d46e21590>, PyObject <matplotlib.axis.YTick object at 0x7f8d4bc5fe10>, PyObject <matplotlib.axis.YTick object at 0x7f8d317fc390>, PyObject <matplotlib.axis.YTick object at 0x7f8d317fca10>, PyObject <matplotlib.axis.YTick object at 0x7f8d317fcd50>], PyCall.PyObject[PyObject Text(0, 0.0, '0.0'), PyObject Text(0, 0.2, '0.2'), PyObject Text(0, 0.4, '0.4'), PyObject Text(0, 0.6, '0.6'), PyObject Text(0, 0.8, '0.8'), PyObject Text(0, 1.0, '1.0')])"
      ]
     },
     "execution_count": 12,
     "metadata": {},
     "output_type": "execute_result"
    }
   ],
   "source": [
    "#plot contour - reads sims from file\n",
    "folder = \"/variable_sSbf\"\n",
    "var_symbol_vec = [\"sSbf\"]\n",
    "\n",
    "res_pars = collect(0.0:0.01:0.5)\n",
    "var_pars = collect(0.0:0.01:1.0)\n",
    "\n",
    "levels = [10^-4]\n",
    "x = res_pars\n",
    "y = [i[1] for i in var_pars] \n",
    "\n",
    "count = 0\n",
    "f1 = PyPlot.figure(figsize=(2.4,2.4),frameon=false)\n",
    "for c in constructs\n",
    "    \n",
    "    count = count+1\n",
    "    construct_label = c[1]\n",
    "    output_folder = \"../results/ParameterScreen/\"*construct_label\n",
    "    output_folder2 = output_folder*\"/\"*folder\n",
    "\n",
    "    data = extract_MinNf_variableres_x(output_folder2,\n",
    "                                        res_pars,\n",
    "                                        var_symbol_vec,\n",
    "                                        var_pars,\n",
    "                                        1000);\n",
    "\n",
    "    z = [data[j][i] for i=1:length(y), j=1:length(x)];\n",
    "    labels = Dict([(10^-4,string(count))])\n",
    "    CS1 = PyPlot.contour(\n",
    "        x,\n",
    "        y,\n",
    "        z,\n",
    "        levels,\n",
    "        colors=c[2],\n",
    "        )\n",
    "end\n",
    "\n",
    "PyPlot.ylim(-0.01,1.0)\n",
    "PyPlot.xlim(-0.01,0.5)\n",
    "PyPlot.xticks([0.0,0.1,0.2,0.3,0.4,0.5])\n",
    "PyPlot.yticks([0.0,0.2,0.4,0.6,0.8,1.0])"
   ]
  },
  {
   "cell_type": "markdown",
   "id": "desperate-pointer",
   "metadata": {},
   "source": [
    "### Male cost of shredding"
   ]
  },
  {
   "cell_type": "code",
   "execution_count": 13,
   "id": "chemical-series",
   "metadata": {
    "code_folding": [
     0
    ]
   },
   "outputs": [
    {
     "name": "stdout",
     "output_type": "stream",
     "text": [
      "[\"sXsm\"] 0.0-1.0 5151\n"
     ]
    }
   ],
   "source": [
    "#Set up no. simulations for designs 3-5 \n",
    "res_pars = collect(0.0:0.01:0.5)\n",
    "var_symbol_vec = [\"sXsm\"]\n",
    "folder = \"/variable_sXsm\"\n",
    "var_pars = collect(0.0:0.01:1.0)\n",
    "\n",
    "println(var_symbol_vec,\" \",var_pars[1],\"-\",var_pars[end],\" \",Number_sims(res_pars,var_pars))\n"
   ]
  },
  {
   "cell_type": "code",
   "execution_count": null,
   "id": "filled-command",
   "metadata": {
    "code_folding": [
     0
    ]
   },
   "outputs": [],
   "source": [
    "#grid search simulations for designs 3-5 - saves sim output to file\n",
    "for c in constructs[3:end]\n",
    "    construct_label = c[1]\n",
    "    LOCUS_A,\n",
    "    LOCUS_B,\n",
    "    set_A_homing_dependency,\n",
    "    set_B_homing_dependency,\n",
    "    set_XS_dependency = unpack_construct_label(construct_label)\n",
    "\n",
    "    params,\n",
    "    A_homing_dependency,\n",
    "    B_homing_dependency,\n",
    "    XS_dependency = Assign_baseline_params(LOCUS_A,\n",
    "                LOCUS_B,\n",
    "                set_A_homing_dependency,\n",
    "                set_B_homing_dependency,\n",
    "                set_XS_dependency);\n",
    "\n",
    "    output_folder = \"../results/ParameterScreen/\"*construct_label\n",
    "    if isdir(output_folder) == false\n",
    "        mkdir(output_folder)\n",
    "    end\n",
    "    output_folder2 = output_folder*\"/\"*folder\n",
    "    if isdir(output_folder2) == false\n",
    "        mkdir(output_folder2)\n",
    "    end\n",
    "    Parameter_screen_parallel(output_folder2,\n",
    "                                params,\n",
    "                                res_pars,\n",
    "                                var_symbol_vec,\n",
    "                                var_pars,\n",
    "                                A_construct,\n",
    "                                B_construct,\n",
    "                                A_homing_dependency,\n",
    "                                B_homing_dependency,\n",
    "                                XS_dependency,\n",
    "                                fitness_effect,\n",
    "                                transgenic_genotype,\n",
    "                                release_freq, \n",
    "                                resistant_allele, \n",
    "                                t)\n",
    "end"
   ]
  },
  {
   "cell_type": "code",
   "execution_count": 14,
   "id": "vocational-disclosure",
   "metadata": {
    "code_folding": [
     0
    ]
   },
   "outputs": [
    {
     "name": "stdout",
     "output_type": "stream",
     "text": [
      "[\"sXsm\"] 0.0-1.0 606\n"
     ]
    }
   ],
   "source": [
    "#Set up no. simulations for designs 1-2\n",
    "res_pars = collect(0.0:0.01:0.05)\n",
    "var_symbol_vec = [\"sXsm\"]\n",
    "folder = \"/variable_sXsm\"\n",
    "var_pars = collect(0.0:0.01:1.0)\n",
    "println(var_symbol_vec,\" \",var_pars[1],\"-\",var_pars[end],\" \",Number_sims(res_pars,var_pars))\n"
   ]
  },
  {
   "cell_type": "code",
   "execution_count": null,
   "id": "supposed-virgin",
   "metadata": {
    "code_folding": [
     0
    ]
   },
   "outputs": [],
   "source": [
    "#grid search simulations for designs 1-2 - saves sim output to file \n",
    "for c in constructs[1:2]\n",
    "    construct_label = c[1]\n",
    "    LOCUS_A,\n",
    "    LOCUS_B,\n",
    "    set_A_homing_dependency,\n",
    "    set_B_homing_dependency,\n",
    "    set_XS_dependency = unpack_construct_label(construct_label)\n",
    "\n",
    "    params,\n",
    "    A_homing_dependency,\n",
    "    B_homing_dependency,\n",
    "    XS_dependency = Assign_baseline_params(LOCUS_A,\n",
    "                LOCUS_B,\n",
    "                set_A_homing_dependency,\n",
    "                set_B_homing_dependency,\n",
    "                set_XS_dependency);\n",
    "    \n",
    "    output_folder = \"../results/ParameterScreen/\"*construct_label\n",
    "    if isdir(output_folder) == false\n",
    "        mkdir(output_folder)\n",
    "    end\n",
    "    output_folder2 = output_folder*\"/\"*folder\n",
    "    if isdir(output_folder2) == false\n",
    "        mkdir(output_folder2)\n",
    "    end\n",
    "    Parameter_screen_parallel(output_folder2,\n",
    "                                params,\n",
    "                                res_pars,\n",
    "                                var_symbol_vec,\n",
    "                                var_pars,\n",
    "                                A_construct,\n",
    "                                B_construct,\n",
    "                                A_homing_dependency,\n",
    "                                B_homing_dependency,\n",
    "                                XS_dependency,\n",
    "                                fitness_effect,\n",
    "                                transgenic_genotype,\n",
    "                                release_freq, \n",
    "                                resistant_allele, \n",
    "                                t)\n",
    "end"
   ]
  },
  {
   "cell_type": "code",
   "execution_count": 15,
   "id": "forward-submission",
   "metadata": {
    "code_folding": [
     0
    ],
    "scrolled": true
   },
   "outputs": [
    {
     "data": {
      "image/png": "[encoded data removed]",
      "text/plain": [
       "PyPlot.Figure(PyObject <Figure size 240x240 with 1 Axes>)"
      ]
     },
     "metadata": {},
     "output_type": "display_data"
    },
    {
     "data": {
      "text/plain": [
       "(PyCall.PyObject[PyObject <matplotlib.axis.YTick object at 0x7f8d31dcb110>, PyObject <matplotlib.axis.YTick object at 0x7f8d4a6be850>, PyObject <matplotlib.axis.YTick object at 0x7f8d4a6b83d0>, PyObject <matplotlib.axis.YTick object at 0x7f8d31e04910>, PyObject <matplotlib.axis.YTick object at 0x7f8d31e04ed0>, PyObject <matplotlib.axis.YTick object at 0x7f8d31e0a550>], PyCall.PyObject[PyObject Text(0, 0.0, '0.0'), PyObject Text(0, 0.2, '0.2'), PyObject Text(0, 0.4, '0.4'), PyObject Text(0, 0.6, '0.6'), PyObject Text(0, 0.8, '0.8'), PyObject Text(0, 1.0, '1.0')])"
      ]
     },
     "execution_count": 15,
     "metadata": {},
     "output_type": "execute_result"
    }
   ],
   "source": [
    "#plot contour - reads sims from file\n",
    "levels = [10^-4]\n",
    "\n",
    "f1 = PyPlot.figure(figsize=(2.4,2.4),frameon=false)\n",
    "#designs 3-5\n",
    "count = 2\n",
    "for c in constructs[3:end]\n",
    "    \n",
    "    count = count+1\n",
    "    construct_label = c[1]\n",
    "    \n",
    "    res_pars = collect(0.0:0.01:0.5)\n",
    "    var_pars = collect(0.0:0.01:1.0)\n",
    "    x = res_pars\n",
    "    y = [i[1] for i in var_pars] \n",
    "    \n",
    "    output_folder = \"../results/ParameterScreen/\"*construct_label\n",
    "    output_folder2 = output_folder*\"/\"*folder\n",
    "\n",
    "    data = extract_MinNf_variableres_x(output_folder2,\n",
    "                                        res_pars,\n",
    "                                        var_symbol_vec,\n",
    "                                        var_pars,\n",
    "                                        1000);\n",
    "    z = [data[j][i] for i=1:length(y), j=1:length(x)];\n",
    "    labels = Dict([(10^-4,string(count))])\n",
    "    CS1 = PyPlot.contour(\n",
    "        x,\n",
    "        y,\n",
    "        z,\n",
    "        levels,\n",
    "        colors=c[2],\n",
    "        )\n",
    "end\n",
    "\n",
    "#designs 1-2\n",
    "count = 0\n",
    "for c in constructs[1:2]\n",
    "    \n",
    "    count = count+1\n",
    "    construct_label = c[1]\n",
    "    \n",
    "    res_pars = collect(0.0:0.01:0.05)\n",
    "    var_pars = collect(0.0:0.01:1.0)\n",
    "    x = res_pars\n",
    "    y = [i[1] for i in var_pars] \n",
    "    \n",
    "    output_folder = \"../results/ParameterScreen/\"*construct_label\n",
    "    output_folder2 = output_folder*\"/\"*folder\n",
    "\n",
    "    data = extract_MinNf_variableres_x(output_folder2,\n",
    "                                        res_pars,\n",
    "                                        var_symbol_vec,\n",
    "                                        var_pars,\n",
    "                                        1000);\n",
    "    z = [data[j][i] for i=1:length(y), j=1:length(x)];\n",
    "    labels = Dict([(10^-4,string(count))])\n",
    "    CS1 = PyPlot.contour(\n",
    "        x,\n",
    "        y,\n",
    "        z,\n",
    "        levels,\n",
    "        colors=c[2],\n",
    "        )\n",
    "end\n",
    "\n",
    "PyPlot.ylim(-0.01,1.0)\n",
    "PyPlot.xlim(-0.01,0.5)\n",
    "PyPlot.xticks([0.0,0.1,0.2,0.3,0.4,0.5])\n",
    "PyPlot.yticks([0.0,0.2,0.4,0.6,0.8,1.0])\n"
   ]
  }
 ],
 "metadata": {
  "@webio": {
   "lastCommId": null,
   "lastKernelId": null
  },
  "kernelspec": {
   "display_name": "Julia 1.5.2",
   "language": "julia",
   "name": "julia-1.5"
  },
  "language_info": {
   "file_extension": ".jl",
   "mimetype": "application/julia",
   "name": "julia",
   "version": "1.5.3"
  }
 },
 "nbformat": 4,
 "nbformat_minor": 5
}
