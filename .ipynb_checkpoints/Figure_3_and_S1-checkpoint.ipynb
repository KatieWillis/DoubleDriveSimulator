{
 "cells": [
  {
   "cell_type": "markdown",
   "id": "continental-upset",
   "metadata": {},
   "source": [
    "\n",
    "# Figure 3 and S1"
   ]
  },
  {
   "cell_type": "markdown",
   "id": "signal-trunk",
   "metadata": {},
   "source": [
    "22-02-21\n",
    "\n",
    "Katie Willis\n",
    "\n",
    "katie.willis16@imperial.ac.uk"
   ]
  },
  {
   "cell_type": "code",
   "execution_count": null,
   "id": "powerful-eight",
   "metadata": {},
   "outputs": [],
   "source": [
    "] activate"
   ]
  },
  {
   "cell_type": "code",
   "execution_count": 2,
   "id": "brown-donna",
   "metadata": {},
   "outputs": [
    {
     "data": {
      "text/plain": [
       "Plots.PyPlotBackend()"
      ]
     },
     "execution_count": 2,
     "metadata": {},
     "output_type": "execute_result"
    }
   ],
   "source": [
    "using NBInclude\n",
    "@nbinclude(\"Setup.ipynb\");\n",
    "using Plots; pyplot()"
   ]
  },
  {
   "cell_type": "code",
   "execution_count": 3,
   "id": "sacred-intervention",
   "metadata": {},
   "outputs": [],
   "source": [
    "#Load 4-allele model\n",
    "@nbinclude(\"DoubleDrive_Simulator_4allele.ipynb\");"
   ]
  },
  {
   "cell_type": "code",
   "execution_count": 4,
   "id": "anonymous-northeast",
   "metadata": {},
   "outputs": [
    {
     "data": {
      "text/plain": [
       "\"#00DF97\""
      ]
     },
     "execution_count": 4,
     "metadata": {},
     "output_type": "execute_result"
    }
   ],
   "source": [
    "#Assign plotting parameters\n",
    "PyPlot.rc(\"font\", family=\"Arial\")\n",
    "PyPlot.rc(\"xtick\", labelsize=10) \n",
    "PyPlot.rc(\"ytick\", labelsize=10) \n",
    "\n",
    "blue = \"#0155FF\"\n",
    "light_blue = \"#78A0FF\"\n",
    "red = \"#FF011A\"\n",
    "light_red = \"#FF7689\"\n",
    "col1 = \"#BA03FF\" #purple\n",
    "col2 = \"#FF8509\" #orange\n",
    "col3 = \"#FF6CE8\" #pink\n",
    "col4 = \"#FFBF09\" #yellow\n",
    "col5 = \"#00DF97\" #green"
   ]
  },
  {
   "cell_type": "markdown",
   "id": "casual-begin",
   "metadata": {},
   "source": [
    "### Simulations"
   ]
  },
  {
   "cell_type": "code",
   "execution_count": 5,
   "id": "front-complaint",
   "metadata": {},
   "outputs": [
    {
     "data": {
      "text/plain": [
       "100"
      ]
     },
     "execution_count": 5,
     "metadata": {},
     "output_type": "execute_result"
    }
   ],
   "source": [
    "t=100"
   ]
  },
  {
   "cell_type": "markdown",
   "id": "revised-award",
   "metadata": {},
   "source": [
    "#### Single-locus design"
   ]
  },
  {
   "cell_type": "code",
   "execution_count": 6,
   "id": "seeing-hebrew",
   "metadata": {
    "code_folding": []
   },
   "outputs": [
    {
     "data": {
      "text/plain": [
       "0.1149832276802669"
      ]
     },
     "execution_count": 6,
     "metadata": {},
     "output_type": "execute_result"
    }
   ],
   "source": [
    "#Define the single-construct design - where all NHEJ products are non-functional cleavage-resistant alleles \n",
    "LOCUS_A = \"HS_rec\"\n",
    "LOCUS_B = \"neutral\"\n",
    "set_A_homing_dependency = \"constitutive\"\n",
    "set_B_homing_dependency = \"none\"\n",
    "set_XS_dependency = \"none\"\n",
    "\n",
    "#Assign starting parameters.\n",
    "params,\n",
    "A_homing_dependency,\n",
    "B_homing_dependency,\n",
    "XS_dependency = Assign_baseline_params(LOCUS_A,\n",
    "            LOCUS_B,\n",
    "            set_A_homing_dependency,\n",
    "            set_B_homing_dependency,\n",
    "            set_XS_dependency);\n",
    "\n",
    "A_construct = []\n",
    "B_construct = []\n",
    "fitness_effect = \"adult\"\n",
    "\n",
    "transgenic_genotype = \"ABaB\" #Release only construct a (single construct)\n",
    "release_freq = 0.001\n",
    "\n",
    "resistant_allele = \"o\"\n",
    "resistant_freq = 0.01\n",
    "\n",
    "#The standing resistant allele (o) suffers no costs:\n",
    "#whilst all NHEJ alleles (α) inherit the construct insertion costs for a HS gene\n",
    "Aallele_fitness = \"o\" \n",
    "params[\"sraf\"] = 0.0\n",
    "params[\"siraf\"] = 0.0\n",
    "\n",
    "#SIMULATE\n",
    "output = Simulation_wrapper(params,\n",
    "                            A_construct,\n",
    "                            B_construct,\n",
    "                            A_homing_dependency,\n",
    "                            B_homing_dependency,\n",
    "                            XS_dependency,\n",
    "                            Aallele_fitness,\n",
    "                            fitness_effect,\n",
    "                            transgenic_genotype,\n",
    "                            release_freq, \n",
    "                            resistant_allele, \n",
    "                            resistant_freq,\n",
    "                            t);\n",
    "\n",
    "minimum(output[\"relative_number_females\"].adult)"
   ]
  },
  {
   "cell_type": "markdown",
   "id": "composed-consultancy",
   "metadata": {},
   "source": [
    "#### Design 1"
   ]
  },
  {
   "cell_type": "code",
   "execution_count": 7,
   "id": "official-indian",
   "metadata": {
    "code_folding": [
     0
    ]
   },
   "outputs": [
    {
     "data": {
      "text/plain": [
       "0.01"
      ]
     },
     "execution_count": 7,
     "metadata": {},
     "output_type": "execute_result"
    }
   ],
   "source": [
    "#Define constants for design 1\n",
    "LOCUS_A = \"neutral\"\n",
    "LOCUS_B = \"HS_rec\"\n",
    "set_A_homing_dependency = \"constitutive\"\n",
    "set_B_homing_dependency = \"conditional\"\n",
    "set_XS_dependency = \"none\"\n",
    "\n",
    "A_construct = []\n",
    "B_construct = []\n",
    "fitness_effect = \"adult\"\n",
    "transgenic_genotype = \"ABab\"\n",
    "release_freq = 0.001\n",
    "resistant_freq = 0.01"
   ]
  },
  {
   "cell_type": "code",
   "execution_count": 8,
   "id": "august-spray",
   "metadata": {
    "code_folding": [
     0
    ]
   },
   "outputs": [
    {
     "name": "stdout",
     "output_type": "stream",
     "text": [
      "3.5801159577570094e-6\n",
      "1.4424138456840815e-7\n"
     ]
    }
   ],
   "source": [
    "#Define model 1 - neutral differentiated site, unlinked and linked\n",
    "params,\n",
    "A_homing_dependency,\n",
    "B_homing_dependency,\n",
    "XS_dependency = Assign_baseline_params(LOCUS_A,\n",
    "            LOCUS_B,\n",
    "            set_A_homing_dependency,\n",
    "            set_B_homing_dependency,\n",
    "            set_XS_dependency);\n",
    "\n",
    "\n",
    "#standing resistant loci and NHEJ products are both α\n",
    "#with no costs since the locus is neutral (o allele is not modelled)\n",
    "resistant_allele = \"α\"\n",
    "Aallele_fitness = \"α\"\n",
    "\n",
    "#unlinked\n",
    "output_1n = Simulation_wrapper(params,\n",
    "                            A_construct,\n",
    "                            B_construct,\n",
    "                            A_homing_dependency,\n",
    "                            B_homing_dependency,\n",
    "                            XS_dependency,\n",
    "                            Aallele_fitness,\n",
    "                            fitness_effect,\n",
    "                            transgenic_genotype,\n",
    "                            release_freq, \n",
    "                            resistant_allele, \n",
    "                            resistant_freq,\n",
    "                            t);\n",
    "\n",
    "println(minimum(output_1n[\"relative_number_females\"].adult))\n",
    "\n",
    "#linked\n",
    "params[\"r\"]=0.01\n",
    "output_1n_r001 = Simulation_wrapper(params,\n",
    "                            A_construct,\n",
    "                            B_construct,\n",
    "                            A_homing_dependency,\n",
    "                            B_homing_dependency,\n",
    "                            XS_dependency,\n",
    "                            Aallele_fitness,\n",
    "                            fitness_effect,\n",
    "                            transgenic_genotype,\n",
    "                            release_freq, \n",
    "                            resistant_allele, \n",
    "                            resistant_freq,\n",
    "                            t);\n",
    "println(minimum(output_1n_r001[\"relative_number_females\"].adult))"
   ]
  },
  {
   "cell_type": "code",
   "execution_count": 9,
   "id": "grateful-clearance",
   "metadata": {
    "code_folding": [
     0
    ],
    "scrolled": true
   },
   "outputs": [
    {
     "name": "stdout",
     "output_type": "stream",
     "text": [
      "1.2035784453057904e-7\n",
      "6.438748519667794e-9\n"
     ]
    }
   ],
   "source": [
    "#Define model 1 - HS differentiated site, unlinked and linked\n",
    "params,\n",
    "A_homing_dependency,\n",
    "B_homing_dependency,\n",
    "XS_dependency = Assign_baseline_params(LOCUS_A,\n",
    "            LOCUS_B,\n",
    "            set_A_homing_dependency,\n",
    "            set_B_homing_dependency,\n",
    "            set_XS_dependency);\n",
    "\n",
    "#standing resistant loci are o \n",
    "#with the same costs as the construct (no costs since it contains a recoded gene)\n",
    "resistant_allele = \"o\"\n",
    "\n",
    "#All NHEJ products produce α which have HS fitness costs\n",
    "Aallele_fitness = \"α\"\n",
    "params[\"sraf\"] = 1.0\n",
    "params[\"sram\"] = 1.0\n",
    "\n",
    "#unlinked\n",
    "output_1eHS = Simulation_wrapper(params,\n",
    "                            A_construct,\n",
    "                            B_construct,\n",
    "                            A_homing_dependency,\n",
    "                            B_homing_dependency,\n",
    "                            XS_dependency,\n",
    "                            Aallele_fitness,\n",
    "                            fitness_effect,\n",
    "                            transgenic_genotype,\n",
    "                            release_freq, \n",
    "                            resistant_allele, \n",
    "                            resistant_freq,\n",
    "                            t);\n",
    "println(minimum(output_1eHS[\"relative_number_females\"].adult))\n",
    "\n",
    "#linked\n",
    "params[\"r\"]=0.01\n",
    "output_1eHS_r001 = Simulation_wrapper(params,\n",
    "                            A_construct,\n",
    "                            B_construct,\n",
    "                            A_homing_dependency,\n",
    "                            B_homing_dependency,\n",
    "                            XS_dependency,\n",
    "                            Aallele_fitness,\n",
    "                            fitness_effect,\n",
    "                            transgenic_genotype,\n",
    "                            release_freq, \n",
    "                            resistant_allele, \n",
    "                            resistant_freq,\n",
    "                            t);\n",
    "println(minimum(output_1eHS_r001[\"relative_number_females\"].adult))"
   ]
  },
  {
   "cell_type": "code",
   "execution_count": 10,
   "id": "static-unknown",
   "metadata": {
    "code_folding": [
     0
    ]
   },
   "outputs": [
    {
     "name": "stdout",
     "output_type": "stream",
     "text": [
      "7.85390045893396e-12\n",
      "4.70534844757743e-13\n"
     ]
    }
   ],
   "source": [
    "#Define model 1 - HI differentiated site, unlinked and linked\n",
    "params,\n",
    "A_homing_dependency,\n",
    "B_homing_dependency,\n",
    "XS_dependency = Assign_baseline_params(LOCUS_A,\n",
    "            LOCUS_B,\n",
    "            set_A_homing_dependency,\n",
    "            set_B_homing_dependency,\n",
    "            set_XS_dependency);\n",
    "\n",
    "\n",
    "#standing resistant loci are o \n",
    "#with the same costs as the construct (no costs since it contains a recoded gene)\n",
    "resistant_allele = \"o\"\n",
    "\n",
    "#All NHEJ products produce α which have HI fitness costs\n",
    "Aallele_fitness = \"α\"\n",
    "params[\"sraf\"] = 1.0\n",
    "params[\"hraf\"] = 1.0\n",
    "params[\"siraf\"] = 1.0\n",
    "params[\"sram\"] = 1.0\n",
    "params[\"hram\"] = 1.0\n",
    "params[\"siram\"] = 1.0\n",
    "\n",
    "#unlinked\n",
    "output_1eHI = Simulation_wrapper(params,\n",
    "                            A_construct,\n",
    "                            B_construct,\n",
    "                            A_homing_dependency,\n",
    "                            B_homing_dependency,\n",
    "                            XS_dependency,\n",
    "                            Aallele_fitness,\n",
    "                            fitness_effect,\n",
    "                            transgenic_genotype,\n",
    "                            release_freq, \n",
    "                            resistant_allele, \n",
    "                            resistant_freq,\n",
    "                            t);\n",
    "\n",
    "println(minimum(output_1eHI[\"relative_number_females\"].adult))\n",
    "\n",
    "#linked\n",
    "params[\"r\"]=0.01\n",
    "output_1eHI_r001 = Simulation_wrapper(params,\n",
    "                            A_construct,\n",
    "                            B_construct,\n",
    "                            A_homing_dependency,\n",
    "                            B_homing_dependency,\n",
    "                            XS_dependency,\n",
    "                            Aallele_fitness,\n",
    "                            fitness_effect,\n",
    "                            transgenic_genotype,\n",
    "                            release_freq, \n",
    "                            resistant_allele, \n",
    "                            resistant_freq,\n",
    "                            t);\n",
    "println(minimum(output_1eHI_r001[\"relative_number_females\"].adult))"
   ]
  },
  {
   "cell_type": "markdown",
   "id": "incorporated-frost",
   "metadata": {},
   "source": [
    "#### Design 2"
   ]
  },
  {
   "cell_type": "code",
   "execution_count": 11,
   "id": "oriental-personal",
   "metadata": {
    "code_folding": []
   },
   "outputs": [
    {
     "data": {
      "text/plain": [
       "0.01"
      ]
     },
     "execution_count": 11,
     "metadata": {},
     "output_type": "execute_result"
    }
   ],
   "source": [
    "#Define constants for design 2\n",
    "LOCUS_A = \"neutral\"\n",
    "LOCUS_B = \"HS_rec\"\n",
    "set_A_homing_dependency = \"conditional\"\n",
    "set_B_homing_dependency = \"conditional\"\n",
    "set_XS_dependency = \"none\"\n",
    "\n",
    "A_construct = []\n",
    "B_construct = []\n",
    "fitness_effect = \"adult\"\n",
    "transgenic_genotype = \"ABab\"\n",
    "release_freq = 0.001\n",
    "resistant_freq = 0.01"
   ]
  },
  {
   "cell_type": "code",
   "execution_count": 12,
   "id": "sunrise-avenue",
   "metadata": {
    "code_folding": [
     0
    ]
   },
   "outputs": [
    {
     "name": "stdout",
     "output_type": "stream",
     "text": [
      "0.0001469874405049932\n",
      "8.953983076225198e-9\n"
     ]
    }
   ],
   "source": [
    "#Define model 2 - neutral differentiated site, unlinked and linked\n",
    "params,\n",
    "A_homing_dependency,\n",
    "B_homing_dependency,\n",
    "XS_dependency = Assign_baseline_params(LOCUS_A,\n",
    "            LOCUS_B,\n",
    "            set_A_homing_dependency,\n",
    "            set_B_homing_dependency,\n",
    "            set_XS_dependency);\n",
    "\n",
    "#standing resistant loci and NHEJ products are both α\n",
    "#with no costs since the locus is neutral (o allele is not modelled)\n",
    "resistant_allele = \"α\"\n",
    "Aallele_fitness = \"α\"\n",
    "\n",
    "#unlinked\n",
    "output_2n = Simulation_wrapper(params,\n",
    "                            A_construct,\n",
    "                            B_construct,\n",
    "                            A_homing_dependency,\n",
    "                            B_homing_dependency,\n",
    "                            XS_dependency,\n",
    "                            Aallele_fitness,\n",
    "                            fitness_effect,\n",
    "                            transgenic_genotype,\n",
    "                            release_freq, \n",
    "                            resistant_allele, \n",
    "                            resistant_freq,\n",
    "                            t);\n",
    "\n",
    "println(minimum(output_2n[\"relative_number_females\"].adult))\n",
    "\n",
    "#linked\n",
    "params[\"r\"]=0.01\n",
    "output_2n_r001 = Simulation_wrapper(params,\n",
    "                            A_construct,\n",
    "                            B_construct,\n",
    "                            A_homing_dependency,\n",
    "                            B_homing_dependency,\n",
    "                            XS_dependency,\n",
    "                            Aallele_fitness,\n",
    "                            fitness_effect,\n",
    "                            transgenic_genotype,\n",
    "                            release_freq, \n",
    "                            resistant_allele, \n",
    "                            resistant_freq,\n",
    "                            t);\n",
    "println(minimum(output_2n_r001[\"relative_number_females\"].adult))"
   ]
  },
  {
   "cell_type": "code",
   "execution_count": 13,
   "id": "varying-tobacco",
   "metadata": {
    "code_folding": [
     0
    ]
   },
   "outputs": [
    {
     "name": "stdout",
     "output_type": "stream",
     "text": [
      "2.2264678413884462e-5\n",
      "2.518406346094876e-10\n"
     ]
    }
   ],
   "source": [
    "#Define model 2 - HS differentiated site, unlinked and linked\n",
    "params,\n",
    "A_homing_dependency,\n",
    "B_homing_dependency,\n",
    "XS_dependency = Assign_baseline_params(LOCUS_A,\n",
    "            LOCUS_B,\n",
    "            set_A_homing_dependency,\n",
    "            set_B_homing_dependency,\n",
    "            set_XS_dependency);\n",
    "\n",
    "#standing resistant loci are o \n",
    "#with the same costs as the construct (no costs since it contains a recoded gene)\n",
    "resistant_allele = \"o\"\n",
    "\n",
    "#All NHEJ products produce α which have HS fitness costs\n",
    "Aallele_fitness = \"α\"\n",
    "params[\"sraf\"] = 1.0\n",
    "params[\"sram\"] = 1.0\n",
    "\n",
    "#unlinked\n",
    "output_2eHS = Simulation_wrapper(params,\n",
    "                            A_construct,\n",
    "                            B_construct,\n",
    "                            A_homing_dependency,\n",
    "                            B_homing_dependency,\n",
    "                            XS_dependency,\n",
    "                            Aallele_fitness,\n",
    "                            fitness_effect,\n",
    "                            transgenic_genotype,\n",
    "                            release_freq, \n",
    "                            resistant_allele, \n",
    "                            resistant_freq,\n",
    "                            t);\n",
    "println(minimum(output_2eHS[\"relative_number_females\"].adult))\n",
    "\n",
    "#linked\n",
    "params[\"r\"]=0.01\n",
    "output_2eHS_r001 = Simulation_wrapper(params,\n",
    "                            A_construct,\n",
    "                            B_construct,\n",
    "                            A_homing_dependency,\n",
    "                            B_homing_dependency,\n",
    "                            XS_dependency,\n",
    "                            Aallele_fitness,\n",
    "                            fitness_effect,\n",
    "                            transgenic_genotype,\n",
    "                            release_freq, \n",
    "                            resistant_allele, \n",
    "                            resistant_freq,\n",
    "                            t);\n",
    "println(minimum(output_2eHS_r001[\"relative_number_females\"].adult))\n"
   ]
  },
  {
   "cell_type": "code",
   "execution_count": 14,
   "id": "incorporate-prague",
   "metadata": {
    "code_folding": [
     0
    ]
   },
   "outputs": [
    {
     "name": "stdout",
     "output_type": "stream",
     "text": [
      "4.3989363713847947e-7\n",
      "1.5632308737498327e-13\n"
     ]
    }
   ],
   "source": [
    "#Define model 2 - HI differentiated site, unlinked and linked\n",
    "params,\n",
    "A_homing_dependency,\n",
    "B_homing_dependency,\n",
    "XS_dependency = Assign_baseline_params(LOCUS_A,\n",
    "            LOCUS_B,\n",
    "            set_A_homing_dependency,\n",
    "            set_B_homing_dependency,\n",
    "            set_XS_dependency);\n",
    "\n",
    "\n",
    "#standing resistant loci are o \n",
    "#with the same costs as the construct (no costs since it contains a recoded gene)\n",
    "resistant_allele = \"o\"\n",
    "\n",
    "#All NHEJ products produce α which have HI fitness costs\n",
    "Aallele_fitness = \"α\"\n",
    "params[\"sraf\"] = 1.0\n",
    "params[\"hraf\"] = 1.0\n",
    "params[\"siraf\"] = 1.0\n",
    "params[\"sram\"] = 1.0\n",
    "params[\"hram\"] = 1.0\n",
    "params[\"siram\"] = 1.0\n",
    "\n",
    "#unlinked\n",
    "output_2eHI = Simulation_wrapper(params,\n",
    "                            A_construct,\n",
    "                            B_construct,\n",
    "                            A_homing_dependency,\n",
    "                            B_homing_dependency,\n",
    "                            XS_dependency,\n",
    "                            Aallele_fitness,\n",
    "                            fitness_effect,\n",
    "                            transgenic_genotype,\n",
    "                            release_freq, \n",
    "                            resistant_allele, \n",
    "                            resistant_freq,\n",
    "                            t);\n",
    "println(minimum(output_2eHI[\"relative_number_females\"].adult))\n",
    "\n",
    "#linked\n",
    "params[\"r\"]=0.01\n",
    "output_2eHI_r001 = Simulation_wrapper(params,\n",
    "                            A_construct,\n",
    "                            B_construct,\n",
    "                            A_homing_dependency,\n",
    "                            B_homing_dependency,\n",
    "                            XS_dependency,\n",
    "                            Aallele_fitness,\n",
    "                            fitness_effect,\n",
    "                            transgenic_genotype,\n",
    "                            release_freq, \n",
    "                            resistant_allele, \n",
    "                            resistant_freq,\n",
    "                            t);\n",
    "println(minimum(output_2eHI_r001[\"relative_number_females\"].adult))"
   ]
  },
  {
   "cell_type": "markdown",
   "id": "lucky-brisbane",
   "metadata": {},
   "source": [
    "### Figure 3"
   ]
  },
  {
   "cell_type": "code",
   "execution_count": 15,
   "id": "advance-germany",
   "metadata": {
    "code_folding": [
     0
    ],
    "scrolled": false
   },
   "outputs": [
    {
     "data": {
      "image/png": "[encoded data removed]",
      "text/plain": [
       "PyPlot.Figure(PyObject <Figure size 450x270 with 1 Axes>)"
      ]
     },
     "metadata": {},
     "output_type": "display_data"
    }
   ],
   "source": [
    "#PLOT example simulation - neutral + HI,r0.01\n",
    "f1 = PyPlot.figure(figsize=(4.5,2.7),frameon=false)\n",
    "\n",
    "PyPlot.plot(0:t,output_1n[\"relative_number_females\"].adult,c=col1,\"-\",label=\"1\")\n",
    "PyPlot.plot(0:t,output_1eHI_r001[\"relative_number_females\"].adult,c=col1,\"--\",)\n",
    "PyPlot.plot(0:t,output_2n[\"relative_number_females\"].adult,c=col2,\"-\",label=\"2\")\n",
    "PyPlot.plot(0:t,output_2eHI_r001[\"relative_number_females\"].adult,c=col2,\"--\")\n",
    "PyPlot.plot(0:t,output[\"relative_number_females\"].adult,c=\"black\",\"-\",label=\"S\")\n",
    "\n",
    "PyPlot.xlim([0,t])\n",
    "PyPlot.ylim([0,1.02])\n",
    "\n",
    "PyPlot.xlim([0,60])\n",
    "PyPlot.ylim([10^-13,10])\n",
    "PyPlot.yscale(\"log\")\n",
    "\n",
    "PyPlot.yticks([10^-12,10^-10,10^-8,10^-6,10^-4,10^-2,10^-0],\n",
    "    [\"\\$10^{-12}\\$\",\"\\$10^{-10}\\$\",\"\\$10^{-8}\\$\",\"\\$10^{-6}\\$\",\"\\$10^{-4}\\$\",\"\\$10^{-2}\\$\",\"1.0\"],size=10)\n",
    "PyPlot.xticks(size=10)\n",
    "\n",
    "PyPlot.tight_layout()\n",
    "lgd = PyPlot.legend(title=\"Design\",fontsize=8,bbox_to_anchor=(1.0, 0.37),frameon=false)\n",
    "\n",
    "PyPlot.show()"
   ]
  },
  {
   "cell_type": "markdown",
   "id": "published-welding",
   "metadata": {},
   "source": [
    "### Figure S1"
   ]
  },
  {
   "cell_type": "code",
   "execution_count": 16,
   "id": "vietnamese-error",
   "metadata": {
    "code_folding": [
     0
    ]
   },
   "outputs": [
    {
     "data": {
      "image/png": "[encoded data removed]",
      "text/plain": [
       "PyPlot.Figure(PyObject <Figure size 400x250 with 1 Axes>)"
      ]
     },
     "metadata": {},
     "output_type": "display_data"
    }
   ],
   "source": [
    "#PLOT example simulation - neutral differentiated site, r=0.5 and r=0.01\n",
    "f1 = PyPlot.figure(figsize=(4,2.5),frameon=false)\n",
    "\n",
    "PyPlot.plot(0:t,output_1n[\"relative_number_females\"].adult,c=col1,\"-\",label=\"1n, unlinked\")\n",
    "PyPlot.plot(0:t,output_1n_r001[\"relative_number_females\"].adult,c=col1,\"--\",label=\"1n, linked\")\n",
    "PyPlot.plot(0:t,output_2n[\"relative_number_females\"].adult,c=col2,\"-\",label=\"2n, unlinked\")\n",
    "PyPlot.plot(0:t,output_2n_r001[\"relative_number_females\"].adult,c=col2,\"--\",label=\"2n, linked\")\n",
    "PyPlot.plot(0:t,output[\"relative_number_females\"].adult,c=\"black\",\"-\",label=\"S\")\n",
    "\n",
    "PyPlot.xlim([0,60])\n",
    "PyPlot.ylim([10^-13,10])\n",
    "PyPlot.yscale(\"log\")\n",
    "\n",
    "PyPlot.yticks([10^-12,10^-10,10^-8,10^-6,10^-4,10^-2,10^-0],\n",
    "    [\"\\$10^{-12}\\$\",\"\\$10^{-10}\\$\",\"\\$10^{-8}\\$\",\"\\$10^{-6}\\$\",\"\\$10^{-4}\\$\",\"\\$10^{-2}\\$\",\"1.0\"],size=12)\n",
    "PyPlot.xticks(size=12)\n",
    "\n",
    "PyPlot.tight_layout()\n",
    "PyPlot.setp(lgd.get_title(),fontsize=14)\n",
    "\n",
    "PyPlot.show()"
   ]
  },
  {
   "cell_type": "code",
   "execution_count": 17,
   "id": "naval-grove",
   "metadata": {
    "code_folding": [
     0
    ]
   },
   "outputs": [
    {
     "data": {
      "image/png": "[encoded data removed]",
      "text/plain": [
       "PyPlot.Figure(PyObject <Figure size 400x250 with 1 Axes>)"
      ]
     },
     "metadata": {},
     "output_type": "display_data"
    }
   ],
   "source": [
    "#PLOT example simulation - HS differentiated site, r=0.5 and r=0.01\n",
    "f1 = PyPlot.figure(figsize=(4,2.5),frameon=false)\n",
    "\n",
    "PyPlot.plot(0:t,output_1eHS[\"relative_number_females\"].adult,c=col1,\"-\",label=\"1e HS, unlinked\")\n",
    "PyPlot.plot(0:t,output_1eHS_r001[\"relative_number_females\"].adult,c=col1,\"--\",label=\"1e HS, linked\")\n",
    "PyPlot.plot(0:t,output_2eHS[\"relative_number_females\"].adult,c=col2,\"-\",label=\"2e HS, unlinked\")\n",
    "PyPlot.plot(0:t,output_2eHS_r001[\"relative_number_females\"].adult,c=col2,\"--\",label=\"2e HS, linked\")\n",
    "PyPlot.plot(0:t,output[\"relative_number_females\"].adult,c=\"black\",\"-\",label=\"S\")\n",
    "\n",
    "PyPlot.xlim([0,60])\n",
    "PyPlot.ylim([10^-13,10])\n",
    "PyPlot.yscale(\"log\")\n",
    "\n",
    "PyPlot.yticks([10^-12,10^-10,10^-8,10^-6,10^-4,10^-2,10^-0],\n",
    "    [\"\\$10^{-12}\\$\",\"\\$10^{-10}\\$\",\"\\$10^{-8}\\$\",\"\\$10^{-6}\\$\",\"\\$10^{-4}\\$\",\"\\$10^{-2}\\$\",\"1.0\"],size=12)\n",
    "PyPlot.xticks(size=12)\n",
    "\n",
    "PyPlot.tight_layout()\n",
    "PyPlot.setp(lgd.get_title(),fontsize=14)\n",
    "\n",
    "PyPlot.show()"
   ]
  },
  {
   "cell_type": "code",
   "execution_count": 18,
   "id": "democratic-estonia",
   "metadata": {
    "code_folding": [
     0
    ]
   },
   "outputs": [
    {
     "data": {
      "image/png": "[encoded data removed]",
      "text/plain": [
       "PyPlot.Figure(PyObject <Figure size 400x250 with 1 Axes>)"
      ]
     },
     "metadata": {},
     "output_type": "display_data"
    }
   ],
   "source": [
    "#PLOT example simulation - HI differentiated site, r=0.5 and r=0.01\n",
    "f1 = PyPlot.figure(figsize=(4,2.5),frameon=false)\n",
    "\n",
    "PyPlot.plot(0:t,output_1eHI[\"relative_number_females\"].adult,c=col1,\"-\",label=\"1e HI, unlinked\")\n",
    "PyPlot.plot(0:t,output_1eHI_r001[\"relative_number_females\"].adult,c=col1,\"--\",label=\"1e HI, linked\")\n",
    "PyPlot.plot(0:t,output_2eHI[\"relative_number_females\"].adult,c=col2,\"-\",label=\"2e HI, unlinked\")\n",
    "PyPlot.plot(0:t,output_2eHI_r001[\"relative_number_females\"].adult,c=col2,\"--\",label=\"2e HI, linked\")\n",
    "PyPlot.plot(0:t,output[\"relative_number_females\"].adult,c=\"black\",\"-\",label=\"S\")\n",
    "\n",
    "PyPlot.xlim([0,60])\n",
    "PyPlot.ylim([10^-13,10])\n",
    "PyPlot.yscale(\"log\")\n",
    "\n",
    "PyPlot.yticks([10^-12,10^-10,10^-8,10^-6,10^-4,10^-2,10^-0],\n",
    "    [\"\\$10^{-12}\\$\",\"\\$10^{-10}\\$\",\"\\$10^{-8}\\$\",\"\\$10^{-6}\\$\",\"\\$10^{-4}\\$\",\"\\$10^{-2}\\$\",\"1.0\"],size=12)\n",
    "PyPlot.xticks(size=12)\n",
    "\n",
    "PyPlot.tight_layout()\n",
    "PyPlot.setp(lgd.get_title(),fontsize=14)\n",
    "\n",
    "PyPlot.show()"
   ]
  }
 ],
 "metadata": {
  "@webio": {
   "lastCommId": null,
   "lastKernelId": null
  },
  "kernelspec": {
   "display_name": "Julia 1.5.3",
   "language": "julia",
   "name": "julia-1.5"
  },
  "language_info": {
   "file_extension": ".jl",
   "mimetype": "application/julia",
   "name": "julia",
   "version": "1.5.3"
  }
 },
 "nbformat": 4,
 "nbformat_minor": 5
}
